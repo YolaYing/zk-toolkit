{
 "cells": [
  {
   "cell_type": "markdown",
   "id": "1dfe4334",
   "metadata": {},
   "source": [
    "# Plonk Implementation(Python Version)\n",
    "\n",
    "## Problem Definition\n",
    "\n",
    "We take **Square-Fibonacci** as an example to demonstrate the process of proof generation\n",
    "\n",
    "Defination of Square-Fibonacci Problem:\n",
    "- Let $f_0 = 1, f_1 = 1$\n",
    "- For $i \\ge 2$, define $f_i:=(f_{i-2})^2+(f_{i-1})^2 \\ mod \\ q$\n",
    "    - $q$ is a large prime integer, used to bound the size of each element, so that it can be represented by some predetermined number of bits.\n",
    "\n",
    "Let $n$ be some very large integer. For convenience, we assume $n$ is a power of 2\n",
    "\n",
    "Let $k$ be the $n^{th}$ Square-Fibonacci number\n",
    "\n",
    "**Our goal**: generate an efficiently-verifiable proof $\\pi$ showing that indeed $k$ is the $n^{th}$ Square-Fibonacci number(i.e. $f_n = k$)\n",
    "\n",
    "## Phases of Proof Generation\n",
    "The Plonk-based proof generation consists of 3 steps:\n",
    "1. Filling in the trace table\n",
    "2. Committing to the trace table\n",
    "3. Proving the trace table's correctness"
   ]
  },
  {
   "cell_type": "code",
   "execution_count": 7,
   "id": "09b055f3",
   "metadata": {},
   "outputs": [],
   "source": [
    "from sage import *\n",
    "# some basic statement\n",
    "n = 8\n",
    "k = 317754178345286893212434\n",
    "f_0 = 1\n",
    "f_1 = 1"
   ]
  },
  {
   "cell_type": "markdown",
   "id": "d029928b",
   "metadata": {},
   "source": [
    "## Step 1: Filling in the trace table\n",
    "The trace table is a 2-dimensional matrix where 'witness' or 'trace' is written down, that is (n rows * 5 cols)\n",
    "- 5 columns:\n",
    "    - $A, B, C$: represent witness data / private input, each row lists 3 sequential Sequare-Fibonacci numbers\n",
    "        - e.g. the $i^{th}$ row $(f_i, f_{i+1}, f_{i+2})$ is a witness for $(i+2)^{th}$ Sequare-Fibonacci number\n",
    "    - $S$: represents selector column, indicating a certain mathmatical relation should hold over the element of the row.\n",
    "        - $1$ represents the first 3 elements of the row $(a, b, c)$ must satisfy $c = a^2 + b^2 \\ mod \\ q$\n",
    "        - $0$ represents the condition does not need to be satisfied.\n",
    "    - $P$: represents public inputs, inputs to the circuit that are public known. \n",
    "        - e.g. the first two values of the sequence $f_0, f_1$ and $k$ as the value to be proved\n",
    "- n rows: left a blank row, so that the height of the table becomes $n$, an even power of 2\n",
    "    - $1^{st}$ row: $f_0, f_1, f_2, 1, f_0$\n",
    "    - $2^{nd}$ row: $f_1, f_2, f_3, 1, f_1$\n",
    "    - $3^{rd}$ row: $f_2, f_3, f_4, 1, k$\n",
    "    - ...\n",
    "    - $(n-2)^{th}$ row: $f_{n-2}, f_{n-1}, f_n, 1, \"\" $\n",
    "    - $(n-1)^{th}$ row: $\"\", \"\", \"\", 0, \"\"$\n",
    "\n",
    "Next step is to fill in the trace table: either copy or compute over $F_p$"
   ]
  },
  {
   "cell_type": "code",
   "execution_count": 10,
   "id": "62437ab1",
   "metadata": {},
   "outputs": [
    {
     "name": "stdout",
     "output_type": "stream",
     "text": [
      "trace table is [[1, 1, 2, 1, 1], [1, 2, 5, 1, 1], [2, 5, 29, 1, 317754178345286893212434], [5, 29, 866, 1, ''], [29, 866, 750797, 1, ''], [866, 750797, 563696885165, 1, ''], [750797, 563696885165, 317754178345286893212434, 1, ''], ['', '', '', 0, '']]\n"
     ]
    }
   ],
   "source": [
    "# generate witness/fill in the trace table\n",
    "def witness_generation(f_0, f_1, k, n):\n",
    "    \n",
    "    trace_table = []\n",
    "    \n",
    "    # init col A, B, C, S\n",
    "    f_a = f_0\n",
    "    f_b = f_1\n",
    "    f_c = f_b\n",
    "    S = 1\n",
    "    \n",
    "    for i in range(n-1):\n",
    "        f_a = f_b\n",
    "        f_b = f_c\n",
    "        f_c = f_a**2 + f_b**2\n",
    "        trace_table.append([f_a, f_b, f_c, S,\"\"])\n",
    "        \n",
    "    # add a blank row to get n row\n",
    "    S = 0\n",
    "    trace_table.append([\"\",\"\",\"\", S,\"\"])\n",
    "    \n",
    "    # add public parameters\n",
    "    trace_table[0][4] = f_0\n",
    "    trace_table[1][4] = f_1\n",
    "    trace_table[2][4] = k\n",
    "    \n",
    "    return trace_table\n",
    "\n",
    "trace_table = witness_generation(f_0, f_1, k, n)\n",
    "print(f\"trace table is {trace_table}\")"
   ]
  },
  {
   "cell_type": "code",
   "execution_count": null,
   "id": "a492027a",
   "metadata": {},
   "outputs": [],
   "source": []
  }
 ],
 "metadata": {
  "kernelspec": {
   "display_name": "Python 3 (ipykernel)",
   "language": "python",
   "name": "python3"
  },
  "language_info": {
   "codemirror_mode": {
    "name": "ipython",
    "version": 3
   },
   "file_extension": ".py",
   "mimetype": "text/x-python",
   "name": "python",
   "nbconvert_exporter": "python",
   "pygments_lexer": "ipython3",
   "version": "3.11.4"
  }
 },
 "nbformat": 4,
 "nbformat_minor": 5
}
