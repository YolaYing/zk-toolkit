{
  "nbformat": 4,
  "nbformat_minor": 0,
  "metadata": {
    "colab": {
      "provenance": [],
      "authorship_tag": "ABX9TyPy58XB2gTxM5kCTy5s1lKr",
      "include_colab_link": true
    },
    "kernelspec": {
      "name": "python3",
      "display_name": "Python 3"
    },
    "language_info": {
      "name": "python"
    }
  },
  "cells": [
    {
      "cell_type": "markdown",
      "metadata": {
        "id": "view-in-github",
        "colab_type": "text"
      },
      "source": [
        "<a href=\"https://colab.research.google.com/github/YolaYing/zk-toolkit/blob/main/Plonk%2BKZG_Implementation(for_demo).ipynb\" target=\"_parent\"><img src=\"https://colab.research.google.com/assets/colab-badge.svg\" alt=\"Open In Colab\"/></a>"
      ]
    },
    {
      "cell_type": "markdown",
      "source": [
        "# Develope Environment Preparation\n",
        "Curve we used is BLS12-381\n",
        "- Library we used: BLS21-381 curve implemented by Ethereum, using Python\n",
        "- Lib link: https://github.com/ethereum/py_ecc/tree/main\n",
        "\n",
        "You can use the following command to install all the packages we needed. Note that if you are using anaconda, package installation may be failed. Highly recommand using colab or some development friendly environment."
      ],
      "metadata": {
        "id": "XDSUSR7mEtlN"
      }
    },
    {
      "cell_type": "code",
      "execution_count": null,
      "metadata": {
        "colab": {
          "base_uri": "https://localhost:8080/"
        },
        "id": "FDe0iCZyEKD3",
        "outputId": "b33a16c9-dc34-4fde-e957-0ae358a9425e"
      },
      "outputs": [
        {
          "output_type": "stream",
          "name": "stdout",
          "text": [
            "Collecting py_ecc\n",
            "  Downloading py_ecc-7.0.0-py3-none-any.whl (43 kB)\n",
            "\u001b[2K     \u001b[90m━━━━━━━━━━━━━━━━━━━━━━━━━━━━━━━━━━━━━━━━\u001b[0m \u001b[32m43.6/43.6 kB\u001b[0m \u001b[31m492.1 kB/s\u001b[0m eta \u001b[36m0:00:00\u001b[0m\n",
            "\u001b[?25hCollecting eth-typing>=3.0.0 (from py_ecc)\n",
            "  Downloading eth_typing-4.0.0-py3-none-any.whl (14 kB)\n",
            "Collecting eth-utils>=2.0.0 (from py_ecc)\n",
            "  Downloading eth_utils-3.0.0-py3-none-any.whl (77 kB)\n",
            "\u001b[2K     \u001b[90m━━━━━━━━━━━━━━━━━━━━━━━━━━━━━━━━━━━━━━━━\u001b[0m \u001b[32m77.8/77.8 kB\u001b[0m \u001b[31m2.6 MB/s\u001b[0m eta \u001b[36m0:00:00\u001b[0m\n",
            "\u001b[?25hCollecting cached-property>=1.5.1 (from py_ecc)\n",
            "  Downloading cached_property-1.5.2-py2.py3-none-any.whl (7.6 kB)\n",
            "Collecting eth-hash>=0.3.1 (from eth-utils>=2.0.0->py_ecc)\n",
            "  Downloading eth_hash-0.6.0-py3-none-any.whl (8.6 kB)\n",
            "Collecting cytoolz>=0.10.1 (from eth-utils>=2.0.0->py_ecc)\n",
            "  Downloading cytoolz-0.12.2-cp310-cp310-manylinux_2_17_x86_64.manylinux2014_x86_64.whl (1.9 MB)\n",
            "\u001b[2K     \u001b[90m━━━━━━━━━━━━━━━━━━━━━━━━━━━━━━━━━━━━━━━━\u001b[0m \u001b[32m1.9/1.9 MB\u001b[0m \u001b[31m11.8 MB/s\u001b[0m eta \u001b[36m0:00:00\u001b[0m\n",
            "\u001b[?25hRequirement already satisfied: toolz>=0.8.0 in /usr/local/lib/python3.10/dist-packages (from cytoolz>=0.10.1->eth-utils>=2.0.0->py_ecc) (0.12.0)\n",
            "Installing collected packages: cached-property, eth-typing, eth-hash, cytoolz, eth-utils, py_ecc\n",
            "Successfully installed cached-property-1.5.2 cytoolz-0.12.2 eth-hash-0.6.0 eth-typing-4.0.0 eth-utils-3.0.0 py_ecc-7.0.0\n"
          ]
        }
      ],
      "source": [
        "!pip3 install py_ecc"
      ]
    },
    {
      "cell_type": "markdown",
      "source": [
        "# Preliminaries\n"
      ],
      "metadata": {
        "id": "F8XQWxyrf_a9"
      }
    },
    {
      "cell_type": "markdown",
      "source": [
        "## Form of Polynomial Representations(using baby parameters for demonstration)\n",
        "\n",
        "A polynomial $\\Phi(x) = \\sum_{i = 0}^{n - 1} \\phi_ix^i$ have two representation forms:\n",
        "1. Coefficient Form\n",
        "  - $\\Phi(x)$ can be represented as a tuple of $n$ coefficients: $[\\phi_0, \\phi_1, ..., \\phi_{n-1}]$\n",
        "2. Evaluation Form\n",
        "  - $\\Phi(x)$ can be represented as a tuple of $n$ distinct evaluations: $[\\Phi(x_0), \\Phi(x_1), ..., \\Phi(x_{n-1})]$\n",
        "    - the set of values $\\\\{ x_0, x_1, ..., x_{n-1} \\\\}$ over which the polynomial is defined over is known as \"evaluation domain\""
      ],
      "metadata": {
        "id": "V_bza7lHgToL"
      }
    },
    {
      "cell_type": "code",
      "source": [
        "# For example, assume we have a polynomial Φ(𝑥)=4x^3+5x^2+3x+2 and some points on the polynomials\n",
        "q = 17\n",
        "poly_coefs = [2, 3, 5, 4]\n",
        "evaluation_domain = [1, 4, 16, 13]\n",
        "poly_evals = [14, 10, 0, 1]\n",
        "\n",
        "print(f'coefficient form of phi(x) is {poly_coefs}')\n",
        "print(f'evaluation form of phi(x) is {poly_evals}, defined over evaluation domain {evaluation_domain}')"
      ],
      "metadata": {
        "colab": {
          "base_uri": "https://localhost:8080/"
        },
        "id": "5cPrvhiMkGQo",
        "outputId": "cdd0152f-064f-445d-e3fb-a82b7b512a93"
      },
      "execution_count": null,
      "outputs": [
        {
          "output_type": "stream",
          "name": "stdout",
          "text": [
            "coefficient form of phi(x) is [2, 3, 5, 4]\n",
            "evaluation form of phi(x) is [14, 10, 0, 1], defined over evaluation domain [1, 4, 16, 13]\n"
          ]
        }
      ]
    },
    {
      "cell_type": "markdown",
      "source": [
        "## Convert between Coefficient Form and Evaluation Form\n",
        "\n",
        "### Defination\n",
        "- **Fourier Transform**: convert from coefficient to evaluation\n",
        "- **inverse Fourier Transform**: convert from evaluation to coefficient\n",
        "\n",
        "\n",
        "### Naive Way\n",
        "In naive way, each of those two transformation takes $O(n^2)$ computation\n",
        "- **Fourier Transform**: evaluate $\\Phi(x)$ at each $x_i$ in the evaluation domain\n",
        "- **inverse Fourier Transform**: use *Lagrange Interpolation* to obtain unique degree $(n-1)$ polynomial passes through each of the $n$ points\n",
        "\n",
        "\n",
        "### Optimized Way: Fast Fourier Transformation(FFT)\n",
        "To improve the effectiveness of the transformation, we need to do the following steps:\n",
        "- defined polynomials over finite field\n",
        "  - restrict each coefficient $p_i \\in F_q$ and each evaluation point $\\Phi(x_i) \\in F_q$\n",
        "  - $q$ stands for curve order\n",
        "- defined the evaluation domain as a multiplicative subgroup of $F_q$\n",
        "  - evaluation domain is a set of \"$n^{th}$ roots of unity\", $\\{ \\omega^0, \\omega^1, ..., \\omega^{n-1} \\}$ for some element $\\omega \\in F_q$ with order $n$(i.e. $\\omega^n = 1$ mod $q$)\n",
        "- implementation of FFT algorithm\n",
        "  - if you are not familiar with FFT, highly recommend this video: https://www.youtube.com/watch?v=h7apO7q16V0"
      ],
      "metadata": {
        "id": "gLEGo27ZlBNe"
      }
    },
    {
      "cell_type": "code",
      "source": [
        "from py_ecc.bls12_381 import curve_order\n",
        "from py_ecc.fields.field_elements import FQ as Field\n",
        "\n",
        "# construct a data structure F_q\n",
        "class FQ(Field):\n",
        "    field_modulus = curve_order\n",
        "q = curve_order\n",
        "\n",
        "# For example, assume we have a polynomial Φ(𝑥)=4x^3+5x^2+3x+2 and some points on the polynomials\n",
        "poly_coefs = [FQ(2), FQ(3), FQ(5), FQ(4)]\n",
        "poly_evals = [FQ(14), FQ(52435875175126190475982595682112313518914282969839895044333406231173219221502), FQ(0), FQ(3465144826073652318776269530687742778270252468765361963005)]\n",
        "\n",
        "def find_nth_root_of_unity_realnum(n, q):\n",
        "  '''\n",
        "  Args:\n",
        "  n: nth root of unity, which is the degree of polynomial\n",
        "  q: finite field q\n",
        "\n",
        "  Returns:\n",
        "  omega: the nth root of unity, which is a element in finite field\n",
        "  '''\n",
        "  omega = FQ(5) ** ((q - 1) // n)\n",
        "  return omega\n",
        "\n",
        "omega = find_nth_root_of_unity_realnum(len(poly_coefs), q)\n",
        "evaluation_domain = [omega**0, omega**1, omega**2, omega**3]\n",
        "\n",
        "print(f'coefficient form of phi(x) is {poly_coefs}')\n",
        "print(f'evaluation form of phi(x) is {poly_evals}, defined over evaluation domain {evaluation_domain}')"
      ],
      "metadata": {
        "colab": {
          "base_uri": "https://localhost:8080/"
        },
        "id": "VcegH_mvhfU8",
        "outputId": "8e8e5ec4-bde5-4689-b3c2-2a973fa79740"
      },
      "execution_count": null,
      "outputs": [
        {
          "output_type": "stream",
          "name": "stdout",
          "text": [
            "coefficient form of phi(x) is [2, 3, 5, 4]\n",
            "evaluation form of phi(x) is [14, 52435875175126190475982595682112313518914282969839895044333406231173219221502, 0, 3465144826073652318776269530687742778270252468765361963005], defined over evaluation domain [1, 3465144826073652318776269530687742778270252468765361963008, 52435875175126190479447740508185965837690552500527637822603658699938581184512, 52435875175126190475982595682112313518914282969839895044333406231173219221505]\n"
          ]
        }
      ]
    },
    {
      "cell_type": "code",
      "source": [
        "import random\n",
        "\n",
        "def FFT(poly_coefs, q):\n",
        "  '''\n",
        "  Args:\n",
        "  poly_coefs: coefficient representation of the polynomial\n",
        "\n",
        "  Returns:\n",
        "  y: evaluation form of the polynomial\n",
        "  '''\n",
        "  # get the degree of the polynomial\n",
        "  n = len(poly_coefs)\n",
        "  if n == 1:\n",
        "    return poly_coefs\n",
        "\n",
        "  # in theory, omega should be the nth root of unity, which is a complex number\n",
        "  # to use it in finite field, we use a algorithm here\n",
        "  omega = find_nth_root_of_unity_realnum(n, q)\n",
        "  # print(f'{n}^th of unity is {omega}')\n",
        "  poly_coefs_e = poly_coefs[::2]\n",
        "  poly_coefs_o = poly_coefs[1::2]\n",
        "  y_e = FFT(poly_coefs_e, q)\n",
        "  y_o = FFT(poly_coefs_o, q)\n",
        "  y = [0] * n\n",
        "  for j in range(int(n/2)):\n",
        "    y[j] = y_e[j] + (omega**j)*y_o[j]\n",
        "    y[j + int(n/2)] = y_e[j] - (omega**j)*y_o[j]\n",
        "  return y\n",
        "\n",
        "poly_evals = FFT(poly_coefs, q)\n",
        "print(f'coefficient form of phi(x) is {poly_coefs}, after FFT, we can get the evaluation form of phi(x) is {poly_evals}')"
      ],
      "metadata": {
        "colab": {
          "base_uri": "https://localhost:8080/"
        },
        "id": "gYXv7QMvn2A9",
        "outputId": "03f45044-f165-41e4-999c-849a45e7997a"
      },
      "execution_count": null,
      "outputs": [
        {
          "output_type": "stream",
          "name": "stdout",
          "text": [
            "coefficient form of phi(x) is [2, 3, 5, 4], after FFT, we can get the evaluation form of phi(x) is [14, 52435875175126190475982595682112313518914282969839895044333406231173219221502, 0, 3465144826073652318776269530687742778270252468765361963005]\n"
          ]
        }
      ]
    },
    {
      "cell_type": "markdown",
      "source": [
        "### Inverse Fast Fourier Transformation(IFFT)\n",
        "We have used FFT to achieve fast transformation from coefficient to evaluation. Now we will implement the inverse transformation, which is from evaluation to coefficient with slightly changing in the algorithm: update $\\omega$ to $\\frac{1}{n}\\omega^{-1}$\n",
        "\n",
        "detailed info: https://decentralizedthoughts.github.io/2023-09-01-FFT/#mjx-eqn-%5Cstar"
      ],
      "metadata": {
        "id": "sMtOeR_0RGfu"
      }
    },
    {
      "cell_type": "code",
      "source": [
        "def IFFT(poly_evals, q):\n",
        "  recursion_result = IFFT_recursion_part(poly_evals, q)\n",
        "  # all elenent in result mutiply 1/n, which is inverse of n\n",
        "  IFFT_final_result = [ x * (FQ(1)/FQ(len(poly_evals))) for x in recursion_result]\n",
        "  return IFFT_final_result\n",
        "\n",
        "def IFFT_recursion_part(poly_evals, q):\n",
        "  '''\n",
        "  Args:\n",
        "  poly_coefs: coefficient representation of the polynomial\n",
        "  lookup: pre-determined omega list\n",
        "\n",
        "  Returns:\n",
        "  y: evaluation form of the polynomial\n",
        "  '''\n",
        "  # get the degree of the polynomial\n",
        "  n = len(poly_evals)\n",
        "  if n == 1:\n",
        "    return poly_evals\n",
        "\n",
        "  # in theory, omega should be the nth root of unity, which is a complex number\n",
        "  # to use it in finite field, we use a algorithm here\n",
        "  omega = find_nth_root_of_unity_realnum(n, q)\n",
        "  # inverse omega\n",
        "  omega_inv = omega**(n-1)\n",
        "  poly_evals_e = poly_evals[::2]\n",
        "  poly_evals_o = poly_evals[1::2]\n",
        "  y_e = IFFT_recursion_part(poly_evals_e, q)\n",
        "  y_o = IFFT_recursion_part(poly_evals_o, q)\n",
        "  y = [0] * n\n",
        "  for j in range(int(n/2)):\n",
        "    y[j] = int(y_e[j] + (omega_inv**j)*y_o[j])\n",
        "    y[j + int(n/2)] = int(y_e[j] - (omega_inv**j)*y_o[j])\n",
        "  return y\n",
        "\n",
        "print(f'evaluation form of phi(x) is {poly_evals}, after IFFT(use exist omega lookup table), we can get the coefficient form of phi(x) is {IFFT(poly_evals, q)}')"
      ],
      "metadata": {
        "colab": {
          "base_uri": "https://localhost:8080/"
        },
        "id": "9Bs3TojDsxr7",
        "outputId": "e213fc8e-8006-47f4-fab1-5798aaf7c4c3"
      },
      "execution_count": null,
      "outputs": [
        {
          "output_type": "stream",
          "name": "stdout",
          "text": [
            "evaluation form of phi(x) is [14, 52435875175126190475982595682112313518914282969839895044333406231173219221502, 0, 3465144826073652318776269530687742778270252468765361963005], after IFFT(use exist omega lookup table), we can get the coefficient form of phi(x) is [2, 3, 5, 4]\n"
          ]
        }
      ]
    },
    {
      "cell_type": "markdown",
      "source": [
        "# KZG Implementation(Python Version)\n",
        "\n",
        "The KZG Commitment Scheme is a commitment scheme that allows to commit to a polynomial $\\Phi(x) = \\phi_0 +\\phi_1x+\\phi_2x^2+...+\\phi_lx^l$, where $\\Phi(x) \\in F_p[x]$ . 'to commit' means proving that you know the polynomial $\\Phi(x)$ without revealing it.\n",
        "\n",
        "The KZG commitment scheme consists of 4 steps:\n",
        "1. Setup\n",
        "2. Commit to Polynomials\n",
        "3. Prove an Evaluation\n",
        "4. Verify an Evaluation Proof"
      ],
      "metadata": {
        "id": "6-LT_CUcF5sj"
      }
    },
    {
      "cell_type": "markdown",
      "source": [
        "## Step 1: Setup\n",
        "\n",
        "The first step is an one-time trusted setup and once it has done once, the following steps can be done repeatedly\n",
        "1. Let $G_1$ and $G_2$ be pairing-friendly elliptic curve groups, determined by curve BLS12-381\n",
        "2. Let $g_1$ be a generator of $G_1$ and $g_2$ be a generator of $G_2$\n",
        "3. Let $l$ be the maximum degree of the polymonials we want to commit to ($l < p$)\n",
        "4. Pick a random field element as secret parameter $\\tau \\in F_p$(usually done by MPC, to simplify, we just randomly choose one here)\n",
        "5. Compute pp(public parameters, including proving key $pk$, and verifying key $vk$)$$pk = (g_1, g_1^\\tau, g_1^{\\tau^2},...,g_1^{\\tau^l}), vk = g_2^\\tau$$ and release it publicly\n",
        "6. Discard secret parameter $\\tau$ once the setup ceremony is done so that nobody can figure out its value"
      ],
      "metadata": {
        "id": "CbNVAepyHO4g"
      }
    },
    {
      "cell_type": "code",
      "source": [
        "from py_ecc.bls12_381 import G1, G2, Z1, multiply, add\n",
        "\n",
        "# 1. Let G1,G2 be pairing-friendly elliptic curve groups, which are determined by the curve\n",
        "\n",
        "# 2. Let g be a generator of G\n",
        "g1 = G1\n",
        "g2 = G2\n",
        "\n",
        "# 3. Let l be the maximum degree of the polymonials, which is 16\n",
        "l = 16\n",
        "\n",
        "# 4. Pick a random field element from field F_p and p = curve order as secret parameter t\n",
        "p = q\n",
        "# t = 0 will lose all the security, so t cannot be 0\n",
        "t = FQ(random.randint(1, p-1))\n",
        "print(f'secret parameter 𝜏 is {t}')\n",
        "\n",
        "# 5. Compute pp(public parameters)\n",
        "def compute_public_parameters(g1, g2, t, l):\n",
        "\n",
        "    pk = []\n",
        "    accumulated = 1\n",
        "    t_scalar = t\n",
        "    for i in range(l + 1):\n",
        "        # calculate g1, g1^t, g1^{t^2}...\n",
        "        pk.append(multiply(g1, int(accumulated)))\n",
        "        # calculate the exponential t, t^2, t^3, ...\n",
        "        accumulated = accumulated * t_scalar\n",
        "    vk = multiply(g2, int(t))\n",
        "    return pk, vk\n",
        "\n",
        "pk, vk = compute_public_parameters(g1, g2, t, l)\n",
        "print(f'proving key pk: {pk}')\n",
        "print(f'verifying key vk: {vk}')"
      ],
      "metadata": {
        "colab": {
          "base_uri": "https://localhost:8080/"
        },
        "id": "baZh9HlYEN25",
        "outputId": "492f8531-df7e-4f8e-c2d2-5cf18538598a"
      },
      "execution_count": null,
      "outputs": [
        {
          "output_type": "stream",
          "name": "stdout",
          "text": [
            "secret parameter 𝜏 is 40434729172192096827009336261427730235302754744622279258050981829406623036311\n",
            "proving key pk: [(3685416753713387016781088315183077757961620795782546409894578378688607592378376318836054947676345821548104185464507, 1339506544944476473020471379941921221584933875938349620426543736416511423956333506472724655353366534992391756441569), (1193244812650916127625064910500992265663422853459628004033737085594018331009212382341516068390371104378007330986118, 1109142381163146218466848879784830646546808045773662144060749927391990490535698641398731805623828985596234878463532), (1052018718780865389222790804074898640995670174234093816540110555110800906231323268196260438212562973245470708425601, 1731865486767691263458193795349951397277561212010516044988305523161542649511683946131999433428453791690747940088706), (357283692228559460687608554499824510775545394970475493277430899946385550387630984723518054425242372173458063205397, 2436323255616352838586647451251825421129330371644143033950125321894561575058800363213328924400681934763641085822624), (2686587265176903745046356988179527056807623169389885909495762028820203595380759502141178151639225065431205637575074, 1919555579673371324891706256209947108488302116744806714981966184724716457602370270949420041405242708791347426620852), (1925260189452388581862785698588006213324226625216276217328529382503573449997639365748131027366574795253782637879121, 1745787264694240568030257241929576063045950331677056524805993425395966879564902865435690337019058060710309813407600), (963862917380763711061364156577258421851400128510694004200395692095046923404554229557383316219531368862218818178846, 3181109809693972007905645528880544980704994510769055554556711113669694612604188091386101288539854536496024100419034), (785323829898924492288340454435644056390190744317728486295797758621809101376482895899344519731123999216309623033675, 1479480708347096210562509143357547030221812430901745147398334275804371482662661056244700768437382701133974440597995), (334922643185400644354903935577167555556026083296896459345415029613034927054346664693593907972562137680006693713418, 3144490025052396274718039790886810846803238868030346613116967220175061598784103737729047050907813789492325674998940), (2070596526861422233318197366320678631296198582946180484368039250701724901674316798453509992734873477811187103819032, 2449659599346122661736519724663241237416486836365641884726189297248798943404805551993000898333538685270927065386227), (2717485311194925229184917082937306940404020229508294304766320071133744115630113546946354900851975111614011693538589, 1187250336048164975047281403732682591283839394301210537888130420303487301445189437891341922019057598002324500788679), (498571019355761260034326503237333677414425406632582635935076351091914228147918114007935349286860664894639860305996, 1126620218287905604125953014575306914101853683014605420226373482667984319199240173709248044256450670215887371813864), (3876328797097179932776593504169547919687776920208414413813861329132889661797155613810247367130793506698560049723294, 1100244345236572334483287967412719788828380530610292131373387036715306706144436579942190096001936039634203324705122), (2698196109448809803189268947329003161681741405324263702668404300676836400228015851284576381982952818997581159940566, 3382690073374175989349722833010592709010604792203047600482817196040055059935604157722743261676249165636644985839149), (1815153195357039894162767997789371544726509520486342953537815270439260173830378300885794441588420781251498192821615, 2801415132954656247346965557814970935800748289654458951069648189779128057803453750389882345816580730857142311053605), (292876763950496983420620787771010756774046935197833354681874921100070463444081858524091975308712429958039355824509, 1352263397499196650402518582888895131112814667879043052913448824016683739867811402471304386043589466857954880559493), (2143859610627435721960665003410820058458757164658060907901391437058282367504549722032369776196830768621633632168540, 1579982208368313097814162190419436656586304173621535172023030196706381869353952985219294411595758374680457524587101)]\n",
            "verifying key vk: ((1363663637790526214108760277894423299364880557244783788373401791747796871807050207236780089077339302016449242299743, 3194136931971753181966090461182509211273302629751054380362206923098820662323339097841618946709536034116398812807045), (2825963093640197916266471169325220912815034719776998196581539165403695732520698835966631356750927753060045374345329, 2184255974201144953119067934118064361828490016425276878034369171039687139668373285024845507484832660303277347551653))\n"
          ]
        }
      ]
    },
    {
      "cell_type": "markdown",
      "source": [
        "## Step 2: Commit to Polynomials\n",
        "In reality, we arithmetize circuits and use Plonkish to get polynomials in this step\n",
        "1. Given a polynomial $\\Phi(x) = \\sum_{i=0}^l \\phi_i x^i$\n",
        "2. Compute and output commitment $c = g^{\\Phi(\\tau)}$\n",
        "   - Wait! $\\tau$ has already been discard right? How can committer compute $\\tau$?\n",
        "   - Although he cannot compute $\\Phi(\\tau)$ directly, he can use public parameters to help with it:\n",
        "$$\\prod_{i=0}^l(g^{\\tau^i})^{\\phi_i} = g^{\\sum_{i=0}^l \\phi_i \\tau^i} = g^{\\Phi(\\tau)}$$"
      ],
      "metadata": {
        "id": "PZLYRSg7NdAZ"
      }
    },
    {
      "cell_type": "code",
      "source": [
        "# assume we have a polynomial Φ(𝑥)=4x^3+5x^2+3x+2 or some points on the polynomials\n",
        "# we can use FFT or IFFT to do the transformation between the two forms\n",
        "poly_coefs = [FQ(2), FQ(3), FQ(5), FQ(4)]"
      ],
      "metadata": {
        "id": "tDDoK2qNEXas"
      },
      "execution_count": null,
      "outputs": []
    },
    {
      "cell_type": "code",
      "source": [
        "# compute commitment of the polynomial\n",
        "def poly_commitment(pk, g1, poly_coefs):\n",
        "\n",
        "  com = Z1\n",
        "  for i in range(len(poly_coefs)):\n",
        "    com = add(multiply(pk[i], int(poly_coefs[i])), com)\n",
        "  return com\n",
        "\n",
        "com = poly_commitment(pk, g1, poly_coefs)\n",
        "print(f'commitment of polynomial is {com}')"
      ],
      "metadata": {
        "colab": {
          "base_uri": "https://localhost:8080/"
        },
        "id": "DXh4eZH4NncH",
        "outputId": "e4511d1e-7879-44ed-accb-ea11ffc0270d"
      },
      "execution_count": null,
      "outputs": [
        {
          "output_type": "stream",
          "name": "stdout",
          "text": [
            "commitment of polynomial is (2334721901160606975747982670666481410862613451440319525655847840343065350187448491998696068597460962188520111694861, 1165031092905317903788628866560570156024045456410458593603239499718406550985163969759858573198526426255495325082100)\n"
          ]
        }
      ]
    },
    {
      "cell_type": "markdown",
      "source": [
        "## Step 3: Prove an Evaluation\n",
        "In this period, the Verifier will ask Prover to 'OPEN' the commitment $c$ to a random specific point $a \\in F_p$, in other word, Prover have to evaluation $\\Phi(x)$ and commit the result in the form of opening triplet $OT = (a, b, \\pi)$\n",
        "1. Given an evaluation $\\Phi(a) = b$\n",
        "2. Compute and output proof of the evaluation $\\pi = g_1^{q(\\tau)}$, where $q(x) := \\frac{\\Phi(x)-b}{x-a}$\n",
        "    - $q(x)$ is quotient polynomial: if $\\Phi(a) = b$, that means $a$ is a root of $\\Phi(x) - b$\n",
        "    - so $\\Phi(x) - b$ can be expressed as $\\Phi(x) - b = q(x)(x-a)$, $q(x)$ is a polynomial\n",
        "    - on the other hand, $q(x)$ exists if and only if $\\Phi(a) = b$, so the existence of this quotient polynomial therefore serves as a proof of the evaluation"
      ],
      "metadata": {
        "id": "uG76toJbnbMn"
      }
    },
    {
      "cell_type": "code",
      "source": [
        "# Verifier first choose the random point a\n",
        "def evaluation_poly(a, poly_coefs):\n",
        "  b = FQ(0)\n",
        "  for i in range(len(poly_coefs)):\n",
        "    b += (a**i)*(poly_coefs[i])\n",
        "  return b\n",
        "\n",
        "# according to defination\n",
        "def random_generate_a(poly_coefs, p):\n",
        "  # create a list of omega\n",
        "  n = len(poly_coefs)\n",
        "  omega = find_nth_root_of_unity_realnum(n, p)\n",
        "  omega_list = []\n",
        "  for i in range(n):\n",
        "    omega_list.append(omega**i)\n",
        "\n",
        "  # a cannot in omega list, otherwise x-a will be 0\n",
        "  a = FQ(random.randint(0, p))\n",
        "  while a in omega_list:\n",
        "    a = FQ(random.randint(0, p))\n",
        "\n",
        "  return a\n",
        "\n",
        "a = random_generate_a(poly_coefs, p)\n",
        "b = evaluation_poly(a, poly_coefs)\n",
        "print(f'random element we chosen is {a}, the evaluation b is {b}')"
      ],
      "metadata": {
        "colab": {
          "base_uri": "https://localhost:8080/"
        },
        "id": "eUASXL_knfu7",
        "outputId": "784ab1e0-31fd-4bb1-aa8f-2f5593c855f8"
      },
      "execution_count": null,
      "outputs": [
        {
          "output_type": "stream",
          "name": "stdout",
          "text": [
            "random element we chosen is 22814109766336013075561986125880379584857082925698224031213951947309399302381, the evaluation b is 45642593918252489443187268940545354309014294680099687017493847768364997103854\n"
          ]
        }
      ]
    },
    {
      "cell_type": "code",
      "source": [
        "# compute q(x)\n",
        "# 1. if poly in coefficient form, convert poly_coefs to evals\n",
        "# 2. calculate quotient polynomial in evaluation form\n",
        "# 3. convert quotient poly evals to coefs if needed\n",
        "\n",
        "def quotient_poly(a, b, poly_evals, p):\n",
        "  '''Args:\n",
        "  a: randomly sampled field element\n",
        "  b: evaluation on a\n",
        "  poly_evals: input of poly need to be in evaluation form\n",
        "\n",
        "  Returns:\n",
        "  q_poly_evals: q poly in evaluation form\n",
        "  '''\n",
        "  q_poly_evals = []\n",
        "  n = len(poly_evals)\n",
        "  omega = find_nth_root_of_unity_realnum(n, p)\n",
        "\n",
        "  for i in range(len(poly_evals)):\n",
        "    q_poly_evals.append((poly_evals[i]-b)/(omega**i-a))\n",
        "\n",
        "  return q_poly_evals\n",
        "\n",
        "q_poly_evals = quotient_poly(a, b, poly_evals, p)\n",
        "print(f'quotient polynomial in evaluation form is {q_poly_evals}')"
      ],
      "metadata": {
        "colab": {
          "base_uri": "https://localhost:8080/"
        },
        "id": "_uxCEV4PqKum",
        "outputId": "81b43af9-9b3b-4096-a984-799e79d020a3"
      },
      "execution_count": null,
      "outputs": [
        {
          "output_type": "stream",
          "name": "stdout",
          "text": [
            "quotient polynomial in evaluation form is [27783391858465084461048781107638308487870880463626264088707592488555803653841, 25167300037570457153357809204363066822160557950018254199173346563744749476850, 2578139253155551294896113625153169322085874559623385306806953009896352788322, 5194231074050178602587085528428410987796197073231395196341198934707406965297]\n"
          ]
        }
      ]
    },
    {
      "cell_type": "code",
      "source": [
        "# convert quotient polynomial from evaluation form to coefficient form\n",
        "q_poly_coefs = IFFT(q_poly_evals, q)\n",
        "print(f'quotient polynomial in coefficient form is {q_poly_coefs}')"
      ],
      "metadata": {
        "colab": {
          "base_uri": "https://localhost:8080/"
        },
        "id": "7BXJAKY3kliX",
        "outputId": "f39108c5-3af2-43a8-f4dc-ae51a008726e"
      },
      "execution_count": null,
      "outputs": [
        {
          "output_type": "stream",
          "name": "stdout",
          "text": [
            "quotient polynomial in coefficient form is [41398703143373413117696317620488721823823653761888643609059102099195368813334, 38820563890217861822800203995335552501737779202265258302252149089299016025016, 4, 0]\n"
          ]
        }
      ]
    },
    {
      "cell_type": "code",
      "source": [
        "# compute proof of the evaluation pi\n",
        "pi = poly_commitment(pk, g1,  q_poly_coefs)\n",
        "print(f'proof of the evaluation pi is {pi}')"
      ],
      "metadata": {
        "colab": {
          "base_uri": "https://localhost:8080/"
        },
        "id": "n8OOKUQqqMFl",
        "outputId": "49f63867-ec64-4927-c15f-f0313b7c25f2"
      },
      "execution_count": null,
      "outputs": [
        {
          "output_type": "stream",
          "name": "stdout",
          "text": [
            "proof of the evaluation pi is (1050066443485827318585387568702081403177548750155307357050157496204472296835137754305294166981923702975997335923568, 1941453761804587589505945531522177555326690381186979584739056451681900711762666290390823478163534514420569158511889)\n"
          ]
        }
      ]
    },
    {
      "cell_type": "markdown",
      "source": [
        "## Step 4: Verify an Evaluation Proof\n",
        "1. Given a commitment $c = g^{\\Phi(\\tau)}$, and an evaluation $\\Phi(a) = b$, and a proof $\\pi = g^{q(\\tau)}$\n",
        "2. Verify that $e(\\frac{c}{g^b}, g) = e(\\pi,\\frac{g^\\tau}{g^a})$, where $e$ is a non-trivial bilinear mapping\n",
        "    - the purpose of verification: $\\Phi(x) - b = q(x)(x-a)$, checking this equality holds for $x = \\tau$\n",
        "    - according to the definition of bilinear mapping, it is equivalent to: $e(g_1, g_2)^{\\Phi(\\tau) - b} = e(g_1, g_2)^{q(\\tau)(\\tau-a)}$, that is $e(g_1^{\\Phi(\\tau) - b}, g_2) = e(g_1^{q(\\tau)}, g_2^{\\tau-a})$\n",
        "    - that is $e(com-g_1^b, g_2) = e(\\pi, vk - g_2^a)$"
      ],
      "metadata": {
        "id": "1_5bBUjOmOx_"
      }
    },
    {
      "cell_type": "code",
      "source": [
        "from py_ecc.bls12_381 import pairing, neg\n",
        "\n",
        "# now it is time to do the varification\n",
        "print(f'result of verification: {pairing(g2, add(com, neg(multiply(g1, int(b))))) == pairing(add(vk, neg(multiply(g2, int(a)))), pi)}')"
      ],
      "metadata": {
        "colab": {
          "base_uri": "https://localhost:8080/"
        },
        "id": "HuxidPgTmSoa",
        "outputId": "a846a283-a812-4dc7-a229-2b6ba14aefc4"
      },
      "execution_count": null,
      "outputs": [
        {
          "output_type": "stream",
          "name": "stdout",
          "text": [
            "result of verification: True\n"
          ]
        }
      ]
    },
    {
      "cell_type": "markdown",
      "source": [
        "# Plonk Implementation(Python Version)\n",
        "\n",
        "## Problem Definition\n",
        "\n",
        "We take **Square-Fibonacci** as an example to demonstrate the process of proof generation\n",
        "\n",
        "Defination of Square-Fibonacci Problem:\n",
        "- Let $f_0 = 1, f_1 = 1$\n",
        "- For $i \\ge 2$, define $f_i:=(f_{i-2})^2+(f_{i-1})^2 \\ mod \\ q$\n",
        "    - $q$ is a large prime integer, used to bound the size of each element, so that it can be represented by some predetermined number of bits.\n",
        "\n",
        "Let $n$ be some very large integer. For convenience, we assume $n$ is a power of 2\n",
        "\n",
        "Let $k$ be the $n^{th}$ Square-Fibonacci number\n",
        "\n",
        "**Our goal**: generate an efficiently-verifiable proof $\\pi$ showing that indeed $k$ is the $n^{th}$ Square-Fibonacci number(i.e. $f_n = k$)\n",
        "\n",
        "## Phases of Proof Generation\n",
        "The Plonk-based proof generation consists of 3 steps:\n",
        "1. Filling in the trace table\n",
        "2. Committing to the trace table\n",
        "3. Proving the trace table's correctness"
      ],
      "metadata": {
        "id": "di927G65Ye1J"
      }
    },
    {
      "cell_type": "code",
      "source": [
        "# some basic statement\n",
        "# q here is equialent to the p above\n",
        "q = curve_order\n",
        "\n",
        "# assume we hope to prove '8th Square-Fibonacci number is k'\n",
        "n = 8\n",
        "k = FQ(317754178345286893212434)\n",
        "\n",
        "# according to defination, f(0) = 1, f(1) = 1\n",
        "f_0 = FQ(1)\n",
        "f_1 = FQ(1)"
      ],
      "metadata": {
        "id": "t1-8SzICYley"
      },
      "execution_count": null,
      "outputs": []
    },
    {
      "cell_type": "markdown",
      "source": [
        "## Step 1: Filling in the Trace Table\n",
        "The trace table is a 2-dimensional matrix where 'witness' or 'trace' is written down, that is (n rows * 5 cols)\n",
        "- 5 columns:\n",
        "    - $A, B, C$: represent witness data / private input, each row lists 3 sequential Sequare-Fibonacci numbers\n",
        "        - e.g. the $i^{th}$ row $(f_i, f_{i+1}, f_{i+2})$ is a witness for $(i+2)^{th}$ Sequare-Fibonacci number\n",
        "    - $S$: represents selector column, indicating a certain mathmatical relation should hold over the element of the row.\n",
        "        - $1$ represents the first 3 elements of the row $(a, b, c)$ must satisfy $c = a^2 + b^2 \\ mod \\ q$\n",
        "        - $0$ represents the condition does not need to be satisfied.\n",
        "    - $P$: represents public inputs, inputs to the circuit that are public known.\n",
        "        - e.g. the first two values of the sequence $f_0, f_1$ and $k$ as the value to be proved\n",
        "- n rows: left a blank row, so that the height of the table becomes $n$, an even power of 2\n",
        "    - $1^{st}$ row: $f_0, f_1, f_2, 1, f_0$\n",
        "    - $2^{nd}$ row: $f_1, f_2, f_3, 1, f_1$\n",
        "    - $3^{rd}$ row: $f_2, f_3, f_4, 1, k$\n",
        "    - ...\n",
        "    - $(n-2)^{th}$ row: $f_{n-2}, f_{n-1}, f_n, 1, \"\" $\n",
        "    - $(n-1)^{th}$ row: $\"\", \"\", \"\", 0, \"\"$\n",
        "\n",
        "Next step is to fill in the trace table: either copy or compute over $F_q$"
      ],
      "metadata": {
        "id": "xTmgCmhGZ8SQ"
      }
    },
    {
      "cell_type": "code",
      "source": [
        "# generate witness/fill in the trace table\n",
        "def witness_generation(f_0, f_1, k, n):\n",
        "\n",
        "    trace_table = []\n",
        "\n",
        "    # init col A, B, C, S\n",
        "    f_a = f_0\n",
        "    f_b = f_1\n",
        "    f_c = f_b\n",
        "    S = FQ(1)\n",
        "    placeholder = FQ(0)\n",
        "\n",
        "    for i in range(n-1):\n",
        "        f_a = f_b\n",
        "        f_b = f_c\n",
        "        f_c = f_a**2 + f_b**2\n",
        "        trace_table.append([f_a, f_b, f_c, S, placeholder])\n",
        "\n",
        "    # add a blank row to get n row\n",
        "    S = FQ(0)\n",
        "    trace_table.append([placeholder, placeholder, placeholder, S, placeholder])\n",
        "\n",
        "    # add public parameters\n",
        "    trace_table[0][4] = f_0\n",
        "    trace_table[1][4] = f_1\n",
        "    trace_table[2][4] = k\n",
        "\n",
        "    return trace_table\n",
        "\n",
        "trace_table = witness_generation(f_0, f_1, k, n)\n",
        "\n",
        "print(f\"trace table is: {trace_table}\")"
      ],
      "metadata": {
        "colab": {
          "base_uri": "https://localhost:8080/"
        },
        "id": "n7QfVLCaZwpy",
        "outputId": "05569736-5724-45de-a51d-2c7ccbda797f"
      },
      "execution_count": null,
      "outputs": [
        {
          "output_type": "stream",
          "name": "stdout",
          "text": [
            "trace table is: [[1, 1, 2, 1, 1], [1, 2, 5, 1, 1], [2, 5, 29, 1, 317754178345286893212434], [5, 29, 866, 1, 0], [29, 866, 750797, 1, 0], [866, 750797, 563696885165, 1, 0], [750797, 563696885165, 317754178345286893212434, 1, 0], [0, 0, 0, 0, 0]]\n"
          ]
        }
      ]
    },
    {
      "cell_type": "markdown",
      "source": [
        "## Step 2: Commit to the Trace Table\n",
        "\n",
        "### interpret the trace table columns as polynomials\n",
        "\n",
        "Each column can be considered as a length-$n$ vector of finite field elements $\\rightarrow$ this vector can be regarded as the evaluation form of a polynomial $A(x)$ with degree $(n-1)$: the $i^{th}$ element of $A$ corresponds to the evaluation $A(\\omega^i)$, where $\\omega \\in F_q$ is **$n^{th}$ root of unity** and has order $n$"
      ],
      "metadata": {
        "id": "sZbfYqpXc9ff"
      }
    },
    {
      "cell_type": "code",
      "source": [
        "# inverse trace table and get the evaluation form of column polynomials\n",
        "inverse_trace_table = list(zip(*trace_table))\n",
        "inverse_trace_table"
      ],
      "metadata": {
        "colab": {
          "base_uri": "https://localhost:8080/"
        },
        "id": "a0_IXMd44blc",
        "outputId": "1a52ca57-2068-4486-c82d-8d787b066d2a"
      },
      "execution_count": null,
      "outputs": [
        {
          "output_type": "execute_result",
          "data": {
            "text/plain": [
              "[(1, 1, 2, 5, 29, 866, 750797, 0),\n",
              " (1, 2, 5, 29, 866, 750797, 563696885165, 0),\n",
              " (2, 5, 29, 866, 750797, 563696885165, 317754178345286893212434, 0),\n",
              " (1, 1, 1, 1, 1, 1, 1, 0),\n",
              " (1, 1, 317754178345286893212434, 0, 0, 0, 0, 0)]"
            ]
          },
          "metadata": {},
          "execution_count": 40
        }
      ]
    },
    {
      "cell_type": "markdown",
      "source": [
        "### Commit to column polynomials\n",
        "Now that we have known how to interpret the columns as polynomials, we can commit to each of them using a polynomial commitment scheme."
      ],
      "metadata": {
        "id": "FWMrwxvU7ZuJ"
      }
    },
    {
      "cell_type": "code",
      "source": [
        "com_list = []\n",
        "col_poly_coefs = []\n",
        "for i in range(len(inverse_trace_table)):\n",
        "    col_poly_coef = IFFT(inverse_trace_table[i], p)\n",
        "    col_poly_coefs.append(col_poly_coef)\n",
        "    com = poly_commitment(pk, g1, col_poly_coef)\n",
        "    com_list.append(com)\n",
        "print(com_list)"
      ],
      "metadata": {
        "colab": {
          "base_uri": "https://localhost:8080/"
        },
        "id": "HuTecnM57A0m",
        "outputId": "59dcb5d7-98f3-4986-ea93-f403d99ba7bb"
      },
      "execution_count": null,
      "outputs": [
        {
          "output_type": "stream",
          "name": "stdout",
          "text": [
            "[(2121554138867427275116034715986226759372513147535533209207100626223741766609870436529367490430403404651398593127669, 789918926296013400617168934331301652695241462754118994262568520624083999672254706565865450308512748558999392662595), (3999169330449091235659967038513062786029816328438282384121736373492240313307176622833263179319322826361019880261177, 549976911676065028758314832410527527668266507874322356699501941064313575185452633158194355224675554243211861563999), (1529891052057887133138842414484662132124959504346936447784607572440362254364592541183693906292754198547315905779340, 2708992316720554983134563242916186758736539285621173689042306959356318014038582470507021766642744894651794391164024), (414218354840137055237867557860020569217464651437712719024622635496832612807252853092095081989370412479584520420776, 953026705346469508196605634396578626214789062322910758633472353121470827036336288604731588053569079804932623039959), (1946953203049277147217555238176753581381417980475536594862533515744128020977535798753746932021312815800038202673071, 2858470186281660777258823577996170316472562641207170093882801061755060648392296999999432793201540680730890136861720)]\n"
          ]
        }
      ]
    },
    {
      "cell_type": "markdown",
      "source": [
        "## Step 3: Proving the Trace Table's Correctness\n",
        "### Define the constraints of the trace table\n",
        "In order to ensure the original trace table to be valid, we should have the following constraints:\n",
        "- Square-Fibonacci constraints:\n",
        "    - each selected row $i$'s first three elements $(a,b,c)$ must satisfy $c_i = a_i^2 + b_i^2 \\ mod \\ q$\n",
        "- Wiring constraints:\n",
        "    - for consecutive rows with value $[a_i, b_i, c_i]$ and $[a_{i+1}, b_{i+1}, c_{i+1}]$, we require $a_{i+1} = b_i$ and $b_{i+1} = c_i$\n",
        "- Public input constraints:\n",
        "    - the first row must start with the first two Square-Fibonacci numbers: $a_0 = p_0, b_0 = p_1$\n",
        "    - the $n^{th}$ Square-Fibonacci must match the claimed result value: $c_{n-2} = p_2$\n",
        "\n",
        "The above constraints can be represented by one or more relations between the column polynomials. For example, Square-Fibonaci constraints can be expressed as $S(x)·(A(x)^2 + B(x)^2 - C(x))=0, for\\ all\\ x\\in \\{w^0, w^1, ..., w^{n-1}\\}$. For shorten, we will label left-hand side $\\phi_0(x):=S(x)·(A(x)^2 + B(x)^2 - C(x))$  All our constraints can be expressed as $\\phi_i(x) = 0,\\ for\\ all\\ x\\in \\{w^0, w^1, ..., w^{n-1}\\}$"
      ],
      "metadata": {
        "id": "ktHnhk6-8JN5"
      }
    },
    {
      "cell_type": "markdown",
      "source": [
        "### Square-Fibonaci Constraints\n",
        "\n",
        "It is equivalent to **Gate Constraint** in vanilla plonk:\n",
        "\n",
        "Obviously, $a^2+b^2 = c$ can be seen as the combination of 2 multiplication gates and 1 addition gate. To simplify, we take those as a whole thing and just use one line of record to represent it."
      ],
      "metadata": {
        "id": "AOB-HCTOlnvs"
      }
    },
    {
      "cell_type": "code",
      "source": [
        "def square_fib_constraint_poly(inverse_trace_table, p):\n",
        "\n",
        "  a_poly_coefs = IFFT(inverse_trace_table[0], p)\n",
        "  b_poly_coefs = IFFT(inverse_trace_table[1], p)\n",
        "  c_poly_coefs = IFFT(inverse_trace_table[2], p)\n",
        "  s_poly_coefs = IFFT(inverse_trace_table[3], p)\n",
        "\n",
        "  # construct a polynomial phi_0(x) = S(x)(A(x)^2+B(x)^2-C(x))\n",
        "  phi_0_coefs = mul_poly(s_poly_coefs,sub_poly(add_poly(mul_poly(a_poly_coefs, a_poly_coefs), mul_poly(b_poly_coefs, b_poly_coefs)),c_poly_coefs))\n",
        "\n",
        "  return phi_0_coefs\n",
        "\n",
        "\n",
        "def mul_poly(poly1_coefs, poly2_coefs):\n",
        "  multiply_poly = [0]*(len(poly1_coefs)+len(poly2_coefs)-1)\n",
        "  for o1,i1 in enumerate(poly1_coefs):\n",
        "    for o2,i2 in enumerate(poly2_coefs):\n",
        "      multiply_poly[o1+o2] += i1*i2\n",
        "  return multiply_poly\n",
        "\n",
        "def add_poly(poly1_coefs, poly2_coefs):\n",
        "\n",
        "  if len(poly1_coefs) >= len(poly2_coefs):\n",
        "    addition_poly = poly1_coefs\n",
        "    min_length = len(poly2_coefs)\n",
        "  else:\n",
        "    addition_poly = poly2_coefs\n",
        "    min_length = len(poly1_coefs)\n",
        "\n",
        "  for i in range(min_length):\n",
        "    addition_poly[i] = poly1_coefs[i] + poly2_coefs[i]\n",
        "\n",
        "  return addition_poly\n",
        "\n",
        "def sub_poly(poly1_coefs, poly2_coefs):\n",
        "\n",
        "  if len(poly1_coefs) >= len(poly2_coefs):\n",
        "    subtraction_poly = poly1_coefs\n",
        "    min_length = len(poly2_coefs)\n",
        "  else:\n",
        "    subtraction_poly = poly2_coefs\n",
        "    min_length = len(poly1_coefs)\n",
        "\n",
        "  for i in range(min_length):\n",
        "    subtraction_poly[i] = poly1_coefs[i] - poly2_coefs[i]\n",
        "\n",
        "  return subtraction_poly\n",
        "\n",
        "square_fib_constraint_poly(inverse_trace_table, p)"
      ],
      "metadata": {
        "colab": {
          "base_uri": "https://localhost:8080/"
        },
        "id": "U-89g8V5Wgzj",
        "outputId": "036457b6-826c-4cf8-dd49-89cfa9d9afd2"
      },
      "execution_count": null,
      "outputs": [
        {
          "output_type": "execute_result",
          "data": {
            "text/plain": [
              "[9217243683127650670215423136204564307406542431733373805594493117736508689447,\n",
              " 6666845327329705532963430625265951311576613171241245242132100072955433688671,\n",
              " 44267534341411372821110843579994475498172624576994019134899687329660324137538,\n",
              " 27734915317295573979553823553557321860270268471208809659398702095994161952080,\n",
              " 37702370013672502632704303140624342804248711303899845502198214997157027878207,\n",
              " 11583562288821433247490937116774158461617493607772389006562557827980992423716,\n",
              " 19431544404868491752428433057080910022889750308878986243969634670562912518450,\n",
              " 12399440026714068747233115926566936096429177141939361413989904821957360748254,\n",
              " 20041303549030907216090313199445756936739800542200228711060022339667450807871,\n",
              " 1640433480202112741396001466119286110343076964539974284673711265395784145821,\n",
              " 13311292830147122275312324513496984175656020478185536494792425391434485506145,\n",
              " 41059692124944929433452274305014365636083572356756835655701111647528539392349,\n",
              " 48728717689897286205190927357005485693648993298446919893155237785330685590294,\n",
              " 27402860898548515345917794500630774711089260799805750439818123432542050144630,\n",
              " 33004330770257698727019307451105055814800802191648651578634024029375668666063,\n",
              " 40036435148412121732214624581619029741261375358588276408613753877981220436259,\n",
              " 23177327942967632593142004172535644593544209526594035305949143242534621687195,\n",
              " 44128596367594372205088308416800728415770862364746418295797847361587363350021,\n",
              " 47292923178693885862472312922880472001552459945875720015515204678782352725343,\n",
              " 36077142908011877545889383157800244179027264173089630330107503656354461024597,\n",
              " 18440662646682592121000250518742103177483400398708510249853864617389448900525,\n",
              " 13449451987756241886039008890781032664983798092949498376222977439415538616167]"
            ]
          },
          "metadata": {},
          "execution_count": 42
        }
      ]
    },
    {
      "cell_type": "markdown",
      "source": [
        "### Wiring Constraints\n",
        "we can also use other ways to represent wiring constraints"
      ],
      "metadata": {
        "id": "E_fDW5DeI_Cu"
      }
    },
    {
      "cell_type": "code",
      "source": [
        "# another way to implement wiring constraints\n",
        "# using Fi_1 to represent a_i+1 = b_i\n",
        "def wiring_constraint_poly(inverse_trace_table, p):\n",
        "\n",
        "  a_poly_coefs = IFFT(list(inverse_trace_table[0][1:])+[FQ(0)], p)\n",
        "  b_poly_coefs = IFFT(inverse_trace_table[1], p)\n",
        "  s_poly_coefs = IFFT(list(inverse_trace_table[3][1:])+[FQ(0)], p)\n",
        "\n",
        "  # construct a polynomial phi_0(x) = S(x+1)(A(x+1)-B(x))\n",
        "  phi_1_coefs = mul_poly(s_poly_coefs, sub_poly(a_poly_coefs, b_poly_coefs))\n",
        "\n",
        "  return phi_1_coefs\n",
        "\n",
        "wiring_constraint_poly(inverse_trace_table, p)"
      ],
      "metadata": {
        "colab": {
          "base_uri": "https://localhost:8080/"
        },
        "id": "o8abY3vODxVS",
        "outputId": "d1100667-c92e-476b-a263-2dc91c601b1b"
      },
      "execution_count": null,
      "outputs": [
        {
          "output_type": "execute_result",
          "data": {
            "text/plain": [
              "[11470347694558854167379193236165680026994808359490420773694550340558718051128,\n",
              " 31658831632200537539783533621391251008881967401427553257134119658570500984004,\n",
              " 9251157176012360485135106648195872832425943262155855154068869944562980101270,\n",
              " 4629573589425733109598056930899130194516745852141088748221668437883354628737,\n",
              " 27092786656927993916917219376235083497636322707752077888330974664656646497822,\n",
              " 16147469831419210761107806895310410948843277724729960615923746116523503448252,\n",
              " 47225732227417011674567510410490426723757052077807989737374736443825102691387,\n",
              " 0,\n",
              " 40965527480567336312068547272020285810695744141037217048909108359379863133385,\n",
              " 20777043542925652939664206886794714828808585099100084565469539041368080200509,\n",
              " 43184717999113829994312633859990093005264609238371782668534788755375601083243,\n",
              " 47806301585700457369849683577286835643173806648386549074381990262055226555776,\n",
              " 25343088518198196562530521131950882340054229792775559934272684035281934686691,\n",
              " 36288405343706979718339933612875554888847274775797677206679912583415077736261,\n",
              " 5210142947709178804880230097695539113933500422719648085228922256113478493126]"
            ]
          },
          "metadata": {},
          "execution_count": 43
        }
      ]
    },
    {
      "cell_type": "code",
      "source": [
        "# wiring constraints\n",
        "# using Fi_2 to represent b_i+1 = c_i\n",
        "def wiring_constraint_poly2(inverse_trace_table, p):\n",
        "\n",
        "  b_poly_coefs = IFFT(list(inverse_trace_table[1][1:])+[FQ(0)], p)\n",
        "  c_poly_coefs = IFFT(inverse_trace_table[2], p)\n",
        "  s_poly_coefs = IFFT(list(inverse_trace_table[3][1:])+[FQ(0)], p)\n",
        "\n",
        "  # construct a polynomial phi_0(x) = S(x+1)(A(x+1)-B(x))\n",
        "  phi_2_coefs = mul_poly(s_poly_coefs, sub_poly(b_poly_coefs, c_poly_coefs))\n",
        "\n",
        "  return phi_2_coefs\n",
        "\n",
        "wiring_constraint_poly2(inverse_trace_table, p)"
      ],
      "metadata": {
        "colab": {
          "base_uri": "https://localhost:8080/"
        },
        "id": "ICxIc7pDuECa",
        "outputId": "142a1bed-b63a-42c3-ebf3-0f12ea362e20"
      },
      "execution_count": null,
      "outputs": [
        {
          "output_type": "execute_result",
          "data": {
            "text/plain": [
              "[36049664182899255954620321599377851513412254844112750973250561136337128325687,\n",
              " 26478744040510257060869321766053525138872800379087851350621017645042397135506,\n",
              " 32410835611437218704466690526562532753646862728670419077503224720809139370953,\n",
              " 11748757413644117521565380048665272397719182982198598038819999551729010043282,\n",
              " 5425566726670899114035402883671431159983196801318069536656707248542603833947,\n",
              " 45997037633194194370717268143927422353966899878804396217539101952889432168702,\n",
              " 37540168226135780995704033570283361978050109689519990765762645485100182660726,\n",
              " 0,\n",
              " 16386210992226934524827418908808114324278297656414886849353097563601452858826,\n",
              " 25957131134615933418578418742132440698817752121439786471982641054896184049007,\n",
              " 20025039563688971774981049981623433084043689771857218745100433979129441813560,\n",
              " 40687117761482072957882360459520693439971369518329039783783659148209571141231,\n",
              " 47010308448455291365412337624514534677707355699209568285946951451395977350566,\n",
              " 6438837541931996108730472364258543483723652621723241605064556747049149015811,\n",
              " 14895706948990409483743706937902603859640442811007647056841013214838398523787]"
            ]
          },
          "metadata": {},
          "execution_count": 44
        }
      ]
    },
    {
      "cell_type": "code",
      "source": [
        "constraints_poly = []\n",
        "\n",
        "# Square-Fibonaci constraints\n",
        "constraints_poly.append(square_fib_constraint_poly(inverse_trace_table, p))\n",
        "\n",
        "# using Fi_1 to represent a_i+1 = b_i\n",
        "constraints_poly.append(wiring_constraint_poly(inverse_trace_table, p))\n",
        "\n",
        "# using Fi_2 to represent b_i+1 = c_i\n",
        "constraints_poly.append(wiring_constraint_poly2(inverse_trace_table, p))\n",
        "\n",
        "constraints_poly"
      ],
      "metadata": {
        "colab": {
          "base_uri": "https://localhost:8080/"
        },
        "id": "MNjEDi5b8NB7",
        "outputId": "6bc45c02-bd77-4450-e850-3396c28b12bb"
      },
      "execution_count": null,
      "outputs": [
        {
          "output_type": "execute_result",
          "data": {
            "text/plain": [
              "[[9217243683127650670215423136204564307406542431733373805594493117736508689447,\n",
              "  6666845327329705532963430625265951311576613171241245242132100072955433688671,\n",
              "  44267534341411372821110843579994475498172624576994019134899687329660324137538,\n",
              "  27734915317295573979553823553557321860270268471208809659398702095994161952080,\n",
              "  37702370013672502632704303140624342804248711303899845502198214997157027878207,\n",
              "  11583562288821433247490937116774158461617493607772389006562557827980992423716,\n",
              "  19431544404868491752428433057080910022889750308878986243969634670562912518450,\n",
              "  12399440026714068747233115926566936096429177141939361413989904821957360748254,\n",
              "  20041303549030907216090313199445756936739800542200228711060022339667450807871,\n",
              "  1640433480202112741396001466119286110343076964539974284673711265395784145821,\n",
              "  13311292830147122275312324513496984175656020478185536494792425391434485506145,\n",
              "  41059692124944929433452274305014365636083572356756835655701111647528539392349,\n",
              "  48728717689897286205190927357005485693648993298446919893155237785330685590294,\n",
              "  27402860898548515345917794500630774711089260799805750439818123432542050144630,\n",
              "  33004330770257698727019307451105055814800802191648651578634024029375668666063,\n",
              "  40036435148412121732214624581619029741261375358588276408613753877981220436259,\n",
              "  23177327942967632593142004172535644593544209526594035305949143242534621687195,\n",
              "  44128596367594372205088308416800728415770862364746418295797847361587363350021,\n",
              "  47292923178693885862472312922880472001552459945875720015515204678782352725343,\n",
              "  36077142908011877545889383157800244179027264173089630330107503656354461024597,\n",
              "  18440662646682592121000250518742103177483400398708510249853864617389448900525,\n",
              "  13449451987756241886039008890781032664983798092949498376222977439415538616167],\n",
              " [11470347694558854167379193236165680026994808359490420773694550340558718051128,\n",
              "  31658831632200537539783533621391251008881967401427553257134119658570500984004,\n",
              "  9251157176012360485135106648195872832425943262155855154068869944562980101270,\n",
              "  4629573589425733109598056930899130194516745852141088748221668437883354628737,\n",
              "  27092786656927993916917219376235083497636322707752077888330974664656646497822,\n",
              "  16147469831419210761107806895310410948843277724729960615923746116523503448252,\n",
              "  47225732227417011674567510410490426723757052077807989737374736443825102691387,\n",
              "  0,\n",
              "  40965527480567336312068547272020285810695744141037217048909108359379863133385,\n",
              "  20777043542925652939664206886794714828808585099100084565469539041368080200509,\n",
              "  43184717999113829994312633859990093005264609238371782668534788755375601083243,\n",
              "  47806301585700457369849683577286835643173806648386549074381990262055226555776,\n",
              "  25343088518198196562530521131950882340054229792775559934272684035281934686691,\n",
              "  36288405343706979718339933612875554888847274775797677206679912583415077736261,\n",
              "  5210142947709178804880230097695539113933500422719648085228922256113478493126],\n",
              " [36049664182899255954620321599377851513412254844112750973250561136337128325687,\n",
              "  26478744040510257060869321766053525138872800379087851350621017645042397135506,\n",
              "  32410835611437218704466690526562532753646862728670419077503224720809139370953,\n",
              "  11748757413644117521565380048665272397719182982198598038819999551729010043282,\n",
              "  5425566726670899114035402883671431159983196801318069536656707248542603833947,\n",
              "  45997037633194194370717268143927422353966899878804396217539101952889432168702,\n",
              "  37540168226135780995704033570283361978050109689519990765762645485100182660726,\n",
              "  0,\n",
              "  16386210992226934524827418908808114324278297656414886849353097563601452858826,\n",
              "  25957131134615933418578418742132440698817752121439786471982641054896184049007,\n",
              "  20025039563688971774981049981623433084043689771857218745100433979129441813560,\n",
              "  40687117761482072957882360459520693439971369518329039783783659148209571141231,\n",
              "  47010308448455291365412337624514534677707355699209568285946951451395977350566,\n",
              "  6438837541931996108730472364258543483723652621723241605064556747049149015811,\n",
              "  14895706948990409483743706937902603859640442811007647056841013214838398523787]]"
            ]
          },
          "metadata": {},
          "execution_count": 45
        }
      ]
    },
    {
      "cell_type": "markdown",
      "source": [
        "### Combine constraints\n",
        "\n",
        "- **Naive way to proof the contraints**\n",
        "\n",
        "    In general, we have $m$ constraint polynomials $\\phi_0(x), \\phi_1(x), ..., \\phi_{m-1}(x)$. Sample a random field element $\\gamma \\in F_q$, and then take a random linear combination of the individual constraints:$$\\phi(x) := \\gamma^0·\\phi_0(x) + \\gamma^1·\\phi_1(x)+...+\\gamma^{m-1}·\\phi_{m-1}(x)$$\n",
        "    and we need the constraints satisfied at every row, that is $\\phi(\\omega^i) = 0 \\ for \\ all\\ 0\\le i <n$, in this case we need $n$ evaluation proofs\n",
        "\n",
        "\n",
        "- **Using quotient polynomial**\n",
        "\n",
        "    we can prove such constraint $\\phi(x)$ using only one evaluation proof:\n",
        "    - quotient polynomial:\n",
        "        \\begin{aligned}\n",
        "        \\phi(\\omega^i) = 0 \\ for \\ all\\ 0\\le i <n\\ &{\\Leftrightarrow}\\ (x-\\omega^i)|\\phi(x)\\ for \\ all\\ 0\\le i<n\\\\\n",
        "        &{\\Leftrightarrow}\\ \\prod^{n-1}_{i=0}(x-\\omega^i)|\\phi(x)\\ for \\ all\\ 0\\le i <n\\\\\n",
        "        &{\\Leftrightarrow}\\ (x^n-1)|\\phi(x)\\\\\n",
        "        &{\\Leftrightarrow}\\ \\exists Q(x)\\ s.t.\\phi(x)=Q(x)·(x^n-1)\n",
        "        \\end{aligned}\n",
        "      now we just need to prove there exists a polynomial Q(x)\n",
        "    - compute the quotient polynomial:\n",
        "        $$\n",
        "        Q(x):= {\\phi(x) \\over {x^n-1}} = {{\\gamma^0·\\phi_0(x) + \\gamma^1·\\phi_1(x)+...+\\gamma^{m-1}·\\phi_{m-1}(x)} \\over {x^n-1}}\n",
        "        $$\n",
        "      degree of $Q(x)$ is $2n-3$, so we need at least $2n-2$ evaluation points to represent it\n",
        "      \n",
        "      we make it a round number and use $2n$ evaluation points, our previous evaluation domain do not work anymore, because the order of $\\omega$ is only $n$. We therefore need to pick some other element $\\beta \\in F_q$ with order $2n$. Then we evaluate $Q(x)$ over the evaluation domain $\\{\\beta^0, \\beta^1,...,\\beta^{2n-1}\\}$"
      ],
      "metadata": {
        "id": "rCI92e9h8agH"
      }
    },
    {
      "cell_type": "code",
      "source": [
        "# define Phi(x)\n",
        "def Phi(constraints_poly, n, p):\n",
        "  # randomly gerenate gamma in F_p\n",
        "  gamma_list = []\n",
        "  Phi_poly_coefs = [0] * n\n",
        "\n",
        "  for i in range(len(constraints_poly)):\n",
        "      gamma = FQ(random.randint(0, p))\n",
        "      gamma_list.append(gamma)\n",
        "      phi_i = [gamma * constraints_poly[i][j] for j in range(len(constraints_poly[i]))]\n",
        "      Phi_poly_coefs = add_poly(phi_i, Phi_poly_coefs)\n",
        "\n",
        "  return Phi_poly_coefs, gamma_list\n",
        "\n",
        "Phi_poly_coefs, gamma_list = Phi(constraints_poly, len(constraints_poly[0]), p)\n",
        "print(f'the combination of contraints is {Phi_poly_coefs}')\n",
        "print(f'the ramdom generated list of gamma is {gamma_list}')"
      ],
      "metadata": {
        "colab": {
          "base_uri": "https://localhost:8080/"
        },
        "id": "7LNQLL0THUJK",
        "outputId": "5a5f34aa-36a1-4f12-dda3-21ebc20f4651"
      },
      "execution_count": null,
      "outputs": [
        {
          "output_type": "stream",
          "name": "stdout",
          "text": [
            "the combination of contraints is [49055081158131710478159534583320415848715959091203751514703764679003849589182, 23527014410647066005681357424018502058179497965147260126029509417815060102830, 32049647844870507614243143813268006808968701494297911963173064860417692417655, 32035202929027505587200093771003462574029379846138339802431977330709640447833, 41350328662722042609251686581931858554205475205588143577705037090674675092978, 24477969498297646806829944489297171250668698147360246098503300266867552509222, 37043683659952007455302770020656193595890851968719157052951825962706800437167, 18916579483817845244490973913489027663137726832261248716252583436098262783142, 25262640056214501318479400369897723060396573889467389680151247442166363530491, 38127451411460775309331072764872637864584632775803767218616499083830433195948, 50354196917678888239284038520950165149178332575361412600990308435762782879716, 5631673560366180798838929090703727937113441871629967000252670816402602940947, 30423858510476094787527160806263462044042897035613772911438853816997323557589, 8460590441351073398277830255505256798700315638613989477187490334461009604745, 15392191515174183024144970487529772241799700531808480769651832737231780747346, 33519295691308345234956766594696938174552825668266389106351075263840318401371, 30554029135906169162256546063153792766268572020384134450352305278706949249353, 43217284528144539643883050827480791752616974260104248300561308898231669070248, 22467905587702985105368298682153759717234070931395951081043944103696687071655, 14768998685732504093408717646478775326547730782759331019919010552826337795733, 33097563177054243562116633628176611077132732759853359156063426492205163718459, 19497315235477470274339965763383537788321538714553402246912868098610019070546]\n",
            "the ramdom generated list of gamma is [26884386897677845387641689660318255059273126000869002203595282952515264862297, 3685666943154062683726179419091322196760427482429277056891823395270993480932, 43245002439898513900972723114119387583116139677550480412240164696730922256886]\n"
          ]
        }
      ]
    },
    {
      "cell_type": "code",
      "source": [
        "def Quotient_poly(Phi_poly_coefs, n, p):\n",
        "  '''Args:\n",
        "  a: randomly sampled field element\n",
        "  b: evaluation on a\n",
        "  poly_evals: input of poly need to be in evaluation form\n",
        "\n",
        "  Returns:\n",
        "  Q_poly_evals: q poly in evaluation form\n",
        "  '''\n",
        "  Q_poly_evals = []\n",
        "\n",
        "  omega = find_nth_root_of_unity_realnum(2*n, p)\n",
        "\n",
        "  for i in range(2*n):\n",
        "\n",
        "    Phi_poly_eval = evaluation_poly(omega**i, Phi_poly_coefs)\n",
        "    Q_poly_evals.append(Phi_poly_eval/((omega**i)**n-FQ(1)))\n",
        "\n",
        "  return Q_poly_evals\n",
        "\n",
        "Q_poly_evals = Quotient_poly(Phi_poly_coefs, n, p)\n",
        "print(f'quotient polynomial in evaluation form is {Q_poly_evals}')"
      ],
      "metadata": {
        "colab": {
          "base_uri": "https://localhost:8080/"
        },
        "id": "4WW1THT_IOsj",
        "outputId": "2d389f23-f36d-48ff-851b-b00db0b23a69"
      },
      "execution_count": null,
      "outputs": [
        {
          "output_type": "stream",
          "name": "stdout",
          "text": [
            "quotient polynomial in evaluation form is [0, 6627971511873201344658318099783262099490928244267071618705636954132811605239, 0, 45737554521941954955172828037063424484164601737456281858870453595174026430255, 0, 45020880976460281360609718086033931983297927069838162635146840028567634906859, 0, 34630370478999413702862233076220038580487767130351459498046569448374637263073, 0, 44802542530179667582610298771195296663974132924770727605652706279821960165035, 0, 21664484464847581645682765703468010196541230858867972135739395479134949604395, 0, 50633481310488534025081651047010523546285949665729890840802787703685014920655, 0, 5419709830051566410605130646593262766620605984985189070849248748378454532930]\n"
          ]
        }
      ]
    },
    {
      "cell_type": "markdown",
      "source": [
        "### Committing to the quotient polynomial\n",
        "Now we have get the evaluation form of $Q(x)$, we can compute its commitment. Note, degree of $Q(x)$ is larger than the column polynomials, so it requires a larger KZG setup"
      ],
      "metadata": {
        "id": "66SFCFtF8jsh"
      }
    },
    {
      "cell_type": "code",
      "source": [
        "Q_poly_coefs = IFFT(Q_poly_evals, p)\n",
        "Q_poly_coefs"
      ],
      "metadata": {
        "colab": {
          "base_uri": "https://localhost:8080/"
        },
        "id": "EXeFCX1AtJI9",
        "outputId": "f4588cb6-7111-44eb-8cd4-a9cf224f2742"
      },
      "execution_count": null,
      "outputs": [
        {
          "output_type": "execute_result",
          "data": {
            "text/plain": [
              "[38849257615670345898963570439041844449043563194997513751377453071052472357502,\n",
              " 19063725705730387654665536382436318932292316387901883609308249541915216597974,\n",
              " 25177098458839444119642019260475082574589166287680706300495154217881391439858,\n",
              " 29033774367746185639143334799444846887401997186078802411428164758170592062730,\n",
              " 41429866842801142633487450657224713940866724768070705367021256258467952371051,\n",
              " 30448232808238631938862785381845611318195434069570813649895574517199795394629,\n",
              " 7696095757587091512072485243764886120899850265904240384825916368615890373673,\n",
              " 42977585433217267857202253551441452006121689084397013464477366981889449792942,\n",
              " 13586617559455844580484170069144121388646989305530124071226205628886108827011,\n",
              " 33372149469395802824782204125749646905398236112625754213295409158023364586539,\n",
              " 27258776716286746359805721247710883263101386212846931522108504482057189744655,\n",
              " 23402100807380004840304405708741118950288555314448835411175493941767989121783,\n",
              " 11006008332325047845960289850961251896823827732456932455582402441470628813462,\n",
              " 21987642366887558540584955126340354519495118430956824172708084182738785789884,\n",
              " 44739779417539098967375255264421079716790702234623397437777742331322690810840,\n",
              " 9458289741908922622245486956744513831568863416130624358126291718049131391571]"
            ]
          },
          "metadata": {},
          "execution_count": 51
        }
      ]
    },
    {
      "cell_type": "code",
      "source": [
        "Q_com = poly_commitment(pk, g1, Q_poly_coefs)\n",
        "print(f'commitment of polynomial is {Q_com}')"
      ],
      "metadata": {
        "colab": {
          "base_uri": "https://localhost:8080/"
        },
        "id": "yrq0Ai998iPX",
        "outputId": "aa055ac0-4dee-48a9-82ac-b256c6f904d1"
      },
      "execution_count": null,
      "outputs": [
        {
          "output_type": "stream",
          "name": "stdout",
          "text": [
            "commitment of polynomial is (1466360593450773475302590639406302389267345026270393868612991659540778742557858339414802158314745730358739442866498, 2671804589350221450321678338770721699533040077057819055766446370041956202640328871034736906612976321500336617060521)\n"
          ]
        }
      ]
    },
    {
      "cell_type": "markdown",
      "source": [
        "### Proving an Evaluation\n",
        "Now we have committed all column polynomials from the trace table and have also committed to the quotient polynomial. Now the prover needs to demonstrate the quotient polynimial really exist and it was computed correctly.\n",
        "\n",
        "This can be achieve through the following steps:\n",
        "1. sample a random point $\\alpha \\in F_q$\n",
        "2. generate and output KZG proofs for all column polynimials and the quotient polynomials at point $\\alpha$ $$ Q(\\alpha):= {\\phi(\\alpha) \\over {\\alpha^n-1}} = {{\\gamma^0·\\phi_0(\\alpha) + \\gamma^1·\\phi_1(\\alpha)+...+\\gamma^{m-1}·\\phi_{m-1}(\\alpha)} \\over {\\alpha^n-1}}$$\n",
        "$\\alpha$ is sampled at random, so the property holds at $\\alpha$, then it holds everywhere"
      ],
      "metadata": {
        "id": "c70-M8kH8pzg"
      }
    },
    {
      "cell_type": "code",
      "source": [
        "# Verifier first choose the random point a\n",
        "a = FQ(random.randint(0, p))\n",
        "print(f'random point a is {a}')\n",
        "\n",
        "# calculate evaluation for all polynomials, and proof of the evaluation pi\n",
        "## for column polynomials\n",
        "col_evaluation = []\n",
        "col_q_poly_evals = []\n",
        "col_pi = []\n",
        "for poly_coef in col_poly_coefs:\n",
        "    # compute evaluation at a\n",
        "    b = evaluation_poly(a, poly_coef)\n",
        "    col_evaluation.append(b)\n",
        "    # compute q(x)\n",
        "    poly_eval = FFT(poly_coef, p)\n",
        "    q_poly_evals = quotient_poly(a, b, poly_eval, p)\n",
        "    col_q_poly_evals.append(q_poly_evals)\n",
        "    # compute proof of the evaluation pi\n",
        "    q_poly_coef = IFFT(q_poly_evals, p)\n",
        "    pi = poly_commitment(pk, g1,  q_poly_coef)\n",
        "    col_pi.append(pi)\n",
        "print(f'evalutions for column polynomials are {col_evaluation}, and proof of evaluations are {col_pi}')\n",
        "\n",
        "## for quotient polynomials\n",
        "# compute evaluation at a\n",
        "Q_evaluation = evaluation_poly(a, Q_poly_coefs)\n",
        "# compute q(x)\n",
        "Q_q_poly_eval = quotient_poly(a, Q_evaluation, Q_poly_evals, p)\n",
        "# compute proof of the evaluation pi\n",
        "Q_q_poly_coef = IFFT(Q_q_poly_eval, p)\n",
        "Q_pi = poly_commitment(pk, g1, Q_q_poly_coef)\n",
        "print(f'evaluation for quotient polynomial is {Q_evaluation},and proof of evaluations are {Q_pi}')"
      ],
      "metadata": {
        "colab": {
          "base_uri": "https://localhost:8080/"
        },
        "id": "ABDq93Si8sV3",
        "outputId": "8c98b255-2f4e-4119-ec4b-8a64926426ad"
      },
      "execution_count": null,
      "outputs": [
        {
          "output_type": "stream",
          "name": "stdout",
          "text": [
            "random point a is 42670908556048958175010494124117913770971306361356432100176861913057641969324\n",
            "evalutions for column polynomials are [30418493975628262728068751303937601687741293623803608325590699908007437471541, 21568437621093640336972282553260726424706841888148821894574946940754614488771, 52306808783501808116517638893177859254254384536085666720651889586788967893853, 34355317477759176958102565752339184237102581669158749011299453207830791263573, 48321594924163810925743031796475461234771864055930307382453393957781671469157], and proof of evaluations are [(3863687297288056301486213638584767290969095583228892753520897385690301780482953392284164228048494544731968486118042, 1959410625719638613969227346943717382929460153280219286314395193916737311338193717642214637718888133645187208634133), (3254761686763006683617835440881604909111446876917007228348159171430701210495066574741194437694317035867381657220493, 2023854375722711664962880238084801315540376985716373390974369609724720771040405371293665444511869989495112055603170), (2133446990611182184334069758974725596147268853896790735817054531771427204313388228956790885604442209897933298711943, 1020950606703865240169102008364904615375430537956382329204911980512656272497580306556410823231020015585672322157514), (377921715464289266672508577831083920356571751463391417570583615766395828786393726877642854645817751363454359042724, 1397290818292298915318514359819175621966085388828225069381887962738242636516618250004257925633205532019401370204279), (3015055651797017603380830657435270838399553052619282860338127403248652414084307590251407577741490750727001231434034, 3987520632335294187586086393959684013307676368193022810346506854241444916853243282739062805210928247272748431872112)]\n",
            "evaluation for quotient polynomial is 39886039546128530499615847488158556822306646302127248662672963159725771204053,and proof of evaluations are (369464156792182449882164444585300218232156701680178473040228986207345138039687618130652556396747818035517349806922, 1332538725599312056253089063959335760774486523036026460054497605100557935246766292040630996631273327387951680748052)\n"
          ]
        }
      ]
    },
    {
      "cell_type": "markdown",
      "source": [
        "### Verification\n",
        "the verifier need to check two things:\n",
        "1. each evaluation proof is correct\n",
        "2. the quotient polynomial holds at point $\\alpha$"
      ],
      "metadata": {
        "id": "ZZwFn_Sd8_Jf"
      }
    },
    {
      "cell_type": "code",
      "source": [
        "# verify each evaluation proof is correct\n",
        "for i in range(len(com_list)):\n",
        "    # print(f'verification result of column {i} : {evaluation_verification(com_list[i], col_evaluation[i], a, col_pi[i], g1, g2, vk)}')\n",
        "    print(f'verification result of column {i} : {pairing(g2, add(com_list[i], neg(multiply(g1, int(col_evaluation[i]))))) == pairing(add(vk, neg(multiply(g2, int(a)))), col_pi[i])}')\n",
        "\n",
        "# verify the quotient polynomial holds at point a\n",
        "# assert GT.pairing(Q_com - g1*Scalar(Q_evaluation), g2) == GT.pairing(Q_pi, vk - g2*Scalar(a))\n",
        "# print(f'verification result:{evaluation_verification(Q_com, Q_evaluation, a, Q_pi, g1, g2, vk)}')\n",
        "print(f'verification result of quotient polynomial: {pairing(g2, add(Q_com, neg(multiply(g1, int(Q_evaluation))))) == pairing(add(vk, neg(multiply(g2, int(a)))), Q_pi)}')"
      ],
      "metadata": {
        "colab": {
          "base_uri": "https://localhost:8080/"
        },
        "id": "hgCnWd629BN9",
        "outputId": "c507698d-3684-4b06-e56a-77c553118852"
      },
      "execution_count": null,
      "outputs": [
        {
          "output_type": "stream",
          "name": "stdout",
          "text": [
            "verification result of column 0 : True\n",
            "verification result of column 1 : True\n",
            "verification result of column 2 : True\n",
            "verification result of column 3 : True\n",
            "verification result of column 4 : True\n",
            "verification result of quotient polynomial: True\n"
          ]
        }
      ]
    },
    {
      "cell_type": "code",
      "source": [],
      "metadata": {
        "id": "qYo5HW7uS9EK"
      },
      "execution_count": null,
      "outputs": []
    },
    {
      "cell_type": "markdown",
      "source": [
        "### *Wiring Constraints(from vanilla plonk)\n",
        "\n",
        "The purpose of wiring constraints is to connect the sea of gates we get in the last step by proving certain gates' inputs/outputs equal each other.\n",
        "\n",
        "To construct wiring contraints polynomials, we need to following steps:\n",
        "1. Verifier choose random $\\beta, \\gamma \\in F_p$ and sends them to Prover\n",
        "2. Construct two matrix:\n",
        "  - matrix of indexes for original computation trace table\n",
        "    - we use roots of unity to represent the indexes:\n",
        "      - for column A: $\\omega^0, \\omega^1, \\omega^2, \\omega^3, ..., \\omega^{n-1}$\n",
        "      - for column B: $2\\omega^0, 2\\omega^1, 2\\omega^2, 2\\omega^3, ..., 2\\omega^{n-1}$\n",
        "      - for column C: $3\\omega^0, 3\\omega^1, 3\\omega^2, 3\\omega^3, ..., 3\\omega^{n-1}$\n",
        "  - matrix of indexes after permutation*\n",
        "    - permuation means:\n",
        "      - assume we have three positions in the table share the same value:\n",
        "        - the $a$ column in the $4^{th}$ line: (4, a), index = $\\omega^3$\n",
        "        - the $a$ column in the $7^{th}$ line: (7, a), index = $\\omega^6$\n",
        "        - the $c$ column in the $2^{rd}$ line: (2, c), index = $3\\omega^1$\n",
        "      - then we store:\n",
        "        - the position (7, a) store (4, a)'s index: $\\omega^3$\n",
        "        - the position (2, c) store (7, a)'s index: $\\omega^6$\n",
        "        - the position (4, a) store (2, c)'s index: $3\\omega^1$\n",
        "    - in our case:\n",
        "      - matrix before permutation\n",
        "        - for column A: $\\omega^0, \\omega^1, \\omega^2, \\omega^3, ..., \\omega^{n-1}$\n",
        "        - for column B: $2\\omega^0, 2\\omega^1, 2\\omega^2, 2\\omega^3, ..., 2\\omega^{n-1}$\n",
        "        - for column C: $3\\omega^0, 3\\omega^1, 3\\omega^2, 3\\omega^3, ..., 3\\omega^{n-1}$\n",
        "      - matrix after permutation(constraints: $a_{i+1} = b_i$ and $b_{i+1} = c_i$)\n",
        "        - for column A: $\\omega^0, 2\\omega^0, 2\\omega^1, 2\\omega^2, ..., 2\\omega^{n-2}, 2\\omega^{n-1}$\n",
        "        - for column B: $\\omega^1, 3\\omega^0, 3\\omega^1, 3\\omega^2, ..., 3\\omega^{n-2}, 3\\omega^{n-1}$\n",
        "        - for column C: $2\\omega^1, 2\\omega^2, 2\\omega^3, 2\\omega^4, ..., 2\\omega^{n}, 3\\omega^{n}$\n",
        "\n",
        "3. construct 2 polynomials $f, g$ representing the values in the computation trace table, Let:\n",
        "  - $f'(\\omega^i)=f(\\omega^i)+\\beta · i+\\gamma$, $i$ represent index in matrix before permutation\n",
        "  - $g'(\\omega^i)=g(\\omega^i)+\\beta · \\sigma(i)+\\gamma$, $\\sigma(i)$ represent index in matrix after permutation\n",
        "4. then Prover computes $Z \\in F_{<n}[X]$, s.t $Z(\\omega)=1$; and for $i\\in \\{2,...,n\\}$ $$Z(\\omega^i) = \\prod_{1\\le j<i} \\frac{f'(\\omega^j)}{g'(\\omega^j)}$$\n",
        "5. Verifier checks if for all $a\\in H$\n",
        "  - $L_1(a)(Z(a)-1)=0$\n",
        "  - $Z(a)f'(a) = g'(a)Z(a·\\omega)$\n"
      ],
      "metadata": {
        "id": "gHyIXuCMnn58"
      }
    },
    {
      "cell_type": "code",
      "source": [
        "# generate two random number beta and gamma\n",
        "beta = FQ(random.randint(0, p))\n",
        "gamma = FQ(random.randint(0, p))\n",
        "print(f'beta = {beta}, gamma = {gamma}')"
      ],
      "metadata": {
        "colab": {
          "base_uri": "https://localhost:8080/"
        },
        "id": "HeUOPO0f4FhM",
        "outputId": "350829c1-a493-4891-b6e1-7e4bd87e7f10"
      },
      "execution_count": null,
      "outputs": [
        {
          "output_type": "stream",
          "name": "stdout",
          "text": [
            "beta = 25227428662100397909003723125956767219844274980029406864409905825009699272612, gamma = 2001942086730337737869128807666465678864934683001832738425705322712899080924\n"
          ]
        }
      ]
    },
    {
      "cell_type": "code",
      "source": [
        "# Construct two matrixes\n",
        "# before permutation\n",
        "def generate_ori_matrix(n):\n",
        "  ori_matrix = []\n",
        "  omega = find_nth_root_of_unity_realnum(n, p)\n",
        "  for i in range(n):\n",
        "    row = []\n",
        "    for j in range(1,4):\n",
        "      row.append(FQ(j)*(omega**i))\n",
        "    ori_matrix.append(row)\n",
        "  return ori_matrix\n",
        "\n",
        "ori_matrix = generate_ori_matrix(n)\n",
        "# ori_matrix"
      ],
      "metadata": {
        "id": "GfyEnixD7A9d"
      },
      "execution_count": null,
      "outputs": []
    },
    {
      "cell_type": "code",
      "source": [
        "# after permutation\n",
        "def permutation_matrix(ori_matrix, n):\n",
        "  permu_matrix = ori_matrix\n",
        "  for i in range(n-1):\n",
        "    permu_matrix[i+1][0], permu_matrix[i][1] = permu_matrix[i][1], permu_matrix[i+1][0]\n",
        "    permu_matrix[i+1][1], permu_matrix[i][2] = permu_matrix[i][2], permu_matrix[i+1][1]\n",
        "  return permu_matrix\n",
        "\n",
        "permu_matrix = permutation_matrix(ori_matrix, n)\n",
        "# permu_matrix"
      ],
      "metadata": {
        "id": "6-PNLN1h95OM"
      },
      "execution_count": null,
      "outputs": []
    },
    {
      "cell_type": "code",
      "source": [
        "# f, g polynomial construction\n",
        "def f_g_poly(value_in_trace_table, index, beta, gamma):\n",
        "  return value_in_trace_table + beta * index + gamma"
      ],
      "metadata": {
        "id": "5k9XHVXzD8SB"
      },
      "execution_count": null,
      "outputs": []
    },
    {
      "cell_type": "code",
      "source": [
        "# calculate Z\n",
        "def Z_poly_evals(trace_table, ori_matrix, permu_matrix, beta, gamma, n, p):\n",
        "  Z_values = [FQ(1)]\n",
        "  omega = find_nth_root_of_unity_realnum(n, p)\n",
        "\n",
        "  # compute Z in lagrange form according to its definition\n",
        "  for i in range(n):\n",
        "    Z_values.append(\n",
        "        Z_values[-1]\n",
        "        * f_g_poly(trace_table[i][0], ori_matrix[i][0], beta, gamma)\n",
        "        * f_g_poly(trace_table[i][1], ori_matrix[i][1], beta, gamma)\n",
        "        * f_g_poly(trace_table[i][2], ori_matrix[i][2], beta, gamma)\n",
        "        / f_g_poly(trace_table[i][0], permu_matrix[i][0], beta, gamma)\n",
        "        / f_g_poly(trace_table[i][1], permu_matrix[i][1], beta, gamma)\n",
        "        / f_g_poly(trace_table[i][2], permu_matrix[i][2], beta, gamma)\n",
        "    )\n",
        "  assert Z_values.pop() == 1\n",
        "\n",
        "  # check if Z is calculated correctly\n",
        "  for i in range(n):\n",
        "    assert(\n",
        "        f_g_poly(trace_table[i][0], ori_matrix[i][0], beta, gamma)\n",
        "        * f_g_poly(trace_table[i][1], ori_matrix[i][1], beta, gamma)\n",
        "        * f_g_poly(trace_table[i][2], ori_matrix[i][2], beta, gamma)\n",
        "    ) * Z_values[i] - (\n",
        "        f_g_poly(trace_table[i][0], permu_matrix[i][0], beta, gamma)\n",
        "        * f_g_poly(trace_table[i][1], permu_matrix[i][1], beta, gamma)\n",
        "        * f_g_poly(trace_table[i][2], permu_matrix[i][2], beta, gamma)\n",
        "    ) * Z_values[\n",
        "        (i+1) % n\n",
        "    ]== 0\n",
        "\n",
        "  # # transfer Z polynomial to coefficient form\n",
        "  # z_coefs = IFFT(Z_values, p)\n",
        "\n",
        "  return Z_values\n",
        "\n",
        "z_poly_evals = Z_poly_evals(trace_table, ori_matrix, permu_matrix, beta, gamma, n, p)"
      ],
      "metadata": {
        "id": "TS8PGtAmCcI1"
      },
      "execution_count": null,
      "outputs": []
    },
    {
      "cell_type": "code",
      "source": [
        "# wiring constraints\n",
        "# construct the polynomial we need to check: 𝑍(𝑎)𝑓′(𝑎) - 𝑔′(𝑎)𝑍(𝑎·𝜔)\n",
        "def wiring_constraint_poly_permuation(n, p, trace_table, ori_matrix, beta, gamma, z_poly_evals):\n",
        "\n",
        "  f_poly_evals = []\n",
        "  g_poly_evals = []\n",
        "\n",
        "  for i in range(n):\n",
        "    f_poly_evals.append(\n",
        "        f_g_poly(trace_table[i][0], ori_matrix[i][0], beta, gamma)\n",
        "        * f_g_poly(trace_table[i][1], ori_matrix[i][1], beta, gamma)\n",
        "        * f_g_poly(trace_table[i][2], ori_matrix[i][2], beta, gamma))\n",
        "    g_poly_evals.append(\n",
        "        f_g_poly(trace_table[i][0], permu_matrix[i][0], beta, gamma)\n",
        "        * f_g_poly(trace_table[i][1], permu_matrix[i][1], beta, gamma)\n",
        "        * f_g_poly(trace_table[i][2], permu_matrix[i][2], beta, gamma))\n",
        "    z_poly_evals_xomega = z_poly_evals[1:]+[z_poly_evals[0]]\n",
        "\n",
        "  f_poly_coefs = IFFT(f_poly_evals, p)\n",
        "  g_poly_coefs = IFFT(g_poly_evals, p)\n",
        "  z_poly_coefs = IFFT(z_poly_evals, p)\n",
        "  z_poly_coefs_xomega = IFFT(z_poly_evals_xomega, p)\n",
        "\n",
        "  phi_w_coefs = sub_poly(mul_poly(z_poly_coefs, f_poly_coefs), mul_poly(g_poly_coefs, z_poly_coefs_xomega))\n",
        "\n",
        "  return phi_w_coefs\n",
        "\n",
        "wiring_constraint_poly_permuation(n, p, trace_table, ori_matrix, beta, gamma, z_poly_evals)"
      ],
      "metadata": {
        "colab": {
          "base_uri": "https://localhost:8080/"
        },
        "id": "QFHl248WMrGE",
        "outputId": "55937b61-89bb-4e1b-8681-93c0f14c173f"
      },
      "execution_count": null,
      "outputs": [
        {
          "output_type": "execute_result",
          "data": {
            "text/plain": [
              "[0, 0, 0, 0, 0, 0, 0, 0, 0, 0, 0, 0, 0, 0, 0]"
            ]
          },
          "metadata": {},
          "execution_count": 68
        }
      ]
    }
  ]
}