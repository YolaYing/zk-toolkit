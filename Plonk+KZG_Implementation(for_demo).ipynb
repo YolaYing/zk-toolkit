{
  "nbformat": 4,
  "nbformat_minor": 0,
  "metadata": {
    "colab": {
      "provenance": [],
      "authorship_tag": "ABX9TyPp2gwt4g6E5RiwBm4C/5ON",
      "include_colab_link": true
    },
    "kernelspec": {
      "name": "python3",
      "display_name": "Python 3"
    },
    "language_info": {
      "name": "python"
    }
  },
  "cells": [
    {
      "cell_type": "markdown",
      "metadata": {
        "id": "view-in-github",
        "colab_type": "text"
      },
      "source": [
        "<a href=\"https://colab.research.google.com/github/YolaYing/zk-toolkit/blob/main/Plonk%2BKZG_Implementation(for_demo).ipynb\" target=\"_parent\"><img src=\"https://colab.research.google.com/assets/colab-badge.svg\" alt=\"Open In Colab\"/></a>"
      ]
    },
    {
      "cell_type": "markdown",
      "source": [
        "# Develope Environment Preparation\n",
        "Curve we used is BLS12-381\n",
        "- Library we used: BLS21-381 curve implemented by Ethereum, using Python\n",
        "- Lib link: https://github.com/ethereum/py_ecc/tree/main\n",
        "\n",
        "You can use the following command to install all the packages we needed. Note that if you are using anaconda, package installation may be failed. Highly recommand using colab or some development friendly environment."
      ],
      "metadata": {
        "id": "XDSUSR7mEtlN"
      }
    },
    {
      "cell_type": "code",
      "execution_count": 1,
      "metadata": {
        "colab": {
          "base_uri": "https://localhost:8080/"
        },
        "id": "FDe0iCZyEKD3",
        "outputId": "f9e23974-9dfc-43fb-9679-9cb38cea70a1"
      },
      "outputs": [
        {
          "output_type": "stream",
          "name": "stdout",
          "text": [
            "Collecting py_ecc\n",
            "  Downloading py_ecc-7.0.0-py3-none-any.whl (43 kB)\n",
            "\u001b[?25l     \u001b[90m━━━━━━━━━━━━━━━━━━━━━━━━━━━━━━━━━━━━━━━━\u001b[0m \u001b[32m0.0/43.6 kB\u001b[0m \u001b[31m?\u001b[0m eta \u001b[36m-:--:--\u001b[0m\r\u001b[2K     \u001b[90m━━━━━━━━━━━━━━━━━━━━━━━━━━━━━━━━━━━━━━━━\u001b[0m \u001b[32m43.6/43.6 kB\u001b[0m \u001b[31m1.2 MB/s\u001b[0m eta \u001b[36m0:00:00\u001b[0m\n",
            "\u001b[?25hCollecting eth-typing>=3.0.0 (from py_ecc)\n",
            "  Downloading eth_typing-3.5.2-py3-none-any.whl (14 kB)\n",
            "Collecting eth-utils>=2.0.0 (from py_ecc)\n",
            "  Downloading eth_utils-2.3.1-py3-none-any.whl (77 kB)\n",
            "\u001b[2K     \u001b[90m━━━━━━━━━━━━━━━━━━━━━━━━━━━━━━━━━━━━━━━━\u001b[0m \u001b[32m77.8/77.8 kB\u001b[0m \u001b[31m4.5 MB/s\u001b[0m eta \u001b[36m0:00:00\u001b[0m\n",
            "\u001b[?25hCollecting cached-property>=1.5.1 (from py_ecc)\n",
            "  Downloading cached_property-1.5.2-py2.py3-none-any.whl (7.6 kB)\n",
            "Requirement already satisfied: typing-extensions>=4.0.1 in /usr/local/lib/python3.10/dist-packages (from eth-typing>=3.0.0->py_ecc) (4.5.0)\n",
            "Collecting eth-hash>=0.3.1 (from eth-utils>=2.0.0->py_ecc)\n",
            "  Downloading eth_hash-0.5.2-py3-none-any.whl (8.6 kB)\n",
            "Collecting cytoolz>=0.10.1 (from eth-utils>=2.0.0->py_ecc)\n",
            "  Downloading cytoolz-0.12.2-cp310-cp310-manylinux_2_17_x86_64.manylinux2014_x86_64.whl (1.9 MB)\n",
            "\u001b[2K     \u001b[90m━━━━━━━━━━━━━━━━━━━━━━━━━━━━━━━━━━━━━━━━\u001b[0m \u001b[32m1.9/1.9 MB\u001b[0m \u001b[31m48.5 MB/s\u001b[0m eta \u001b[36m0:00:00\u001b[0m\n",
            "\u001b[?25hRequirement already satisfied: toolz>=0.8.0 in /usr/local/lib/python3.10/dist-packages (from cytoolz>=0.10.1->eth-utils>=2.0.0->py_ecc) (0.12.0)\n",
            "Installing collected packages: cached-property, eth-typing, eth-hash, cytoolz, eth-utils, py_ecc\n",
            "Successfully installed cached-property-1.5.2 cytoolz-0.12.2 eth-hash-0.5.2 eth-typing-3.5.2 eth-utils-2.3.1 py_ecc-7.0.0\n"
          ]
        }
      ],
      "source": [
        "!pip3 install py_ecc"
      ]
    },
    {
      "cell_type": "markdown",
      "source": [
        "# Preliminaries\n"
      ],
      "metadata": {
        "id": "F8XQWxyrf_a9"
      }
    },
    {
      "cell_type": "markdown",
      "source": [
        "## Form of Polynomial Representations(using baby parameters for demonstration)\n",
        "\n",
        "A polynomial $\\Phi(x) = \\sum_{i = 0}^{n - 1} \\phi_ix^i$ have two representation forms:\n",
        "1. Coefficient Form\n",
        "  - $\\Phi(x)$ can be represeneted as a tuple of $n$ coefficients: $[\\phi_0, \\phi_1, ..., \\phi_{n-1}]$\n",
        "2. Evaluation Form\n",
        "  - $\\Phi(x)$ can be represeneted as a tuple of $n$ distinct evaluations: $[\\Phi(x_0), \\Phi(x_1), ..., \\Phi(x_{n-1})]$\n",
        "    - the set of values $\\\\{ x_0, x_1, ..., x_{n-1} \\\\}$ over which the polynomial is defined over is known as \"evaluation domain\""
      ],
      "metadata": {
        "id": "V_bza7lHgToL"
      }
    },
    {
      "cell_type": "code",
      "source": [
        "# For example, assume we have a polynomial Φ(𝑥)=4x^3+5x^2+3x+2 and some points on the polynomials\n",
        "q = 17\n",
        "poly_coefs = [2, 3, 5, 4]\n",
        "evaluation_domain = [1, 4, 16, 13]\n",
        "poly_evals = [14, 10, 0, 1]\n",
        "\n",
        "print(f'coefficient form of phi(x) is {poly_coefs}')\n",
        "print(f'evaluation form of phi(x) is {poly_evals}, defined over evaluation domain {evaluation_domain}')"
      ],
      "metadata": {
        "colab": {
          "base_uri": "https://localhost:8080/"
        },
        "id": "5cPrvhiMkGQo",
        "outputId": "25bce5b0-3235-4ff1-c91a-3a814997e842"
      },
      "execution_count": 2,
      "outputs": [
        {
          "output_type": "stream",
          "name": "stdout",
          "text": [
            "coefficient form of phi(x) is [2, 3, 5, 4]\n",
            "evaluation form of phi(x) is [14, 10, 0, 1], defined over evaluation domain [1, 4, 16, 13]\n"
          ]
        }
      ]
    },
    {
      "cell_type": "markdown",
      "source": [
        "## Convert between Coefficient Form and Evaluation Form\n",
        "\n",
        "### Defination\n",
        "- **Fourier Transform**: convert from coefficient to evaluation\n",
        "- **inverse Fourier Transform**: convert from evaluation to coefficient\n",
        "\n",
        "\n",
        "### Naive Way\n",
        "In naive way, each of those two transformation takes $O(n^2)$ computation\n",
        "- **Fourier Transform**: evaluate $\\Phi(x)$ at each $x_i$ in the evaluation domain\n",
        "- **inverse Fourier Transform**: use *Lagrange Interpolation* to obtain unique degree $(n-1)$ polynomial passes through each of the $n$ points\n",
        "\n",
        "\n",
        "### Optimized Way: Fast Fourier Transformation(FFT)\n",
        "To improve the effectiveness of the transformation, we need to do the following steps:\n",
        "- defined polynomials over finite field\n",
        "  - restrict each coefficient $p_i \\in F_q$ and each evaluation point $\\Phi(x_i) \\in F_q$\n",
        "  - $q$ stands for curve order\n",
        "- defined the evaluation domain as a multiplicative subgroup of $F_q$\n",
        "  - evaluation domain is a set of \"$n^{th}$ roots of unity\", $\\{ \\omega_0, \\omega_1, ..., \\omega_{n-1} \\}$ for some element $\\omega \\in F_q$ with order $n$(i.e. $\\omega^n = 1$ mod $q$)\n",
        "- implementation of FFT algorithm\n",
        "  - if you are not familiar with FFT, highly recommend this video: https://www.youtube.com/watch?v=h7apO7q16V0"
      ],
      "metadata": {
        "id": "gLEGo27ZlBNe"
      }
    },
    {
      "cell_type": "code",
      "source": [
        "import random\n",
        "\n",
        "def FFT(poly_coefs, q):\n",
        "  '''\n",
        "  Args:\n",
        "  poly_coefs: coefficient representation of the polynomial\n",
        "\n",
        "  Returns:\n",
        "  y: evaluation form of the polynomial\n",
        "  '''\n",
        "  # get the degree of the polynomial\n",
        "  n = len(poly_coefs)\n",
        "  if n == 1:\n",
        "    return poly_coefs\n",
        "\n",
        "  # in theory, omega should be the nth root of unity, which is a complex number\n",
        "  # to use it in finite field, we use a algorithm here\n",
        "  omega = find_nth_root_of_unity(n, q)\n",
        "  print(f'{n}^th of unity is {omega}')\n",
        "  poly_coefs_e = poly_coefs[::2]\n",
        "  poly_coefs_o = poly_coefs[1::2]\n",
        "  y_e = FFT(poly_coefs_e, q)\n",
        "  y_o = FFT(poly_coefs_o, q)\n",
        "  y = [0] * n\n",
        "  for j in range(int(n/2)):\n",
        "    y[j] = int(y_e[j] + (omega**j)*y_o[j]) % q\n",
        "    y[j + int(n/2)] = int(y_e[j] - (omega**j)*y_o[j]) % q\n",
        "  return y\n",
        "\n",
        "\n",
        "def find_nth_root_of_unity(n, q):\n",
        "  '''\n",
        "  Args:\n",
        "  n: nth root of unity, which is the degree of polynomial\n",
        "  q: finite field q\n",
        "\n",
        "  Returns:\n",
        "  omega: the nth root of unity, which is a element in finite field\n",
        "  '''\n",
        "  omega = 1\n",
        "  while(omega**(n/2) == 1 and omega != 0):\n",
        "    x = random.randint(0, q)\n",
        "    omega = x**((q-1)/n) % q\n",
        "  return omega\n",
        "\n",
        "print(f'coefficient form of phi(x) is {poly_coefs}, after FFT, we can get the evaluation form of phi(x) is {FFT(poly_coefs, 17)}')\n"
      ],
      "metadata": {
        "colab": {
          "base_uri": "https://localhost:8080/"
        },
        "id": "uUFr9iQO4G7v",
        "outputId": "e8e4c3e6-b32d-43d5-b6ea-2e1465669186"
      },
      "execution_count": 3,
      "outputs": [
        {
          "output_type": "stream",
          "name": "stdout",
          "text": [
            "4^th of unity is 4.0\n",
            "2^th of unity is 16.0\n",
            "2^th of unity is 16.0\n",
            "coefficient form of phi(x) is [2, 3, 5, 4], after FFT, we can get the evaluation form of phi(x) is [14, 10, 0, 1]\n"
          ]
        }
      ]
    },
    {
      "cell_type": "code",
      "source": [
        "# verification of FFT result\n",
        "omega = 13\n",
        "q = 17\n",
        "for i in range(len(poly_coefs)):\n",
        "    x = omega**i % q\n",
        "    print(f'x = {x}, poly(x) = {(4*(x**3)+5*(x**2)+3*x+2) % q}')"
      ],
      "metadata": {
        "colab": {
          "base_uri": "https://localhost:8080/"
        },
        "id": "YFE5EEwYJ-7l",
        "outputId": "98bc901f-d2b4-4907-993e-6610c7777b87"
      },
      "execution_count": 4,
      "outputs": [
        {
          "output_type": "stream",
          "name": "stdout",
          "text": [
            "x = 1, poly(x) = 14\n",
            "x = 13, poly(x) = 1\n",
            "x = 16, poly(x) = 0\n",
            "x = 4, poly(x) = 10\n"
          ]
        }
      ]
    },
    {
      "cell_type": "markdown",
      "source": [
        "Because the calculation of finding evaluation domain is a repeated and computation intensive step, so usually we just build a lookup table to store the pre-calculated result. Here we just slightly revise FFT algorithm to meet the lookup needs."
      ],
      "metadata": {
        "id": "NiwOdwl7qZ-u"
      }
    },
    {
      "cell_type": "code",
      "source": [
        "# omega generation can be quite computational intensive, so we tend to pre-calculate the lookup table for omega\n",
        "# we assume n = 8, and we have a multiplication cyclic group with ord = 8, which is [1,2,4,8,16,15,13,9] with 2 as its generator and 17 as module\n",
        "\n",
        "# create a lookup table\n",
        "n_max = 8\n",
        "q = 17\n",
        "omega_list = [1,2,4,8,16,15,13,9]\n",
        "\n",
        "def build_lookup_table(n, omega_list):\n",
        "  lookup = {}\n",
        "  lookup[n] = omega_list\n",
        "  while n > 2:\n",
        "    n = int(n/2)\n",
        "    omega_list = omega_list[::2]\n",
        "    lookup[n] = omega_list\n",
        "  return lookup\n",
        "\n",
        "lookup  = build_lookup_table(n_max, omega_list)\n",
        "print(f'lookup table of list of omega is {lookup}')"
      ],
      "metadata": {
        "colab": {
          "base_uri": "https://localhost:8080/"
        },
        "id": "Djcz086abXKe",
        "outputId": "5640be22-7946-4721-a849-d78b2e3cb391"
      },
      "execution_count": 5,
      "outputs": [
        {
          "output_type": "stream",
          "name": "stdout",
          "text": [
            "lookup table of list of omega is {8: [1, 2, 4, 8, 16, 15, 13, 9], 4: [1, 4, 16, 13], 2: [1, 16]}\n"
          ]
        }
      ]
    },
    {
      "cell_type": "code",
      "source": [
        "# revise FFT using omega lookup table\n",
        "def FFT_using_exist_omega(poly_coefs, q, lookup):\n",
        "  '''\n",
        "  Args:\n",
        "  poly_coefs: coefficient representation of the polynomial\n",
        "  lookup: pre-determined omega list\n",
        "\n",
        "  Returns:\n",
        "  y: evaluation form of the polynomial\n",
        "  '''\n",
        "  # get the degree of the polynomial\n",
        "  n = len(poly_coefs)\n",
        "  if n == 1:\n",
        "    return poly_coefs\n",
        "\n",
        "  # in theory, omega should be the nth root of unity, which is a complex number\n",
        "  # to use it in finite field, we use a algorithm here\n",
        "  omega = lookup[n][1]\n",
        "  # print(f'n = {n}, omega = {omega}')\n",
        "  poly_coefs_e = poly_coefs[::2]\n",
        "  poly_coefs_o = poly_coefs[1::2]\n",
        "  y_e = FFT_using_exist_omega(poly_coefs_e, q, lookup)\n",
        "  y_o = FFT_using_exist_omega(poly_coefs_o, q, lookup)\n",
        "  y = [0] * n\n",
        "  for j in range(int(n/2)):\n",
        "    y[j] = int(y_e[j] + (omega**j)*y_o[j]) % q\n",
        "    y[j + int(n/2)] = int(y_e[j] - (omega**j)*y_o[j]) % q\n",
        "  return y\n",
        "\n",
        "print(f'coefficient form of phi(x) is {poly_coefs}, after FFT(use exist omega lookup table), we can get the evaluation form of phi(x) is {FFT_using_exist_omega(poly_coefs, q, lookup)}')"
      ],
      "metadata": {
        "colab": {
          "base_uri": "https://localhost:8080/"
        },
        "id": "YSTh_jgY67Vj",
        "outputId": "dd262119-6242-4665-9945-8ca6e1139654"
      },
      "execution_count": 6,
      "outputs": [
        {
          "output_type": "stream",
          "name": "stdout",
          "text": [
            "coefficient form of phi(x) is [2, 3, 5, 4], after FFT(use exist omega lookup table), we can get the evaluation form of phi(x) is [14, 10, 0, 1]\n"
          ]
        }
      ]
    },
    {
      "cell_type": "markdown",
      "source": [
        "### Inverse Fast Fourier Transformation(IFFT)\n",
        "We have used FFT to achieve fast transformation from coefficient to evaluation. Now we will implement the inverse transformation, which is from evaluation to coefficient with slightly changing in the algorithm: update $\\omega$ to $\\frac{1}{n}\\omega^{-1}$\n",
        "\n",
        "detailed info: https://decentralizedthoughts.github.io/2023-09-01-FFT/#mjx-eqn-%5Cstar"
      ],
      "metadata": {
        "id": "sMtOeR_0RGfu"
      }
    },
    {
      "cell_type": "code",
      "source": [
        "# inverse the lookup table\n",
        "# the only thing we need to modify in FFT is to update its omega\n",
        "omega_list = [1,2,4,8,16,15,13,9]\n",
        "\n",
        "def inverse_element(omega_list, q):\n",
        "  inverse_omega_list = []\n",
        "  inverse_omega_dict = {}\n",
        "\n",
        "  for i in omega_list:\n",
        "    for candidate in omega_list:\n",
        "      if i*candidate%q == 1:\n",
        "        inverse_omega_list.append(candidate)\n",
        "        inverse_omega_dict[i] = candidate\n",
        "  return inverse_omega_list, inverse_omega_dict\n",
        "\n",
        "inverse_omega_list, inverse_omega_dict= inverse_element(omega_list, q)\n",
        "print(f'inverse omega list is {inverse_omega_list}, inverse omega dict is {inverse_omega_dict}')\n",
        "inverse_lookup = build_lookup_table(n_max, inverse_omega_list)\n",
        "print(f'lookup table of list of omega is {inverse_lookup}')"
      ],
      "metadata": {
        "colab": {
          "base_uri": "https://localhost:8080/"
        },
        "id": "rKQc8bxpfD1T",
        "outputId": "b1b9c329-80bc-4fbf-b1a6-e82d10e4802b"
      },
      "execution_count": 7,
      "outputs": [
        {
          "output_type": "stream",
          "name": "stdout",
          "text": [
            "inverse omega list is [1, 9, 13, 15, 16, 8, 4, 2], inverse omega dict is {1: 1, 2: 9, 4: 13, 8: 15, 16: 16, 15: 8, 13: 4, 9: 2}\n",
            "lookup table of list of omega is {8: [1, 9, 13, 15, 16, 8, 4, 2], 4: [1, 13, 16, 4], 2: [1, 16]}\n"
          ]
        }
      ]
    },
    {
      "cell_type": "code",
      "source": [
        "# revise FFT using omega lookup table\n",
        "def IFFT_using_exist_omega(poly_evals, q, inverse_lookup, inverse_omega_dict):\n",
        "  recursion_result = IFFT_recursion_part(poly_evals, q, inverse_lookup)\n",
        "  IFFT_final_result = [ x * inverse_omega_dict[len(poly_evals)] % q for x in recursion_result]\n",
        "  return IFFT_final_result\n",
        "\n",
        "def IFFT_recursion_part(poly_evals, q, inverse_lookup):\n",
        "  '''\n",
        "  Args:\n",
        "  poly_coefs: coefficient representation of the polynomial\n",
        "  lookup: pre-determined omega list\n",
        "\n",
        "  Returns:\n",
        "  y: evaluation form of the polynomial\n",
        "  '''\n",
        "  # get the degree of the polynomial\n",
        "  n = len(poly_evals)\n",
        "  if n == 1:\n",
        "    return poly_evals\n",
        "\n",
        "  # in theory, omega should be the nth root of unity, which is a complex number\n",
        "  # to use it in finite field, we use a algorithm here\n",
        "  omega = inverse_lookup[n][1]\n",
        "  poly_evals_e = poly_evals[::2]\n",
        "  poly_evals_o = poly_evals[1::2]\n",
        "  y_e = IFFT_recursion_part(poly_evals_e, q, inverse_lookup)\n",
        "  y_o = IFFT_recursion_part(poly_evals_o, q, inverse_lookup)\n",
        "  y = [0] * n\n",
        "  for j in range(int(n/2)):\n",
        "    y[j] = int(y_e[j] + (omega**j)*y_o[j]) % q\n",
        "    y[j + int(n/2)] = int(y_e[j] - (omega**j)*y_o[j]) % q\n",
        "  return y\n",
        "\n",
        "print(f'evaluation form of phi(x) is {poly_evals}, after IFFT(use exist omega lookup table), we can get the coefficient form of phi(x) is {IFFT_using_exist_omega(poly_evals, q, inverse_lookup, inverse_omega_dict)}')"
      ],
      "metadata": {
        "colab": {
          "base_uri": "https://localhost:8080/"
        },
        "id": "QnHXq61yRFC7",
        "outputId": "79b8fffe-03ff-4cdd-b85e-47a5c9c1ce86"
      },
      "execution_count": 8,
      "outputs": [
        {
          "output_type": "stream",
          "name": "stdout",
          "text": [
            "evaluation form of phi(x) is [14, 10, 0, 1], after IFFT(use exist omega lookup table), we can get the coefficient form of phi(x) is [2, 3, 5, 4]\n"
          ]
        }
      ]
    },
    {
      "cell_type": "markdown",
      "source": [
        "## Polynomial Representations, FFT and IFFT(using real numbers for KZG usage)"
      ],
      "metadata": {
        "id": "lRjznksIg7Ll"
      }
    },
    {
      "cell_type": "markdown",
      "source": [
        "### Polynomial Representations\n",
        "\n",
        "Real proving system only consider polynomials over a finite field, and so we will restrict：\n",
        "- each coefficient $p_i$\n",
        "- each evaluation point $\\Phi(x_i)$ to be elements of a finite field $F_q$\n",
        "- the evaluation domain(the $\\omega_i$'s) to be a mulyiplicative subgroup of $F_q$\n",
        "\n",
        "For BLS12-381:\n",
        "- the finite field modulus $q$ is pre-determined, which is 'curve order'\n",
        "- \"$n^{th}$ roots of unity\" are confirmed, can be get using the function 'find_nth_root_of_unity($n$, $q$)'"
      ],
      "metadata": {
        "id": "_ehvn42joM_b"
      }
    },
    {
      "cell_type": "code",
      "source": [
        "from py_ecc.bls12_381 import curve_order\n",
        "from py_ecc.fields.field_elements import FQ as Field\n",
        "\n",
        "# construct a data structure F_q\n",
        "class FQ(Field):\n",
        "    field_modulus = curve_order\n",
        "q = curve_order\n",
        "\n",
        "# For example, assume we have a polynomial Φ(𝑥)=4x^3+5x^2+3x+2 and some points on the polynomials\n",
        "poly_coefs = [FQ(2), FQ(3), FQ(5), FQ(4)]\n",
        "poly_evals = [FQ(14), FQ(52435875175126190475982595682112313518914282969839895044333406231173219221502), FQ(0), FQ(3465144826073652318776269530687742778270252468765361963005)]\n",
        "\n",
        "def find_nth_root_of_unity_realnum(n, q):\n",
        "  '''\n",
        "  Args:\n",
        "  n: nth root of unity, which is the degree of polynomial\n",
        "  q: finite field q\n",
        "\n",
        "  Returns:\n",
        "  omega: the nth root of unity, which is a element in finite field\n",
        "  '''\n",
        "  omega = FQ(5) ** ((q - 1) // n)\n",
        "  return omega\n",
        "\n",
        "omega = find_nth_root_of_unity_realnum(len(poly_coefs), q)\n",
        "evaluation_domain = [omega**0, omega**1, omega**2, omega**3]\n",
        "\n",
        "print(f'coefficient form of phi(x) is {poly_coefs}')\n",
        "print(f'evaluation form of phi(x) is {poly_evals}, defined over evaluation domain {evaluation_domain}')"
      ],
      "metadata": {
        "colab": {
          "base_uri": "https://localhost:8080/"
        },
        "id": "VcegH_mvhfU8",
        "outputId": "6491eced-21f5-47c0-a0ad-46dc3fa97fd8"
      },
      "execution_count": 9,
      "outputs": [
        {
          "output_type": "stream",
          "name": "stdout",
          "text": [
            "coefficient form of phi(x) is [2, 3, 5, 4]\n",
            "evaluation form of phi(x) is [14, 52435875175126190475982595682112313518914282969839895044333406231173219221502, 0, 3465144826073652318776269530687742778270252468765361963005], defined over evaluation domain [1, 3465144826073652318776269530687742778270252468765361963008, 52435875175126190479447740508185965837690552500527637822603658699938581184512, 52435875175126190475982595682112313518914282969839895044333406231173219221505]\n"
          ]
        }
      ]
    },
    {
      "cell_type": "markdown",
      "source": [
        "### Fast Fourier Transformation(FFT)"
      ],
      "metadata": {
        "id": "O6OK_-KDn29E"
      }
    },
    {
      "cell_type": "code",
      "source": [
        "import random\n",
        "\n",
        "class FQ(Field):\n",
        "    field_modulus = curve_order\n",
        "\n",
        "q = curve_order\n",
        "poly_coefs = [FQ(2), FQ(3), FQ(5), FQ(4)]\n",
        "\n",
        "def FFT(poly_coefs, q):\n",
        "  '''\n",
        "  Args:\n",
        "  poly_coefs: coefficient representation of the polynomial\n",
        "\n",
        "  Returns:\n",
        "  y: evaluation form of the polynomial\n",
        "  '''\n",
        "  # get the degree of the polynomial\n",
        "  n = len(poly_coefs)\n",
        "  if n == 1:\n",
        "    return poly_coefs\n",
        "\n",
        "  # in theory, omega should be the nth root of unity, which is a complex number\n",
        "  # to use it in finite field, we use a algorithm here\n",
        "  omega = find_nth_root_of_unity_realnum(n, q)\n",
        "  # print(f'{n}^th of unity is {omega}')\n",
        "  poly_coefs_e = poly_coefs[::2]\n",
        "  poly_coefs_o = poly_coefs[1::2]\n",
        "  y_e = FFT(poly_coefs_e, q)\n",
        "  y_o = FFT(poly_coefs_o, q)\n",
        "  y = [0] * n\n",
        "  for j in range(int(n/2)):\n",
        "    y[j] = y_e[j] + (omega**j)*y_o[j]\n",
        "    y[j + int(n/2)] = y_e[j] - (omega**j)*y_o[j]\n",
        "  return y\n",
        "\n",
        "poly_evals = FFT(poly_coefs, q)\n",
        "print(f'coefficient form of phi(x) is {poly_coefs}, after FFT, we can get the evaluation form of phi(x) is {poly_evals}')"
      ],
      "metadata": {
        "colab": {
          "base_uri": "https://localhost:8080/"
        },
        "id": "gYXv7QMvn2A9",
        "outputId": "9b7136a5-4e08-44f7-e888-12bf6e057597"
      },
      "execution_count": 10,
      "outputs": [
        {
          "output_type": "stream",
          "name": "stdout",
          "text": [
            "coefficient form of phi(x) is [2, 3, 5, 4], after FFT, we can get the evaluation form of phi(x) is [14, 52435875175126190475982595682112313518914282969839895044333406231173219221502, 0, 3465144826073652318776269530687742778270252468765361963005]\n"
          ]
        }
      ]
    },
    {
      "cell_type": "markdown",
      "source": [
        "### Inverse Fast Fourier Transformation(IFFT)"
      ],
      "metadata": {
        "id": "GGCMoj3Qpgau"
      }
    },
    {
      "cell_type": "code",
      "source": [
        "def IFFT(poly_evals, q):\n",
        "  recursion_result = IFFT_recursion_part(poly_evals, q)\n",
        "  # all elenent in result mutiply 1/n, which is inverse of n\n",
        "  IFFT_final_result = [ x * (FQ(1)/FQ(len(poly_evals))) for x in recursion_result]\n",
        "  return IFFT_final_result\n",
        "\n",
        "def IFFT_recursion_part(poly_evals, q):\n",
        "  '''\n",
        "  Args:\n",
        "  poly_coefs: coefficient representation of the polynomial\n",
        "  lookup: pre-determined omega list\n",
        "\n",
        "  Returns:\n",
        "  y: evaluation form of the polynomial\n",
        "  '''\n",
        "  # get the degree of the polynomial\n",
        "  n = len(poly_evals)\n",
        "  if n == 1:\n",
        "    return poly_evals\n",
        "\n",
        "  # in theory, omega should be the nth root of unity, which is a complex number\n",
        "  # to use it in finite field, we use a algorithm here\n",
        "  omega = find_nth_root_of_unity_realnum(n, q)\n",
        "  # inverse omega\n",
        "  omega_inv = omega**(n-1)\n",
        "  poly_evals_e = poly_evals[::2]\n",
        "  poly_evals_o = poly_evals[1::2]\n",
        "  y_e = IFFT_recursion_part(poly_evals_e, q)\n",
        "  y_o = IFFT_recursion_part(poly_evals_o, q)\n",
        "  y = [0] * n\n",
        "  for j in range(int(n/2)):\n",
        "    y[j] = int(y_e[j] + (omega_inv**j)*y_o[j])\n",
        "    y[j + int(n/2)] = int(y_e[j] - (omega_inv**j)*y_o[j])\n",
        "  return y\n",
        "\n",
        "print(f'evaluation form of phi(x) is {poly_evals}, after IFFT(use exist omega lookup table), we can get the coefficient form of phi(x) is {IFFT(poly_evals, q)}')"
      ],
      "metadata": {
        "colab": {
          "base_uri": "https://localhost:8080/"
        },
        "id": "9Bs3TojDsxr7",
        "outputId": "2afe0931-df87-4c49-932e-39eefe1c1e7e"
      },
      "execution_count": 11,
      "outputs": [
        {
          "output_type": "stream",
          "name": "stdout",
          "text": [
            "evaluation form of phi(x) is [14, 52435875175126190475982595682112313518914282969839895044333406231173219221502, 0, 3465144826073652318776269530687742778270252468765361963005], after IFFT(use exist omega lookup table), we can get the coefficient form of phi(x) is [2, 3, 5, 4]\n"
          ]
        }
      ]
    },
    {
      "cell_type": "markdown",
      "source": [
        "# KZG Implementation(Python Version)\n",
        "\n",
        "The KZG Commitment Scheme is a commitment scheme that allows to commit to a polynomial $\\Phi(x) = \\phi_0 +\\phi_1x+\\phi_2x^2+...+\\phi_lx^l$, where $\\Phi(x) \\in F_p[x]$ . 'to commit' means proving that you know the polynomial $\\Phi(x)$ without revealing it.\n",
        "\n",
        "The KZG commitment scheme consists of 4 steps:\n",
        "1. Setup\n",
        "2. Commit to Polynomials\n",
        "3. Prove an Evaluation\n",
        "4. Verify an Evaluation Proof"
      ],
      "metadata": {
        "id": "6-LT_CUcF5sj"
      }
    },
    {
      "cell_type": "markdown",
      "source": [
        "## Step 1: Setup\n",
        "\n",
        "The first step is an one-time trusted setup and once it has done once, the following steps can be done repeatedly\n",
        "1. Let $G_1$ and $G_2$ be pairing-friendly elliptic curve groups, determined by curve BLS12-381\n",
        "2. Let $g_1$ be a generator of $G_1$ and $g_2$ be a generator of $G_2$\n",
        "3. Let $l$ be the maximum degree of the polymonials we want to commit to ($l < p$)\n",
        "4. Pick a random field element as secret parameter $\\tau \\in F_p$(usually done by MPC, to simplify, we just randomly choose one here)\n",
        "5. Compute pp(public parameters, including proving key $pk$, and verifying key $vk$)$$pk = (g_1, g_1^\\tau, g_1^{\\tau^2},...,g_1^{\\tau^l}), vk = g_2^\\tau$$ and release it publicly\n",
        "6. Discard secret parameter $\\tau$ once the setup ceremony is done so that nobody can figure out its value"
      ],
      "metadata": {
        "id": "CbNVAepyHO4g"
      }
    },
    {
      "cell_type": "code",
      "source": [
        "from py_ecc.bls12_381 import G1, G2, Z1, multiply, add\n",
        "\n",
        "# 1. Let G1,G2 be pairing-friendly elliptic curve groups, which are determined by the curve\n",
        "\n",
        "# 2. Let g be a generator of G\n",
        "g1 = G1\n",
        "g2 = G2\n",
        "\n",
        "# 3. Let l be the maximum degree of the polymonials, which is 16\n",
        "l = 16\n",
        "\n",
        "# 4. Pick a random field element from field F_p and p = curve order as secret parameter t\n",
        "p = q\n",
        "# t = 0 will lose all the security, so t cannot be 0\n",
        "t = FQ(random.randint(1, p-1))\n",
        "print(f'secret parameter 𝜏 is {t}')\n",
        "\n",
        "# 5. Compute pp(public parameters)\n",
        "def compute_public_parameters(g1, g2, t, l):\n",
        "\n",
        "    pk = []\n",
        "    accumulated = 1\n",
        "    t_scalar = t\n",
        "    for i in range(l + 1):\n",
        "        # calculate g1, g1^t, g1^{t^2}...\n",
        "        pk.append(multiply(g1, int(accumulated)))\n",
        "        # calculate the exponential t, t^2, t^3, ...\n",
        "        accumulated = accumulated * t_scalar\n",
        "    vk = multiply(g2, int(t))\n",
        "    return pk, vk\n",
        "\n",
        "pk, vk = compute_public_parameters(g1, g2, t, l)\n",
        "print(f'proving key pk: {pk}')\n",
        "print(f'verifying key vk: {vk}')"
      ],
      "metadata": {
        "colab": {
          "base_uri": "https://localhost:8080/"
        },
        "id": "baZh9HlYEN25",
        "outputId": "9e50a3cf-b796-4fdc-e6f2-f46a5d0b271f"
      },
      "execution_count": 12,
      "outputs": [
        {
          "output_type": "stream",
          "name": "stdout",
          "text": [
            "secret parameter 𝜏 is 51679547163644146878346151137853121018468387595594195311359551533532333321657\n",
            "proving key pk: [(3685416753713387016781088315183077757961620795782546409894578378688607592378376318836054947676345821548104185464507, 1339506544944476473020471379941921221584933875938349620426543736416511423956333506472724655353366534992391756441569), (2534634236147613695891338217168289256887055297660697608691417039843807434996498024106024923962654962978154769782534, 3791125639142881757617885460266762791652322277859054348905628906486967652536160117730534883603370155577094945856453), (3761022837944595195741042735474504083950540084173639077749432847171724995550834115790814607932740898495999998206091, 157903614229516095130728117744014921823573265427290886978501124225013428896914897671438386168937449899336372981740), (504510383481335004525092612732658952199800614124727981443915855934937921765892185818667225702934468691407069312152, 752018496930877484639738489088015442124697496472476657153527765946069597281818484881652652560234731028160945048573), (3508042224563775850848583756783601213281952203521415324362404939468645980199802825322760027016837415909620421324467, 1961965245432410191474943775658902288351613233052812753139749864099772206387514709608643166460775397262496274311047), (3113509436676057693297884933764553992089366525589131771364216159614768802148275968393005119982954480427696363957338, 1669393176536450176921047280811490374525949548443376982494277823742690662600657814415311512376741999985887076166812), (3567035512355030174851727414052841011291484259027394180889991275408171200378553655261741324302424746267998040526855, 3311641307813247119936665212496546793221943596449292210565437501291663935847553165029960025108247941358481940769262), (65125252213880098905076609981722891149209242088845530787006657246981720102954298164526655422262490833501587561984, 731616554031291618533031903410104603335578375656552408185590073403331312445445850243566435753537417032696306992050), (3988254545179197011340546597148493799659660509421451910772490599293332757975950273161520664272323243855574970996576, 2171269854598749394507694188252409509047173709479512673544541524547849446715900583208857427286456770928062715762841), (3809503461200081753968538629813733572771810333250369456102693479402981914270236422925237677989926085738740795073515, 1448600924924269620023869779677146295466680364705675479837684896553413243370977398631327286564499842163091336401986), (1862392989449347184244193295547523326665797836636355849874096046066602173952731961048577186520640264592988618315486, 3035214030203092952167107563217249695095851439390680747222771658411068687998818222418313549675536580422556269294394), (1237319732167600181264286480169883991529248592323898846557350603416342208507481573210138106310367350247655579460302, 3727274662476503213350870453691332646692282108175611472973558144736013438605154322347119172209239561681191512739961), (3979978807461596280998134176695333886599936606549479468514790252907530913160808029809365734380556007376338329284404, 2823977635379122242107730798242042460470239514401270627186836511661131847484788509414370310777457284510718403963366), (1262922617077349964976093504177493687613319574868261789979144228021779513869598375628043545524845510317083177371388, 571714019947329731863100197975251601094854337807329083698488799939335912645010574954317745271511497044393893427061), (115093283065448301214537386165948561309541261533155933065280222444767167896823826023326252729545377223816934305392, 3578562268480988776826304569650053638351408072177361648895725867563403872094473805254440657600017580952518322234698), (458607100634489379153636299334535725753928122126521933443953729108578201781669801017385726293369977432828118584762, 3949377370813772619087811259017432463241465238067137948892538178141394631606375110875218026963223141848634413451299), (3428049622056412946037633764069225731794943244437748542096875214793234885430460157873137842453831968265616073586293, 1735195396575678077656579035158890265462211291778410384077420877562447092360219761176300732908191527682058882195927)]\n",
            "verifying key vk: ((574775753215427526383929588094249002352246240300599054939909233183971836190424743668379479425978182062363101018677, 1575732590992337149875895986122191722016818164678510381588350549106104414924048745579573505367546341214892340898722), (2724556647247528910181886593175523940553821431280326855118705039870366157594168400810684847139302261532350203782665, 2613188271716672097095574314363524850710792655333777281870805869465104084516223849864154853794101043666294329138556))\n"
          ]
        }
      ]
    },
    {
      "cell_type": "markdown",
      "source": [
        "## Step 2: Commit to Polynomials\n",
        "In reality, we arithmetize circuits and use Plonkish to get polynomials in this step\n",
        "1. Given a polynomial $\\Phi(x) = \\sum_{i=0}^l \\phi_i x^i$\n",
        "2. Compute and output commitment $c = g^{\\Phi(\\tau)}$\n",
        "   - Wait! $\\tau$ has already been discard right? How can committer compute $\\tau$?\n",
        "   - Although he cannot compute $\\Phi(\\tau)$ directly, he can use public parameters to help with it:\n",
        "$$\\prod_{i=0}^l(g^{\\tau^i})^{\\phi_i} = g^{\\sum_{i=0}^l \\phi_i \\tau^i} = g^{\\Phi(\\tau)}$$"
      ],
      "metadata": {
        "id": "PZLYRSg7NdAZ"
      }
    },
    {
      "cell_type": "code",
      "source": [
        "# assume we have a polynomial Φ(𝑥)=4x^3+5x^2+3x+2 or some points on the polynomials\n",
        "# we can use FFT or IFFT to do the transformation between the two forms\n",
        "poly_coefs = [FQ(2), FQ(3), FQ(5), FQ(4)]"
      ],
      "metadata": {
        "id": "tDDoK2qNEXas"
      },
      "execution_count": 13,
      "outputs": []
    },
    {
      "cell_type": "code",
      "source": [
        "# compute commitment of the polynomial\n",
        "def poly_commitment(pk, g1, poly_coefs):\n",
        "\n",
        "  com = Z1\n",
        "  for i in range(len(poly_coefs)):\n",
        "    com = add(multiply(pk[i], int(poly_coefs[i])), com)\n",
        "  return com\n",
        "\n",
        "com = poly_commitment(pk, g1, poly_coefs)\n",
        "print(f'commitment of polynomial is {com}')"
      ],
      "metadata": {
        "colab": {
          "base_uri": "https://localhost:8080/"
        },
        "id": "DXh4eZH4NncH",
        "outputId": "456e41e4-56af-4c68-f074-a4b3670ffa48"
      },
      "execution_count": 14,
      "outputs": [
        {
          "output_type": "stream",
          "name": "stdout",
          "text": [
            "commitment of polynomial is (972163417103283130300664123523874406412384396549601329523817184264931461111995766419167793117554835275933778177883, 3135205815033902607216138969348707094897116931616475994612219267509409705202993291692604511858291370726992318383284)\n"
          ]
        }
      ]
    },
    {
      "cell_type": "markdown",
      "source": [
        "## Step 3: Prove an Evaluation\n",
        "In this period, the Verifier will ask Prover to 'OPEN' the commitment $c$ to a random specific point $a \\in F_p$, in other word, Prover have to evaluation $\\Phi(x)$ and commit the result in the form of opening triplet $OT = (a, b, \\pi)$\n",
        "1. Given an evaluation $\\Phi(a) = b$\n",
        "2. Compute and output proof of the evaluation $\\pi = g^{q(\\tau)}$, where $q(x) := \\frac{\\Phi(x)-b}{x-a}$\n",
        "    - $q(x)$ is quotient polynomial: if $\\Phi(a) = b$, that means $a$ is a root of $\\Phi(x) - b$\n",
        "    - so $\\Phi(x) - b$ can be expressed as $\\Phi(x) - b = q(x)(x-a)$, $q(x)$ is a polynomial\n",
        "    - on the other hand, $q(x)$ exists if and only if $\\Phi(a) = b$, so the existence of this quotient polynomial therefore serves as a proof of the evaluation"
      ],
      "metadata": {
        "id": "uG76toJbnbMn"
      }
    },
    {
      "cell_type": "code",
      "source": [
        "# Verifier first choose the random point a\n",
        "def evaluation_poly(a, poly_coefs):\n",
        "  b = FQ(0)\n",
        "  for i in range(len(poly_coefs)):\n",
        "    b += (a**i)*(poly_coefs[i])\n",
        "  return b\n",
        "\n",
        "# according to defination\n",
        "def random_generate_a(poly_coefs, p):\n",
        "  # create a list of omega\n",
        "  n = len(poly_coefs)\n",
        "  omega = find_nth_root_of_unity_realnum(n, p)\n",
        "  omega_list = []\n",
        "  for i in range(n):\n",
        "    omega_list.append(omega**i)\n",
        "\n",
        "  # a cannot in omega list, otherwise x-a will be 0\n",
        "  a = FQ(random.randint(0, p))\n",
        "  while a in omega_list:\n",
        "    a = FQ(random.randint(0, p))\n",
        "\n",
        "  return a\n",
        "\n",
        "a = random_generate_a(poly_coefs, p)\n",
        "b = evaluation_poly(a, poly_coefs)\n",
        "print(f'random element we chosen is {a}, the evaluation b is {b}')"
      ],
      "metadata": {
        "colab": {
          "base_uri": "https://localhost:8080/"
        },
        "id": "eUASXL_knfu7",
        "outputId": "bb1b04e4-2502-4e41-98e6-51dc23636ca3"
      },
      "execution_count": 15,
      "outputs": [
        {
          "output_type": "stream",
          "name": "stdout",
          "text": [
            "random element we chosen is 39066825221793195110695655528536378465907081857569467906817975604851651320011, the evaluation b is 38329479121598065536183117702983413564957199741910171790757856340467009489274\n"
          ]
        }
      ]
    },
    {
      "cell_type": "code",
      "source": [
        "# compute q(x)\n",
        "# 1. if poly in coefficient form, convert poly_coefs to evals\n",
        "# 2. calculate quotient polynomial in evaluation form\n",
        "# 3. convert quotient poly evals to coefs if needed\n",
        "\n",
        "def quotient_poly(a, b, poly_evals, p):\n",
        "  '''Args:\n",
        "  a: randomly sampled field element\n",
        "  b: evaluation on a\n",
        "  poly_evals: input of poly need to be in evaluation form\n",
        "\n",
        "  Returns:\n",
        "  q_poly_evals: q poly in evaluation form\n",
        "  '''\n",
        "  q_poly_evals = []\n",
        "  n = len(poly_evals)\n",
        "  omega = find_nth_root_of_unity_realnum(n, p)\n",
        "\n",
        "  for i in range(len(poly_evals)):\n",
        "    q_poly_evals.append((poly_evals[i]-b)/(omega**i-a))\n",
        "\n",
        "  return q_poly_evals\n",
        "\n",
        "q_poly_evals = quotient_poly(a, b, poly_evals, p)\n",
        "print(f'quotient polynomial in evaluation form is {q_poly_evals}')"
      ],
      "metadata": {
        "colab": {
          "base_uri": "https://localhost:8080/"
        },
        "id": "_uxCEV4PqKum",
        "outputId": "39af4005-3bed-4f43-8f38-d48945a1c3ab"
      },
      "execution_count": 16,
      "outputs": [
        {
          "output_type": "stream",
          "name": "stdout",
          "text": [
            "quotient polynomial in evaluation form is [7771609235841569287645599275936015817203343620262757765037527325070001557359, 20789059384715115629423593782711743917980063035595434035315329902721045665392, 9852258512253151278766798096760783116090003762872841446115674685888278104339, 49270683538505795416436544098171020853003836848067802998441530808175815180803]\n"
          ]
        }
      ]
    },
    {
      "cell_type": "code",
      "source": [
        "# convert quotient polynomial from evaluation form to coefficient form\n",
        "q_poly_coefs = IFFT(q_poly_evals, q)\n",
        "print(f'quotient polynomial in coefficient form is {q_poly_coefs}')"
      ],
      "metadata": {
        "colab": {
          "base_uri": "https://localhost:8080/"
        },
        "id": "7BXJAKY3kliX",
        "outputId": "5b7eb9da-9734-47b8-b33b-85ba28a968e9"
      },
      "execution_count": 17,
      "outputs": [
        {
          "output_type": "stream",
          "name": "stdout",
          "text": [
            "quotient polynomial in coefficient form is [8811933874047360283206198686348399466646673691567799605576601005479139830845, 51395550536920399483887141097773582188247222429222595982064585019529442911023, 4, 0]\n"
          ]
        }
      ]
    },
    {
      "cell_type": "code",
      "source": [
        "# compute proof of the evaluation pi\n",
        "pi = poly_commitment(pk, g1,  q_poly_coefs)\n",
        "print(f'proof of the evaluation pi is {pi}')"
      ],
      "metadata": {
        "colab": {
          "base_uri": "https://localhost:8080/"
        },
        "id": "n8OOKUQqqMFl",
        "outputId": "16879240-b134-477a-da7a-47d412bfba60"
      },
      "execution_count": 18,
      "outputs": [
        {
          "output_type": "stream",
          "name": "stdout",
          "text": [
            "proof of the evaluation pi is (1317868497886311352434344301532574356170576499910279975701245188488164246257040568403615775713650717592315942337821, 2537726041451228895993748509329659230930644226068870630634887935670713458899803747411867388083858667190322105436262)\n"
          ]
        }
      ]
    },
    {
      "cell_type": "markdown",
      "source": [
        "## Step 4: Verify an Evaluation Proof\n",
        "1. Given a commitment $c = g^{\\Phi(\\tau)}$, and an evaluation $\\Phi(a) = b$, and a proof $\\pi = g^{q(\\tau)}$\n",
        "2. Verify that $e(\\frac{c}{g^b}, g) = e(\\pi,\\frac{g^\\tau}{g^a})$, where $e$ is a non-trivial bilinear mapping\n",
        "    - the purpose of verification: $\\Phi(x) - b = q(x)(x-a)$, checking this equality holds for $x = \\tau$\n",
        "    - according to the definition of bilinear mapping, it is equivalent to: $e(g_1, g_2)^{\\Phi(\\tau) - b} = e(g_1, g_2)^{q(\\tau)(\\tau-a)}$, that is $e(g_1^{\\Phi(\\tau) - b}, g_2) = e(g_1^{q(\\tau)}, g_2^{\\tau-a})$\n",
        "    - that is $e(com-g_1^b, g_2) = e(\\pi, vk - g_2^a)$"
      ],
      "metadata": {
        "id": "1_5bBUjOmOx_"
      }
    },
    {
      "cell_type": "code",
      "source": [
        "from py_ecc.bls12_381 import pairing, neg\n",
        "\n",
        "# now it is time to do the varification\n",
        "print(f'result of verification: {pairing(g2, add(com, neg(multiply(g1, int(b))))) == pairing(add(vk, neg(multiply(g2, int(a)))), pi)}')"
      ],
      "metadata": {
        "colab": {
          "base_uri": "https://localhost:8080/"
        },
        "id": "HuxidPgTmSoa",
        "outputId": "f2750c6f-d9e3-4585-89ef-e4011a651108"
      },
      "execution_count": 19,
      "outputs": [
        {
          "output_type": "stream",
          "name": "stdout",
          "text": [
            "result of verification: True\n"
          ]
        }
      ]
    },
    {
      "cell_type": "markdown",
      "source": [
        "# Plonk Implementation(Python Version)\n",
        "\n",
        "## Problem Definition\n",
        "\n",
        "We take **Square-Fibonacci** as an example to demonstrate the process of proof generation\n",
        "\n",
        "Defination of Square-Fibonacci Problem:\n",
        "- Let $f_0 = 1, f_1 = 1$\n",
        "- For $i \\ge 2$, define $f_i:=(f_{i-2})^2+(f_{i-1})^2 \\ mod \\ q$\n",
        "    - $q$ is a large prime integer, used to bound the size of each element, so that it can be represented by some predetermined number of bits.\n",
        "\n",
        "Let $n$ be some very large integer. For convenience, we assume $n$ is a power of 2\n",
        "\n",
        "Let $k$ be the $n^{th}$ Square-Fibonacci number\n",
        "\n",
        "**Our goal**: generate an efficiently-verifiable proof $\\pi$ showing that indeed $k$ is the $n^{th}$ Square-Fibonacci number(i.e. $f_n = k$)\n",
        "\n",
        "## Phases of Proof Generation\n",
        "The Plonk-based proof generation consists of 3 steps:\n",
        "1. Filling in the trace table\n",
        "2. Committing to the trace table\n",
        "3. Proving the trace table's correctness"
      ],
      "metadata": {
        "id": "di927G65Ye1J"
      }
    },
    {
      "cell_type": "code",
      "source": [
        "# some basic statement\n",
        "# q here is equialent to the p above\n",
        "q = curve_order\n",
        "\n",
        "# assume we hope to prove '8th Square-Fibonacci number is k'\n",
        "n = 8\n",
        "k = FQ(317754178345286893212434)\n",
        "\n",
        "# according to defination, f(0) = 1, f(1) = 1\n",
        "f_0 = FQ(1)\n",
        "f_1 = FQ(1)"
      ],
      "metadata": {
        "id": "t1-8SzICYley"
      },
      "execution_count": 20,
      "outputs": []
    },
    {
      "cell_type": "markdown",
      "source": [
        "## Step 1: Filling in the Trace Table\n",
        "The trace table is a 2-dimensional matrix where 'witness' or 'trace' is written down, that is (n rows * 5 cols)\n",
        "- 5 columns:\n",
        "    - $A, B, C$: represent witness data / private input, each row lists 3 sequential Sequare-Fibonacci numbers\n",
        "        - e.g. the $i^{th}$ row $(f_i, f_{i+1}, f_{i+2})$ is a witness for $(i+2)^{th}$ Sequare-Fibonacci number\n",
        "    - $S$: represents selector column, indicating a certain mathmatical relation should hold over the element of the row.\n",
        "        - $1$ represents the first 3 elements of the row $(a, b, c)$ must satisfy $c = a^2 + b^2 \\ mod \\ q$\n",
        "        - $0$ represents the condition does not need to be satisfied.\n",
        "    - $P$: represents public inputs, inputs to the circuit that are public known.\n",
        "        - e.g. the first two values of the sequence $f_0, f_1$ and $k$ as the value to be proved\n",
        "- n rows: left a blank row, so that the height of the table becomes $n$, an even power of 2\n",
        "    - $1^{st}$ row: $f_0, f_1, f_2, 1, f_0$\n",
        "    - $2^{nd}$ row: $f_1, f_2, f_3, 1, f_1$\n",
        "    - $3^{rd}$ row: $f_2, f_3, f_4, 1, k$\n",
        "    - ...\n",
        "    - $(n-2)^{th}$ row: $f_{n-2}, f_{n-1}, f_n, 1, \"\" $\n",
        "    - $(n-1)^{th}$ row: $\"\", \"\", \"\", 0, \"\"$\n",
        "\n",
        "Next step is to fill in the trace table: either copy or compute over $F_q$"
      ],
      "metadata": {
        "id": "xTmgCmhGZ8SQ"
      }
    },
    {
      "cell_type": "code",
      "source": [
        "# generate witness/fill in the trace table\n",
        "def witness_generation(f_0, f_1, k, n):\n",
        "\n",
        "    trace_table = []\n",
        "\n",
        "    # init col A, B, C, S\n",
        "    f_a = f_0\n",
        "    f_b = f_1\n",
        "    f_c = f_b\n",
        "    S = FQ(1)\n",
        "    placeholder = FQ(0)\n",
        "\n",
        "    for i in range(n-1):\n",
        "        f_a = f_b\n",
        "        f_b = f_c\n",
        "        f_c = f_a**2 + f_b**2\n",
        "        trace_table.append([f_a, f_b, f_c, S, placeholder])\n",
        "\n",
        "    # add a blank row to get n row\n",
        "    S = FQ(0)\n",
        "    trace_table.append([placeholder, placeholder, placeholder, S, placeholder])\n",
        "\n",
        "    # add public parameters\n",
        "    trace_table[0][4] = f_0\n",
        "    trace_table[1][4] = f_1\n",
        "    trace_table[2][4] = k\n",
        "\n",
        "    return trace_table\n",
        "\n",
        "trace_table = witness_generation(f_0, f_1, k, n)\n",
        "\n",
        "print(f\"trace table is: {trace_table}\")"
      ],
      "metadata": {
        "colab": {
          "base_uri": "https://localhost:8080/"
        },
        "id": "n7QfVLCaZwpy",
        "outputId": "867e3579-b6b3-44ae-cf3f-087971f84f2a"
      },
      "execution_count": 21,
      "outputs": [
        {
          "output_type": "stream",
          "name": "stdout",
          "text": [
            "trace table is: [[1, 1, 2, 1, 1], [1, 2, 5, 1, 1], [2, 5, 29, 1, 317754178345286893212434], [5, 29, 866, 1, 0], [29, 866, 750797, 1, 0], [866, 750797, 563696885165, 1, 0], [750797, 563696885165, 317754178345286893212434, 1, 0], [0, 0, 0, 0, 0]]\n"
          ]
        }
      ]
    },
    {
      "cell_type": "markdown",
      "source": [
        "## Step 2: Commit to the Trace Table\n",
        "\n",
        "### interpret the trace table columns as polynomials\n",
        "\n",
        "Each column can be considered as a length-$n$ vector of finite field elements $\\rightarrow$ this vector can be regarded as the evaluation form of a polynomial $A(x)$ with degree $(n-1)$: the $i^{th}$ element of $A$ corresponds to the evaluation $A(\\omega^i)$, where $\\omega \\in F_q$ is **$n^{th}$ root of unity** and has order $n$"
      ],
      "metadata": {
        "id": "sZbfYqpXc9ff"
      }
    },
    {
      "cell_type": "code",
      "source": [
        "# inverse trace table and get the evaluation form of column polynomials\n",
        "inverse_trace_table = list(zip(*trace_table))\n",
        "inverse_trace_table"
      ],
      "metadata": {
        "colab": {
          "base_uri": "https://localhost:8080/"
        },
        "id": "a0_IXMd44blc",
        "outputId": "8db328eb-edea-4a80-d03b-ac7c8010ca83"
      },
      "execution_count": 22,
      "outputs": [
        {
          "output_type": "execute_result",
          "data": {
            "text/plain": [
              "[(1, 1, 2, 5, 29, 866, 750797, 0),\n",
              " (1, 2, 5, 29, 866, 750797, 563696885165, 0),\n",
              " (2, 5, 29, 866, 750797, 563696885165, 317754178345286893212434, 0),\n",
              " (1, 1, 1, 1, 1, 1, 1, 0),\n",
              " (1, 1, 317754178345286893212434, 0, 0, 0, 0, 0)]"
            ]
          },
          "metadata": {},
          "execution_count": 22
        }
      ]
    },
    {
      "cell_type": "markdown",
      "source": [
        "### Commit to column polynomials\n",
        "Now that we have known how to interpret the columns as polynomials, we can commit to each of them using a polynomial commitment scheme."
      ],
      "metadata": {
        "id": "FWMrwxvU7ZuJ"
      }
    },
    {
      "cell_type": "code",
      "source": [
        "com_list = []\n",
        "col_poly_coefs = []\n",
        "for i in range(len(inverse_trace_table)):\n",
        "    col_poly_coef = IFFT(inverse_trace_table[i], p)\n",
        "    col_poly_coefs.append(col_poly_coef)\n",
        "    com = poly_commitment(pk, g1, col_poly_coef)\n",
        "    com_list.append(com)\n",
        "print(com_list)"
      ],
      "metadata": {
        "colab": {
          "base_uri": "https://localhost:8080/"
        },
        "id": "HuTecnM57A0m",
        "outputId": "ec4d6b35-3522-40f7-9f93-7ecd664b549a"
      },
      "execution_count": 23,
      "outputs": [
        {
          "output_type": "stream",
          "name": "stdout",
          "text": [
            "[(1353955881507159017264618963444269643982111588619145625660022411433327503761100132586962559120374211432347064789098, 2880867354039406119789751155386502455621150732130368738026199111594789274772912503316760414136592784975128471395983), (3404797234769037746963163458655656013529457287621427584648386820558078715179165371317784140563641559607731051173454, 2947083497643866674614981508299206825619186841609434990781196335819036278573380918799863010270103387542112488835339), (1130411137456633873077150714255566193505002730004325530865494597509949737863002960604139304553949170928191847201677, 843017739819465277975281001396320454269524281207862672784271102273468101076943301411616783641513683121799264814554), (50487883006899470882942990683009910736049433845909961504305939171513494640840766733142937083124540517977069107730, 564740008158959238778375585472270612070855136663049979598917363822748262577902863770699356115011705431498487434240), (3407228481085839113659599190756475764438361899586957706402497132778475489462568507753189903700881750839257563956298, 1895858855123707296133612772338781505213621978671513590954944554816671094601160074193107829600950399618266362327640)]\n"
          ]
        }
      ]
    },
    {
      "cell_type": "markdown",
      "source": [
        "## Step 3: Proving the Trace Table's Correctness\n",
        "### Define the constraints of the trace table\n",
        "In order to ensure the original trace table to be valid, we should have the following constraints:\n",
        "- Square-Fibonaci constraints:\n",
        "    - each selected row $i$'s first three elements is $(a,b,c)$ must satisfy $c_i = a_i^2 + b_i^2 \\ mod \\ q$\n",
        "- Wiring constraints:\n",
        "    - for consecutive rows with value $[a_i, b_i, c_i]$ and $[a_{i+1}, b_{i+1}, c_{i+1}]$, we require $a_{i+1} = b_i$ and $b_{i+1} = c_i$\n",
        "- Public input constraints:\n",
        "    - the first row must start with the first two Square-Fibonacci numbers: $a_0 = p_0, b_0 = p_1$\n",
        "    - the $n^{th}$ Square-Fibonacci must match the claimed result value: $c_{n-2} = p_2$\n",
        "\n",
        "The above constraints can be represented by one or more relations between the column polynomials. For example, Square-Fibonaci constraints can be expressed as $S(x)·(A(x)^2 + B(x)^2 - C(x))=0, for\\ all\\ x\\in \\{w^0, w^1, ..., w^{n-1}\\}$. For shorten, we will label left-hand side $\\phi_0(x):=S(x)·(A(x)^2 + B(x)^2 - C(x))$  All our constraints can be expressed as $\\phi_i(x) = 0,\\ for\\ all\\ x\\in \\{w^0, w^1, ..., w^{n-1}\\}$"
      ],
      "metadata": {
        "id": "ktHnhk6-8JN5"
      }
    },
    {
      "cell_type": "markdown",
      "source": [
        "### Square-Fibonaci Constraints\n",
        "\n",
        "It is equivalent to **Gate Constraint** in vanilla plonk:\n",
        "\n",
        "Obviously, $a^2+b^2 = c$ can be seen as the combination of 2 multiplication gates and 1 addition gate. To simplify, we take those as a whole thing and just use one line of record to represent it."
      ],
      "metadata": {
        "id": "AOB-HCTOlnvs"
      }
    },
    {
      "cell_type": "code",
      "source": [
        "def square_fib_constraint_poly(inverse_trace_table, p):\n",
        "\n",
        "  a_poly_coefs = IFFT(inverse_trace_table[0], p)\n",
        "  b_poly_coefs = IFFT(inverse_trace_table[1], p)\n",
        "  c_poly_coefs = IFFT(inverse_trace_table[2], p)\n",
        "  s_poly_coefs = IFFT(inverse_trace_table[3], p)\n",
        "\n",
        "  # construct a polynomial phi_0(x) = S(x)(A(x)^2+B(x)^2-C(x))\n",
        "  phi_0_coefs = mul_poly(s_poly_coefs,sub_poly(add_poly(mul_poly(a_poly_coefs, a_poly_coefs), mul_poly(b_poly_coefs, b_poly_coefs)),c_poly_coefs))\n",
        "\n",
        "  return phi_0_coefs\n",
        "\n",
        "\n",
        "def mul_poly(poly1_coefs, poly2_coefs):\n",
        "  multiply_poly = [0]*(len(poly1_coefs)+len(poly2_coefs)-1)\n",
        "  for o1,i1 in enumerate(poly1_coefs):\n",
        "    for o2,i2 in enumerate(poly2_coefs):\n",
        "      multiply_poly[o1+o2] += i1*i2\n",
        "  return multiply_poly\n",
        "\n",
        "def add_poly(poly1_coefs, poly2_coefs):\n",
        "\n",
        "  if len(poly1_coefs) >= len(poly2_coefs):\n",
        "    addition_poly = poly1_coefs\n",
        "    min_length = len(poly2_coefs)\n",
        "  else:\n",
        "    addition_poly = poly2_coefs\n",
        "    min_length = len(poly1_coefs)\n",
        "\n",
        "  for i in range(min_length):\n",
        "    addition_poly[i] = poly1_coefs[i] + poly2_coefs[i]\n",
        "\n",
        "  return addition_poly\n",
        "\n",
        "def sub_poly(poly1_coefs, poly2_coefs):\n",
        "\n",
        "  if len(poly1_coefs) >= len(poly2_coefs):\n",
        "    subtraction_poly = poly1_coefs\n",
        "    min_length = len(poly2_coefs)\n",
        "  else:\n",
        "    subtraction_poly = poly2_coefs\n",
        "    min_length = len(poly1_coefs)\n",
        "\n",
        "  for i in range(min_length):\n",
        "    subtraction_poly[i] = poly1_coefs[i] - poly2_coefs[i]\n",
        "\n",
        "  return subtraction_poly\n",
        "\n",
        "square_fib_constraint_poly(inverse_trace_table, p)"
      ],
      "metadata": {
        "colab": {
          "base_uri": "https://localhost:8080/"
        },
        "id": "U-89g8V5Wgzj",
        "outputId": "bc133608-bc10-452d-837d-d98da09725b4"
      },
      "execution_count": 24,
      "outputs": [
        {
          "output_type": "execute_result",
          "data": {
            "text/plain": [
              "[9217243683127650670215423136204564307406542431733373805594493117736508689447,\n",
              " 6666845327329705532963430625265951311576613171241245242132100072955433688671,\n",
              " 44267534341411372821110843579994475498172624576994019134899687329660324137538,\n",
              " 27734915317295573979553823553557321860270268471208809659398702095994161952080,\n",
              " 37702370013672502632704303140624342804248711303899845502198214997157027878207,\n",
              " 11583562288821433247490937116774158461617493607772389006562557827980992423716,\n",
              " 19431544404868491752428433057080910022889750308878986243969634670562912518450,\n",
              " 12399440026714068747233115926566936096429177141939361413989904821957360748254,\n",
              " 20041303549030907216090313199445756936739800542200228711060022339667450807871,\n",
              " 1640433480202112741396001466119286110343076964539974284673711265395784145821,\n",
              " 13311292830147122275312324513496984175656020478185536494792425391434485506145,\n",
              " 41059692124944929433452274305014365636083572356756835655701111647528539392349,\n",
              " 48728717689897286205190927357005485693648993298446919893155237785330685590294,\n",
              " 27402860898548515345917794500630774711089260799805750439818123432542050144630,\n",
              " 33004330770257698727019307451105055814800802191648651578634024029375668666063,\n",
              " 40036435148412121732214624581619029741261375358588276408613753877981220436259,\n",
              " 23177327942967632593142004172535644593544209526594035305949143242534621687195,\n",
              " 44128596367594372205088308416800728415770862364746418295797847361587363350021,\n",
              " 47292923178693885862472312922880472001552459945875720015515204678782352725343,\n",
              " 36077142908011877545889383157800244179027264173089630330107503656354461024597,\n",
              " 18440662646682592121000250518742103177483400398708510249853864617389448900525,\n",
              " 13449451987756241886039008890781032664983798092949498376222977439415538616167]"
            ]
          },
          "metadata": {},
          "execution_count": 24
        }
      ]
    },
    {
      "cell_type": "markdown",
      "source": [
        "### Wiring Constraints\n",
        "\n",
        "The purpose of wiring constraints is to connect the sea of gates we get in the last step by proving certain gates' inputs/outputs equal each other.\n",
        "\n",
        "To construct wiring contraints polynomials, we need to following steps:\n",
        "1. Verifier choose random $\\beta, \\gamma \\in F_p$ and sends them to Prover\n",
        "2. Construct two matrix:\n",
        "  - matrix of indexes for original computation trace table\n",
        "    - we use roots of unity to represent the indexes:\n",
        "      - for column A: $\\omega^0, \\omega^1, \\omega^2, \\omega^3, ..., \\omega^{n-1}$\n",
        "      - for column B: $2\\omega^0, 2\\omega^1, 2\\omega^2, 2\\omega^3, ..., 2\\omega^{n-1}$\n",
        "      - for column C: $3\\omega^0, 3\\omega^1, 3\\omega^2, 3\\omega^3, ..., 3\\omega^{n-1}$\n",
        "  - matrix of indexes after permutation*\n",
        "    - permuation means:\n",
        "      - assume we have three positions in the table share the same value:\n",
        "        - the $a$ column in the $4^{th}$ line: (4, a), index = $\\omega^3$\n",
        "        - the $a$ column in the $7^{th}$ line: (7, a), index = $\\omega^6$\n",
        "        - the $c$ column in the $2^{rd}$ line: (2, c), index = $3\\omega^1$\n",
        "      - then we store:\n",
        "        - the position (7, a) store (4, a)'s index: $\\omega^3$\n",
        "        - the position (2, c) store (7, a)'s index: $\\omega^6$\n",
        "        - the position (4, a) store (2, c)'s index: $3\\omega^1$\n",
        "    - in our case:\n",
        "      - matrix before permutation\n",
        "        - for column A: $\\omega^0, \\omega^1, \\omega^2, \\omega^3, ..., \\omega^{n-1}$\n",
        "        - for column B: $2\\omega^0, 2\\omega^1, 2\\omega^2, 2\\omega^3, ..., 2\\omega^{n-1}$\n",
        "        - for column C: $3\\omega^0, 3\\omega^1, 3\\omega^2, 3\\omega^3, ..., 3\\omega^{n-1}$\n",
        "      - matrix after permutation(constraints: $a_{i+1} = b_i$ and $b_{i+1} = c_i$)\n",
        "        - for column A: $\\omega^0, 2\\omega^0, 2\\omega^1, 2\\omega^2, ..., 2\\omega^{n-2}, 2\\omega^{n-1}$\n",
        "        - for column B: $\\omega^1, 3\\omega^0, 3\\omega^1, 3\\omega^2, ..., 3\\omega^{n-2}, 3\\omega^{n-1}$\n",
        "        - for column C: $2\\omega^1, 2\\omega^2, 2\\omega^3, 2\\omega^4, ..., 2\\omega^{n}, 3\\omega^{n}$\n",
        "\n",
        "3. construct 2 polynomials $f, g$ representing the values in the computation trace table, Let:\n",
        "  - $f'(\\omega^i)=f(\\omega^i)+\\beta · i+\\gamma$, $i$ represent index in matrix before permutation\n",
        "  - $g'(\\omega^i)=g(\\omega^i)+\\beta · \\sigma(i)+\\gamma$, $\\sigma(i)$ represent index in matrix after permutation\n",
        "4. then Prover computes $Z \\in F_{<n}[X]$, s.t $Z(\\omega)=1$; and for $i\\in \\{2,...,n\\}$ $$Z(\\omega^i) = \\prod_{1\\le j<i} \\frac{f'(\\omega^j)}{g'(\\omega^j)}$$\n",
        "5. Verifier checks if for all $a\\in H$\n",
        "  - $L_1(a)(Z(a)-1)=0$\n",
        "  - $Z(a)f'(a) = g'(a)Z(a·\\omega)$\n"
      ],
      "metadata": {
        "id": "gHyIXuCMnn58"
      }
    },
    {
      "cell_type": "code",
      "source": [
        "# generate two random number beta and gamma\n",
        "beta = FQ(random.randint(0, p))\n",
        "gamma = FQ(random.randint(0, p))\n",
        "print(f'beta = {beta}, gamma = {gamma}')"
      ],
      "metadata": {
        "colab": {
          "base_uri": "https://localhost:8080/"
        },
        "id": "HeUOPO0f4FhM",
        "outputId": "350829c1-a493-4891-b6e1-7e4bd87e7f10"
      },
      "execution_count": 35,
      "outputs": [
        {
          "output_type": "stream",
          "name": "stdout",
          "text": [
            "beta = 25227428662100397909003723125956767219844274980029406864409905825009699272612, gamma = 2001942086730337737869128807666465678864934683001832738425705322712899080924\n"
          ]
        }
      ]
    },
    {
      "cell_type": "code",
      "source": [
        "# Construct two matrixes\n",
        "# before permutation\n",
        "def generate_ori_matrix(n):\n",
        "  ori_matrix = []\n",
        "  omega = find_nth_root_of_unity_realnum(n, p)\n",
        "  for i in range(n):\n",
        "    row = []\n",
        "    for j in range(1,4):\n",
        "      row.append(FQ(j)*(omega**i))\n",
        "    ori_matrix.append(row)\n",
        "  return ori_matrix\n",
        "\n",
        "ori_matrix = generate_ori_matrix(n)\n",
        "# ori_matrix"
      ],
      "metadata": {
        "id": "GfyEnixD7A9d"
      },
      "execution_count": 55,
      "outputs": []
    },
    {
      "cell_type": "code",
      "source": [
        "# after permutation\n",
        "def permutation_matrix(ori_matrix, n):\n",
        "  permu_matrix = ori_matrix\n",
        "  for i in range(n-1):\n",
        "    permu_matrix[i+1][0], permu_matrix[i][1] = permu_matrix[i][1], permu_matrix[i+1][0]\n",
        "    permu_matrix[i+1][1], permu_matrix[i][2] = permu_matrix[i][2], permu_matrix[i+1][1]\n",
        "  return permu_matrix\n",
        "\n",
        "permu_matrix = permutation_matrix(ori_matrix, n)\n",
        "# permu_matrix"
      ],
      "metadata": {
        "id": "6-PNLN1h95OM"
      },
      "execution_count": 56,
      "outputs": []
    },
    {
      "cell_type": "code",
      "source": [
        "# f, g polynomial construction\n",
        "def f_g_poly(value_in_trace_table, index, beta, gamma):\n",
        "  return value_in_trace_table + beta * index + gamma"
      ],
      "metadata": {
        "id": "5k9XHVXzD8SB"
      },
      "execution_count": 59,
      "outputs": []
    },
    {
      "cell_type": "code",
      "source": [
        "# calculate Z\n",
        "def Z_poly_evals(trace_table, ori_matrix, permu_matrix, beta, gamma, n, p):\n",
        "  Z_values = [FQ(1)]\n",
        "  omega = find_nth_root_of_unity_realnum(n, p)\n",
        "\n",
        "  # compute Z in lagrange form according to its definition\n",
        "  for i in range(n):\n",
        "    Z_values.append(\n",
        "        Z_values[-1]\n",
        "        * f_g_poly(trace_table[i][0], ori_matrix[i][0], beta, gamma)\n",
        "        * f_g_poly(trace_table[i][1], ori_matrix[i][1], beta, gamma)\n",
        "        * f_g_poly(trace_table[i][2], ori_matrix[i][2], beta, gamma)\n",
        "        / f_g_poly(trace_table[i][0], permu_matrix[i][0], beta, gamma)\n",
        "        / f_g_poly(trace_table[i][1], permu_matrix[i][1], beta, gamma)\n",
        "        / f_g_poly(trace_table[i][2], permu_matrix[i][2], beta, gamma)\n",
        "    )\n",
        "  assert Z_values.pop() == 1\n",
        "\n",
        "  # check if Z is calculated correctly\n",
        "  for i in range(n):\n",
        "    assert(\n",
        "        f_g_poly(trace_table[i][0], ori_matrix[i][0], beta, gamma)\n",
        "        * f_g_poly(trace_table[i][1], ori_matrix[i][1], beta, gamma)\n",
        "        * f_g_poly(trace_table[i][2], ori_matrix[i][2], beta, gamma)\n",
        "    ) * Z_values[i] - (\n",
        "        f_g_poly(trace_table[i][0], permu_matrix[i][0], beta, gamma)\n",
        "        * f_g_poly(trace_table[i][1], permu_matrix[i][1], beta, gamma)\n",
        "        * f_g_poly(trace_table[i][2], permu_matrix[i][2], beta, gamma)\n",
        "    ) * Z_values[\n",
        "        (i+1) % n\n",
        "    ]== 0\n",
        "\n",
        "  # # transfer Z polynomial to coefficient form\n",
        "  # z_coefs = IFFT(Z_values, p)\n",
        "\n",
        "  return Z_values\n",
        "\n",
        "z_poly_evals = Z_poly_evals(trace_table, ori_matrix, permu_matrix, beta, gamma, n, p)"
      ],
      "metadata": {
        "id": "TS8PGtAmCcI1"
      },
      "execution_count": 65,
      "outputs": []
    },
    {
      "cell_type": "code",
      "source": [
        "# wiring constraints\n",
        "# construct the polynomial we need to check: 𝑍(𝑎)𝑓′(𝑎) - 𝑔′(𝑎)𝑍(𝑎·𝜔)\n",
        "def wiring_constraint_poly_permuation(n, p, trace_table, ori_matrix, beta, gamma, z_poly_evals):\n",
        "\n",
        "  f_poly_evals = []\n",
        "  g_poly_evals = []\n",
        "\n",
        "  for i in range(n):\n",
        "    f_poly_evals.append(\n",
        "        f_g_poly(trace_table[i][0], ori_matrix[i][0], beta, gamma)\n",
        "        * f_g_poly(trace_table[i][1], ori_matrix[i][1], beta, gamma)\n",
        "        * f_g_poly(trace_table[i][2], ori_matrix[i][2], beta, gamma))\n",
        "    g_poly_evals.append(\n",
        "        f_g_poly(trace_table[i][0], permu_matrix[i][0], beta, gamma)\n",
        "        * f_g_poly(trace_table[i][1], permu_matrix[i][1], beta, gamma)\n",
        "        * f_g_poly(trace_table[i][2], permu_matrix[i][2], beta, gamma))\n",
        "    z_poly_evals_xomega = z_poly_evals[1:]+[z_poly_evals[0]]\n",
        "\n",
        "  f_poly_coefs = IFFT(f_poly_evals, p)\n",
        "  g_poly_coefs = IFFT(g_poly_evals, p)\n",
        "  z_poly_coefs = IFFT(z_poly_evals, p)\n",
        "  z_poly_coefs_xomega = IFFT(z_poly_evals_xomega, p)\n",
        "\n",
        "  phi_w_coefs = sub_poly(mul_poly(z_poly_coefs, f_poly_coefs), mul_poly(g_poly_coefs, z_poly_coefs_xomega))\n",
        "\n",
        "  return phi_w_coefs\n",
        "\n",
        "wiring_constraint_poly_permuation(n, p, trace_table, ori_matrix, beta, gamma, z_poly_evals)"
      ],
      "metadata": {
        "colab": {
          "base_uri": "https://localhost:8080/"
        },
        "id": "QFHl248WMrGE",
        "outputId": "55937b61-89bb-4e1b-8681-93c0f14c173f"
      },
      "execution_count": 68,
      "outputs": [
        {
          "output_type": "execute_result",
          "data": {
            "text/plain": [
              "[0, 0, 0, 0, 0, 0, 0, 0, 0, 0, 0, 0, 0, 0, 0]"
            ]
          },
          "metadata": {},
          "execution_count": 68
        }
      ]
    },
    {
      "cell_type": "markdown",
      "source": [
        "we can also use other ways to represent wiring constraints"
      ],
      "metadata": {
        "id": "E_fDW5DeI_Cu"
      }
    },
    {
      "cell_type": "code",
      "source": [
        "# another way to implement wiring constraints\n",
        "# using Fi_1 to represent a_i+1 = b_i\n",
        "def wiring_constraint_poly(inverse_trace_table, p):\n",
        "\n",
        "  a_poly_coefs = IFFT(list(inverse_trace_table[0][1:])+[FQ(0)], p)\n",
        "  b_poly_coefs = IFFT(inverse_trace_table[1], p)\n",
        "  s_poly_coefs = IFFT(list(inverse_trace_table[3][1:])+[FQ(0)], p)\n",
        "\n",
        "  # construct a polynomial phi_0(x) = S(x+1)(A(x+1)-B(x))\n",
        "  phi_1_coefs = mul_poly(s_poly_coefs, sub_poly(a_poly_coefs, b_poly_coefs))\n",
        "\n",
        "  return phi_1_coefs\n",
        "\n",
        "wiring_constraint_poly(inverse_trace_table, p)"
      ],
      "metadata": {
        "colab": {
          "base_uri": "https://localhost:8080/"
        },
        "id": "o8abY3vODxVS",
        "outputId": "9d2553c3-00ce-4c65-dc42-73b314eeeab7"
      },
      "execution_count": 26,
      "outputs": [
        {
          "output_type": "execute_result",
          "data": {
            "text/plain": [
              "[11470347694558854167379193236165680026994808359490420773694550340558718051128,\n",
              " 31658831632200537539783533621391251008881967401427553257134119658570500984004,\n",
              " 9251157176012360485135106648195872832425943262155855154068869944562980101270,\n",
              " 4629573589425733109598056930899130194516745852141088748221668437883354628737,\n",
              " 27092786656927993916917219376235083497636322707752077888330974664656646497822,\n",
              " 16147469831419210761107806895310410948843277724729960615923746116523503448252,\n",
              " 47225732227417011674567510410490426723757052077807989737374736443825102691387,\n",
              " 0,\n",
              " 40965527480567336312068547272020285810695744141037217048909108359379863133385,\n",
              " 20777043542925652939664206886794714828808585099100084565469539041368080200509,\n",
              " 43184717999113829994312633859990093005264609238371782668534788755375601083243,\n",
              " 47806301585700457369849683577286835643173806648386549074381990262055226555776,\n",
              " 25343088518198196562530521131950882340054229792775559934272684035281934686691,\n",
              " 36288405343706979718339933612875554888847274775797677206679912583415077736261,\n",
              " 5210142947709178804880230097695539113933500422719648085228922256113478493126]"
            ]
          },
          "metadata": {},
          "execution_count": 26
        }
      ]
    },
    {
      "cell_type": "code",
      "source": [
        "# wiring constraints\n",
        "# using Fi_2 to represent b_i+1 = c_i\n",
        "def wiring_constraint_poly2(inverse_trace_table, p):\n",
        "\n",
        "  b_poly_coefs = IFFT(list(inverse_trace_table[1][1:])+[FQ(0)], p)\n",
        "  c_poly_coefs = IFFT(inverse_trace_table[2], p)\n",
        "  s_poly_coefs = IFFT(list(inverse_trace_table[3][1:])+[FQ(0)], p)\n",
        "\n",
        "  # construct a polynomial phi_0(x) = S(x+1)(A(x+1)-B(x))\n",
        "  phi_2_coefs = mul_poly(s_poly_coefs, sub_poly(b_poly_coefs, c_poly_coefs))\n",
        "\n",
        "  return phi_2_coefs\n",
        "\n",
        "wiring_constraint_poly2(inverse_trace_table, p)"
      ],
      "metadata": {
        "colab": {
          "base_uri": "https://localhost:8080/"
        },
        "id": "ICxIc7pDuECa",
        "outputId": "212177a7-7b70-4af5-a776-e22fdf8b48fa"
      },
      "execution_count": 27,
      "outputs": [
        {
          "output_type": "execute_result",
          "data": {
            "text/plain": [
              "[36049664182899255954620321599377851513412254844112750973250561136337128325687,\n",
              " 26478744040510257060869321766053525138872800379087851350621017645042397135506,\n",
              " 32410835611437218704466690526562532753646862728670419077503224720809139370953,\n",
              " 11748757413644117521565380048665272397719182982198598038819999551729010043282,\n",
              " 5425566726670899114035402883671431159983196801318069536656707248542603833947,\n",
              " 45997037633194194370717268143927422353966899878804396217539101952889432168702,\n",
              " 37540168226135780995704033570283361978050109689519990765762645485100182660726,\n",
              " 0,\n",
              " 16386210992226934524827418908808114324278297656414886849353097563601452858826,\n",
              " 25957131134615933418578418742132440698817752121439786471982641054896184049007,\n",
              " 20025039563688971774981049981623433084043689771857218745100433979129441813560,\n",
              " 40687117761482072957882360459520693439971369518329039783783659148209571141231,\n",
              " 47010308448455291365412337624514534677707355699209568285946951451395977350566,\n",
              " 6438837541931996108730472364258543483723652621723241605064556747049149015811,\n",
              " 14895706948990409483743706937902603859640442811007647056841013214838398523787]"
            ]
          },
          "metadata": {},
          "execution_count": 27
        }
      ]
    },
    {
      "cell_type": "code",
      "source": [
        "constraints_poly = []\n",
        "\n",
        "# Square-Fibonaci constraints\n",
        "constraints_poly.append(square_fib_constraint_poly(inverse_trace_table, p))\n",
        "\n",
        "# wiring constraints\n",
        "constraints_poly.append(wiring_constraint_poly_permuation(n, p, trace_table, ori_matrix, beta, gamma, z_poly_evals))\n",
        "# # using Fi_1 to represent a_i+1 = b_i\n",
        "# constraints_poly.append(wiring_constraint_poly(inverse_trace_table, p))\n",
        "\n",
        "# # using Fi_2 to represent b_i+1 = c_i\n",
        "# constraints_poly.append(wiring_constraint_poly2(inverse_trace_table, p))\n",
        "\n",
        "constraints_poly"
      ],
      "metadata": {
        "colab": {
          "base_uri": "https://localhost:8080/"
        },
        "id": "MNjEDi5b8NB7",
        "outputId": "c134c288-6626-4619-90d6-756d05e27571"
      },
      "execution_count": 69,
      "outputs": [
        {
          "output_type": "execute_result",
          "data": {
            "text/plain": [
              "[[9217243683127650670215423136204564307406542431733373805594493117736508689447,\n",
              "  6666845327329705532963430625265951311576613171241245242132100072955433688671,\n",
              "  44267534341411372821110843579994475498172624576994019134899687329660324137538,\n",
              "  27734915317295573979553823553557321860270268471208809659398702095994161952080,\n",
              "  37702370013672502632704303140624342804248711303899845502198214997157027878207,\n",
              "  11583562288821433247490937116774158461617493607772389006562557827980992423716,\n",
              "  19431544404868491752428433057080910022889750308878986243969634670562912518450,\n",
              "  12399440026714068747233115926566936096429177141939361413989904821957360748254,\n",
              "  20041303549030907216090313199445756936739800542200228711060022339667450807871,\n",
              "  1640433480202112741396001466119286110343076964539974284673711265395784145821,\n",
              "  13311292830147122275312324513496984175656020478185536494792425391434485506145,\n",
              "  41059692124944929433452274305014365636083572356756835655701111647528539392349,\n",
              "  48728717689897286205190927357005485693648993298446919893155237785330685590294,\n",
              "  27402860898548515345917794500630774711089260799805750439818123432542050144630,\n",
              "  33004330770257698727019307451105055814800802191648651578634024029375668666063,\n",
              "  40036435148412121732214624581619029741261375358588276408613753877981220436259,\n",
              "  23177327942967632593142004172535644593544209526594035305949143242534621687195,\n",
              "  44128596367594372205088308416800728415770862364746418295797847361587363350021,\n",
              "  47292923178693885862472312922880472001552459945875720015515204678782352725343,\n",
              "  36077142908011877545889383157800244179027264173089630330107503656354461024597,\n",
              "  18440662646682592121000250518742103177483400398708510249853864617389448900525,\n",
              "  13449451987756241886039008890781032664983798092949498376222977439415538616167],\n",
              " [0, 0, 0, 0, 0, 0, 0, 0, 0, 0, 0, 0, 0, 0, 0]]"
            ]
          },
          "metadata": {},
          "execution_count": 69
        }
      ]
    },
    {
      "cell_type": "markdown",
      "source": [
        "### Combine constraints\n",
        "\n",
        "- **Naive way to proof the contraints**\n",
        "\n",
        "    In general, we have $m$ constraint polynomials $\\phi_0(x), \\phi_1(x), ..., \\phi_{m-1}(x)$. Sample a random field element $\\gamma \\in F_q$, and then take a random linear combination of the individual constraints:$$\\phi(x) := \\gamma^0·\\phi_0(x) + \\gamma^1·\\phi_1(x)+...+\\gamma^{m-1}·\\phi_{m-1}(x)$$\n",
        "    and we need the constraints satisfied at every row, that is $\\phi(\\omega^i) = 0 \\ for \\ all\\ 0\\le i <n$, in this case we need $n$ evaluation proofs\n",
        "\n",
        "\n",
        "- **Using quotient polynomial**\n",
        "\n",
        "    we can prove such constraint $\\phi(x)$ using only one evaluation proof:\n",
        "    - quotient polynomial:\n",
        "        \\begin{aligned}\n",
        "        \\phi(\\omega^i) = 0 \\ for \\ all\\ 0\\le i <n\\ &{\\Leftrightarrow}\\ (x-\\omega^i)|\\phi(x)\\ for \\ all\\ 0\\le i<n\\\\\n",
        "        &{\\Leftrightarrow}\\ \\prod^{n-1}_{i=0}(x-\\omega^i)|\\phi(x)\\ for \\ all\\ 0\\le i <n\\\\\n",
        "        &{\\Leftrightarrow}\\ (x^n-1)|\\phi(x)\\\\\n",
        "        &{\\Leftrightarrow}\\ \\exists Q(x)\\ s.t.\\phi(x)=Q(x)·(x^n-1)\n",
        "        \\end{aligned}\n",
        "      now we just need to prove there exists a polynomial $Q(x)$\n",
        "    - compute the quotient polynomial:\n",
        "        $$\n",
        "        Q(x):= {\\phi(x) \\over {x^n-1}} = {{\\gamma^0·\\phi_0(x) + \\gamma^1·\\phi_1(x)+...+\\gamma^{m-1}·\\phi_{m-1}(x)} \\over {x^n-1}}\n",
        "        $$\n",
        "      degree of $Q(x)$ is $2n-3$, so we need at least $2n-2$ evaluation points to represent it\n",
        "      \n",
        "      we make it a round number and use $2n$ evaluation points, our previous evaluation domain do not work anymore, because the order of $\\omega$ is only $n$. We therefore need to pick some other element $\\beta \\in F_q$ with order $2n$. Then we evaluate $Q(x)$ over the evaluation domain $\\{\\beta^0, \\beta^1,...,\\beta^{2n-1}\\}$"
      ],
      "metadata": {
        "id": "rCI92e9h8agH"
      }
    },
    {
      "cell_type": "code",
      "source": [
        "# define Phi(x)\n",
        "def Phi(constraints_poly, n, p):\n",
        "  # randomly gerenate gamma in F_p\n",
        "  gamma_list = []\n",
        "  Phi_poly_coefs = [0] * n\n",
        "\n",
        "  for i in range(len(constraints_poly)):\n",
        "      gamma = FQ(random.randint(0, p))\n",
        "      gamma_list.append(gamma)\n",
        "      phi_i = [gamma * constraints_poly[i][j] for j in range(len(constraints_poly[i]))]\n",
        "      Phi_poly_coefs = add_poly(phi_i, Phi_poly_coefs)\n",
        "\n",
        "  return Phi_poly_coefs, gamma_list\n",
        "\n",
        "Phi_poly_coefs, gamma_list = Phi(constraints_poly, len(constraints_poly[0]), p)\n",
        "print(f'the combination of contraints is {Phi_poly_coefs}')\n",
        "print(f'the ramdom generated list of gamma is {gamma_list}')"
      ],
      "metadata": {
        "colab": {
          "base_uri": "https://localhost:8080/"
        },
        "id": "7LNQLL0THUJK",
        "outputId": "295d94aa-98fa-47d0-f4cc-6fcf29ca565e"
      },
      "execution_count": 70,
      "outputs": [
        {
          "output_type": "stream",
          "name": "stdout",
          "text": [
            "the combination of contraints is [21105108041348378285791078729426139416429301030939320926694321199097654760626, 36035930264333662824609467819878679455378411309013245171996239542512325125854, 721209629842802920102516078464401771245179494239505064671868825562849707914, 19791220657300791860203404791603382693053866074415745984401311396279457562608, 38361994349783172255670433121342834971830758992721876270473147075942130245934, 6383528013417591206766033794768206032854524499263189815796259420710687292705, 39484165694809949793048348317712211715825778570425729100403775095611150372504, 23348862694032827824512619038673069825410421963287553742446875463474577437894, 26060501425985020955187255600023958088781960117817072765550491366006836722647, 46085058235567274413647548815721307419914449296833661021602915141670026715422, 40627918753239042944088576854810209907686285087411133778734554262628450335839, 29304664790802801424532978909612041976711941656145374839507114530076661505775, 52385996386682671224745482812604309352766405368522679194894257051391613104187, 26253472302902025230895063498403066818806386037721132790670379887556492435205, 12951709480316240686399392190473754121864773930101908722199883604327430812009, 29087012481093362654935121469512896012280130537240084080156783236464003746619, 5270265707792791238469406178735868332479291351771244130358846134834089701240, 22750761850351443720638464380771944800088244395208369451608162715694810527750, 11086746792044344615256647574911354158759087918876998979197235611747281140760, 3339989727022597194711356806970541167924744769966516998695232773582462116130, 14123759613786537478479565082424787350783940639810720179839913272543419018905, 19798874858806574041786643215014692986029641963543315216137019391671401456603]\n",
            "the ramdom generated list of gamma is [45725042935284432119684392149865658046282751922867484813099284606237085680355, 35767477961625889888961275970656179781649171975594252012119768785328204371729]\n"
          ]
        }
      ]
    },
    {
      "cell_type": "code",
      "source": [
        "def Quotient_poly(Phi_poly_coefs, n, p):\n",
        "  '''Args:\n",
        "  a: randomly sampled field element\n",
        "  b: evaluation on a\n",
        "  poly_evals: input of poly need to be in evaluation form\n",
        "\n",
        "  Returns:\n",
        "  Q_poly_evals: q poly in evaluation form\n",
        "  '''\n",
        "  Q_poly_evals = []\n",
        "\n",
        "  omega = find_nth_root_of_unity_realnum(2*n, p)\n",
        "\n",
        "  for i in range(2*n):\n",
        "\n",
        "    Phi_poly_eval = evaluation_poly(omega**i, Phi_poly_coefs)\n",
        "    Q_poly_evals.append(Phi_poly_eval/((omega**i)**n-FQ(1)))\n",
        "\n",
        "  return Q_poly_evals\n",
        "\n",
        "Q_poly_evals = Quotient_poly(Phi_poly_coefs, n, p)\n",
        "print(f'quotient polynomial in evaluation form is {Q_poly_evals}')"
      ],
      "metadata": {
        "colab": {
          "base_uri": "https://localhost:8080/"
        },
        "id": "4WW1THT_IOsj",
        "outputId": "efcfbb29-8576-4473-f1f9-6eaf02c2ffce"
      },
      "execution_count": 71,
      "outputs": [
        {
          "output_type": "stream",
          "name": "stdout",
          "text": [
            "quotient polynomial in evaluation form is [0, 1308419960676413487951611517468808322883460806200876735144798532531633101097, 0, 32513577941178815282902822716474283525906279418099989422955016146664719678152, 0, 21230383730276329317568114976369163793676529731223488508013091338683725425763, 0, 24494563877974013825297873758510539206307434706560032024470606728313234585822, 0, 37806515340406517776627544609005089134693793242040306191139652177813648514783, 0, 48631588815541307685113771097685604835290787561327270487626654298379319095191, 0, 28632959278227457338941925133803819476057776346427719482653599100832014120909, 0, 13866002463599312927094380990874356415439619130656899272400512604836399259459]\n"
          ]
        }
      ]
    },
    {
      "cell_type": "markdown",
      "source": [
        "### Committing to the quotient polynomial\n",
        "Now we have get the evaluation form of $Q(x)$, we can compute its commitment. Note, degree of $Q(x)$ is larger than the column polynomials, so it requires a larger KZG setup"
      ],
      "metadata": {
        "id": "66SFCFtF8jsh"
      }
    },
    {
      "cell_type": "code",
      "source": [
        "Q_poly_coefs = IFFT(Q_poly_evals, p)\n",
        "Q_poly_coefs"
      ],
      "metadata": {
        "colab": {
          "base_uri": "https://localhost:8080/"
        },
        "id": "EXeFCX1AtJI9",
        "outputId": "ed6dcfa0-5f93-4a4b-94b4-22c9d28f3772"
      },
      "execution_count": 72,
      "outputs": [
        {
          "output_type": "execute_result",
          "data": {
            "text/plain": [
              "[39248188300555605717317498054104961963236256309172355294077075032972708953580,\n",
              " 23042529117783637206823774407860653709957224648416830510801457570835013357711,\n",
              " 46531896964182616711768158681498087872688418793969385800669106481283515760176,\n",
              " 40870269982964495951990359708899003907201247078336506331055386615007621345144,\n",
              " 52410935780904430852096611660395137595228478934525158508748957875665097144350,\n",
              " 39344673739014107855171402003294516328248469269124385306637019293747536809859,\n",
              " 32693792327721215582923566349329859979777663215314773272401771152133005998261,\n",
              " 40761443828109776567191430988849430924985341518883860951380220968201292465566,\n",
              " 13187686874570584762130242454081003874454296191355282528526583666965872230933,\n",
              " 29393346057342553272623966100325312127733327852110807311802201129103567826802,\n",
              " 5903978210943573767679581826687877965002133706558252021934552218655065424337,\n",
              " 11565605192161694527457380799286961930489305422191131491548272084930959839369,\n",
              " 24939394221759627351128847790828242462073566002479313854700824273484040163,\n",
              " 13091201436112082624276338504891449509442083231403252515966639406191044374654,\n",
              " 19742082847404974896524174158856105857912889285212864550201887547805575186252,\n",
              " 11674431347016413912256309519336534912705210981643776871223437731737288718947]"
            ]
          },
          "metadata": {},
          "execution_count": 72
        }
      ]
    },
    {
      "cell_type": "code",
      "source": [
        "Q_com = poly_commitment(pk, g1, Q_poly_coefs)\n",
        "print(f'commitment of polynomial is {Q_com}')"
      ],
      "metadata": {
        "colab": {
          "base_uri": "https://localhost:8080/"
        },
        "id": "yrq0Ai998iPX",
        "outputId": "92fc674a-9bd8-4afc-9c65-aa268dc31cbb"
      },
      "execution_count": 73,
      "outputs": [
        {
          "output_type": "stream",
          "name": "stdout",
          "text": [
            "commitment of polynomial is (312255783719094835440842585182394617020464556771904531786756055334359911293002746772998986692787343322978817762584, 1684481610495000614080215116310309949561532798088954676705764047321415434943873871439945828264687752053991476252795)\n"
          ]
        }
      ]
    },
    {
      "cell_type": "markdown",
      "source": [
        "### Proving an Evaluation\n",
        "Now we have committed all column polynomials from the trace table and have also committed to the quotient polynomial. Now the prover needs to demonstrate the quotient polynimial really exist and it was computed correctly.\n",
        "\n",
        "This can be achieve through the following steps:\n",
        "1. sample a random point $\\alpha \\in F_q$\n",
        "2. generate and output KZG proofs for all column polynimials and the quotient polynomials at point $\\alpha$ $$ Q(\\alpha):= {\\phi(\\alpha) \\over {\\alpha^n-1}} = {{\\gamma^0·\\phi_0(\\alpha) + \\gamma^1·\\phi_1(\\alpha)+...+\\gamma^{m-1}·\\phi_{m-1}(\\alpha)} \\over {\\alpha^n-1}}$$\n",
        "$\\alpha$ is sampled at random, so the property holds at $\\alpha$, then it holds everywhere"
      ],
      "metadata": {
        "id": "c70-M8kH8pzg"
      }
    },
    {
      "cell_type": "code",
      "source": [
        "# Verifier first choose the random point a\n",
        "a = FQ(random.randint(0, p))\n",
        "print(f'random point a is {a}')\n",
        "\n",
        "# calculate evaluation for all polynomials, and proof of the evaluation pi\n",
        "## for column polynomials\n",
        "col_evaluation = []\n",
        "col_q_poly_evals = []\n",
        "col_pi = []\n",
        "for poly_coef in col_poly_coefs:\n",
        "    # compute evaluation at a\n",
        "    b = evaluation_poly(a, poly_coef)\n",
        "    col_evaluation.append(b)\n",
        "    # compute q(x)\n",
        "    poly_eval = FFT(poly_coef, p)\n",
        "    q_poly_evals = quotient_poly(a, b, poly_eval, p)\n",
        "    col_q_poly_evals.append(q_poly_evals)\n",
        "    # compute proof of the evaluation pi\n",
        "    q_poly_coef = IFFT(q_poly_evals, p)\n",
        "    pi = poly_commitment(pk, g1,  q_poly_coef)\n",
        "    col_pi.append(pi)\n",
        "print(f'evalutions for column polynomials are {col_evaluation}, and proof of evaluations are {col_pi}')\n",
        "\n",
        "## for quotient polynomials\n",
        "# compute evaluation at a\n",
        "Q_evaluation = evaluation_poly(a, Q_poly_coefs)\n",
        "# compute q(x)\n",
        "Q_q_poly_eval = quotient_poly(a, Q_evaluation, Q_poly_evals, p)\n",
        "# compute proof of the evaluation pi\n",
        "Q_q_poly_coef = IFFT(Q_q_poly_eval, p)\n",
        "Q_pi = poly_commitment(pk, g1, Q_q_poly_coef)\n",
        "print(f'evaluation for quotient polynomial is {Q_evaluation},and proof of evaluations are {Q_pi}')"
      ],
      "metadata": {
        "colab": {
          "base_uri": "https://localhost:8080/"
        },
        "id": "ABDq93Si8sV3",
        "outputId": "997f7cba-7a62-41ce-8a4a-f0e3c4b61c71"
      },
      "execution_count": 74,
      "outputs": [
        {
          "output_type": "stream",
          "name": "stdout",
          "text": [
            "random point a is 45753528283156840714365639531515747132006380911015845695980258255956566695173\n",
            "evalutions for column polynomials are [34215815643874589126210989706137319459799740487255904813092966031937203869455, 14358699220457447532620811515895574330247422234738002476937035584372502767602, 7154189343678075133729494388575080941640787826315753923206038142258291456292, 26294955512964953255580347671834978611854553211327276826428779530052816986380, 2285878337705095492346677614372508624590121698547408016891328032968751898778], and proof of evaluations are [(1022913791915322851626373943651312649942254343003653900956698205438138576190592066413257903219493065310691268968435, 2334824784373191678465172214885975325711911191576161037172855820222193401573705899023712470761803954997696668312885), (2554783230422699143245739896741143301979355180901195096277246034165344420096981971502419655325449007441075277488918, 2694116121669729864736225096546523092196358829141456742501561343055128920501134755922301852380361836591376693774695), (2745380628611150820685996092692023545590980655964514519465490722215082021546070317268178491362584068412043680033384, 2070438780102292751924438784803374358088845137966864878754055913015626187502865829548861954737837411236146127208771), (3139505618054091181825128585381867270228097686051349850197513417580830459219604552598891827580748962437805041748494, 1842012320411284480495627374708556909712472413871817947908770390323467854511626338277836956438544630689509531850773), (3048989213202743972209057849909023533268999293213243030521074453259525873386895252800549054973292991027533308527437, 3186802051449054463949619650565147330413058681757954159441099035390711677476645896752823144470759347817072686839657)]\n",
            "evaluation for quotient polynomial is 6030863027686394006828366505656094947860078821120721943650485640785436230192,and proof of evaluations are (855582285776758433383880974320201414198157990333133031830880241878171273054947539386097748450916782721120110838620, 2218140550545746865339492252410886237193932151870173186004069917109837643631141353799641348530526935977308434985011)\n"
          ]
        }
      ]
    },
    {
      "cell_type": "markdown",
      "source": [
        "### Verifying the quotient polynomial\n",
        "the verifier need to check two things:\n",
        "1. each evaluation proof is correct\n",
        "2. the quotient polynomial holds at point $\\alpha$"
      ],
      "metadata": {
        "id": "ZZwFn_Sd8_Jf"
      }
    },
    {
      "cell_type": "code",
      "source": [
        "# verify each evaluation proof is correct\n",
        "for i in range(len(com_list)):\n",
        "    # print(f'verification result of column {i} : {evaluation_verification(com_list[i], col_evaluation[i], a, col_pi[i], g1, g2, vk)}')\n",
        "    print(f'verification result of column {i} : {pairing(g2, add(com_list[i], neg(multiply(g1, int(col_evaluation[i]))))) == pairing(add(vk, neg(multiply(g2, int(a)))), col_pi[i])}')\n",
        "\n",
        "# verify the quotient polynomial holds at point a\n",
        "# assert GT.pairing(Q_com - g1*Scalar(Q_evaluation), g2) == GT.pairing(Q_pi, vk - g2*Scalar(a))\n",
        "# print(f'verification result:{evaluation_verification(Q_com, Q_evaluation, a, Q_pi, g1, g2, vk)}')\n",
        "print(f'verification result of quotient polynomial: {pairing(g2, add(Q_com, neg(multiply(g1, int(Q_evaluation))))) == pairing(add(vk, neg(multiply(g2, int(a)))), Q_pi)}')"
      ],
      "metadata": {
        "colab": {
          "base_uri": "https://localhost:8080/"
        },
        "id": "hgCnWd629BN9",
        "outputId": "2aa77baf-d30a-40e2-bdc7-5cbfa7e43eaa"
      },
      "execution_count": 75,
      "outputs": [
        {
          "output_type": "stream",
          "name": "stdout",
          "text": [
            "verification result of column 0 : True\n",
            "verification result of column 1 : True\n",
            "verification result of column 2 : True\n",
            "verification result of column 3 : True\n",
            "verification result of column 4 : True\n",
            "verification result of quotient polynomial: True\n"
          ]
        }
      ]
    },
    {
      "cell_type": "code",
      "source": [],
      "metadata": {
        "id": "qYo5HW7uS9EK"
      },
      "execution_count": null,
      "outputs": []
    }
  ]
}