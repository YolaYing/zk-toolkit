{
 "cells": [
  {
   "cell_type": "markdown",
   "id": "8f28dd94",
   "metadata": {},
   "source": [
    "# Plonk Implementation(Python Version)\n",
    "\n",
    "## Problem Definition\n",
    "\n",
    "We take **Square-Fibonacci** as an example to demonstrate the process of proof generation\n",
    "\n",
    "Defination of Square-Fibonacci Problem:\n",
    "- Let $f_0 = 1, f_1 = 1$\n",
    "- For $i \\ge 2$, define $f_i:=(f_{i-2})^2+(f_{i-1})^2 \\ mod \\ q$\n",
    "    - $q$ is a large prime integer, used to bound the size of each element, so that it can be represented by some predetermined number of bits.\n",
    "\n",
    "Let $n$ be some very large integer. For convenience, we assume $n$ is a power of 2\n",
    "\n",
    "Let $k$ be the $n^{th}$ Square-Fibonacci number\n",
    "\n",
    "**Our goal**: generate an efficiently-verifiable proof $\\pi$ showing that indeed $k$ is the $n^{th}$ Square-Fibonacci number(i.e. $f_n = k$)\n",
    "\n",
    "## Phases of Proof Generation\n",
    "The Plonk-based proof generation consists of 3 steps:\n",
    "1. Filling in the trace table\n",
    "2. Committing to the trace table\n",
    "3. Proving the trace table's correctness"
   ]
  },
  {
   "cell_type": "code",
   "execution_count": 1,
   "id": "7ca08ede",
   "metadata": {},
   "outputs": [],
   "source": [
    "from sage import *\n",
    "\n",
    "# some basic statement\n",
    "q = 0x1a0111ea397fe69a4b1ba7b6434bacd764774b84f38512bf6730d2a0f6b0f6241eabfffeb153ffffb9feffffffffaaab\n",
    "F_q = GF(q)\n",
    "n = 8\n",
    "k = 317754178345286893212434\n",
    "f_0 = F_q(1)\n",
    "f_1 = F_q(1)"
   ]
  },
  {
   "cell_type": "markdown",
   "id": "daf56042",
   "metadata": {},
   "source": [
    "## Step 1: Filling in the Trace Table\n",
    "The trace table is a 2-dimensional matrix where 'witness' or 'trace' is written down, that is (n rows * 5 cols)\n",
    "- 5 columns:\n",
    "    - $A, B, C$: represent witness data / private input, each row lists 3 sequential Sequare-Fibonacci numbers\n",
    "        - e.g. the $i^{th}$ row $(f_i, f_{i+1}, f_{i+2})$ is a witness for $(i+2)^{th}$ Sequare-Fibonacci number\n",
    "    - $S$: represents selector column, indicating a certain mathmatical relation should hold over the element of the row.\n",
    "        - $1$ represents the first 3 elements of the row $(a, b, c)$ must satisfy $c = a^2 + b^2 \\ mod \\ q$\n",
    "        - $0$ represents the condition does not need to be satisfied.\n",
    "    - $P$: represents public inputs, inputs to the circuit that are public known. \n",
    "        - e.g. the first two values of the sequence $f_0, f_1$ and $k$ as the value to be proved\n",
    "- n rows: left a blank row, so that the height of the table becomes $n$, an even power of 2\n",
    "    - $1^{st}$ row: $f_0, f_1, f_2, 1, f_0$\n",
    "    - $2^{nd}$ row: $f_1, f_2, f_3, 1, f_1$\n",
    "    - $3^{rd}$ row: $f_2, f_3, f_4, 1, k$\n",
    "    - ...\n",
    "    - $(n-2)^{th}$ row: $f_{n-2}, f_{n-1}, f_n, 1, \"\" $\n",
    "    - $(n-1)^{th}$ row: $\"\", \"\", \"\", 0, \"\"$\n",
    "\n",
    "Next step is to fill in the trace table: either copy or compute over $F_p$"
   ]
  },
  {
   "cell_type": "code",
   "execution_count": 2,
   "id": "c58dc25c",
   "metadata": {},
   "outputs": [
    {
     "name": "stdout",
     "output_type": "stream",
     "text": [
      "trace table is [[1, 1, 2, 1, 1], [1, 2, 5, 1, 1], [2, 5, 29, 1, 317754178345286893212434], [5, 29, 866, 1, ''], [29, 866, 750797, 1, ''], [866, 750797, 563696885165, 1, ''], [750797, 563696885165, 317754178345286893212434, 1, ''], ['', '', '', 0, '']]\n"
     ]
    }
   ],
   "source": [
    "# generate witness/fill in the trace table\n",
    "def witness_generation(f_0, f_1, k, n):\n",
    "    \n",
    "    trace_table = []\n",
    "    \n",
    "    # init col A, B, C, S\n",
    "    f_a = f_0\n",
    "    f_b = f_1\n",
    "    f_c = f_b\n",
    "    S = F_q(1)\n",
    "    \n",
    "    for i in range(n-1):\n",
    "        f_a = f_b\n",
    "        f_b = f_c\n",
    "        f_c = f_a**2 + f_b**2\n",
    "        trace_table.append([f_a, f_b, f_c, S,\"\"])\n",
    "        \n",
    "    # add a blank row to get n row\n",
    "    S = 0\n",
    "    trace_table.append([\"\",\"\",\"\", S,\"\"])\n",
    "    \n",
    "    # add public parameters\n",
    "    trace_table[0][4] = f_0\n",
    "    trace_table[1][4] = f_1\n",
    "    trace_table[2][4] = k\n",
    "    \n",
    "    return trace_table\n",
    "\n",
    "trace_table = witness_generation(f_0, f_1, k, n)\n",
    "print(f\"trace table is {trace_table}\")"
   ]
  },
  {
   "cell_type": "markdown",
   "id": "73cc3219",
   "metadata": {},
   "source": [
    "## Step 2: Commit to the Trace Table\n",
    "\n",
    "### interpret the trace table columns as polynomials\n",
    "\n",
    "Each column can be considered as a length-$n$ vector of finite field elements $\\rightarrow$ this vector can be regarded as the evaluation form of a polynomial $A(x)$ with degree $(n-1)$: the $i^{th}$ element of $A$ corresponds to the evaluation $A(\\omega^i)$, where $\\omega \\in F_q$ is **$n^{th}$ root of unity** and has order $n$\n",
    "\n",
    "### Commit to column polynomials\n",
    "Now that we have known how to interpret the columns as polynomials, we can commit to each of them using a polynomial commitment scheme."
   ]
  },
  {
   "cell_type": "code",
   "execution_count": 3,
   "id": "a5b58f6a",
   "metadata": {},
   "outputs": [],
   "source": [
    "# find a subgroup whose order = n\n",
    "# def find_nth_root_of_unity(F_q, n):\n",
    "    \n",
    "#     while True:\n",
    "#         w = F_q.random_element()\n",
    "#         if w.multiplicative_order() == n:\n",
    "#             break\n",
    "#         else:\n",
    "#             print(f'w = {w}, whose order is {w.multiplicative_order()}, not statified')\n",
    "#     return w\n",
    "\n",
    "# w = find_nth_root_of_unity(F_q, n)\n",
    "# print(w)\n",
    "\n",
    "# find a group: {1,2,4,7,8,11,13,14}\n",
    "w_list = [1,2,4,7,8,11,13,14]"
   ]
  },
  {
   "cell_type": "code",
   "execution_count": null,
   "id": "c2a680b7",
   "metadata": {},
   "outputs": [],
   "source": []
  }
 ],
 "metadata": {
  "kernelspec": {
   "display_name": "SageMath 10.1",
   "language": "sage",
   "name": "sagemath-10.1"
  },
  "language_info": {
   "codemirror_mode": {
    "name": "ipython",
    "version": 3
   },
   "file_extension": ".py",
   "mimetype": "text/x-python",
   "name": "python",
   "nbconvert_exporter": "python",
   "pygments_lexer": "ipython3",
   "version": "3.11.1"
  }
 },
 "nbformat": 4,
 "nbformat_minor": 5
}
