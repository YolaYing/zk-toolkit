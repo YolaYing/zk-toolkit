{
 "cells": [
  {
   "cell_type": "markdown",
   "id": "8f28dd94",
   "metadata": {},
   "source": [
    "# Plonk Implementation(Python Version)\n",
    "\n",
    "## Problem Definition\n",
    "\n",
    "We take **Square-Fibonacci** as an example to demonstrate the process of proof generation\n",
    "\n",
    "Defination of Square-Fibonacci Problem:\n",
    "- Let $f_0 = 1, f_1 = 1$\n",
    "- For $i \\ge 2$, define $f_i:=(f_{i-2})^2+(f_{i-1})^2 \\ mod \\ q$\n",
    "    - $q$ is a large prime integer, used to bound the size of each element, so that it can be represented by some predetermined number of bits.\n",
    "\n",
    "Let $n$ be some very large integer. For convenience, we assume $n$ is a power of 2\n",
    "\n",
    "Let $k$ be the $n^{th}$ Square-Fibonacci number\n",
    "\n",
    "**Our goal**: generate an efficiently-verifiable proof $\\pi$ showing that indeed $k$ is the $n^{th}$ Square-Fibonacci number(i.e. $f_n = k$)\n",
    "\n",
    "## Phases of Proof Generation\n",
    "The Plonk-based proof generation consists of 3 steps:\n",
    "1. Filling in the trace table\n",
    "2. Committing to the trace table\n",
    "3. Proving the trace table's correctness"
   ]
  },
  {
   "cell_type": "code",
   "execution_count": 16,
   "id": "7ca08ede",
   "metadata": {},
   "outputs": [],
   "source": [
    "from sage import *\n",
    "\n",
    "# some basic statement\n",
    "q = 0x1a0111ea397fe69a4b1ba7b6434bacd764774b84f38512bf6730d2a0f6b0f6241eabfffeb153ffffb9feffffffffaaab\n",
    "F_q = GF(q)\n",
    "n = 8\n",
    "k = 317754178345286893212434\n",
    "f_0 = F_q(1)\n",
    "f_1 = F_q(1)"
   ]
  },
  {
   "cell_type": "markdown",
   "id": "daf56042",
   "metadata": {},
   "source": [
    "## Step 1: Filling in the Trace Table\n",
    "The trace table is a 2-dimensional matrix where 'witness' or 'trace' is written down, that is (n rows * 5 cols)\n",
    "- 5 columns:\n",
    "    - $A, B, C$: represent witness data / private input, each row lists 3 sequential Sequare-Fibonacci numbers\n",
    "        - e.g. the $i^{th}$ row $(f_i, f_{i+1}, f_{i+2})$ is a witness for $(i+2)^{th}$ Sequare-Fibonacci number\n",
    "    - $S$: represents selector column, indicating a certain mathmatical relation should hold over the element of the row.\n",
    "        - $1$ represents the first 3 elements of the row $(a, b, c)$ must satisfy $c = a^2 + b^2 \\ mod \\ q$\n",
    "        - $0$ represents the condition does not need to be satisfied.\n",
    "    - $P$: represents public inputs, inputs to the circuit that are public known. \n",
    "        - e.g. the first two values of the sequence $f_0, f_1$ and $k$ as the value to be proved\n",
    "- n rows: left a blank row, so that the height of the table becomes $n$, an even power of 2\n",
    "    - $1^{st}$ row: $f_0, f_1, f_2, 1, f_0$\n",
    "    - $2^{nd}$ row: $f_1, f_2, f_3, 1, f_1$\n",
    "    - $3^{rd}$ row: $f_2, f_3, f_4, 1, k$\n",
    "    - ...\n",
    "    - $(n-2)^{th}$ row: $f_{n-2}, f_{n-1}, f_n, 1, \"\" $\n",
    "    - $(n-1)^{th}$ row: $\"\", \"\", \"\", 0, \"\"$\n",
    "\n",
    "Next step is to fill in the trace table: either copy or compute over $F_p$"
   ]
  },
  {
   "cell_type": "code",
   "execution_count": 17,
   "id": "c58dc25c",
   "metadata": {},
   "outputs": [
    {
     "name": "stdout",
     "output_type": "stream",
     "text": [
      "trace table is [[1, 1, 2, 1, 1], [1, 2, 5, 1, 1], [2, 5, 29, 1, 317754178345286893212434], [5, 29, 866, 1, -1], [29, 866, 750797, 1, -1], [866, 750797, 563696885165, 1, -1], [750797, 563696885165, 317754178345286893212434, 1, -1], [-1, -1, -1, 0, -1]]\n"
     ]
    }
   ],
   "source": [
    "# generate witness/fill in the trace table\n",
    "def witness_generation(f_0, f_1, k, n):\n",
    "    \n",
    "    trace_table = []\n",
    "    \n",
    "    # init col A, B, C, S\n",
    "    f_a = f_0\n",
    "    f_b = f_1\n",
    "    f_c = f_b\n",
    "    S = F_q(1)\n",
    "    \n",
    "    for i in range(n-1):\n",
    "        f_a = f_b\n",
    "        f_b = f_c\n",
    "        f_c = f_a**2 + f_b**2\n",
    "        trace_table.append([f_a, f_b, f_c, S,-1])\n",
    "        \n",
    "    # add a blank row to get n row\n",
    "    S = 0\n",
    "    trace_table.append([-1,-1,-1, S,-1])\n",
    "    \n",
    "    # add public parameters\n",
    "    trace_table[0][4] = f_0\n",
    "    trace_table[1][4] = f_1\n",
    "    trace_table[2][4] = k\n",
    "    \n",
    "    return trace_table\n",
    "\n",
    "trace_table = witness_generation(f_0, f_1, k, n)\n",
    "print(f\"trace table is {trace_table}\")"
   ]
  },
  {
   "cell_type": "markdown",
   "id": "73cc3219",
   "metadata": {},
   "source": [
    "## Step 2: Commit to the Trace Table\n",
    "\n",
    "### interpret the trace table columns as polynomials\n",
    "\n",
    "Each column can be considered as a length-$n$ vector of finite field elements $\\rightarrow$ this vector can be regarded as the evaluation form of a polynomial $A(x)$ with degree $(n-1)$: the $i^{th}$ element of $A$ corresponds to the evaluation $A(\\omega^i)$, where $\\omega \\in F_q$ is **$n^{th}$ root of unity** and has order $n$"
   ]
  },
  {
   "cell_type": "code",
   "execution_count": 18,
   "id": "a5b58f6a",
   "metadata": {},
   "outputs": [
    {
     "name": "stdout",
     "output_type": "stream",
     "text": [
      "[[(1, 1), (1, 1), (1, 2), (1, 1), (1, 1)], [(2, 1), (2, 2), (2, 5), (2, 1), (2, 1)], [(4, 2), (4, 5), (4, 29), (4, 1), (4, 317754178345286893212434)], [(7, 5), (7, 29), (7, 866), (7, 1), (7, -1)], [(8, 29), (8, 866), (8, 750797), (8, 1), (8, -1)], [(11, 866), (11, 750797), (11, 563696885165), (11, 1), (11, -1)], [(13, 750797), (13, 563696885165), (13, 317754178345286893212434), (13, 1), (13, -1)], [(14, -1), (14, -1), (14, -1), (14, 0), (14, -1)]]\n"
     ]
    }
   ],
   "source": [
    "# find a subgroup whose order = n\n",
    "# def find_nth_root_of_unity(F_q, n):\n",
    "    \n",
    "#     while True:\n",
    "#         w = F_q.random_element()\n",
    "#         if w.multiplicative_order() == n:\n",
    "#             break\n",
    "#         else:\n",
    "#             print(f'w = {w}, whose order is {w.multiplicative_order()}, not statified')\n",
    "#     return w\n",
    "\n",
    "# w = find_nth_root_of_unity(F_q, n)\n",
    "# print(w)\n",
    "\n",
    "# find a group: {1,2,4,7,8,11,13,14}\n",
    "w_list = [1,2,4,7,8,11,13,14]\n",
    "\n",
    "# interpreting the trace table columns as polynomials, and represent the polynomials as evaluation form\n",
    "evaluation_form = []\n",
    "for row in range(len(trace_table)):\n",
    "    evaluation_form_row = []\n",
    "    for col in range(len(trace_table[0])):\n",
    "        val = trace_table[row][col]\n",
    "        evaluation_form_row.append((w_list[row], val))\n",
    "    evaluation_form.append(evaluation_form_row)\n",
    "print(evaluation_form)"
   ]
  },
  {
   "cell_type": "markdown",
   "id": "63621ec2",
   "metadata": {},
   "source": [
    "### Commit to column polynomials\n",
    "Now that we have known how to interpret the columns as polynomials, we can commit to each of them using a polynomial commitment scheme."
   ]
  },
  {
   "cell_type": "code",
   "execution_count": 19,
   "id": "dc2179fa",
   "metadata": {},
   "outputs": [
    {
     "name": "stdout",
     "output_type": "stream",
     "text": [
      "[30088*x^7 + 50816*x^6 + 98415*x^5 + 9218*x^4 + 84728*x^3 + 24705*x^2 + 69725*x + 93302, 69404*x^7 + 63763*x^6 + 37445*x^5 + 10435*x^4 + 83243*x^3 + 113184*x^2 + 26670*x + 56853, 7192*x^7 + 49562*x^6 + 104482*x^5 + 73122*x^4 + 103274*x^3 + 70563*x^2 + 29003*x + 23800, 69544*x^7 + 27948*x^6 + 57234*x^5 + 18385*x^4 + 35016*x^3 + 13295*x^2 + 95299*x + 29027, 38854*x^7 + 14495*x^6 + 17606*x^5 + 6714*x^4 + 62489*x^3 + 107799*x^2 + 5728*x + 92063]\n"
     ]
    }
   ],
   "source": [
    "poly_list = []\n",
    "for col in range(len(trace_table[0])):\n",
    "    poly_point = []\n",
    "    for i in range(n):\n",
    "        poly_point.append(evaluation_form[i][col])\n",
    "    poly = F_p_x.lagrange_polynomial(poly_point)\n",
    "    poly_list.append(poly)\n",
    "print(poly_list)"
   ]
  },
  {
   "cell_type": "markdown",
   "id": "7656502b",
   "metadata": {},
   "source": [
    "### Computing KZG commitments"
   ]
  },
  {
   "cell_type": "code",
   "execution_count": 20,
   "id": "53b526e8",
   "metadata": {},
   "outputs": [
    {
     "name": "stdout",
     "output_type": "stream",
     "text": [
      "[<builtins.G1Point object at 0x112a4f050>, <builtins.G1Point object at 0x112a4ead0>, <builtins.G1Point object at 0x112a4ec30>, <builtins.G1Point object at 0x112a4e970>, <builtins.G1Point object at 0x112a4f100>]\n"
     ]
    }
   ],
   "source": [
    "com_list = []\n",
    "for poly in poly_list:\n",
    "    com = poly_commitment(pk, g1, poly)\n",
    "    com_list.append(com)\n",
    "print(com_list)"
   ]
  },
  {
   "cell_type": "markdown",
   "id": "4199afd8",
   "metadata": {},
   "source": [
    "## Step 3: Proving the Trace Table's Correctness\n",
    "### Define the constraints of the trace table\n",
    "In order to ensure the original trace table to be valid, we should have the following constraints:\n",
    "- Square-Fibonaci constraints:\n",
    "    - each selected row $i$'s first three elements is $(a,b,c)$ must satisfy $c_i = a_i^2 + b_i^2 \\ mod \\ q$\n",
    "- Wiring constraints:\n",
    "    - for consecutive rows with value $[a_i, b_i, c_i]$ and $[a_{i+1}, b_{i+1}, c_{i+1}]$, we require $a_{i+1} = b_i$ and $b_{i+1} = c_i$\n",
    "- Public input constraints:\n",
    "    - the first row must start with the first two Square-Fibonacci numbers: $a_0 = p_0, b_0 = p_1$ \n",
    "    - the $n^{th}$ Square-Fibonacci must match the claimed result value: $c_{n-2} = p_2$\n",
    "\n",
    "The above constraints can be represented by one or more relations between the column polynomials. For example, Square-Fibonaci constraints can be expressed as $S(x)·(A(x)^2 + B(x)^2 - C(x))=0, for\\ all\\ x\\in \\{w^0, w^1, ..., w^{n-1}\\}$. For shorten, we will label left-hand side $\\phi_0(x):=S(x)·(A(x)^2 + B(x)^2 - C(x))$  All our constraints can be expressed as $\\phi_i(x) = 0,\\ for\\ all\\ x\\in \\{w^0, w^1, ..., w^{n-1}\\}$"
   ]
  },
  {
   "cell_type": "code",
   "execution_count": 23,
   "id": "c62f655a",
   "metadata": {},
   "outputs": [],
   "source": [
    "constraints_poly = []\n",
    "# Square-Fibonaci constraints\n",
    "Fi_0 = poly_list[3]*(poly_list[0]**2 + poly_list[1]**2 - poly_list[2])\n",
    "\n",
    "# wiring constraints\n",
    "\n",
    "\n",
    "Fi = Fi_0"
   ]
  },
  {
   "cell_type": "markdown",
   "id": "57799d10",
   "metadata": {},
   "source": [
    "### Combine constraints\n",
    "\n",
    "- **Naive way to proof the contraints**\n",
    "\n",
    "    In general, we have $m$ constraint polynomials $\\phi_0(x), \\phi_1(x), ..., \\phi_{m-1}(x)$. Sample a random field element $\\gamma \\in F_q$, and then take a random linear combination of the individual constraints:$$\\phi(x) := \\gamma^0·\\phi_0(x) + \\gamma^1·\\phi_1(x)+...+\\gamma^{m-1}·\\phi_{m-1}(x)$$\n",
    "    and we need the constraints satisfied at every row, that is $\\phi(\\omega^i) = 0 \\ for \\ all\\ 0\\le i <n$, in this case we need $n$ evaluation proofs\n",
    "\n",
    "\n",
    "- **Using quotient polynomial**\n",
    "\n",
    "    we can prove such constraint $\\phi(x)$ using only one evaluation proof:\n",
    "    - quotient polynomial:\n",
    "        $$\n",
    "        \\begin{aligned} \n",
    "        \\phi(\\omega^i) = 0 \\ for \\ all\\ 0\\le i <n\\ &{\\Leftrightarrow}\\ (x-\\omega^i)|\\phi(x)\\ for \\ all\\ 0\\le i<n\\\\\n",
    "        &{\\Leftrightarrow}\\ \\prod^{n-1}_{i=0}(x-\\omega^i)|\\phi(x)\\ for \\ all\\ 0\\le i <n\\\\\n",
    "        &{\\Leftrightarrow}\\ (x^n-1)|\\phi(x)\\\\\n",
    "        &{\\Leftrightarrow}\\ \\exists Q(x)\\ s.t.\\phi(x)=Q(x)·(x^n-1)\n",
    "        \\end{aligned}\n",
    "        $$\n",
    "     now we just need to prove there exists a polynomial $Q(x)$\n",
    "    - compute the quotient polynomial:\n",
    "        $$\n",
    "        Q(x):= {\\phi(x) \\over {x^n-1}} = {{\\gamma^0·\\phi_0(x) + \\gamma^1·\\phi_1(x)+...+\\gamma^{m-1}·\\phi_{m-1}(x)} \\over {x^n-1}} \n",
    "        $$\n",
    "      degree of $Q(x)$ is $2n-3$, so we need at least $2n-2$ evaluation points to represent it\n",
    "      \n",
    "      we make it a round number and use $2n$ evaluation points, our previous evaluation domain do not work anymore, because the order of $\\omega$ is only $n$. We therefore need to pick some other element $\\beta \\in F_q$ with order $2n$. Then we evaluate $Q(x)$ over the evaluation domain $\\{\\beta^0, \\beta^1,...,\\beta^{2n-1}\\}$\n",
    "      "
   ]
  },
  {
   "cell_type": "code",
   "execution_count": null,
   "id": "57987015",
   "metadata": {},
   "outputs": [],
   "source": []
  },
  {
   "cell_type": "markdown",
   "id": "3d2ccc10",
   "metadata": {},
   "source": [
    "### Committing to the quotient polynomial\n",
    "Now we have get the evaluation form of $Q(x)$, we can compute its commitment. Note, degree of $Q(x)$ is larger than the column polynomials, so it requires a larger KZG setup\n",
    "\n",
    "(in practice, we can use a trick here: split $Q(x)$ into 2 smaller polynomials with each one's degree $<n$, and commit them seperately: $Q(x) = Q_{lo}(x) + x^n·Q_{hi}(x)$ )"
   ]
  },
  {
   "cell_type": "code",
   "execution_count": null,
   "id": "b9012a20",
   "metadata": {},
   "outputs": [],
   "source": []
  },
  {
   "cell_type": "markdown",
   "id": "fcd4ed58",
   "metadata": {},
   "source": [
    "### Proving the quotient polynomial's existence\n",
    "Now we have committed all column polynomials from the trace table and have also committed to the quotient polynomial. Now the prover needs to demonstrate the quotient polynimial really exist and it was computed correctly.\n",
    "\n",
    "This can be achieve through the following steps:\n",
    "1. sample a random point $\\alpha \\in F_q$\n",
    "2. generate and output KZG proofs for all column polynimials and the quotient polynomials at point $\\alpha$\n",
    "    $$\n",
    "    Q(\\alpha):= {\\phi(\\alpha) \\over {\\alpha^n-1}} = {{\\gamma^0·\\phi_0(\\alpha) + \\gamma^1·\\phi_1(\\alpha)+...+\\gamma^{m-1}·\\phi_{m-1}(\\alpha)} \\over {\\alpha^n-1}} \n",
    "    $$\n",
    "    $\\alpha$ is sampled at random, so the property holds at $\\alpha$, then it holds everywhere"
   ]
  },
  {
   "cell_type": "code",
   "execution_count": null,
   "id": "548db655",
   "metadata": {},
   "outputs": [],
   "source": []
  },
  {
   "cell_type": "markdown",
   "id": "d9bd4d4b",
   "metadata": {},
   "source": [
    "### Verifying the quotient polynomial\n",
    "the verifier need to check two things:\n",
    "1. each evaluation proof is correct\n",
    "2. the quotient polynomial holds at point $\\alpha$"
   ]
  },
  {
   "cell_type": "code",
   "execution_count": null,
   "id": "764ad67e",
   "metadata": {},
   "outputs": [],
   "source": []
  },
  {
   "cell_type": "markdown",
   "id": "5e0c3813",
   "metadata": {},
   "source": [
    "# Appendix\n",
    "\n",
    "## KZG Implementation(Python Version)\n",
    "\n",
    "The KZG Commitment Scheme is a commitment scheme that allows to commit to a polynomial $\\Phi(x) = \\phi_0 +\\phi_1x+\\phi_2x^2+...+\\phi_lx^l$, where $\\Phi(x) \\in F_p[x]$ . 'to commit' means proving that you know the polynomial $\\Phi(x)$ without revealing it.\n",
    "\n",
    "The KZG commitment scheme consists of 4 steps:\n",
    "1. Setup\n",
    "2. Commit to Polynomials\n",
    "3. Prove an Evaluation\n",
    "4. Verify an Evaluation Proof\n",
    "\n",
    "## Step 0: Curve Preparation\n",
    "\n",
    "Curve we used is BLS12-381\n",
    "- Library we used: BLS21-381 curve implemented by Arkwork, using Python\n",
    "- Lib doc: https://pypi.org/project/py-arkworks-bls12381/"
   ]
  },
  {
   "cell_type": "code",
   "execution_count": 6,
   "id": "f81f7c8e",
   "metadata": {},
   "outputs": [
    {
     "name": "stdout",
     "output_type": "stream",
     "text": [
      "Requirement already satisfied: py-arkworks-bls12381 in /Users/yolayola/.sage/local/lib/python3.11/site-packages (0.3.4)\n",
      "\n",
      "\u001b[1m[\u001b[0m\u001b[34;49mnotice\u001b[0m\u001b[1;39;49m]\u001b[0m\u001b[39;49m A new release of pip available: \u001b[0m\u001b[31;49m22.3.1\u001b[0m\u001b[39;49m -> \u001b[0m\u001b[32;49m23.3.1\u001b[0m\n",
      "\u001b[1m[\u001b[0m\u001b[34;49mnotice\u001b[0m\u001b[1;39;49m]\u001b[0m\u001b[39;49m To update, run: \u001b[0m\u001b[32;49mpip install --upgrade pip\u001b[0m\n"
     ]
    }
   ],
   "source": [
    "!pip install py-arkworks-bls12381"
   ]
  },
  {
   "cell_type": "markdown",
   "id": "f32b6378",
   "metadata": {},
   "source": [
    "## Step 1: Setup\n",
    "\n",
    "The first step is an one-time trusted setup and once it has done once, the following steps can be done repeatedly\n",
    "1. Let $G_1$ and $G_2$ be pairing-friendly elliptic curve groups\n",
    "2. Let $g_1$ be a generator of $G_1$ and $g_2$ be a generator of $G_2$\n",
    "3. Let $l$ be the maximum degree of the polymonials we want to commit to ($l < p$)\n",
    "4. Pick a random field element as secret parameter $\\tau \\in F_p$(usually done by MPC, to simplify, we just randomly choose one here)\n",
    "5. Compute pp(public parameters)$$pk = (g_1, g_1^\\tau, g_1^{\\tau^2},...,g_1^{\\tau^l}), vk = g_2^\\tau$$ and release it publicly\n",
    "6. Discard secret parameter $\\tau$ once the setup ceremony is done so that nobody can figure out its value"
   ]
  },
  {
   "cell_type": "code",
   "execution_count": 7,
   "id": "b94e3e32",
   "metadata": {},
   "outputs": [
    {
     "name": "stdout",
     "output_type": "stream",
     "text": [
      "secret parameter 𝜏 is 5747\n",
      "pk: [<builtins.G1Point object at 0x112a4e130>, <builtins.G1Point object at 0x112a4e080>, <builtins.G1Point object at 0x112a4e1e0>, <builtins.G1Point object at 0x112a4e290>, <builtins.G1Point object at 0x112a4e340>, <builtins.G1Point object at 0x112a4e3f0>, <builtins.G1Point object at 0x112a4e4a0>, <builtins.G1Point object at 0x112a4e550>, <builtins.G1Point object at 0x112a4e600>, <builtins.G1Point object at 0x112a4e6b0>, <builtins.G1Point object at 0x112a4e760>, <builtins.G1Point object at 0x112a4e810>, <builtins.G1Point object at 0x112a4e8c0>], vk: a201e718afed0367e547d76e245057cd1b39e171328c343a075abedd6ecb74ddc54d46a7b1c311a67d5253373bca6f5f1414bf06438372210570daadcda96fc570de53124e6a57e9b337eeaa378cddb6e72892ae64290c80cae5870b7a0ec003\n"
     ]
    }
   ],
   "source": [
    "from py_arkworks_bls12381 import G1Point, G2Point, Scalar\n",
    "from sage import *\n",
    "\n",
    "# 1. Let G be a pairing-friendly elliptic curve group, and G1 is the G\n",
    "\n",
    "# 2. Let g be a generator of G\n",
    "g1 = G1Point()\n",
    "g2 = G2Point()\n",
    "\n",
    "# 3. Let l be the maximum degree of the polymonials, which is 12(by the definition of the curve)\n",
    "l = 12\n",
    "\n",
    "# 4. Pick a random field element as secret parameter t\n",
    "# ! cannot use real p, when exceed 2^127, scalar will warning \"overflow\"\n",
    "# p = 0x1a0111ea397fe69a4b1ba7b6434bacd764774b84f38512bf6730d2a0f6b0f6241eabfffeb153ffffb9feffffffffaaab\n",
    "# F_p = GF(p)\n",
    "# t = F_p.random_element()\n",
    "p = 115249\n",
    "F_p = GF(p)\n",
    "t = F_p.random_element()\n",
    "print(f'secret parameter 𝜏 is {t}')\n",
    "\n",
    "# 5. Compute pp(public parameters)\n",
    "def compute_public_parameters(g1, g2, t, l):\n",
    "    \n",
    "    pk = []\n",
    "    accumulated = Scalar(1)\n",
    "    t_scalar = Scalar(t)\n",
    "    for i in range(l + 1):\n",
    "        pk.append(g1 * accumulated)\n",
    "        accumulated = accumulated * t_scalar\n",
    "    vk = g2 * Scalar(t)\n",
    "    return pk, vk\n",
    "\n",
    "pk, vk = compute_public_parameters(g1, g2, t, l)\n",
    "print(f'pk: {pk}, vk: {vk}')"
   ]
  },
  {
   "cell_type": "markdown",
   "id": "00ebe9ad",
   "metadata": {},
   "source": [
    "## Step 2: Commit to Polynomials\n",
    "In reality, we arithmetize circuits and use Plonkish to get polynomials in this step\n",
    "1. Given a polynomial $\\Phi(x) = \\sum_{i=0}^l \\phi_i x^i$\n",
    "2. Compute and output commitment $c = g^{\\Phi(\\tau)}$\n",
    "   - Wait! $\\tau$ has already been discard right? How can committer compute $\\tau$?\n",
    "   - Although he cannot compute $\\Phi(\\tau)$ directly, he can use public parameters to help with it: \n",
    "$$\\prod_{i=0}^l(g^{\\tau^i})^{\\phi_i} = g^{\\sum_{i=0}^l \\phi_i \\tau^i} = g^{\\Phi(\\tau)}$$"
   ]
  },
  {
   "cell_type": "code",
   "execution_count": 8,
   "id": "b6663847",
   "metadata": {},
   "outputs": [],
   "source": [
    "# assume we have done plonk and get our polynomial Φ(𝑥)=4x^2+5x+3 and some point (0,3),(1,12),(3,54) on the poly\n",
    "# poly_coefs = [3, 5, 4]\n",
    "poly_point = [(0,3),(1,12),(3,54)]"
   ]
  },
  {
   "cell_type": "code",
   "execution_count": 9,
   "id": "6790f3bc",
   "metadata": {},
   "outputs": [
    {
     "data": {
      "text/plain": [
       "Univariate Polynomial Ring in x over Finite Field of size 115249"
      ]
     },
     "execution_count": 9,
     "metadata": {},
     "output_type": "execute_result"
    }
   ],
   "source": [
    "# create a polynomial ring F_p(x)\n",
    "F_p_x.<x> = PolynomialRing(F_p)\n",
    "F_p_x"
   ]
  },
  {
   "cell_type": "code",
   "execution_count": 10,
   "id": "36288fe7",
   "metadata": {},
   "outputs": [
    {
     "data": {
      "text/plain": [
       "4*x^2 + 5*x + 3"
      ]
     },
     "execution_count": 10,
     "metadata": {},
     "output_type": "execute_result"
    }
   ],
   "source": [
    "poly = F_p_x.lagrange_polynomial(poly_point)\n",
    "poly"
   ]
  },
  {
   "cell_type": "code",
   "execution_count": 11,
   "id": "6562d630",
   "metadata": {},
   "outputs": [
    {
     "name": "stdout",
     "output_type": "stream",
     "text": [
      "commitment of polynomial is b4b882fbc091071b7d7f245bb56de3148ae627aa9db1fdcfa38ced8bb47222890940ffa078f150c74fc40d535d04db97\n"
     ]
    }
   ],
   "source": [
    "def poly_commitment(pk, g1, poly):\n",
    "\n",
    "    poly_coefs = poly.coefficients()\n",
    "    com = G1Point.identity()\n",
    "    \n",
    "    for i in range(len(poly_coefs)):\n",
    "        com = pk[i] * Scalar(poly_coefs[i]) + com\n",
    "    return com\n",
    "        \n",
    "com = poly_commitment(pk, g1, poly)\n",
    "print(f'commitment of polynomial is {com}')"
   ]
  },
  {
   "cell_type": "markdown",
   "id": "d0374471",
   "metadata": {},
   "source": [
    "## Step 3: Prove an Evaluation\n",
    "In this period, the Verifier will ask Prover to 'OPEN' the commitment $c$ to a random specific point $a \\in F_p$, in other word, Prover have to evaluation $\\Phi(x)$ and commit the result in the form of opening triplet $OT = (a, b, \\pi)$\n",
    "1. Given an evaluation $\\Phi(a) = b$\n",
    "2. Compute and output proof of the evaluation $\\pi = g^{q(\\tau)}$, where $q(x) := \\frac{\\Phi(x)-b}{x-a}$\n",
    "    - $q(x)$ is quotient polynomial: if $\\Phi(a) = b$, that means $a$ is a root of $\\Phi(x) - b$\n",
    "    - so $\\Phi(x) - b$ can be expressed as $\\Phi(x) - b = q(x)(x-a)$, $q(x)$ is a polynomial\n",
    "    - on the other hand, $q(x)$ exists if and only if $\\Phi(a) = b$, so the existence of this quotient polynomial therefore serves as a proof of the evaluation"
   ]
  },
  {
   "cell_type": "code",
   "execution_count": 12,
   "id": "a1b7823c",
   "metadata": {},
   "outputs": [
    {
     "name": "stdout",
     "output_type": "stream",
     "text": [
      "random element we chosen is 1, the evaluation b is 12\n",
      "quotient polynomial is 4*x + 9\n",
      "proof of the evaluation pi is 8a2569d40ee9d38b3ac95f53bcf0c896660f7120f6f2c3e9f7a56f6e6df2bd7b5fad2c8fed84388515d1ba1ae4a72d6a\n"
     ]
    }
   ],
   "source": [
    "# Verifier first choose the random point a\n",
    "# a = F_p.random_element()\n",
    "# b = poly(a)\n",
    "a = 1\n",
    "b = poly(a)\n",
    "\n",
    "print(f'random element we chosen is {a}, the evaluation b is {b}')\n",
    "\n",
    "# compute q(x)\n",
    "q_poly = ((poly-b)/(x-a)).numerator()\n",
    "print(f'quotient polynomial is {q_poly}')\n",
    "\n",
    "# compute proof of the evaluation pi\n",
    "pi = poly_commitment(pk, g1,  q_poly)\n",
    "print(f'proof of the evaluation pi is {pi}')"
   ]
  },
  {
   "cell_type": "markdown",
   "id": "fd4b17cb",
   "metadata": {},
   "source": [
    "## Step 4: Verify an Evaluation Proof\n",
    "1. Given a commitment $c = g^{\\Phi(\\tau)}$, and an evaluation $\\Phi(a) = b$, and a proof $\\pi = g^{q(\\tau)}$\n",
    "2. Verify that $e(\\frac{c}{g^b}, g) = e(\\pi,\\frac{g^\\tau}{g^a})$, where $e$ is a non-trivial bilinear mapping\n",
    "    - the purpose of verification: $\\Phi(x) - b = q(x)(x-a)$, checking this equality holds for $x = \\tau$\n",
    "    - according to the definition of bilinear mapping, it is equivalent to: $e(g_1, g_2)^{\\Phi(\\tau) - b} = e(g_1, g_2)^{q(\\tau)(\\tau-a)}$, that is $e(g_1^{\\Phi(\\tau) - b}, g_2) = e(g_1^{q(\\tau)}, g_2^{\\tau-a})$\n",
    "    - that is $e(com-g_1^b, g_2) = e(\\pi, vk - g_2^a)$"
   ]
  },
  {
   "cell_type": "code",
   "execution_count": 13,
   "id": "67b6b801",
   "metadata": {},
   "outputs": [],
   "source": [
    "from py_arkworks_bls12381 import GT\n",
    "\n",
    "\n",
    "# now it is time to do the varification\n",
    "assert GT.pairing(com - g1*Scalar(b), g2) == GT.pairing(pi, vk - g2*Scalar(a))"
   ]
  },
  {
   "cell_type": "code",
   "execution_count": 14,
   "id": "85fcc847",
   "metadata": {},
   "outputs": [
    {
     "data": {
      "text/plain": [
       "<builtins.GT object at 0x12cfedd00>"
      ]
     },
     "execution_count": 14,
     "metadata": {},
     "output_type": "execute_result"
    }
   ],
   "source": [
    "GT.pairing(com - g1*Scalar(b), g2)"
   ]
  },
  {
   "cell_type": "code",
   "execution_count": 15,
   "id": "6cc85eb7",
   "metadata": {},
   "outputs": [
    {
     "data": {
      "text/plain": [
       "<builtins.GT object at 0x11e544f90>"
      ]
     },
     "execution_count": 15,
     "metadata": {},
     "output_type": "execute_result"
    }
   ],
   "source": [
    "GT.pairing(pi, vk - g2*Scalar(a))"
   ]
  },
  {
   "cell_type": "code",
   "execution_count": null,
   "id": "242ac134",
   "metadata": {},
   "outputs": [],
   "source": []
  }
 ],
 "metadata": {
  "kernelspec": {
   "display_name": "SageMath 10.1",
   "language": "sage",
   "name": "sagemath-10.1"
  },
  "language_info": {
   "codemirror_mode": {
    "name": "ipython",
    "version": 3
   },
   "file_extension": ".py",
   "mimetype": "text/x-python",
   "name": "python",
   "nbconvert_exporter": "python",
   "pygments_lexer": "ipython3",
   "version": "3.11.1"
  }
 },
 "nbformat": 4,
 "nbformat_minor": 5
}
