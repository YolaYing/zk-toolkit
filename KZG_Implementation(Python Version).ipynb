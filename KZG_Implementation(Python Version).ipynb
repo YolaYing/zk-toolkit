{
 "cells": [
  {
   "cell_type": "markdown",
   "id": "7bde0c1f",
   "metadata": {},
   "source": [
    "# KZG Implementation(Python Version)"
   ]
  },
  {
   "cell_type": "markdown",
   "id": "d2354262",
   "metadata": {},
   "source": [
    "The KZG Commitment Scheme is a commitment scheme that allows to commit to a polynomial $\\Phi(x) = \\phi_0 +\\phi_1x+\\phi_2x^2+...+\\phi_lx^l$, where $\\Phi(x) \\in F_p[x]$ . 'to commit' means proving that you know the polynomial $\\Phi(x)$ without revealing it.\n",
    "\n",
    "The KZG commitment scheme consists of 4 steps:\n",
    "1. Setup\n",
    "2. Commit to Polynomials\n",
    "3. Prove an Evaluation\n",
    "4. Verify an Evaluation Proof"
   ]
  },
  {
   "cell_type": "code",
   "execution_count": 1,
   "id": "f78a8458",
   "metadata": {},
   "outputs": [],
   "source": [
    "from sage import *"
   ]
  },
  {
   "cell_type": "markdown",
   "id": "357e8b1d",
   "metadata": {},
   "source": [
    "## Step 1: Setup\n",
    "\n",
    "The first step is an one-time trusted setup and once it has done once, the following steps can be done repeatedly\n",
    "1. Let $G$ be a pairing-friendly elliptic curve group\n",
    "2. Let $g$ be a generator of $G$\n",
    "3. Let $l$ be the maximum degree of the polymonials we want to commit to ($l < p$)\n",
    "4. Pick some random field element as secret parameter $\\tau \\in F_p$(usually done by MPC, to simplify, we just randomly choose one here)\n",
    "5. Compute pp(public parameters)$$(g, g^\\tau, g^{\\tau^2},...,g^{\\tau^l})$$ and release it publicly\n",
    "6. Discard secret parameter $\\tau$ once the setup ceremony is done so that nobody can figure out its value"
   ]
  },
  {
   "cell_type": "code",
   "execution_count": 15,
   "id": "52bb1c87",
   "metadata": {},
   "outputs": [
    {
     "name": "stdout",
     "output_type": "stream",
     "text": [
      "Our safe random prime is 53267\n"
     ]
    }
   ],
   "source": [
    "# generate a ramdom prime p with k bits of security\n",
    "def safe_random_prime(k):\n",
    "    '''generate a random prime p\n",
    "    \n",
    "    usually when p = 2q + 1, for p,q are all prime, then p is a secure prime which can reach the maxium security\n",
    "    \n",
    "    Args:\n",
    "        k: k bits of security that we want to achieve in the commitment scheme\n",
    "    '''\n",
    "    while true:\n",
    "        p = random_prime(2^k-1, false, 2^(k-1))\n",
    "        if ZZ((p-1)/2).is_prime():\n",
    "            return p\n",
    "        \n",
    "# usually we need k to be at least 128 bits, but we use 16 here just for demo  \n",
    "k = 16\n",
    "p = safe_random_prime(k)\n",
    "print(f'Our safe random prime is {p}')"
   ]
  },
  {
   "cell_type": "code",
   "execution_count": 16,
   "id": "de127113",
   "metadata": {},
   "outputs": [
    {
     "name": "stdout",
     "output_type": "stream",
     "text": [
      "generator g is 2\n",
      "the maximum degree l of the polymonials is 6348\n",
      "secret parameter 𝜏 is 23812\n",
      "the first 10 elements of public parameters are: [2, 47624, 21525, 18226, 31263, 28231, 7032, 27803, 42760, 2415]\n"
     ]
    }
   ],
   "source": [
    "# define galois field\n",
    "F_p = GF(p)\n",
    "\n",
    "# 1. Let G be a pairing-friendly elliptic curve group\n",
    "    # to simplify, the elliptic curve group G is also a galois field here, just because it is cyclic and has a generator g\n",
    "    # but it is less secure for sure, we will replace it in the subsequent project\n",
    "G = F_p\n",
    "\n",
    "# 2. Let g be a generator of G\n",
    "g = G.multiplicative_generator()\n",
    "print(f'generator g is {g}')\n",
    "\n",
    "# 3. Let l be the maximum degree of the polymonials we want to commit to, where l < p\n",
    "    # randomly generate here\n",
    "l = 0\n",
    "while l == 0:\n",
    "    l = F_p.random_element()\n",
    "print(f'the maximum degree l of the polymonials is {l}')\n",
    "\n",
    "# 4. Pick some random field element as secret parameter 𝜏, and pretend we have discard it :p\n",
    "t = F_p.random_element()\n",
    "print(f'secret parameter 𝜏 is {t}')\n",
    "\n",
    "# 5. Compute pp(public parameters)\n",
    "def compute_public_parameters(F_p, t, l):\n",
    "    \n",
    "    PP = []\n",
    "    accumulated = 1\n",
    "    for i in range(l+1):\n",
    "        PP.append(F_p.prod((accumulated, g)))\n",
    "        accumulated = F_p.prod((accumulated, t))\n",
    "    return PP\n",
    "\n",
    "PP = compute_public_parameters(F_p, t, l)\n",
    "print(f'the first 10 elements of public parameters are: {PP[:10]}')\n",
    "        \n",
    "# *define a pairing e: G*G-> G_T, we define the simple pairing e(g1, g2) -> g1*g2 (mod p)\n",
    "def e(g1, g2):\n",
    "    return F_p.prod((g1, g2))"
   ]
  },
  {
   "cell_type": "markdown",
   "id": "f83c3232",
   "metadata": {},
   "source": [
    "## Step 2: Commit to Polynomials\n",
    "In reality, we arithmetize circuits and use Plonkish to get polynomials in this step\n",
    "1. Given a polynomial $\\Phi(x) = \\sum_{i=0}^l \\phi_i x^i$\n",
    "2. Compute and output commitment $c = g^{\\Phi(\\tau)}$\n",
    "   - Wait! $\\tau$ has already been discard right? How can committer compute $\\tau$?\n",
    "   - Although he cannot compute $\\Phi(\\tau)$ directly, he can use public parameters to help with it: \n",
    "$$\\prod_{i=0}^l(g^{\\tau^i})^{\\phi_i} = g^{\\sum_{i=0}^l \\phi_i \\tau^i} = g^{\\Phi(\\tau)}$$"
   ]
  },
  {
   "cell_type": "code",
   "execution_count": 17,
   "id": "1a093e86",
   "metadata": {},
   "outputs": [],
   "source": [
    "# assume we have done plonk and get our polynomial Φ(𝑥)=4x^2+5x+3 and some point (0,3),(1,12),(3,54) on the poly\n",
    "# poly_coefs = [3, 5, 4]\n",
    "poly_point = [(0,3),(1,12),(3,54)]"
   ]
  },
  {
   "cell_type": "code",
   "execution_count": 18,
   "id": "ee421b36",
   "metadata": {},
   "outputs": [
    {
     "data": {
      "text/plain": [
       "Univariate Polynomial Ring in x over Finite Field of size 53267"
      ]
     },
     "execution_count": 18,
     "metadata": {},
     "output_type": "execute_result"
    }
   ],
   "source": [
    "# create a polynomial ring F_p(x)\n",
    "F_p_x.<x> = PolynomialRing(F_p)\n",
    "F_p_x"
   ]
  },
  {
   "cell_type": "code",
   "execution_count": 19,
   "id": "3a229783",
   "metadata": {},
   "outputs": [
    {
     "data": {
      "text/plain": [
       "4*x^2 + 5*x + 3"
      ]
     },
     "execution_count": 19,
     "metadata": {},
     "output_type": "execute_result"
    }
   ],
   "source": [
    "poly = F_p_x.lagrange_polynomial(poly_point)\n",
    "poly"
   ]
  },
  {
   "cell_type": "code",
   "execution_count": 20,
   "id": "88b43850",
   "metadata": {},
   "outputs": [
    {
     "name": "stdout",
     "output_type": "stream",
     "text": [
      "commitment of polynomial is 51811\n"
     ]
    }
   ],
   "source": [
    "def poly_commitment(PP, poly):\n",
    "\n",
    "    com = 1\n",
    "    poly_coefs = poly.coefficients()\n",
    "    for i in range(len(poly_coefs)):\n",
    "        com = G.prod((com,G(PP[i]**poly_coefs[i])))\n",
    "#         print('PP[',i,']=',PP[i],',poly_coefs[',i,']=',poly_coefs[i],'temp com=',com,'\\n')\n",
    "    return com\n",
    "        \n",
    "com = poly_commitment(PP, poly)\n",
    "print(f'commitment of polynomial is {com}')"
   ]
  },
  {
   "cell_type": "markdown",
   "id": "bd629127",
   "metadata": {},
   "source": [
    "## Step 3: Prove an Evaluation\n",
    "In this period, the Verifier will ask Prover to 'OPEN' the commitment $c$ to a random specific point $a \\in F_p$, in other word, Prover have to evaluation $\\Phi(x)$ and commit the result in the form of opening triplet $OT = (a, b, \\pi)$\n",
    "1. Given an evaluation $\\Phi(a) = b$\n",
    "2. Compute and output proof of the evaluation $\\pi = g^{q(\\tau)}$, where $q(x) := \\frac{\\Phi(x)-b}{x-a}$\n",
    "    - $q(x)$ is quotient polynomial: if $\\Phi(a) = b$, that means $a$ is a root of $\\Phi(x) - b$\n",
    "    - so $\\Phi(x) - b$ can be expressed as $\\Phi(x) - b = q(x)(x-a)$, $q(x)$ is a polynomial\n",
    "    - on the other hand, $q(x)$ exists if and only if $\\Phi(a) = b$, so the existence of this quotient polynomial therefore serves as a proof of the evaluation"
   ]
  },
  {
   "cell_type": "code",
   "execution_count": 21,
   "id": "9b135937",
   "metadata": {},
   "outputs": [
    {
     "name": "stdout",
     "output_type": "stream",
     "text": [
      "random element we chosen is 52454, the evaluation b is 29731\n",
      "quotient polynomial is 4*x + 50020\n",
      "proof of the evaluation pi is 40370\n"
     ]
    }
   ],
   "source": [
    "# Verifier first choose the random point a\n",
    "a = F_p.random_element()\n",
    "b = poly(a)\n",
    "\n",
    "print(f'random element we chosen is {a}, the evaluation b is {b}')\n",
    "\n",
    "# compute q(x)\n",
    "q_poly = ((poly-b)/(x-a)).numerator()\n",
    "print(f'quotient polynomial is {q_poly}')\n",
    "\n",
    "# compute proof of the evaluation pi\n",
    "pi = poly_commitment(PP, q_poly)\n",
    "print(f'proof of the evaluation pi is {pi}')\n",
    "\n",
    "        "
   ]
  },
  {
   "cell_type": "markdown",
   "id": "b467f2c0",
   "metadata": {},
   "source": [
    "## Step 4: Verify an Evaluation Proof\n",
    "1. Given a commitment $c = g^{\\Phi(\\tau)}$, and an evaluation $\\Phi(a) = b$, and a proof $\\pi = g^{q(\\tau)}$\n",
    "2. Verify that $e(\\frac{c}{g^b}, g) = e(\\pi,\\frac{g^\\tau}{g^a})$, where $e$ is a non-trivial bilinear mapping"
   ]
  },
  {
   "cell_type": "code",
   "execution_count": null,
   "id": "68cbe96e",
   "metadata": {},
   "outputs": [],
   "source": [
    "# now it is time to do the varification\n",
    "e(com/G(g**b), g) == e(pi, G(g**t/g**a))"
   ]
  },
  {
   "cell_type": "code",
   "execution_count": null,
   "id": "0549bcec",
   "metadata": {},
   "outputs": [],
   "source": [
    " e(pi, g**t/g**a)"
   ]
  },
  {
   "cell_type": "code",
   "execution_count": null,
   "id": "486cdab1",
   "metadata": {},
   "outputs": [],
   "source": [
    "e(com/g**b, g)"
   ]
  },
  {
   "cell_type": "code",
   "execution_count": null,
   "id": "806314a4",
   "metadata": {},
   "outputs": [],
   "source": []
  }
 ],
 "metadata": {
  "kernelspec": {
   "display_name": "SageMath 10.1",
   "language": "sage",
   "name": "sagemath-10.1"
  },
  "language_info": {
   "codemirror_mode": {
    "name": "ipython",
    "version": 3
   },
   "file_extension": ".py",
   "mimetype": "text/x-python",
   "name": "python",
   "nbconvert_exporter": "python",
   "pygments_lexer": "ipython3",
   "version": "3.11.1"
  }
 },
 "nbformat": 4,
 "nbformat_minor": 5
}
