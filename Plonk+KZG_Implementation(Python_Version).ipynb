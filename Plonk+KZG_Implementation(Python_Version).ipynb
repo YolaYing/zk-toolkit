{
  "nbformat": 4,
  "nbformat_minor": 0,
  "metadata": {
    "colab": {
      "provenance": [],
      "collapsed_sections": [
        "6-LT_CUcF5sj",
        "di927G65Ye1J"
      ],
      "authorship_tag": "ABX9TyPeFEUgB17qCAGJxEJkZ8CE",
      "include_colab_link": true
    },
    "kernelspec": {
      "name": "python3",
      "display_name": "Python 3"
    },
    "language_info": {
      "name": "python"
    }
  },
  "cells": [
    {
      "cell_type": "markdown",
      "metadata": {
        "id": "view-in-github",
        "colab_type": "text"
      },
      "source": [
        "<a href=\"https://colab.research.google.com/github/YolaYing/zk-toolkit/blob/main/Plonk%2BKZG_Implementation(Python_Version).ipynb\" target=\"_parent\"><img src=\"https://colab.research.google.com/assets/colab-badge.svg\" alt=\"Open In Colab\"/></a>"
      ]
    },
    {
      "cell_type": "markdown",
      "source": [
        "# Develope Environment Preparation\n",
        "Curve we used is BLS12-381\n",
        "- Library we used: BLS21-381 curve implemented by Ethereum, using Python\n",
        "- Lib link: https://github.com/ethereum/py_ecc/tree/main\n",
        "\n",
        "You can use the following command to install all the packages we needed. Note that if you are using anaconda, package installation may be failed. Highly recommand using colab or some development friendly environment."
      ],
      "metadata": {
        "id": "XDSUSR7mEtlN"
      }
    },
    {
      "cell_type": "code",
      "execution_count": 50,
      "metadata": {
        "colab": {
          "base_uri": "https://localhost:8080/"
        },
        "id": "FDe0iCZyEKD3",
        "outputId": "694c4924-468c-4b30-af10-22bda0fa1047"
      },
      "outputs": [
        {
          "output_type": "stream",
          "name": "stdout",
          "text": [
            "Requirement already satisfied: py_ecc in /usr/local/lib/python3.10/dist-packages (7.0.0)\n",
            "Requirement already satisfied: eth-typing>=3.0.0 in /usr/local/lib/python3.10/dist-packages (from py_ecc) (3.5.2)\n",
            "Requirement already satisfied: eth-utils>=2.0.0 in /usr/local/lib/python3.10/dist-packages (from py_ecc) (2.3.1)\n",
            "Requirement already satisfied: cached-property>=1.5.1 in /usr/local/lib/python3.10/dist-packages (from py_ecc) (1.5.2)\n",
            "Requirement already satisfied: typing-extensions>=4.0.1 in /usr/local/lib/python3.10/dist-packages (from eth-typing>=3.0.0->py_ecc) (4.5.0)\n",
            "Requirement already satisfied: eth-hash>=0.3.1 in /usr/local/lib/python3.10/dist-packages (from eth-utils>=2.0.0->py_ecc) (0.5.2)\n",
            "Requirement already satisfied: cytoolz>=0.10.1 in /usr/local/lib/python3.10/dist-packages (from eth-utils>=2.0.0->py_ecc) (0.12.2)\n",
            "Requirement already satisfied: toolz>=0.8.0 in /usr/local/lib/python3.10/dist-packages (from cytoolz>=0.10.1->eth-utils>=2.0.0->py_ecc) (0.12.0)\n"
          ]
        }
      ],
      "source": [
        "!pip3 install py_ecc"
      ]
    },
    {
      "cell_type": "markdown",
      "source": [
        "# Preliminaries\n"
      ],
      "metadata": {
        "id": "F8XQWxyrf_a9"
      }
    },
    {
      "cell_type": "markdown",
      "source": [
        "## Form of Polynomial Representations(using baby parameters for demonstration)\n",
        "\n",
        "A polynomial $\\Phi(x) = \\sum_{i = 0}^{n - 1} \\phi_ix^i$ have two representation forms:\n",
        "1. Coefficient Form\n",
        "  - $\\Phi(x)$ can be represeneted as a tuple of $n$ coefficients: $[\\phi_0, \\phi_1, ..., \\phi_{n-1}]$\n",
        "2. Evaluation Form\n",
        "  - $\\Phi(x)$ can be represeneted as a tuple of $n$ distinct evaluations: $[\\Phi(x_0), \\Phi(x_1), ..., \\Phi(x_{n-1})]$\n",
        "    - the set of values $\\\\{ x_0, x_1, ..., x_{n-1} \\\\}$ over which the polynomial is defined over is known as \"evaluation domain\""
      ],
      "metadata": {
        "id": "V_bza7lHgToL"
      }
    },
    {
      "cell_type": "code",
      "source": [
        "# For example, assume we have a polynomial Φ(𝑥)=4x^3+5x^2+3x+2 and some points on the polynomials\n",
        "q = 17\n",
        "poly_coefs = [2, 3, 5, 4]\n",
        "evaluation_domain = [1, 4, 16, 13]\n",
        "poly_evals = [14, 10, 0, 1]\n",
        "\n",
        "print(f'coefficient form of phi(x) is {poly_coefs}')\n",
        "print(f'evaluation form of phi(x) is {poly_evals}, defined over evaluation domain {evaluation_domain}')"
      ],
      "metadata": {
        "colab": {
          "base_uri": "https://localhost:8080/"
        },
        "id": "5cPrvhiMkGQo",
        "outputId": "cd77307a-4fbb-4826-f8b8-65ce1a905f5b"
      },
      "execution_count": 53,
      "outputs": [
        {
          "output_type": "stream",
          "name": "stdout",
          "text": [
            "coefficient form of phi(x) is [2, 3, 5, 4]\n",
            "evaluation form of phi(x) is [14, 10, 0, 1], defined over evaluation domain [1, 4, 16, 13]\n"
          ]
        }
      ]
    },
    {
      "cell_type": "markdown",
      "source": [
        "## Convert between Coefficient Form and Evaluation Form\n",
        "\n",
        "### Defination\n",
        "- **Fourier Transform**: convert from coefficient to evaluation\n",
        "- **inverse Fourier Transform**: convert from evaluation to coefficient\n",
        "\n",
        "\n",
        "### Naive Way\n",
        "In naive way, each of those two transformation takes $O(n^2)$ computation\n",
        "- **Fourier Transform**: evaluate $\\Phi(x)$ at each $x_i$ in the evaluation domain\n",
        "- **inverse Fourier Transform**: use *Lagrange Interpolation* to obtain unique degree $(n-1)$ polynomial passes through each of the $n$ points\n",
        "\n",
        "\n",
        "### Optimized Way: Fast Fourier Transformation(FFT)\n",
        "To improve the effectiveness of the transformation, we need to do the following steps:\n",
        "- defined polynomials over finite field\n",
        "  - restrict each coefficient $p_i \\in F_q$ and each evaluation point $\\Phi(x_i) \\in F_q$\n",
        "  - $q$ stands for curve order\n",
        "- defined the evaluation domain as a multiplicative subgroup of $F_q$\n",
        "  - evaluation domain is a set of \"$n^{th}$ roots of unity\", $\\{ \\omega_0, \\omega_1, ..., \\omega_{n-1} \\}$ for some element $\\omega \\in F_q$ with order $n$(i.e. $\\omega^n = 1$ mod $q$)\n",
        "- implementation of FFT algorithm\n",
        "  - if you are not familiar with FFT, highly recommend this video: https://www.youtube.com/watch?v=h7apO7q16V0"
      ],
      "metadata": {
        "id": "gLEGo27ZlBNe"
      }
    },
    {
      "cell_type": "code",
      "source": [
        "import random\n",
        "\n",
        "def FFT(poly_coefs, q):\n",
        "  '''\n",
        "  Args:\n",
        "  poly_coefs: coefficient representation of the polynomial\n",
        "\n",
        "  Returns:\n",
        "  y: evaluation form of the polynomial\n",
        "  '''\n",
        "  # get the degree of the polynomial\n",
        "  n = len(poly_coefs)\n",
        "  if n == 1:\n",
        "    return poly_coefs\n",
        "\n",
        "  # in theory, omega should be the nth root of unity, which is a complex number\n",
        "  # to use it in finite field, we use a algorithm here\n",
        "  omega = find_nth_root_of_unity(n, q)\n",
        "  print(f'{n}^th of unity is {omega}')\n",
        "  poly_coefs_e = poly_coefs[::2]\n",
        "  poly_coefs_o = poly_coefs[1::2]\n",
        "  y_e = FFT(poly_coefs_e, q)\n",
        "  y_o = FFT(poly_coefs_o, q)\n",
        "  y = [0] * n\n",
        "  for j in range(int(n/2)):\n",
        "    y[j] = int(y_e[j] + (omega**j)*y_o[j]) % q\n",
        "    y[j + int(n/2)] = int(y_e[j] - (omega**j)*y_o[j]) % q\n",
        "  return y\n",
        "\n",
        "\n",
        "def find_nth_root_of_unity(n, q):\n",
        "  '''\n",
        "  Args:\n",
        "  n: nth root of unity, which is the degree of polynomial\n",
        "  q: finite field q\n",
        "\n",
        "  Returns:\n",
        "  omega: the nth root of unity, which is a element in finite field\n",
        "  '''\n",
        "  omega = 1\n",
        "  while(omega**(n/2) == 1 and omega != 0):\n",
        "    x = random.randint(0, q)\n",
        "    omega = x**((q-1)/n) % q\n",
        "  return omega\n",
        "\n",
        "print(f'coefficient form of phi(x) is {poly_coefs}, after FFT, we can get the evaluation form of phi(x) is {FFT(poly_coefs, 17)}')\n",
        ""
      ],
      "metadata": {
        "colab": {
          "base_uri": "https://localhost:8080/"
        },
        "id": "uUFr9iQO4G7v",
        "outputId": "fbd9da85-9347-4fc5-e1f8-b8ef35947ad4"
      },
      "execution_count": 52,
      "outputs": [
        {
          "output_type": "stream",
          "name": "stdout",
          "text": [
            "4^th of unity is 13.0\n",
            "2^th of unity is 16.0\n",
            "2^th of unity is 0.0\n",
            "coefficient form of phi(x) is [2, 3, 5, 4], after FFT, we can get the evaluation form of phi(x) is [14, 1, 0, 10]\n"
          ]
        }
      ]
    },
    {
      "cell_type": "code",
      "source": [
        "# verification of FFT result\n",
        "omega = 13\n",
        "q = 17\n",
        "for i in range(len(poly_coefs)):\n",
        "    x = omega**i % q\n",
        "    print(f'x = {x}, poly(x) = {(4*(x**3)+5*(x**2)+3*x+2) % q}')"
      ],
      "metadata": {
        "colab": {
          "base_uri": "https://localhost:8080/"
        },
        "id": "YFE5EEwYJ-7l",
        "outputId": "a44b6658-def6-4263-e09e-90d436b2fd7e"
      },
      "execution_count": 4,
      "outputs": [
        {
          "output_type": "stream",
          "name": "stdout",
          "text": [
            "x = 1, poly(x) = 14\n",
            "x = 13, poly(x) = 1\n",
            "x = 16, poly(x) = 0\n",
            "x = 4, poly(x) = 10\n"
          ]
        }
      ]
    },
    {
      "cell_type": "markdown",
      "source": [
        "Because the calculation of finding evaluation domain is a repeated and computation intensive step, so usually we just build a lookup table to store the pre-calculated result. Here we just slightly revise FFT algorithm to meet the lookup needs."
      ],
      "metadata": {
        "id": "NiwOdwl7qZ-u"
      }
    },
    {
      "cell_type": "code",
      "source": [
        "# omega generation can be quite computational intensive, so we tend to pre-calculate the lookup table for omega\n",
        "# we assume n = 8, and we have a multiplication cyclic group with ord = 8, which is [1,2,4,8,16,15,13,9] with 2 as its generator and 17 as module\n",
        "\n",
        "# create a lookup table\n",
        "n_max = 8\n",
        "q = 17\n",
        "omega_list = [1,2,4,8,16,15,13,9]\n",
        "\n",
        "def build_lookup_table(n, omega_list):\n",
        "  lookup = {}\n",
        "  lookup[n] = omega_list\n",
        "  while n > 2:\n",
        "    n = int(n/2)\n",
        "    omega_list = omega_list[::2]\n",
        "    lookup[n] = omega_list\n",
        "  return lookup\n",
        "\n",
        "lookup  = build_lookup_table(n_max, omega_list)\n",
        "print(f'lookup table of list of omega is {lookup}')"
      ],
      "metadata": {
        "colab": {
          "base_uri": "https://localhost:8080/"
        },
        "id": "Djcz086abXKe",
        "outputId": "9e939a88-2a44-4c88-d389-f92ef91661b4"
      },
      "execution_count": 5,
      "outputs": [
        {
          "output_type": "stream",
          "name": "stdout",
          "text": [
            "lookup table of list of omega is {8: [1, 2, 4, 8, 16, 15, 13, 9], 4: [1, 4, 16, 13], 2: [1, 16]}\n"
          ]
        }
      ]
    },
    {
      "cell_type": "code",
      "source": [
        "# revise FFT using omega lookup table\n",
        "def FFT_using_exist_omega(poly_coefs, q, lookup):\n",
        "  '''\n",
        "  Args:\n",
        "  poly_coefs: coefficient representation of the polynomial\n",
        "  lookup: pre-determined omega list\n",
        "\n",
        "  Returns:\n",
        "  y: evaluation form of the polynomial\n",
        "  '''\n",
        "  # get the degree of the polynomial\n",
        "  n = len(poly_coefs)\n",
        "  if n == 1:\n",
        "    return poly_coefs\n",
        "\n",
        "  # in theory, omega should be the nth root of unity, which is a complex number\n",
        "  # to use it in finite field, we use a algorithm here\n",
        "  omega = lookup[n][1]\n",
        "  # print(f'n = {n}, omega = {omega}')\n",
        "  poly_coefs_e = poly_coefs[::2]\n",
        "  poly_coefs_o = poly_coefs[1::2]\n",
        "  y_e = FFT_using_exist_omega(poly_coefs_e, q, lookup)\n",
        "  y_o = FFT_using_exist_omega(poly_coefs_o, q, lookup)\n",
        "  y = [0] * n\n",
        "  for j in range(int(n/2)):\n",
        "    y[j] = int(y_e[j] + (omega**j)*y_o[j]) % q\n",
        "    y[j + int(n/2)] = int(y_e[j] - (omega**j)*y_o[j]) % q\n",
        "  return y\n",
        "\n",
        "print(f'coefficient form of phi(x) is {poly_coefs}, after FFT(use exist omega lookup table), we can get the evaluation form of phi(x) is {FFT_using_exist_omega(poly_coefs, q, lookup)}')"
      ],
      "metadata": {
        "colab": {
          "base_uri": "https://localhost:8080/"
        },
        "id": "YSTh_jgY67Vj",
        "outputId": "dee76b22-a1bf-47d9-841e-4bd206b3f94f"
      },
      "execution_count": 6,
      "outputs": [
        {
          "output_type": "stream",
          "name": "stdout",
          "text": [
            "coefficient form of phi(x) is [2, 3, 5, 4], after FFT(use exist omega lookup table), we can get the evaluation form of phi(x) is [14, 10, 0, 1]\n"
          ]
        }
      ]
    },
    {
      "cell_type": "markdown",
      "source": [
        "### Inverse Fast Fourier Transformation(IFFT)\n",
        "We have used FFT to achieve fast transformation from coefficient to evaluation. Now we will implement the inverse transformation, which is from evaluation to coefficient with slightly changing in the algorithm: update $\\omega$ to $\\frac{1}{n}\\omega^{-1}$\n",
        "\n",
        "detailed info: https://decentralizedthoughts.github.io/2023-09-01-FFT/#mjx-eqn-%5Cstar"
      ],
      "metadata": {
        "id": "sMtOeR_0RGfu"
      }
    },
    {
      "cell_type": "code",
      "source": [
        "# inverse the lookup table\n",
        "# the only thing we need to modify in FFT is to update its omega\n",
        "omega_list = [1,2,4,8,16,15,13,9]\n",
        "\n",
        "def inverse_element(omega_list, q):\n",
        "  inverse_omega_list = []\n",
        "  inverse_omega_dict = {}\n",
        "\n",
        "  for i in omega_list:\n",
        "    for candidate in omega_list:\n",
        "      if i*candidate%q == 1:\n",
        "        inverse_omega_list.append(candidate)\n",
        "        inverse_omega_dict[i] = candidate\n",
        "  return inverse_omega_list, inverse_omega_dict\n",
        "\n",
        "inverse_omega_list, inverse_omega_dict= inverse_element(omega_list, q)\n",
        "print(f'inverse omega list is {inverse_omega_list}, inverse omega dict is {inverse_omega_dict}')\n",
        "inverse_lookup = build_lookup_table(n_max, inverse_omega_list)\n",
        "print(f'lookup table of list of omega is {inverse_lookup}')"
      ],
      "metadata": {
        "colab": {
          "base_uri": "https://localhost:8080/"
        },
        "id": "rKQc8bxpfD1T",
        "outputId": "92182ee5-a385-40c7-be78-a962737a48fd"
      },
      "execution_count": 7,
      "outputs": [
        {
          "output_type": "stream",
          "name": "stdout",
          "text": [
            "inverse omega list is [1, 9, 13, 15, 16, 8, 4, 2], inverse omega dict is {1: 1, 2: 9, 4: 13, 8: 15, 16: 16, 15: 8, 13: 4, 9: 2}\n",
            "lookup table of list of omega is {8: [1, 9, 13, 15, 16, 8, 4, 2], 4: [1, 13, 16, 4], 2: [1, 16]}\n"
          ]
        }
      ]
    },
    {
      "cell_type": "code",
      "source": [
        "# revise FFT using omega lookup table\n",
        "def IFFT_using_exist_omega(poly_evals, q, inverse_lookup, inverse_omega_dict):\n",
        "  recursion_result = IFFT_recursion_part(poly_evals, q, inverse_lookup)\n",
        "  IFFT_final_result = [ x * inverse_omega_dict[len(poly_evals)] % q for x in recursion_result]\n",
        "  return IFFT_final_result\n",
        "\n",
        "def IFFT_recursion_part(poly_evals, q, inverse_lookup):\n",
        "  '''\n",
        "  Args:\n",
        "  poly_coefs: coefficient representation of the polynomial\n",
        "  lookup: pre-determined omega list\n",
        "\n",
        "  Returns:\n",
        "  y: evaluation form of the polynomial\n",
        "  '''\n",
        "  # get the degree of the polynomial\n",
        "  n = len(poly_evals)\n",
        "  if n == 1:\n",
        "    return poly_evals\n",
        "\n",
        "  # in theory, omega should be the nth root of unity, which is a complex number\n",
        "  # to use it in finite field, we use a algorithm here\n",
        "  omega = inverse_lookup[n][1]\n",
        "  poly_evals_e = poly_evals[::2]\n",
        "  poly_evals_o = poly_evals[1::2]\n",
        "  y_e = IFFT_recursion_part(poly_evals_e, q, inverse_lookup)\n",
        "  y_o = IFFT_recursion_part(poly_evals_o, q, inverse_lookup)\n",
        "  y = [0] * n\n",
        "  for j in range(int(n/2)):\n",
        "    y[j] = int(y_e[j] + (omega**j)*y_o[j]) % q\n",
        "    y[j + int(n/2)] = int(y_e[j] - (omega**j)*y_o[j]) % q\n",
        "  return y\n",
        "\n",
        "print(f'evaluation form of phi(x) is {poly_evals}, after IFFT(use exist omega lookup table), we can get the coefficient form of phi(x) is {IFFT_using_exist_omega(poly_evals, q, inverse_lookup, inverse_omega_dict)}')"
      ],
      "metadata": {
        "colab": {
          "base_uri": "https://localhost:8080/"
        },
        "id": "QnHXq61yRFC7",
        "outputId": "4f820e8e-36b5-4275-f24a-a2f3b08a914f"
      },
      "execution_count": 8,
      "outputs": [
        {
          "output_type": "stream",
          "name": "stdout",
          "text": [
            "evaluation form of phi(x) is [14, 10, 0, 1], after IFFT(use exist omega lookup table), we can get the coefficient form of phi(x) is [2, 3, 5, 4]\n"
          ]
        }
      ]
    },
    {
      "cell_type": "markdown",
      "source": [
        "## Polynomial Representations, FFT and IFFT(using real numbers for KZG usage)"
      ],
      "metadata": {
        "id": "lRjznksIg7Ll"
      }
    },
    {
      "cell_type": "markdown",
      "source": [
        "### Polynomial Representations\n",
        "\n",
        "Real proving system only consider polynomials over a finite field, and so we will restrict：\n",
        "- each coefficient $p_i$\n",
        "- each evaluation point $\\Phi(x_i)$ to be elements of a finite field $F_q$\n",
        "- the evaluation domain(the $\\omega_i$'s) to be a mulyiplicative subgroup of $F_q$\n",
        "\n",
        "For BLS12-381:\n",
        "- the finite field modulus $q$ is pre-determined, which is 'curve order'\n",
        "- \"$n^{th}$ roots of unity\" are confirmed, can be get using the function 'find_nth_root_of_unity($n$, $q$)'"
      ],
      "metadata": {
        "id": "_ehvn42joM_b"
      }
    },
    {
      "cell_type": "code",
      "source": [
        "from py_ecc.bls12_381 import curve_order\n",
        "from py_ecc.fields.field_elements import FQ as Field\n",
        "\n",
        "# construct a data structure F_q\n",
        "class FQ(Field):\n",
        "    field_modulus = curve_order\n",
        "q = curve_order\n",
        "\n",
        "# For example, assume we have a polynomial Φ(𝑥)=4x^3+5x^2+3x+2 and some points on the polynomials\n",
        "poly_coefs = [FQ(2), FQ(3), FQ(5), FQ(4)]\n",
        "poly_evals = [FQ(14), FQ(52435875175126190475982595682112313518914282969839895044333406231173219221502), FQ(0), FQ(3465144826073652318776269530687742778270252468765361963005)]\n",
        "\n",
        "def find_nth_root_of_unity_realnum(n, q):\n",
        "  '''\n",
        "  Args:\n",
        "  n: nth root of unity, which is the degree of polynomial\n",
        "  q: finite field q\n",
        "\n",
        "  Returns:\n",
        "  omega: the nth root of unity, which is a element in finite field\n",
        "  '''\n",
        "  omega = FQ(5) ** ((q - 1) // n)\n",
        "  return omega\n",
        "\n",
        "omega = find_nth_root_of_unity_realnum(len(poly_coefs), q)\n",
        "evaluation_domain = [omega**0, omega**1, omega**2, omega**3]\n",
        "\n",
        "print(f'coefficient form of phi(x) is {poly_coefs}')\n",
        "print(f'evaluation form of phi(x) is {poly_evals}, defined over evaluation domain {evaluation_domain}')"
      ],
      "metadata": {
        "colab": {
          "base_uri": "https://localhost:8080/"
        },
        "id": "VcegH_mvhfU8",
        "outputId": "f469e93c-8c3b-4bcc-bb08-0fddc20ce44e"
      },
      "execution_count": 9,
      "outputs": [
        {
          "output_type": "stream",
          "name": "stdout",
          "text": [
            "coefficient form of phi(x) is [2, 3, 5, 4]\n",
            "evaluation form of phi(x) is [14, 52435875175126190475982595682112313518914282969839895044333406231173219221502, 0, 3465144826073652318776269530687742778270252468765361963005], defined over evaluation domain [1, 3465144826073652318776269530687742778270252468765361963008, 52435875175126190479447740508185965837690552500527637822603658699938581184512, 52435875175126190475982595682112313518914282969839895044333406231173219221505]\n"
          ]
        }
      ]
    },
    {
      "cell_type": "markdown",
      "source": [
        "### Fast Fourier Transformation(FFT)"
      ],
      "metadata": {
        "id": "O6OK_-KDn29E"
      }
    },
    {
      "cell_type": "code",
      "source": [
        "import random\n",
        "\n",
        "class FQ(Field):\n",
        "    field_modulus = curve_order\n",
        "\n",
        "q = curve_order\n",
        "poly_coefs = [FQ(2), FQ(3), FQ(5), FQ(4)]\n",
        "\n",
        "def FFT(poly_coefs, q):\n",
        "  '''\n",
        "  Args:\n",
        "  poly_coefs: coefficient representation of the polynomial\n",
        "\n",
        "  Returns:\n",
        "  y: evaluation form of the polynomial\n",
        "  '''\n",
        "  # get the degree of the polynomial\n",
        "  n = len(poly_coefs)\n",
        "  if n == 1:\n",
        "    return poly_coefs\n",
        "\n",
        "  # in theory, omega should be the nth root of unity, which is a complex number\n",
        "  # to use it in finite field, we use a algorithm here\n",
        "  omega = find_nth_root_of_unity_realnum(n, q)\n",
        "  # print(f'{n}^th of unity is {omega}')\n",
        "  poly_coefs_e = poly_coefs[::2]\n",
        "  poly_coefs_o = poly_coefs[1::2]\n",
        "  y_e = FFT(poly_coefs_e, q)\n",
        "  y_o = FFT(poly_coefs_o, q)\n",
        "  y = [0] * n\n",
        "  for j in range(int(n/2)):\n",
        "    y[j] = y_e[j] + (omega**j)*y_o[j]\n",
        "    y[j + int(n/2)] = y_e[j] - (omega**j)*y_o[j]\n",
        "  return y\n",
        "\n",
        "poly_evals = FFT(poly_coefs, q)\n",
        "print(f'coefficient form of phi(x) is {poly_coefs}, after FFT, we can get the evaluation form of phi(x) is {poly_evals}')"
      ],
      "metadata": {
        "colab": {
          "base_uri": "https://localhost:8080/"
        },
        "id": "gYXv7QMvn2A9",
        "outputId": "a327ffcf-482b-41e0-9202-558b90d3418f"
      },
      "execution_count": 10,
      "outputs": [
        {
          "output_type": "stream",
          "name": "stdout",
          "text": [
            "coefficient form of phi(x) is [2, 3, 5, 4], after FFT, we can get the evaluation form of phi(x) is [14, 52435875175126190475982595682112313518914282969839895044333406231173219221502, 0, 3465144826073652318776269530687742778270252468765361963005]\n"
          ]
        }
      ]
    },
    {
      "cell_type": "markdown",
      "source": [
        "### Inverse Fast Fourier Transformation(IFFT)"
      ],
      "metadata": {
        "id": "GGCMoj3Qpgau"
      }
    },
    {
      "cell_type": "code",
      "source": [
        "# revise FFT using omega lookup table\n",
        "def IFFT(poly_evals, q):\n",
        "  recursion_result = IFFT_recursion_part(poly_evals, q)\n",
        "  # all elenent in result mutiply 1/n, which is inverse of n\n",
        "  IFFT_final_result = [ x * (FQ(1)/FQ(len(poly_evals))) for x in recursion_result]\n",
        "  return IFFT_final_result\n",
        "\n",
        "def IFFT_recursion_part(poly_evals, q):\n",
        "  '''\n",
        "  Args:\n",
        "  poly_coefs: coefficient representation of the polynomial\n",
        "  lookup: pre-determined omega list\n",
        "\n",
        "  Returns:\n",
        "  y: evaluation form of the polynomial\n",
        "  '''\n",
        "  # get the degree of the polynomial\n",
        "  n = len(poly_evals)\n",
        "  if n == 1:\n",
        "    return poly_evals\n",
        "\n",
        "  # in theory, omega should be the nth root of unity, which is a complex number\n",
        "  # to use it in finite field, we use a algorithm here\n",
        "  omega = find_nth_root_of_unity_realnum(n, q)\n",
        "  # inverse omega\n",
        "  omega_inv = omega**(n-1)\n",
        "  poly_evals_e = poly_evals[::2]\n",
        "  poly_evals_o = poly_evals[1::2]\n",
        "  y_e = IFFT_recursion_part(poly_evals_e, q)\n",
        "  y_o = IFFT_recursion_part(poly_evals_o, q)\n",
        "  y = [0] * n\n",
        "  for j in range(int(n/2)):\n",
        "    y[j] = int(y_e[j] + (omega_inv**j)*y_o[j])\n",
        "    y[j + int(n/2)] = int(y_e[j] - (omega_inv**j)*y_o[j])\n",
        "  return y\n",
        "\n",
        "print(f'evaluation form of phi(x) is {poly_evals}, after IFFT(use exist omega lookup table), we can get the coefficient form of phi(x) is {IFFT(poly_evals, q)}')"
      ],
      "metadata": {
        "colab": {
          "base_uri": "https://localhost:8080/"
        },
        "id": "9Bs3TojDsxr7",
        "outputId": "5d8d8940-3048-4695-d06e-fdf702da03b8"
      },
      "execution_count": 11,
      "outputs": [
        {
          "output_type": "stream",
          "name": "stdout",
          "text": [
            "evaluation form of phi(x) is [14, 52435875175126190475982595682112313518914282969839895044333406231173219221502, 0, 3465144826073652318776269530687742778270252468765361963005], after IFFT(use exist omega lookup table), we can get the coefficient form of phi(x) is [2, 3, 5, 4]\n"
          ]
        }
      ]
    },
    {
      "cell_type": "markdown",
      "source": [
        "# KZG Implementation(Python Version)\n",
        "\n",
        "The KZG Commitment Scheme is a commitment scheme that allows to commit to a polynomial $\\Phi(x) = \\phi_0 +\\phi_1x+\\phi_2x^2+...+\\phi_lx^l$, where $\\Phi(x) \\in F_p[x]$ . 'to commit' means proving that you know the polynomial $\\Phi(x)$ without revealing it.\n",
        "\n",
        "The KZG commitment scheme consists of 4 steps:\n",
        "1. Setup\n",
        "2. Commit to Polynomials\n",
        "3. Prove an Evaluation\n",
        "4. Verify an Evaluation Proof"
      ],
      "metadata": {
        "id": "6-LT_CUcF5sj"
      }
    },
    {
      "cell_type": "markdown",
      "source": [
        "## Step 1: Setup\n",
        "\n",
        "The first step is an one-time trusted setup and once it has done once, the following steps can be done repeatedly\n",
        "1. Let $G_1$ and $G_2$ be pairing-friendly elliptic curve groups, determined by curve BLS12-381\n",
        "2. Let $g_1$ be a generator of $G_1$ and $g_2$ be a generator of $G_2$\n",
        "3. Let $l$ be the maximum degree of the polymonials we want to commit to ($l < p$)\n",
        "4. Pick a random field element as secret parameter $\\tau \\in F_p$(usually done by MPC, to simplify, we just randomly choose one here)\n",
        "5. Compute pp(public parameters, including proving key $pk$, and verifying key $vk$)$$pk = (g_1, g_1^\\tau, g_1^{\\tau^2},...,g_1^{\\tau^l}), vk = g_2^\\tau$$ and release it publicly\n",
        "6. Discard secret parameter $\\tau$ once the setup ceremony is done so that nobody can figure out its value"
      ],
      "metadata": {
        "id": "CbNVAepyHO4g"
      }
    },
    {
      "cell_type": "code",
      "source": [
        "from py_ecc.bls12_381 import G1, G2, Z1, multiply, add\n",
        "\n",
        "# 1. Let G1,G2 be pairing-friendly elliptic curve groups, which are determined by the curve\n",
        "\n",
        "# 2. Let g be a generator of G\n",
        "g1 = G1\n",
        "g2 = G2\n",
        "\n",
        "# 3. Let l be the maximum degree of the polymonials, which is 16\n",
        "l = 16\n",
        "\n",
        "# 4. Pick a random field element from field F_p and p = curve order as secret parameter t\n",
        "p = q\n",
        "# t = 0 will lose all the security, so t cannot be 0\n",
        "t = FQ(random.randint(1, p-1))\n",
        "print(f'secret parameter 𝜏 is {t}')\n",
        "\n",
        "# 5. Compute pp(public parameters)\n",
        "def compute_public_parameters(g1, g2, t, l):\n",
        "\n",
        "    pk = []\n",
        "    accumulated = 1\n",
        "    t_scalar = t\n",
        "    for i in range(l + 1):\n",
        "        # calculate g1, g1^t, g1^{t^2}...\n",
        "        pk.append(multiply(g1, int(accumulated)))\n",
        "        # calculate the exponential t, t^2, t^3, ...\n",
        "        accumulated = accumulated * t_scalar\n",
        "    vk = multiply(g2, int(t))\n",
        "    return pk, vk\n",
        "\n",
        "pk, vk = compute_public_parameters(g1, g2, t, l)\n",
        "print(f'proving key pk: {pk}')\n",
        "print(f'verifying key vk: {vk}')"
      ],
      "metadata": {
        "colab": {
          "base_uri": "https://localhost:8080/"
        },
        "id": "baZh9HlYEN25",
        "outputId": "f2dc853a-04d6-4c83-ca8d-68f78fc42b02"
      },
      "execution_count": 12,
      "outputs": [
        {
          "output_type": "stream",
          "name": "stdout",
          "text": [
            "secret parameter 𝜏 is 23572718967332723641594308923288164178395552087347839929717134536229130436824\n",
            "proving key pk: [(3685416753713387016781088315183077757961620795782546409894578378688607592378376318836054947676345821548104185464507, 1339506544944476473020471379941921221584933875938349620426543736416511423956333506472724655353366534992391756441569), (696726676440962710928921519544604895140983762158619580348478015445492647804421758159071664477166828837104747408121, 1632596592063791204031957924183104859307556184118850082553377262124933981634865703998826968630157073061834436274028), (3675886601782553260005342312873267951380493245355945579918462505523135059351648927042070047104258012078704858029767, 1338613898732917452261796864953428787193047608579196171638159921414157914293464985368185884115849572691876279474329), (1938807583427638785499233832997755337211965177807439713252742320144113845762425248763788414680207860784983780500580, 1250567938379271329659855812275806835562397438691722743922110062722997469405405369295549390235144141414490397525251), (689449598118389371886258743513332902412533701154530191754111082025282060654994540380036893735837189059093953530941, 3370752209028079671903393250682257695688898942759478662814211934232356081067239377867969040590684457804251625400788), (2838551236697301720272251359896890771119650439759423030058710206568558492180522590391372830883213424846427933692610, 412862308970693990010660672172102352543028156768528540602511875843543459284202740288485627617708659934784371753724), (2417626016264385245823964504093578860513691553009456979523529448941038752693192742265123996583529033356967202245166, 2815292398723558475287571777358174398684209694494414456747064441167893416515091824031158886348038638964772796157409), (182085886534183562939115408958195330631377707873551787478040100276444354349672340563147149321529059435103549015297, 1223582949659361743276128742105937538721228292887382624766113495851197708212035163026503137197764244716909012727372), (2700487029243097404616394565402255320647299352438925736231365981483395692145187207729472495132987647029842136846515, 2320769498079839182958795121349065877910702902205782264878875940433911351320968616551836820745842816497289768333542), (2332392051879371766705523835494577812769157113532069249345391666639601143933323336338848395916965728763272679051216, 1111228805894770122908432191879501050924056031611917928193319342047083525798654035590444063267411491828675590729573), (3713597371555571171751409572653555862802020763709943944081153764743858974164499869715453165425668222459603982596386, 2612914470960683377165843341853917821322289706621794292700544113158653439874765287918039094642423213904299669945396), (914975911848812273261615141042139302481887163973378806649869566450748747283191535585318327568168369100819178897092, 30609703265938962046925841378953563092602758878855808088344933370243128091490058201816319446542694022153645597676), (308044292140274550933172172198400782460262737826389167950486294463784871799193433079861872191340680362961233953826, 2245189055314015836738797051836046454539365062289695196443493141805280115519637763009296712222540428004494714226802), (3169636036679043334157322740025670831283312090078471758198460531242771177282620163477250865377290430854117619364822, 911029373412091816255261333816890124363707475726496611075583340337820545613957148219952883922182684285992272314857), (1103712442792015877404085788228505383267926435640427178516529922887590420992425171253643116408492676949290026098306, 2937809078129706926976107382315466284560342726167580318070670880119123487958952016860572958704636578793007713078318), (1575488785418039409844881545996232465221282752584920098185714097824117233964151265815527522696040495618524615893394, 844520149555122724479405043386555114609765526376202890430007105807615828333601999985164502771663379044181980960248), (2194267084349671305099312647410206971455824876526009527583970920350840329527697170205381632487877457148726428908940, 3356440707607022692500146741350218961888636442402120730997740028839634473317133815305916387239255841398656251874796)]\n",
            "verifying key vk: ((1428524353923975021635136989560554403813375579972342400168130307639834282714243816321428989565744753881854337753168, 752483401910212761845853059145208282751997207762632909989415490406633037189844532719932227214518449451936537075648), (3989051507574885078710190038961775695594574704282411270740976183296416767464695877575311369800782149298903436524961, 194311053975824146585015473532855285991746317200123090857854601949696763780799416761239060317758735852142899258767))\n"
          ]
        }
      ]
    },
    {
      "cell_type": "markdown",
      "source": [
        "## Step 2: Commit to Polynomials\n",
        "In reality, we arithmetize circuits and use Plonkish to get polynomials in this step\n",
        "1. Given a polynomial $\\Phi(x) = \\sum_{i=0}^l \\phi_i x^i$\n",
        "2. Compute and output commitment $c = g^{\\Phi(\\tau)}$\n",
        "   - Wait! $\\tau$ has already been discard right? How can committer compute $\\tau$?\n",
        "   - Although he cannot compute $\\Phi(\\tau)$ directly, he can use public parameters to help with it:\n",
        "$$\\prod_{i=0}^l(g^{\\tau^i})^{\\phi_i} = g^{\\sum_{i=0}^l \\phi_i \\tau^i} = g^{\\Phi(\\tau)}$$"
      ],
      "metadata": {
        "id": "PZLYRSg7NdAZ"
      }
    },
    {
      "cell_type": "code",
      "source": [
        "# assume we have a polynomial Φ(𝑥)=4x^3+5x^2+3x+2 or some points on the polynomials\n",
        "# we can use FFT or IFFT to do the transformation between the two forms\n",
        "poly_coefs = [FQ(2), FQ(3), FQ(5), FQ(4)]"
      ],
      "metadata": {
        "id": "tDDoK2qNEXas"
      },
      "execution_count": 13,
      "outputs": []
    },
    {
      "cell_type": "code",
      "source": [
        "# compute commitment of the polynomial\n",
        "def poly_commitment(pk, g1, poly_coefs):\n",
        "\n",
        "  com = Z1\n",
        "  for i in range(len(poly_coefs)):\n",
        "    com = add(multiply(pk[i], int(poly_coefs[i])), com)\n",
        "  return com\n",
        "\n",
        "com = poly_commitment(pk, g1, poly_coefs)\n",
        "print(f'commitment of polynomial is {com}')"
      ],
      "metadata": {
        "colab": {
          "base_uri": "https://localhost:8080/"
        },
        "id": "DXh4eZH4NncH",
        "outputId": "e067dcf5-92ee-492b-e64d-58dc9673a49c"
      },
      "execution_count": 14,
      "outputs": [
        {
          "output_type": "stream",
          "name": "stdout",
          "text": [
            "commitment of polynomial is (1421427213695568693228323135656124001392641236123117149348851156643757848665141366051846687685317522745803709691600, 3517254594293320235686521525023331439090038627248323195663743890739554830816377896156600850784444407757440465246485)\n"
          ]
        }
      ]
    },
    {
      "cell_type": "markdown",
      "source": [
        "## Step 3: Prove an Evaluation\n",
        "In this period, the Verifier will ask Prover to 'OPEN' the commitment $c$ to a random specific point $a \\in F_p$, in other word, Prover have to evaluation $\\Phi(x)$ and commit the result in the form of opening triplet $OT = (a, b, \\pi)$\n",
        "1. Given an evaluation $\\Phi(a) = b$\n",
        "2. Compute and output proof of the evaluation $\\pi = g^{q(\\tau)}$, where $q(x) := \\frac{\\Phi(x)-b}{x-a}$\n",
        "    - $q(x)$ is quotient polynomial: if $\\Phi(a) = b$, that means $a$ is a root of $\\Phi(x) - b$\n",
        "    - so $\\Phi(x) - b$ can be expressed as $\\Phi(x) - b = q(x)(x-a)$, $q(x)$ is a polynomial\n",
        "    - on the other hand, $q(x)$ exists if and only if $\\Phi(a) = b$, so the existence of this quotient polynomial therefore serves as a proof of the evaluation"
      ],
      "metadata": {
        "id": "uG76toJbnbMn"
      }
    },
    {
      "cell_type": "code",
      "source": [
        "# Verifier first choose the random point a\n",
        "def evaluation_poly(a, poly_coefs):\n",
        "  b = FQ(0)\n",
        "  for i in range(len(poly_coefs)):\n",
        "    b += (a**i)*(poly_coefs[i])\n",
        "  return b\n",
        "\n",
        "# according to defination\n",
        "def random_generate_a(poly_coefs, p):\n",
        "  # create a list of omega\n",
        "  n = len(poly_coefs)\n",
        "  omega = find_nth_root_of_unity_realnum(n, p)\n",
        "  omega_list = []\n",
        "  for i in range(n):\n",
        "    omega_list.append(omega**i)\n",
        "\n",
        "  # a cannot in omega list, otherwise x-a will be 0\n",
        "  a = FQ(random.randint(0, p))\n",
        "  while a in omega_list:\n",
        "    a = FQ(random.randint(0, p))\n",
        "\n",
        "  return a\n",
        "\n",
        "a = random_generate_a(poly_coefs, p)\n",
        "b = evaluation_poly(a, poly_coefs)\n",
        "print(f'random element we chosen is {a}, the evaluation b is {b}')"
      ],
      "metadata": {
        "colab": {
          "base_uri": "https://localhost:8080/"
        },
        "id": "eUASXL_knfu7",
        "outputId": "9737bba8-5d9c-410c-c11b-59267812b299"
      },
      "execution_count": 15,
      "outputs": [
        {
          "output_type": "stream",
          "name": "stdout",
          "text": [
            "random element we chosen is 6287219491942460280312626502628570021013958396161887964522003234751861361169, the evaluation b is 10244624151454949815623404979101809990743320915924637987415357022775794746676\n"
          ]
        }
      ]
    },
    {
      "cell_type": "code",
      "source": [
        "# compute q(x)\n",
        "# 1. if poly in coefficient form, convert poly_coefs to evals\n",
        "# 2. calculate quotient polynomial in evaluation form\n",
        "# 3. convert quotient poly evals to coefs if needed\n",
        "\n",
        "def quotient_poly(a, b, poly_evals, p):\n",
        "  '''Args:\n",
        "  a: randomly sampled field element\n",
        "  b: evaluation on a\n",
        "  poly_evals: input of poly need to be in evaluation form\n",
        "\n",
        "  Returns:\n",
        "  q_poly_evals: q poly in evaluation form\n",
        "  '''\n",
        "  q_poly_evals = []\n",
        "  n = len(poly_evals)\n",
        "  omega = find_nth_root_of_unity_realnum(n, p)\n",
        "\n",
        "  for i in range(len(poly_evals)):\n",
        "    q_poly_evals.append((poly_evals[i]-b)/(omega**i-a))\n",
        "\n",
        "  return q_poly_evals\n",
        "\n",
        "q_poly_evals = quotient_poly(a, b, poly_evals, p)\n",
        "print(f'quotient polynomial in evaluation form is {q_poly_evals}')"
      ],
      "metadata": {
        "colab": {
          "base_uri": "https://localhost:8080/"
        },
        "id": "_uxCEV4PqKum",
        "outputId": "5111d551-b3c1-4278-f2fb-abd879324982"
      },
      "execution_count": 16,
      "outputs": [
        {
          "output_type": "stream",
          "name": "stdout",
          "text": [
            "quotient polynomial in evaluation form is [41592308928944762059850636946861466556364061608242406742787621673104855742889, 29092604831807755129095243315694398783471273284157941469609106145111095636537, 43730428168531270296797365434018872225942946939474940849215254495028546038040, 3794257090542086748105018556999974161145182763031768299790111323083724959863]\n"
          ]
        }
      ]
    },
    {
      "cell_type": "code",
      "source": [
        "# convert quotient polynomial from evaluation form to coefficient form\n",
        "q_poly_coefs = IFFT(q_poly_evals, q)\n",
        "print(f'quotient polynomial in coefficient form is {q_poly_coefs}')"
      ],
      "metadata": {
        "colab": {
          "base_uri": "https://localhost:8080/"
        },
        "id": "7BXJAKY3kliX",
        "outputId": "75970996-8216-4772-f905-d61cfc649d42"
      },
      "execution_count": 17,
      "outputs": [
        {
          "output_type": "stream",
          "name": "stdout",
          "text": [
            "quotient polynomial in coefficient form is [16443430961174920938600130936347186472308228023594854884699608734097410298204, 25148877967769841121250506010514280084055833584647551858088012939007445444681, 4, 0]\n"
          ]
        }
      ]
    },
    {
      "cell_type": "code",
      "source": [
        "# compute proof of the evaluation pi\n",
        "pi = poly_commitment(pk, g1,  q_poly_coefs)\n",
        "print(f'proof of the evaluation pi is {pi}')"
      ],
      "metadata": {
        "colab": {
          "base_uri": "https://localhost:8080/"
        },
        "id": "n8OOKUQqqMFl",
        "outputId": "7e9af028-6059-41b9-e25b-477baff9228b"
      },
      "execution_count": 18,
      "outputs": [
        {
          "output_type": "stream",
          "name": "stdout",
          "text": [
            "proof of the evaluation pi is (1936391575319549124826880905462649247022686708042841172971332307429256079873345314914615929275763645012186608749723, 672996233385165018598635378615595617839571199245425623141812005860987452417323336558306500084456944381415862294794)\n"
          ]
        }
      ]
    },
    {
      "cell_type": "markdown",
      "source": [
        "## Step 4: Verify an Evaluation Proof\n",
        "1. Given a commitment $c = g^{\\Phi(\\tau)}$, and an evaluation $\\Phi(a) = b$, and a proof $\\pi = g^{q(\\tau)}$\n",
        "2. Verify that $e(\\frac{c}{g^b}, g) = e(\\pi,\\frac{g^\\tau}{g^a})$, where $e$ is a non-trivial bilinear mapping\n",
        "    - the purpose of verification: $\\Phi(x) - b = q(x)(x-a)$, checking this equality holds for $x = \\tau$\n",
        "    - according to the definition of bilinear mapping, it is equivalent to: $e(g_1, g_2)^{\\Phi(\\tau) - b} = e(g_1, g_2)^{q(\\tau)(\\tau-a)}$, that is $e(g_1^{\\Phi(\\tau) - b}, g_2) = e(g_1^{q(\\tau)}, g_2^{\\tau-a})$\n",
        "    - that is $e(com-g_1^b, g_2) = e(\\pi, vk - g_2^a)$"
      ],
      "metadata": {
        "id": "1_5bBUjOmOx_"
      }
    },
    {
      "cell_type": "code",
      "source": [
        "from py_ecc.bls12_381 import pairing, neg\n",
        "\n",
        "# now it is time to do the varification\n",
        "print(f'result of verification: {pairing(g2, add(com, neg(multiply(g1, int(b))))) == pairing(add(vk, neg(multiply(g2, int(a)))), pi)}')"
      ],
      "metadata": {
        "colab": {
          "base_uri": "https://localhost:8080/"
        },
        "id": "HuxidPgTmSoa",
        "outputId": "db4d974d-91bb-46a4-ed92-91ce0ac5c8c1"
      },
      "execution_count": 19,
      "outputs": [
        {
          "output_type": "stream",
          "name": "stdout",
          "text": [
            "result of verification: True\n"
          ]
        }
      ]
    },
    {
      "cell_type": "markdown",
      "source": [
        "# Plonk Implementation(Python Version)\n",
        "\n",
        "## Problem Definition\n",
        "\n",
        "We take **Square-Fibonacci** as an example to demonstrate the process of proof generation\n",
        "\n",
        "Defination of Square-Fibonacci Problem:\n",
        "- Let $f_0 = 1, f_1 = 1$\n",
        "- For $i \\ge 2$, define $f_i:=(f_{i-2})^2+(f_{i-1})^2 \\ mod \\ q$\n",
        "    - $q$ is a large prime integer, used to bound the size of each element, so that it can be represented by some predetermined number of bits.\n",
        "\n",
        "Let $n$ be some very large integer. For convenience, we assume $n$ is a power of 2\n",
        "\n",
        "Let $k$ be the $n^{th}$ Square-Fibonacci number\n",
        "\n",
        "**Our goal**: generate an efficiently-verifiable proof $\\pi$ showing that indeed $k$ is the $n^{th}$ Square-Fibonacci number(i.e. $f_n = k$)\n",
        "\n",
        "## Phases of Proof Generation\n",
        "The Plonk-based proof generation consists of 3 steps:\n",
        "1. Filling in the trace table\n",
        "2. Committing to the trace table\n",
        "3. Proving the trace table's correctness"
      ],
      "metadata": {
        "id": "di927G65Ye1J"
      }
    },
    {
      "cell_type": "code",
      "source": [
        "# some basic statement\n",
        "# q here is equialent to the q above\n",
        "q = curve_order\n",
        "\n",
        "# assume we hope to prove '8th Square-Fibonacci number is k'\n",
        "n = 8\n",
        "k = FQ(317754178345286893212434)\n",
        "\n",
        "# according to defination, f(0) = 1, f(1) = 1\n",
        "f_0 = FQ(1)\n",
        "f_1 = FQ(1)"
      ],
      "metadata": {
        "id": "t1-8SzICYley"
      },
      "execution_count": 33,
      "outputs": []
    },
    {
      "cell_type": "markdown",
      "source": [
        "## Step 1: Filling in the Trace Table\n",
        "The trace table is a 2-dimensional matrix where 'witness' or 'trace' is written down, that is (n rows * 5 cols)\n",
        "- 5 columns:\n",
        "    - $A, B, C$: represent witness data / private input, each row lists 3 sequential Sequare-Fibonacci numbers\n",
        "        - e.g. the $i^{th}$ row $(f_i, f_{i+1}, f_{i+2})$ is a witness for $(i+2)^{th}$ Sequare-Fibonacci number\n",
        "    - $S$: represents selector column, indicating a certain mathmatical relation should hold over the element of the row.\n",
        "        - $1$ represents the first 3 elements of the row $(a, b, c)$ must satisfy $c = a^2 + b^2 \\ mod \\ q$\n",
        "        - $0$ represents the condition does not need to be satisfied.\n",
        "    - $P$: represents public inputs, inputs to the circuit that are public known.\n",
        "        - e.g. the first two values of the sequence $f_0, f_1$ and $k$ as the value to be proved\n",
        "- n rows: left a blank row, so that the height of the table becomes $n$, an even power of 2\n",
        "    - $1^{st}$ row: $f_0, f_1, f_2, 1, f_0$\n",
        "    - $2^{nd}$ row: $f_1, f_2, f_3, 1, f_1$\n",
        "    - $3^{rd}$ row: $f_2, f_3, f_4, 1, k$\n",
        "    - ...\n",
        "    - $(n-2)^{th}$ row: $f_{n-2}, f_{n-1}, f_n, 1, \"\" $\n",
        "    - $(n-1)^{th}$ row: $\"\", \"\", \"\", 0, \"\"$\n",
        "\n",
        "Next step is to fill in the trace table: either copy or compute over $F_q$"
      ],
      "metadata": {
        "id": "xTmgCmhGZ8SQ"
      }
    },
    {
      "cell_type": "code",
      "source": [
        "# generate witness/fill in the trace table\n",
        "def witness_generation(f_0, f_1, k, n):\n",
        "\n",
        "    trace_table = []\n",
        "\n",
        "    # init col A, B, C, S\n",
        "    f_a = f_0\n",
        "    f_b = f_1\n",
        "    f_c = f_b\n",
        "    S = FQ(1)\n",
        "    placeholder = FQ(0)\n",
        "\n",
        "    for i in range(n-1):\n",
        "        f_a = f_b\n",
        "        f_b = f_c\n",
        "        f_c = f_a**2 + f_b**2\n",
        "        trace_table.append([f_a, f_b, f_c, S, placeholder])\n",
        "\n",
        "    # add a blank row to get n row\n",
        "    S = FQ(0)\n",
        "    trace_table.append([placeholder, placeholder, placeholder, S, placeholder])\n",
        "\n",
        "    # add public parameters\n",
        "    trace_table[0][4] = f_0\n",
        "    trace_table[1][4] = f_1\n",
        "    trace_table[2][4] = k\n",
        "\n",
        "    return trace_table\n",
        "\n",
        "trace_table = witness_generation(f_0, f_1, k, n)\n",
        "\n",
        "print(f\"trace table is: {trace_table}\")"
      ],
      "metadata": {
        "colab": {
          "base_uri": "https://localhost:8080/"
        },
        "id": "n7QfVLCaZwpy",
        "outputId": "e0836404-bd6c-4e81-9bd0-25c7032be4c2"
      },
      "execution_count": 34,
      "outputs": [
        {
          "output_type": "stream",
          "name": "stdout",
          "text": [
            "trace table is: [[1, 1, 2, 1, 1], [1, 2, 5, 1, 1], [2, 5, 29, 1, 317754178345286893212434], [5, 29, 866, 1, 0], [29, 866, 750797, 1, 0], [866, 750797, 563696885165, 1, 0], [750797, 563696885165, 317754178345286893212434, 1, 0], [0, 0, 0, 0, 0]]\n"
          ]
        }
      ]
    },
    {
      "cell_type": "markdown",
      "source": [
        "## Step 2: Commit to the Trace Table\n",
        "\n",
        "### interpret the trace table columns as polynomials\n",
        "\n",
        "Each column can be considered as a length-$n$ vector of finite field elements $\\rightarrow$ this vector can be regarded as the evaluation form of a polynomial $A(x)$ with degree $(n-1)$: the $i^{th}$ element of $A$ corresponds to the evaluation $A(\\omega^i)$, where $\\omega \\in F_q$ is **$n^{th}$ root of unity** and has order $n$"
      ],
      "metadata": {
        "id": "sZbfYqpXc9ff"
      }
    },
    {
      "cell_type": "code",
      "source": [
        "# inverse trace table and get the evaluation form of column polynomials\n",
        "inverse_trace_table = list(zip(*trace_table))\n",
        "inverse_trace_table"
      ],
      "metadata": {
        "colab": {
          "base_uri": "https://localhost:8080/"
        },
        "id": "a0_IXMd44blc",
        "outputId": "31cd8386-5a80-45a1-9a2f-1046807bc3b8"
      },
      "execution_count": 35,
      "outputs": [
        {
          "output_type": "execute_result",
          "data": {
            "text/plain": [
              "[(1, 1, 2, 5, 29, 866, 750797, 0),\n",
              " (1, 2, 5, 29, 866, 750797, 563696885165, 0),\n",
              " (2, 5, 29, 866, 750797, 563696885165, 317754178345286893212434, 0),\n",
              " (1, 1, 1, 1, 1, 1, 1, 0),\n",
              " (1, 1, 317754178345286893212434, 0, 0, 0, 0, 0)]"
            ]
          },
          "metadata": {},
          "execution_count": 35
        }
      ]
    },
    {
      "cell_type": "markdown",
      "source": [
        "### Commit to column polynomials\n",
        "Now that we have known how to interpret the columns as polynomials, we can commit to each of them using a polynomial commitment scheme."
      ],
      "metadata": {
        "id": "FWMrwxvU7ZuJ"
      }
    },
    {
      "cell_type": "code",
      "source": [
        "com_list = []\n",
        "col_poly_coefs = []\n",
        "for i in range(len(inverse_trace_table)):\n",
        "    col_poly_coef = IFFT(inverse_trace_table[i], p)\n",
        "    col_poly_coefs.append(col_poly_coef)\n",
        "    com = poly_commitment(pk, g1, col_poly_coef)\n",
        "    com_list.append(com)\n",
        "print(com_list)"
      ],
      "metadata": {
        "colab": {
          "base_uri": "https://localhost:8080/"
        },
        "id": "HuTecnM57A0m",
        "outputId": "f8442f04-d94a-42f1-878f-e58388e07b85"
      },
      "execution_count": 36,
      "outputs": [
        {
          "output_type": "stream",
          "name": "stdout",
          "text": [
            "[(3083190280475334059538683306869768652579572754998214235506462392614511568274096670120599050634647134493825342952241, 952635422076603138871640655800917149408589634583513957942410691190626564092230145234525967955069820012163257492133), (3714256136860321197754589050826309673581128994509046867026348173143263825445284378584709473403252256912502027687533, 2144706775421228770252512808421916193266747533103795066897467285037758068103806765538518717914762353962472073576564), (1568090593746428801606721362815758648096508948079736637697013328816567651175352793814238397489266704939553775533748, 416994859401484891968180706966926146868533035296098619347718393598795475570577923415242441038845894735151075959703), (646543084865155737751061406975616219424258024704083847872116944427612936105186890973646481784767275301955505567, 3187553459685144069668311413280668534720531140508894516898081397654963502693442550318440538234628307384527139281362), (1633991803128364294160438964869990380378148503701575969753862508063923828094124786486017192100674496132905700888058, 705798414729077146571547640322752942913785033629307596269651067023342301536909504148700760066687343890619485883544)]\n"
          ]
        }
      ]
    },
    {
      "cell_type": "markdown",
      "source": [
        "## Step 3: Proving the Trace Table's Correctness\n",
        "### Define the constraints of the trace table\n",
        "In order to ensure the original trace table to be valid, we should have the following constraints:\n",
        "- Square-Fibonaci constraints:\n",
        "    - each selected row $i$'s first three elements is $(a,b,c)$ must satisfy $c_i = a_i^2 + b_i^2 \\ mod \\ q$\n",
        "- Wiring constraints:\n",
        "    - for consecutive rows with value $[a_i, b_i, c_i]$ and $[a_{i+1}, b_{i+1}, c_{i+1}]$, we require $a_{i+1} = b_i$ and $b_{i+1} = c_i$\n",
        "- Public input constraints:\n",
        "    - the first row must start with the first two Square-Fibonacci numbers: $a_0 = p_0, b_0 = p_1$\n",
        "    - the $n^{th}$ Square-Fibonacci must match the claimed result value: $c_{n-2} = p_2$\n",
        "\n",
        "The above constraints can be represented by one or more relations between the column polynomials. For example, Square-Fibonaci constraints can be expressed as $S(x)·(A(x)^2 + B(x)^2 - C(x))=0, for\\ all\\ x\\in \\{w^0, w^1, ..., w^{n-1}\\}$. For shorten, we will label left-hand side $\\phi_0(x):=S(x)·(A(x)^2 + B(x)^2 - C(x))$  All our constraints can be expressed as $\\phi_i(x) = 0,\\ for\\ all\\ x\\in \\{w^0, w^1, ..., w^{n-1}\\}$"
      ],
      "metadata": {
        "id": "ktHnhk6-8JN5"
      }
    },
    {
      "cell_type": "code",
      "source": [
        "from itertools import zip_longest\n",
        "\n",
        "def square_fib_constraint_poly(inverse_trace_table, p):\n",
        "\n",
        "  a_poly_coefs = IFFT(inverse_trace_table[0], p)\n",
        "  b_poly_coefs = IFFT(inverse_trace_table[1], p)\n",
        "  c_poly_coefs = IFFT(inverse_trace_table[2], p)\n",
        "  s_poly_coefs = IFFT(inverse_trace_table[3], p)\n",
        "\n",
        "  # construct a polynomial phi_0(x) = S(x)(A(x)^2+B(x)^2-C(x))\n",
        "  phi_0_coefs = mul_poly(s_poly_coefs,sub_poly(add_poly(mul_poly(a_poly_coefs, a_poly_coefs), mul_poly(b_poly_coefs, b_poly_coefs)),c_poly_coefs))\n",
        "\n",
        "  return phi_0_coefs\n",
        "\n",
        "\n",
        "def mul_poly(poly1_coefs, poly2_coefs):\n",
        "  multiply_poly = [0]*(len(poly1_coefs)+len(poly2_coefs)-1)\n",
        "  for o1,i1 in enumerate(poly1_coefs):\n",
        "    for o2,i2 in enumerate(poly2_coefs):\n",
        "      multiply_poly[o1+o2] += i1*i2\n",
        "  return multiply_poly\n",
        "\n",
        "def add_poly(poly1_coefs, poly2_coefs):\n",
        "  return [x+y for x, y in zip_longest(poly1_coefs, poly2_coefs, fillvalue=0)]\n",
        "\n",
        "def sub_poly(poly1_coefs, poly2_coefs):\n",
        "  return [x-y for x, y in zip_longest(poly1_coefs, poly2_coefs, fillvalue=0)]\n",
        "\n",
        "square_fib_constraint_poly(inverse_trace_table, p)"
      ],
      "metadata": {
        "colab": {
          "base_uri": "https://localhost:8080/"
        },
        "id": "U-89g8V5Wgzj",
        "outputId": "6d3387c2-bbc7-42ab-91bb-d40448e36a3c"
      },
      "execution_count": 37,
      "outputs": [
        {
          "output_type": "execute_result",
          "data": {
            "text/plain": [
              "[9217243683127650670215423136204564307406542431733373805594493117736508689447,\n",
              " 6666845327329705532963430625265951311576613171241245242132100072955433688671,\n",
              " 44267534341411372821110843579994475498172624576994019134899687329660324137538,\n",
              " 27734915317295573979553823553557321860270268471208809659398702095994161952080,\n",
              " 37702370013672502632704303140624342804248711303899845502198214997157027878207,\n",
              " 11583562288821433247490937116774158461617493607772389006562557827980992423716,\n",
              " 19431544404868491752428433057080910022889750308878986243969634670562912518450,\n",
              " 12399440026714068747233115926566936096429177141939361413989904821957360748254,\n",
              " 20041303549030907216090313199445756936739800542200228711060022339667450807871,\n",
              " 1640433480202112741396001466119286110343076964539974284673711265395784145821,\n",
              " 13311292830147122275312324513496984175656020478185536494792425391434485506145,\n",
              " 41059692124944929433452274305014365636083572356756835655701111647528539392349,\n",
              " 48728717689897286205190927357005485693648993298446919893155237785330685590294,\n",
              " 27402860898548515345917794500630774711089260799805750439818123432542050144630,\n",
              " 33004330770257698727019307451105055814800802191648651578634024029375668666063,\n",
              " 40036435148412121732214624581619029741261375358588276408613753877981220436259,\n",
              " 23177327942967632593142004172535644593544209526594035305949143242534621687195,\n",
              " 44128596367594372205088308416800728415770862364746418295797847361587363350021,\n",
              " 47292923178693885862472312922880472001552459945875720015515204678782352725343,\n",
              " 36077142908011877545889383157800244179027264173089630330107503656354461024597,\n",
              " 18440662646682592121000250518742103177483400398708510249853864617389448900525,\n",
              " 13449451987756241886039008890781032664983798092949498376222977439415538616167]"
            ]
          },
          "metadata": {},
          "execution_count": 37
        }
      ]
    },
    {
      "cell_type": "code",
      "source": [
        "# wiring constraints\n",
        "# using Fi_1 to represent a_i+1 = b_i\n",
        "def wiring_constraint_poly(inverse_trace_table, p):\n",
        "\n",
        "  a_poly_coefs = IFFT(list(inverse_trace_table[0][1:])+[FQ(0)], p)\n",
        "  b_poly_coefs = IFFT(inverse_trace_table[1], p)\n",
        "  s_poly_coefs = IFFT(list(inverse_trace_table[3][1:])+[FQ(0)], p)\n",
        "\n",
        "  # construct a polynomial phi_0(x) = S(x+1)(A(x+1)-B(x))\n",
        "  phi_1_coefs = mul_poly(s_poly_coefs, sub_poly(a_poly_coefs, b_poly_coefs))\n",
        "\n",
        "  return phi_1_coefs\n",
        "\n",
        "wiring_constraint_poly(inverse_trace_table, p)"
      ],
      "metadata": {
        "colab": {
          "base_uri": "https://localhost:8080/"
        },
        "id": "o8abY3vODxVS",
        "outputId": "bb2a3302-53a4-4f49-8159-dee01ee4a26b"
      },
      "execution_count": 38,
      "outputs": [
        {
          "output_type": "execute_result",
          "data": {
            "text/plain": [
              "[11470347694558854167379193236165680026994808359490420773694550340558718051128,\n",
              " 31658831632200537539783533621391251008881967401427553257134119658570500984004,\n",
              " 9251157176012360485135106648195872832425943262155855154068869944562980101270,\n",
              " 4629573589425733109598056930899130194516745852141088748221668437883354628737,\n",
              " 27092786656927993916917219376235083497636322707752077888330974664656646497822,\n",
              " 16147469831419210761107806895310410948843277724729960615923746116523503448252,\n",
              " 47225732227417011674567510410490426723757052077807989737374736443825102691387,\n",
              " 0,\n",
              " 40965527480567336312068547272020285810695744141037217048909108359379863133385,\n",
              " 20777043542925652939664206886794714828808585099100084565469539041368080200509,\n",
              " 43184717999113829994312633859990093005264609238371782668534788755375601083243,\n",
              " 47806301585700457369849683577286835643173806648386549074381990262055226555776,\n",
              " 25343088518198196562530521131950882340054229792775559934272684035281934686691,\n",
              " 36288405343706979718339933612875554888847274775797677206679912583415077736261,\n",
              " 5210142947709178804880230097695539113933500422719648085228922256113478493126]"
            ]
          },
          "metadata": {},
          "execution_count": 38
        }
      ]
    },
    {
      "cell_type": "code",
      "source": [
        "# wiring constraints\n",
        "# using Fi_2 to represent b_i+1 = c_i\n",
        "def wiring_constraint_poly2(inverse_trace_table, p):\n",
        "\n",
        "  b_poly_coefs = IFFT(list(inverse_trace_table[1][1:])+[FQ(0)], p)\n",
        "  c_poly_coefs = IFFT(inverse_trace_table[2], p)\n",
        "  s_poly_coefs = IFFT(list(inverse_trace_table[3][1:])+[FQ(0)], p)\n",
        "\n",
        "  # construct a polynomial phi_0(x) = S(x+1)(A(x+1)-B(x))\n",
        "  phi_2_coefs = mul_poly(s_poly_coefs, sub_poly(b_poly_coefs, c_poly_coefs))\n",
        "\n",
        "  return phi_2_coefs\n",
        "\n",
        "wiring_constraint_poly2(inverse_trace_table, p)"
      ],
      "metadata": {
        "colab": {
          "base_uri": "https://localhost:8080/"
        },
        "id": "ICxIc7pDuECa",
        "outputId": "dca0c516-c51f-4d2a-8f2e-81c6d3205bec"
      },
      "execution_count": 39,
      "outputs": [
        {
          "output_type": "execute_result",
          "data": {
            "text/plain": [
              "[36049664182899255954620321599377851513412254844112750973250561136337128325687,\n",
              " 26478744040510257060869321766053525138872800379087851350621017645042397135506,\n",
              " 32410835611437218704466690526562532753646862728670419077503224720809139370953,\n",
              " 11748757413644117521565380048665272397719182982198598038819999551729010043282,\n",
              " 5425566726670899114035402883671431159983196801318069536656707248542603833947,\n",
              " 45997037633194194370717268143927422353966899878804396217539101952889432168702,\n",
              " 37540168226135780995704033570283361978050109689519990765762645485100182660726,\n",
              " 0,\n",
              " 16386210992226934524827418908808114324278297656414886849353097563601452858826,\n",
              " 25957131134615933418578418742132440698817752121439786471982641054896184049007,\n",
              " 20025039563688971774981049981623433084043689771857218745100433979129441813560,\n",
              " 40687117761482072957882360459520693439971369518329039783783659148209571141231,\n",
              " 47010308448455291365412337624514534677707355699209568285946951451395977350566,\n",
              " 6438837541931996108730472364258543483723652621723241605064556747049149015811,\n",
              " 14895706948990409483743706937902603859640442811007647056841013214838398523787]"
            ]
          },
          "metadata": {},
          "execution_count": 39
        }
      ]
    },
    {
      "cell_type": "code",
      "source": [
        "constraints_poly = []\n",
        "\n",
        "# Square-Fibonaci constraints\n",
        "constraints_poly.append(square_fib_constraint_poly(inverse_trace_table, p))\n",
        "\n",
        "# wiring constraints\n",
        "# using Fi_1 to represent a_i+1 = b_i\n",
        "constraints_poly.append(wiring_constraint_poly(inverse_trace_table, p))\n",
        "\n",
        "# using Fi_2 to represent b_i+1 = c_i\n",
        "constraints_poly.append(wiring_constraint_poly2(inverse_trace_table, p))\n",
        "\n",
        "constraints_poly"
      ],
      "metadata": {
        "colab": {
          "base_uri": "https://localhost:8080/"
        },
        "id": "MNjEDi5b8NB7",
        "outputId": "34b5f969-9adb-4931-ba3e-7daa6b57174e"
      },
      "execution_count": 40,
      "outputs": [
        {
          "output_type": "execute_result",
          "data": {
            "text/plain": [
              "[[9217243683127650670215423136204564307406542431733373805594493117736508689447,\n",
              "  6666845327329705532963430625265951311576613171241245242132100072955433688671,\n",
              "  44267534341411372821110843579994475498172624576994019134899687329660324137538,\n",
              "  27734915317295573979553823553557321860270268471208809659398702095994161952080,\n",
              "  37702370013672502632704303140624342804248711303899845502198214997157027878207,\n",
              "  11583562288821433247490937116774158461617493607772389006562557827980992423716,\n",
              "  19431544404868491752428433057080910022889750308878986243969634670562912518450,\n",
              "  12399440026714068747233115926566936096429177141939361413989904821957360748254,\n",
              "  20041303549030907216090313199445756936739800542200228711060022339667450807871,\n",
              "  1640433480202112741396001466119286110343076964539974284673711265395784145821,\n",
              "  13311292830147122275312324513496984175656020478185536494792425391434485506145,\n",
              "  41059692124944929433452274305014365636083572356756835655701111647528539392349,\n",
              "  48728717689897286205190927357005485693648993298446919893155237785330685590294,\n",
              "  27402860898548515345917794500630774711089260799805750439818123432542050144630,\n",
              "  33004330770257698727019307451105055814800802191648651578634024029375668666063,\n",
              "  40036435148412121732214624581619029741261375358588276408613753877981220436259,\n",
              "  23177327942967632593142004172535644593544209526594035305949143242534621687195,\n",
              "  44128596367594372205088308416800728415770862364746418295797847361587363350021,\n",
              "  47292923178693885862472312922880472001552459945875720015515204678782352725343,\n",
              "  36077142908011877545889383157800244179027264173089630330107503656354461024597,\n",
              "  18440662646682592121000250518742103177483400398708510249853864617389448900525,\n",
              "  13449451987756241886039008890781032664983798092949498376222977439415538616167],\n",
              " [11470347694558854167379193236165680026994808359490420773694550340558718051128,\n",
              "  31658831632200537539783533621391251008881967401427553257134119658570500984004,\n",
              "  9251157176012360485135106648195872832425943262155855154068869944562980101270,\n",
              "  4629573589425733109598056930899130194516745852141088748221668437883354628737,\n",
              "  27092786656927993916917219376235083497636322707752077888330974664656646497822,\n",
              "  16147469831419210761107806895310410948843277724729960615923746116523503448252,\n",
              "  47225732227417011674567510410490426723757052077807989737374736443825102691387,\n",
              "  0,\n",
              "  40965527480567336312068547272020285810695744141037217048909108359379863133385,\n",
              "  20777043542925652939664206886794714828808585099100084565469539041368080200509,\n",
              "  43184717999113829994312633859990093005264609238371782668534788755375601083243,\n",
              "  47806301585700457369849683577286835643173806648386549074381990262055226555776,\n",
              "  25343088518198196562530521131950882340054229792775559934272684035281934686691,\n",
              "  36288405343706979718339933612875554888847274775797677206679912583415077736261,\n",
              "  5210142947709178804880230097695539113933500422719648085228922256113478493126],\n",
              " [36049664182899255954620321599377851513412254844112750973250561136337128325687,\n",
              "  26478744040510257060869321766053525138872800379087851350621017645042397135506,\n",
              "  32410835611437218704466690526562532753646862728670419077503224720809139370953,\n",
              "  11748757413644117521565380048665272397719182982198598038819999551729010043282,\n",
              "  5425566726670899114035402883671431159983196801318069536656707248542603833947,\n",
              "  45997037633194194370717268143927422353966899878804396217539101952889432168702,\n",
              "  37540168226135780995704033570283361978050109689519990765762645485100182660726,\n",
              "  0,\n",
              "  16386210992226934524827418908808114324278297656414886849353097563601452858826,\n",
              "  25957131134615933418578418742132440698817752121439786471982641054896184049007,\n",
              "  20025039563688971774981049981623433084043689771857218745100433979129441813560,\n",
              "  40687117761482072957882360459520693439971369518329039783783659148209571141231,\n",
              "  47010308448455291365412337624514534677707355699209568285946951451395977350566,\n",
              "  6438837541931996108730472364258543483723652621723241605064556747049149015811,\n",
              "  14895706948990409483743706937902603859640442811007647056841013214838398523787]]"
            ]
          },
          "metadata": {},
          "execution_count": 40
        }
      ]
    },
    {
      "cell_type": "markdown",
      "source": [
        "### Combine constraints\n",
        "\n",
        "- **Naive way to proof the contraints**\n",
        "\n",
        "    In general, we have $m$ constraint polynomials $\\phi_0(x), \\phi_1(x), ..., \\phi_{m-1}(x)$. Sample a random field element $\\gamma \\in F_q$, and then take a random linear combination of the individual constraints:$$\\phi(x) := \\gamma^0·\\phi_0(x) + \\gamma^1·\\phi_1(x)+...+\\gamma^{m-1}·\\phi_{m-1}(x)$$\n",
        "    and we need the constraints satisfied at every row, that is $\\phi(\\omega^i) = 0 \\ for \\ all\\ 0\\le i <n$, in this case we need $n$ evaluation proofs\n",
        "\n",
        "\n",
        "- **Using quotient polynomial**\n",
        "\n",
        "    we can prove such constraint $\\phi(x)$ using only one evaluation proof:\n",
        "    - quotient polynomial:\n",
        "        \\begin{aligned}\n",
        "        \\phi(\\omega^i) = 0 \\ for \\ all\\ 0\\le i <n\\ &{\\Leftrightarrow}\\ (x-\\omega^i)|\\phi(x)\\ for \\ all\\ 0\\le i<n\\\\\n",
        "        &{\\Leftrightarrow}\\ \\prod^{n-1}_{i=0}(x-\\omega^i)|\\phi(x)\\ for \\ all\\ 0\\le i <n\\\\\n",
        "        &{\\Leftrightarrow}\\ (x^n-1)|\\phi(x)\\\\\n",
        "        &{\\Leftrightarrow}\\ \\exists Q(x)\\ s.t.\\phi(x)=Q(x)·(x^n-1)\n",
        "        \\end{aligned}\n",
        "      now we just need to prove there exists a polynomial $Q(x)$\n",
        "    - compute the quotient polynomial:\n",
        "        $$\n",
        "        Q(x):= {\\phi(x) \\over {x^n-1}} = {{\\gamma^0·\\phi_0(x) + \\gamma^1·\\phi_1(x)+...+\\gamma^{m-1}·\\phi_{m-1}(x)} \\over {x^n-1}}\n",
        "        $$\n",
        "      degree of $Q(x)$ is $2n-3$, so we need at least $2n-2$ evaluation points to represent it\n",
        "      \n",
        "      we make it a round number and use $2n$ evaluation points, our previous evaluation domain do not work anymore, because the order of $\\omega$ is only $n$. We therefore need to pick some other element $\\beta \\in F_q$ with order $2n$. Then we evaluate $Q(x)$ over the evaluation domain $\\{\\beta^0, \\beta^1,...,\\beta^{2n-1}\\}$"
      ],
      "metadata": {
        "id": "rCI92e9h8agH"
      }
    },
    {
      "cell_type": "code",
      "source": [
        "# define Phi(x)\n",
        "def Phi(constraints_poly, n, p):\n",
        "  # randomly gerenate gamma in F_p\n",
        "  gamma_list = []\n",
        "  Phi_poly_coefs = [0] * n\n",
        "\n",
        "  for i in range(len(constraints_poly)):\n",
        "      gamma = FQ(random.randint(0, p))\n",
        "      gamma_list.append(gamma)\n",
        "      phi_i = [gamma * constraints_poly[i][j] for j in range(len(constraints_poly[i]))]\n",
        "      Phi_poly_coefs = add_poly(phi_i, Phi_poly_coefs)\n",
        "\n",
        "  return Phi_poly_coefs, gamma_list\n",
        "\n",
        "Phi_poly_coefs, gamma_list = Phi(constraints_poly, len(constraints_poly[0]), p)\n",
        "print(f'the combination of contraints is {Phi_poly_coefs}, and the ramdom generated list of gamma is {gamma_list}')"
      ],
      "metadata": {
        "colab": {
          "base_uri": "https://localhost:8080/"
        },
        "id": "7LNQLL0THUJK",
        "outputId": "617f4250-c49d-4d33-d85e-6689d87a7db5"
      },
      "execution_count": 41,
      "outputs": [
        {
          "output_type": "stream",
          "name": "stdout",
          "text": [
            "the combination of contraints is [8017527026913007714032341705544906228882561006515649638542735990799770349346, 776309379756114274127118481190281763432425587598235629249267840295869734850, 12256073358137370683529871776896764326285644341202607728922831247218980443748, 46434003408914278571559688120569104212724721955594342520451423115083460120410, 25238306487294405495639529089523037882934723450525134640505597308923949505439, 7967664671114435086200834656926632383621292093678386557432498378005134978458, 37818551333967902394840328096418163180267944859374293514054818324065874617506, 8961916624945488810370020511130474377557949133863885612414405900233797086673, 18354028420489259786746213282829494216805041036435553027719183940474543069741, 32585284025243594425073206165539147140511955877166724449581594317849213324166, 10615670997295013819309851286142840236103262367628011129247294723392727839556, 49321747762175534193158292313269902547577413190916947447280318222978697248350, 4928811317706359976698764058027694038351891167791239535131462925788556182716, 25799548574273922877556442335124269555648158004472558738060604038272821048865, 14617323841158288084607412411767802657422607641153344308548840375872706567007, 43473958550180701669077719997055491460132603366663752210189252799704784097840, 26064319727723922978669185519811565392002950457576435156341738768664267765426, 19074281770126481780247415861456536933746171035762677743772796541793498125497, 29564130819693805976608017445146361275301645791697018964433532729326872901209, 9115999179162568194177500582532924915078969854543985677475576061815005000266, 22268757370125425007109447360635233916403937882211263646966598465226075496358, 18668661929737832515690463516135063898421102402376692527110556283660625157190], and the ramdom generated list of gamma is [24889771308612168848857517685688061421249401307897943556969251481799287870581, 43406954749818263293102256495974641726167523331072406017810709372084278237517, 581802458383660517546877896826023583795815795532942881539636081924665110105]\n"
          ]
        }
      ]
    },
    {
      "cell_type": "code",
      "source": [
        "def Quotient_poly(Phi_poly_coefs, n, p):\n",
        "  '''Args:\n",
        "  a: randomly sampled field element\n",
        "  b: evaluation on a\n",
        "  poly_evals: input of poly need to be in evaluation form\n",
        "\n",
        "  Returns:\n",
        "  Q_poly_evals: q poly in evaluation form\n",
        "  '''\n",
        "  Q_poly_evals = []\n",
        "\n",
        "  omega = find_nth_root_of_unity_realnum(2*n-2, p)\n",
        "\n",
        "  for i in range(2*n-2):\n",
        "\n",
        "    Phi_poly_eval = evaluation_poly(omega**i, Phi_poly_coefs)\n",
        "    Q_poly_evals.append(Phi_poly_eval/((omega**i)**n-FQ(1)))\n",
        "\n",
        "  return Q_poly_evals\n",
        "\n",
        "Q_poly_evals = Quotient_poly(Phi_poly_coefs, n, p)\n",
        "print(f'quotient polynomial in evaluation form is {Q_poly_evals}')"
      ],
      "metadata": {
        "colab": {
          "base_uri": "https://localhost:8080/"
        },
        "id": "4WW1THT_IOsj",
        "outputId": "e093e708-65a7-4516-d150-f39e980449ec"
      },
      "execution_count": 42,
      "outputs": [
        {
          "output_type": "stream",
          "name": "stdout",
          "text": [
            "quotient polynomial in evaluation form is [0, 4705742602221485805226054094369856739951794496280071807050382258087376615696, 43731262393121770182785289052720655148531405698748537150220284301092569140036, 52197769106928563528958095432710138531616430670945127944495857186879042953108, 41904383833976236065538879989335224812280765288524309578381787013374656814355, 3583938658080596792254454082328832150856445463121719616252575002821003588639, 26838059231188775352711261659382853752317363227744951908086908377878155665673, 51864017488674193653323430992965592863761784537267289319911228194172409086101, 26824860463679689597841985337940366774381194954231703342291307554750480257382, 50952468134938690001824056888505874067196498459809575795195744239522662567881, 18707897053962510263526021285940742028750773358621424337178429472175614047203, 27849370885013441321859653067624269797759726900014445885078860327927757531207, 39163475873702786183937882085965961785359346621536765586192831009920082630799, 13156218744469949496628417854553762034435843333611339285205886928672493182193]\n"
          ]
        }
      ]
    },
    {
      "cell_type": "markdown",
      "source": [
        "### Committing to the quotient polynomial\n",
        "Now we have get the evaluation form of $Q(x)$, we can compute its commitment. Note, degree of $Q(x)$ is larger than the column polynomials, so it requires a larger KZG setup\n",
        "\n",
        "(in practice, we can use a trick here: split $Q(x)$ into 2 smaller polynomials with each one's degree $<n$, and commit them seperately: $Q(x) = Q_{lo}(x) + x^n·Q_{hi}(x)$ )"
      ],
      "metadata": {
        "id": "66SFCFtF8jsh"
      }
    },
    {
      "cell_type": "code",
      "source": [
        "Q_poly_coefs = IFFT(Q_poly_evals, p)\n",
        "Q_com = poly_commitment(pk, g1, Q_poly_coefs)\n",
        "print(f'commitment of polynomial is {Q_com}')"
      ],
      "metadata": {
        "colab": {
          "base_uri": "https://localhost:8080/"
        },
        "id": "yrq0Ai998iPX",
        "outputId": "dc6bab63-7296-434c-d0b5-e3e87eaa0a6c"
      },
      "execution_count": 43,
      "outputs": [
        {
          "output_type": "stream",
          "name": "stdout",
          "text": [
            "commitment of polynomial is (54480837803434183812882202072972320403283773064695511096449725071151307493488493691598250443788981618399813587261, 1833891027291388479447659744918103934449470423633491424899385841758558622901530101249778365779494714522752466967504)\n"
          ]
        }
      ]
    },
    {
      "cell_type": "markdown",
      "source": [
        "### Proving an Evaluation\n",
        "Now we have committed all column polynomials from the trace table and have also committed to the quotient polynomial. Now the prover needs to demonstrate the quotient polynimial really exist and it was computed correctly.\n",
        "\n",
        "This can be achieve through the following steps:\n",
        "1. sample a random point $\\alpha \\in F_q$\n",
        "2. generate and output KZG proofs for all column polynimials and the quotient polynomials at point $\\alpha$ $$ Q(\\alpha):= {\\phi(\\alpha) \\over {\\alpha^n-1}} = {{\\gamma^0·\\phi_0(\\alpha) + \\gamma^1·\\phi_1(\\alpha)+...+\\gamma^{m-1}·\\phi_{m-1}(\\alpha)} \\over {\\alpha^n-1}}$$\n",
        "$\\alpha$ is sampled at random, so the property holds at $\\alpha$, then it holds everywhere"
      ],
      "metadata": {
        "id": "c70-M8kH8pzg"
      }
    },
    {
      "cell_type": "code",
      "source": [
        "# Verifier first choose the random point a\n",
        "a = FQ(random.randint(0, p))\n",
        "\n",
        "# calculate evaluation for all polynomials, and proof of the evaluation pi\n",
        "## for column polynomials\n",
        "col_evaluation = []\n",
        "col_q_poly_evals = []\n",
        "col_pi = []\n",
        "for poly_coef in col_poly_coefs:\n",
        "    # compute evaluation at a\n",
        "    b = evaluation_poly(a, poly_coef)\n",
        "    col_evaluation.append(b)\n",
        "    # compute q(x)\n",
        "    poly_eval = FFT(poly_coef, p)\n",
        "    q_poly_evals = quotient_poly(a, b, poly_eval, p)\n",
        "    col_q_poly_evals.append(q_poly_evals)\n",
        "    # compute proof of the evaluation pi\n",
        "    q_poly_coef = IFFT(q_poly_evals, p)\n",
        "    pi = poly_commitment(pk, g1,  q_poly_coef)\n",
        "    col_pi.append(pi)\n",
        "print(f'evalutions for column polynomials are {col_evaluation}, and proof of evaluations are {col_pi}')\n",
        "\n",
        "## for quotient polynomials\n",
        "# compute evaluation at a\n",
        "Q_evaluation = evaluation_poly(a, Q_poly_coefs)\n",
        "# compute q(x)\n",
        "Q_q_poly_eval = quotient_poly(a, b, Q_poly_evals, p)\n",
        "# compute proof of the evaluation pi\n",
        "Q_q_poly_coef = IFFT(Q_q_poly_eval, p)\n",
        "Q_pi = poly_commitment(pk, g1, Q_q_poly_coef)\n",
        "print(f'evaluation for quotient polynomial is {Q_evaluation},and proof of evaluations are {Q_pi}')"
      ],
      "metadata": {
        "colab": {
          "base_uri": "https://localhost:8080/"
        },
        "id": "ABDq93Si8sV3",
        "outputId": "05b4befd-ddc5-4901-9523-6042dbd5db97"
      },
      "execution_count": 45,
      "outputs": [
        {
          "output_type": "stream",
          "name": "stdout",
          "text": [
            "evalutions for column polynomials are [42591359461832554920799046767966076799717806791021986045596701468129779333390, 3515446475614249355432736360351318624075159482667077985764104079511182944735, 28400623721070108674140819057706061476454565098321733831422051749889983310653, 16128058055171067210087441900711554415515006747669541669805109773713276587623, 32461419880148667753864854261499140856054920779075473276923072413180068474578], and proof of evaluations are [(3785687379729171273070453119365519790294414540926227051094109814443395601871365045460424419529029020765885280464897, 67178734401413013316963046072300203851189048297466932504943850573702376706529783705320902482786241465174278268210), (1661357341934456749416667467084604261477849238772352763125257543235132944154832549039901497155032469171130972637307, 2229190065075315095174972613946687672857061035426968199716892871200283527942962750040208526288834611267528164049549), (2179962987817636486371974969240922329222839244692155673543666106030445406385242825225345933404477681474141842541394, 569169950999105619221592917519161231072433828333288850290135410443893535807196610463859995686926984977704271971154), (3670167152718946936189186487563727603950448173337631187486290577802777155245097388544637732647946852643243070163053, 290728198599092527028095494447735779694833392093756230437065171218277388753624445080315271874452013262334860334886), (1562273346780922695816341218930095659909283698170163714343119190903396744715277135862350596222611230064613251048244, 2847871799988032622950431010363732506933783518288601044594475065936528720400252461655542645485266897581494669214020)]\n",
            "evaluation for quotient polynomial is 13380154655236517571963213575055602889208327359449129264252553030297707235669,and proof of evaluations are (3423246578175592064242362812914153842644510925839061014226742829291402784244667647263890183223511040745948776022118, 1375602346626797771788674825902966249864658041787289639769996921622106887239891531953531849674688534549860337116287)\n"
          ]
        }
      ]
    },
    {
      "cell_type": "markdown",
      "source": [
        "### Verifying the quotient polynomial\n",
        "the verifier need to check two things:\n",
        "1. each evaluation proof is correct\n",
        "2. the quotient polynomial holds at point $\\alpha$"
      ],
      "metadata": {
        "id": "ZZwFn_Sd8_Jf"
      }
    },
    {
      "cell_type": "code",
      "source": [
        "# verify each evaluation proof is correct\n",
        "for i in range(len(com_list)):\n",
        "    # print(f'verification result of column {i} : {evaluation_verification(com_list[i], col_evaluation[i], a, col_pi[i], g1, g2, vk)}')\n",
        "    print(f'verification result of column {i} : {pairing(g2, add(com_list[i], neg(multiply(g1, int(col_evaluation[i]))))) == pairing(add(vk, neg(multiply(g2, int(a)))), col_pi[i])}')\n",
        "\n",
        "# verify the quotient polynomial holds at point a\n",
        "# assert GT.pairing(Q_com - g1*Scalar(Q_evaluation), g2) == GT.pairing(Q_pi, vk - g2*Scalar(a))\n",
        "# print(f'verification result:{evaluation_verification(Q_com, Q_evaluation, a, Q_pi, g1, g2, vk)}')\n",
        "print(f'verification result of quotient polynomial: {pairing(g2, add(Q_com, neg(multiply(g1, int(Q_evaluation))))) == pairing(add(vk, neg(multiply(g2, int(a)))), Q_pi)}')"
      ],
      "metadata": {
        "colab": {
          "base_uri": "https://localhost:8080/"
        },
        "id": "hgCnWd629BN9",
        "outputId": "293cb17f-0034-41ed-8394-176678ba3f75"
      },
      "execution_count": 46,
      "outputs": [
        {
          "output_type": "stream",
          "name": "stdout",
          "text": [
            "verification result of column 0 : True\n",
            "verification result of column 1 : True\n",
            "verification result of column 2 : True\n",
            "verification result of column 3 : True\n",
            "verification result of column 4 : True\n",
            "verification result of quotient polynomial: False\n"
          ]
        }
      ]
    }
  ]
}