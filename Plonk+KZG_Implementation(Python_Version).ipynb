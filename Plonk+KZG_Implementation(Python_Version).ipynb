{
  "nbformat": 4,
  "nbformat_minor": 0,
  "metadata": {
    "colab": {
      "provenance": [],
      "collapsed_sections": [
        "XDSUSR7mEtlN",
        "V_bza7lHgToL",
        "gLEGo27ZlBNe"
      ],
      "authorship_tag": "ABX9TyORi5vH0NMozADJDp7LhciD",
      "include_colab_link": true
    },
    "kernelspec": {
      "name": "python3",
      "display_name": "Python 3"
    },
    "language_info": {
      "name": "python"
    }
  },
  "cells": [
    {
      "cell_type": "markdown",
      "metadata": {
        "id": "view-in-github",
        "colab_type": "text"
      },
      "source": [
        "<a href=\"https://colab.research.google.com/github/YolaYing/zk-toolkit/blob/main/Plonk%2BKZG_Implementation(Python_Version).ipynb\" target=\"_parent\"><img src=\"https://colab.research.google.com/assets/colab-badge.svg\" alt=\"Open In Colab\"/></a>"
      ]
    },
    {
      "cell_type": "markdown",
      "source": [
        "# Develope Environment Preparation\n",
        "Curve we used is BLS12-381\n",
        "- Library we used: BLS21-381 curve implemented by Ethereum, using Python\n",
        "- Lib link: https://github.com/ethereum/py_ecc/tree/main\n",
        "\n",
        "You can use the following command to install all the packages we needed. Note that if you are using anaconda, package installation may be failed. Highly recommand using colab or some development friendly environment."
      ],
      "metadata": {
        "id": "XDSUSR7mEtlN"
      }
    },
    {
      "cell_type": "code",
      "execution_count": 3,
      "metadata": {
        "colab": {
          "base_uri": "https://localhost:8080/"
        },
        "id": "FDe0iCZyEKD3",
        "outputId": "94fdf257-3af2-43be-f47b-59c0b7c29788"
      },
      "outputs": [
        {
          "output_type": "stream",
          "name": "stdout",
          "text": [
            "Collecting py_ecc\n",
            "  Downloading py_ecc-7.0.0-py3-none-any.whl (43 kB)\n",
            "\u001b[?25l     \u001b[90m━━━━━━━━━━━━━━━━━━━━━━━━━━━━━━━━━━━━━━━━\u001b[0m \u001b[32m0.0/43.6 kB\u001b[0m \u001b[31m?\u001b[0m eta \u001b[36m-:--:--\u001b[0m\r\u001b[2K     \u001b[90m━━━━━━━━━━━━━━━━━━━━━━━━━━━━━━━━━━━━━━━━\u001b[0m \u001b[32m43.6/43.6 kB\u001b[0m \u001b[31m1.2 MB/s\u001b[0m eta \u001b[36m0:00:00\u001b[0m\n",
            "\u001b[?25hCollecting eth-typing>=3.0.0 (from py_ecc)\n",
            "  Downloading eth_typing-3.5.2-py3-none-any.whl (14 kB)\n",
            "Collecting eth-utils>=2.0.0 (from py_ecc)\n",
            "  Downloading eth_utils-2.3.1-py3-none-any.whl (77 kB)\n",
            "\u001b[2K     \u001b[90m━━━━━━━━━━━━━━━━━━━━━━━━━━━━━━━━━━━━━━━━\u001b[0m \u001b[32m77.8/77.8 kB\u001b[0m \u001b[31m4.8 MB/s\u001b[0m eta \u001b[36m0:00:00\u001b[0m\n",
            "\u001b[?25hCollecting cached-property>=1.5.1 (from py_ecc)\n",
            "  Downloading cached_property-1.5.2-py2.py3-none-any.whl (7.6 kB)\n",
            "Requirement already satisfied: typing-extensions>=4.0.1 in /usr/local/lib/python3.10/dist-packages (from eth-typing>=3.0.0->py_ecc) (4.5.0)\n",
            "Collecting eth-hash>=0.3.1 (from eth-utils>=2.0.0->py_ecc)\n",
            "  Downloading eth_hash-0.5.2-py3-none-any.whl (8.6 kB)\n",
            "Collecting cytoolz>=0.10.1 (from eth-utils>=2.0.0->py_ecc)\n",
            "  Downloading cytoolz-0.12.2-cp310-cp310-manylinux_2_17_x86_64.manylinux2014_x86_64.whl (1.9 MB)\n",
            "\u001b[2K     \u001b[90m━━━━━━━━━━━━━━━━━━━━━━━━━━━━━━━━━━━━━━━━\u001b[0m \u001b[32m1.9/1.9 MB\u001b[0m \u001b[31m28.7 MB/s\u001b[0m eta \u001b[36m0:00:00\u001b[0m\n",
            "\u001b[?25hRequirement already satisfied: toolz>=0.8.0 in /usr/local/lib/python3.10/dist-packages (from cytoolz>=0.10.1->eth-utils>=2.0.0->py_ecc) (0.12.0)\n",
            "Installing collected packages: cached-property, eth-typing, eth-hash, cytoolz, eth-utils, py_ecc\n",
            "Successfully installed cached-property-1.5.2 cytoolz-0.12.2 eth-hash-0.5.2 eth-typing-3.5.2 eth-utils-2.3.1 py_ecc-7.0.0\n"
          ]
        }
      ],
      "source": [
        "!pip3 install py_ecc"
      ]
    },
    {
      "cell_type": "markdown",
      "source": [
        "# Preliminaries\n"
      ],
      "metadata": {
        "id": "F8XQWxyrf_a9"
      }
    },
    {
      "cell_type": "markdown",
      "source": [
        "## Form of Polynomial Representations(using baby parameters for demonstration)\n",
        "\n",
        "A polynomial $\\Phi(x) = \\sum_{i = 0}^{n - 1} \\phi_ix^i$ have two representation forms:\n",
        "1. Coefficient Form\n",
        "  - $\\Phi(x)$ can be represeneted as a tuple of $n$ coefficients: $[\\phi_0, \\phi_1, ..., \\phi_{n-1}]$\n",
        "2. Evaluation Form\n",
        "  - $\\Phi(x)$ can be represeneted as a tuple of $n$ distinct evaluations: $[\\Phi(x_0), \\Phi(x_1), ..., \\Phi(x_{n-1})]$\n",
        "    - the set of values $\\\\{ x_0, x_1, ..., x_{n-1} \\\\}$ over which the polynomial is defined over is known as \"evaluation domain\""
      ],
      "metadata": {
        "id": "V_bza7lHgToL"
      }
    },
    {
      "cell_type": "code",
      "source": [
        "# For example, assume we have a polynomial Φ(𝑥)=4x^3+5x^2+3x+2 and some points on the polynomials\n",
        "poly_coefs = [2, 3, 5, 4]\n",
        "evaluation_domain = [1, 4, 16, 13]\n",
        "poly_evals = [14, 10, 0, 1]\n",
        "\n",
        "print(f'coefficient form of phi(x) is {poly_coefs}')\n",
        "print(f'evaluation form of phi(x) is {poly_evals}, defined over evaluation domain {evaluation_domain}')"
      ],
      "metadata": {
        "colab": {
          "base_uri": "https://localhost:8080/"
        },
        "id": "5cPrvhiMkGQo",
        "outputId": "bec88340-0658-4e78-84f2-4f7e909cb571"
      },
      "execution_count": 4,
      "outputs": [
        {
          "output_type": "stream",
          "name": "stdout",
          "text": [
            "coefficient form of phi(x) is [2, 3, 5, 4]\n",
            "evaluation form of phi(x) is [14, 10, 0, 1], defined over evaluation domain [1, 4, 16, 13]\n"
          ]
        }
      ]
    },
    {
      "cell_type": "markdown",
      "source": [
        "## Convert between Coefficient Form and Evaluation Form\n",
        "\n",
        "### Defination\n",
        "- **Fourier Transform**: convert from coefficient to evaluation\n",
        "- **inverse Fourier Transform**: convert from evaluation to coefficient\n",
        "\n",
        "\n",
        "### Naive Way\n",
        "In naive way, each of those two transformation takes $O(n^2)$ computation\n",
        "- **Fourier Transform**: evaluate $\\Phi(x)$ at each $x_i$ in the evaluation domain\n",
        "- **inverse Fourier Transform**: use *Lagrange Interpolation* to obtain unique degree $(n-1)$ polynomial passes through each of the $n$ points\n",
        "\n",
        "\n",
        "### Optimized Way: Fast Fourier Transformation(FFT)\n",
        "To improve the effectiveness of the transformation, we need to do the following steps:\n",
        "- defined polynomials over finite field\n",
        "  - restrict each coefficient $p_i \\in F_q$ and each evaluation point $\\Phi(x_i) \\in F_q$\n",
        "  - $q$ stands for curve order\n",
        "- defined the evaluation domain as a multiplicative subgroup of $F_q$\n",
        "  - evaluation domain is a set of \"$n^{th}$ roots of unity\", $\\{ \\omega_0, \\omega_1, ..., \\omega_{n-1} \\}$ for some element $\\omega \\in F_q$ with order $n$(i.e. $\\omega^n = 1$ mod $q$)\n",
        "- implementation of FFT algorithm\n",
        "  - if you are not familiar with FFT, highly recommend this video: https://www.youtube.com/watch?v=h7apO7q16V0"
      ],
      "metadata": {
        "id": "gLEGo27ZlBNe"
      }
    },
    {
      "cell_type": "code",
      "source": [
        "import random\n",
        "\n",
        "def FFT(poly_coefs, q):\n",
        "  '''\n",
        "  Args:\n",
        "  poly_coefs: coefficient representation of the polynomial\n",
        "\n",
        "  Returns:\n",
        "  y: evaluation form of the polynomial\n",
        "  '''\n",
        "  # get the degree of the polynomial\n",
        "  n = len(poly_coefs)\n",
        "  if n == 1:\n",
        "    return poly_coefs\n",
        "\n",
        "  # in theory, omega should be the nth root of unity, which is a complex number\n",
        "  # to use it in finite field, we use a algorithm here\n",
        "  omega = find_nth_root_of_unity(n, q)\n",
        "  print(f'{n}^th of unity is {omega}')\n",
        "  poly_coefs_e = poly_coefs[::2]\n",
        "  poly_coefs_o = poly_coefs[1::2]\n",
        "  y_e = FFT(poly_coefs_e, q)\n",
        "  y_o = FFT(poly_coefs_o, q)\n",
        "  y = [0] * n\n",
        "  for j in range(int(n/2)):\n",
        "    y[j] = int(y_e[j] + (omega**j)*y_o[j]) % q\n",
        "    y[j + int(n/2)] = int(y_e[j] - (omega**j)*y_o[j]) % q\n",
        "  return y\n",
        "\n",
        "\n",
        "def find_nth_root_of_unity(n, q):\n",
        "  '''\n",
        "  Args:\n",
        "  n: nth root of unity, which is the degree of polynomial\n",
        "  q: finite field q\n",
        "\n",
        "  Returns:\n",
        "  omega: the nth root of unity, which is a element in finite field\n",
        "  '''\n",
        "  omega = 1\n",
        "  while(omega**(n/2) == 1 and omega != 0):\n",
        "    x = random.randint(0, q)\n",
        "    omega = x**((q-1)/n) % q\n",
        "  return omega\n",
        "\n",
        "print(f'coefficient form of phi(x) is {poly_coefs}, after FFT, we can get the evaluation form of phi(x) is {FFT(poly_coefs, 17)}')\n",
        ""
      ],
      "metadata": {
        "colab": {
          "base_uri": "https://localhost:8080/"
        },
        "id": "uUFr9iQO4G7v",
        "outputId": "0c476c1f-a4e6-491a-ef97-b93325725d69"
      },
      "execution_count": 5,
      "outputs": [
        {
          "output_type": "stream",
          "name": "stdout",
          "text": [
            "4^th of unity is 4.0\n",
            "2^th of unity is 16.0\n",
            "2^th of unity is 16.0\n",
            "coefficient form of phi(x) is [2, 3, 5, 4], after FFT, we can get the evaluation form of phi(x) is [14, 10, 0, 1]\n"
          ]
        }
      ]
    },
    {
      "cell_type": "code",
      "source": [
        "# verification of FFT result\n",
        "omega = 13\n",
        "q = 17\n",
        "for i in range(len(poly_coefs)):\n",
        "    x = omega**i % q\n",
        "    print(f'x = {x}, poly(x) = {(4*(x**3)+5*(x**2)+3*x+2) % q}')"
      ],
      "metadata": {
        "colab": {
          "base_uri": "https://localhost:8080/"
        },
        "id": "YFE5EEwYJ-7l",
        "outputId": "c4b7f258-6628-4bd0-d09f-99133fa16f56"
      },
      "execution_count": 6,
      "outputs": [
        {
          "output_type": "stream",
          "name": "stdout",
          "text": [
            "x = 1, poly(x) = 14\n",
            "x = 13, poly(x) = 1\n",
            "x = 16, poly(x) = 0\n",
            "x = 4, poly(x) = 10\n"
          ]
        }
      ]
    },
    {
      "cell_type": "markdown",
      "source": [
        "Because the calculation of finding evaluation domain is a repeated and computation intensive step, so usually we just build a lookup table to store the pre-calculated result. Here we just slightly revise FFT algorithm to meet the lookup needs."
      ],
      "metadata": {
        "id": "NiwOdwl7qZ-u"
      }
    },
    {
      "cell_type": "code",
      "source": [
        "# omega generation can be quite computational intensive, so we tend to pre-calculate the lookup table for omega\n",
        "# we assume n = 8, and we have a multiplication cyclic group with ord = 8, which is [1,2,4,8,16,15,13,9] with 2 as its generator and 17 as module\n",
        "\n",
        "# create a lookup table\n",
        "n_max = 8\n",
        "q = 17\n",
        "omega_list = [1,2,4,8,16,15,13,9]\n",
        "\n",
        "def build_lookup_table(n, omega_list):\n",
        "  lookup = {}\n",
        "  lookup[n] = omega_list\n",
        "  while n > 2:\n",
        "    n = int(n/2)\n",
        "    omega_list = omega_list[::2]\n",
        "    lookup[n] = omega_list\n",
        "  return lookup\n",
        "\n",
        "lookup  = build_lookup_table(n_max, omega_list)\n",
        "print(f'lookup table of list of omega is {lookup}')"
      ],
      "metadata": {
        "colab": {
          "base_uri": "https://localhost:8080/"
        },
        "id": "Djcz086abXKe",
        "outputId": "c32a99a4-ab06-44f8-94ed-9d7fe04a3dc1"
      },
      "execution_count": 7,
      "outputs": [
        {
          "output_type": "stream",
          "name": "stdout",
          "text": [
            "lookup table of list of omega is {8: [1, 2, 4, 8, 16, 15, 13, 9], 4: [1, 4, 16, 13], 2: [1, 16]}\n"
          ]
        }
      ]
    },
    {
      "cell_type": "code",
      "source": [
        "# revise FFT using omega lookup table\n",
        "def FFT_using_exist_omega(poly_coefs, q, lookup):\n",
        "  '''\n",
        "  Args:\n",
        "  poly_coefs: coefficient representation of the polynomial\n",
        "  lookup: pre-determined omega list\n",
        "\n",
        "  Returns:\n",
        "  y: evaluation form of the polynomial\n",
        "  '''\n",
        "  # get the degree of the polynomial\n",
        "  n = len(poly_coefs)\n",
        "  if n == 1:\n",
        "    return poly_coefs\n",
        "\n",
        "  # in theory, omega should be the nth root of unity, which is a complex number\n",
        "  # to use it in finite field, we use a algorithm here\n",
        "  omega = lookup[n][1]\n",
        "  # print(f'n = {n}, omega = {omega}')\n",
        "  poly_coefs_e = poly_coefs[::2]\n",
        "  poly_coefs_o = poly_coefs[1::2]\n",
        "  y_e = FFT_using_exist_omega(poly_coefs_e, q, lookup)\n",
        "  y_o = FFT_using_exist_omega(poly_coefs_o, q, lookup)\n",
        "  y = [0] * n\n",
        "  for j in range(int(n/2)):\n",
        "    y[j] = int(y_e[j] + (omega**j)*y_o[j]) % q\n",
        "    y[j + int(n/2)] = int(y_e[j] - (omega**j)*y_o[j]) % q\n",
        "  return y\n",
        "\n",
        "print(f'coefficient form of phi(x) is {poly_coefs}, after FFT(use exist omega lookup table), we can get the evaluation form of phi(x) is {FFT_using_exist_omega(poly_coefs, q, lookup)}')"
      ],
      "metadata": {
        "colab": {
          "base_uri": "https://localhost:8080/"
        },
        "id": "YSTh_jgY67Vj",
        "outputId": "1d2521d1-c646-49fd-afef-589c71867ba9"
      },
      "execution_count": 8,
      "outputs": [
        {
          "output_type": "stream",
          "name": "stdout",
          "text": [
            "coefficient form of phi(x) is [2, 3, 5, 4], after FFT(use exist omega lookup table), we can get the evaluation form of phi(x) is [14, 10, 0, 1]\n"
          ]
        }
      ]
    },
    {
      "cell_type": "markdown",
      "source": [
        "### Inverse Fast Fourier Transformation(IFFT)\n",
        "We have used FFT to achieve fast transformation from coefficient to evaluation. Now we will implement the inverse transformation, which is from evaluation to coefficient with slightly changing in the algorithm: update $\\omega$ to $\\frac{1}{n}\\omega^{-1}$\n",
        "\n",
        "detailed info: https://decentralizedthoughts.github.io/2023-09-01-FFT/#mjx-eqn-%5Cstar"
      ],
      "metadata": {
        "id": "sMtOeR_0RGfu"
      }
    },
    {
      "cell_type": "code",
      "source": [
        "# inverse the lookup table\n",
        "# the only thing we need to modify in FFT is to update its omega\n",
        "omega_list = [1,2,4,8,16,15,13,9]\n",
        "\n",
        "def inverse_element(omega_list, q):\n",
        "  inverse_omega_list = []\n",
        "  inverse_omega_dict = {}\n",
        "\n",
        "  for i in omega_list:\n",
        "    for candidate in omega_list:\n",
        "      if i*candidate%q == 1:\n",
        "        inverse_omega_list.append(candidate)\n",
        "        inverse_omega_dict[i] = candidate\n",
        "  return inverse_omega_list, inverse_omega_dict\n",
        "\n",
        "inverse_omega_list, inverse_omega_dict= inverse_element(omega_list, q)\n",
        "print(f'inverse omega list is {inverse_omega_list}, inverse omega dict is {inverse_omega_dict}')\n",
        "inverse_lookup = build_lookup_table(n_max, inverse_omega_list)\n",
        "print(f'lookup table of list of omega is {inverse_lookup}')"
      ],
      "metadata": {
        "colab": {
          "base_uri": "https://localhost:8080/"
        },
        "id": "rKQc8bxpfD1T",
        "outputId": "0c47a857-6552-445d-cb85-08ec5420d24a"
      },
      "execution_count": 9,
      "outputs": [
        {
          "output_type": "stream",
          "name": "stdout",
          "text": [
            "inverse omega list is [1, 9, 13, 15, 16, 8, 4, 2], inverse omega dict is {1: 1, 2: 9, 4: 13, 8: 15, 16: 16, 15: 8, 13: 4, 9: 2}\n",
            "lookup table of list of omega is {8: [1, 9, 13, 15, 16, 8, 4, 2], 4: [1, 13, 16, 4], 2: [1, 16]}\n"
          ]
        }
      ]
    },
    {
      "cell_type": "code",
      "source": [
        "# revise FFT using omega lookup table\n",
        "def IFFT_using_exist_omega(poly_evals, q, inverse_lookup, inverse_omega_dict):\n",
        "  recursion_result = IFFT_recursion_part(poly_evals, q, inverse_lookup)\n",
        "  IFFT_final_result = [ x * inverse_omega_dict[len(poly_evals)] % q for x in recursion_result]\n",
        "  return IFFT_final_result\n",
        "\n",
        "def IFFT_recursion_part(poly_evals, q, inverse_lookup):\n",
        "  '''\n",
        "  Args:\n",
        "  poly_coefs: coefficient representation of the polynomial\n",
        "  lookup: pre-determined omega list\n",
        "\n",
        "  Returns:\n",
        "  y: evaluation form of the polynomial\n",
        "  '''\n",
        "  # get the degree of the polynomial\n",
        "  n = len(poly_evals)\n",
        "  if n == 1:\n",
        "    return poly_evals\n",
        "\n",
        "  # in theory, omega should be the nth root of unity, which is a complex number\n",
        "  # to use it in finite field, we use a algorithm here\n",
        "  omega = inverse_lookup[n][1]\n",
        "  poly_evals_e = poly_evals[::2]\n",
        "  poly_evals_o = poly_evals[1::2]\n",
        "  y_e = IFFT_recursion_part(poly_evals_e, q, inverse_lookup)\n",
        "  y_o = IFFT_recursion_part(poly_evals_o, q, inverse_lookup)\n",
        "  y = [0] * n\n",
        "  for j in range(int(n/2)):\n",
        "    y[j] = int(y_e[j] + (omega**j)*y_o[j]) % q\n",
        "    y[j + int(n/2)] = int(y_e[j] - (omega**j)*y_o[j]) % q\n",
        "  return y\n",
        "\n",
        "print(f'evaluation form of phi(x) is {poly_evals}, after IFFT(use exist omega lookup table), we can get the coefficient form of phi(x) is {IFFT_using_exist_omega(poly_evals, q, inverse_lookup, inverse_omega_dict)}')"
      ],
      "metadata": {
        "colab": {
          "base_uri": "https://localhost:8080/"
        },
        "id": "QnHXq61yRFC7",
        "outputId": "63d22d64-0f7b-4305-ae29-db2bc745f029"
      },
      "execution_count": 10,
      "outputs": [
        {
          "output_type": "stream",
          "name": "stdout",
          "text": [
            "evaluation form of phi(x) is [14, 10, 0, 1], after IFFT(use exist omega lookup table), we can get the coefficient form of phi(x) is [2, 3, 5, 4]\n"
          ]
        }
      ]
    },
    {
      "cell_type": "markdown",
      "source": [
        "## Polynomial Representations, FFT and IFFT(using real numbers for KZG usage)"
      ],
      "metadata": {
        "id": "lRjznksIg7Ll"
      }
    },
    {
      "cell_type": "markdown",
      "source": [
        "### Polynomial Representations\n",
        "\n",
        "Real proving system only consider polynomials over a finite field, and so we will restrict：\n",
        "- each coefficient $p_i$\n",
        "- each evaluation point $\\Phi(x_i)$ to be elements of a finite field $F_q$\n",
        "- the evaluation domain(the $\\omega_i$'s) to be a mulyiplicative subgroup of $F_q$\n",
        "\n",
        "For BLS12-381:\n",
        "- the finite field modulus $q$ is pre-determined, which is 'curve order'\n",
        "- \"$n^{th}$ roots of unity\" are confirmed, can be get using the function 'find_nth_root_of_unity($n$, $q$)'"
      ],
      "metadata": {
        "id": "_ehvn42joM_b"
      }
    },
    {
      "cell_type": "code",
      "source": [
        "from py_ecc.bls12_381 import curve_order\n",
        "from py_ecc.fields.field_elements import FQ as Field\n",
        "\n",
        "# construct a data structure F_q\n",
        "class FQ(Field):\n",
        "    field_modulus = curve_order\n",
        "q = curve_order\n",
        "\n",
        "# For example, assume we have a polynomial Φ(𝑥)=4x^3+5x^2+3x+2 and some points on the polynomials\n",
        "poly_coefs = [FQ(2), FQ(3), FQ(5), FQ(4)]\n",
        "poly_evals = [FQ(14), FQ(52435875175126190475982595682112313518914282969839895044333406231173219221502), FQ(0), FQ(3465144826073652318776269530687742778270252468765361963005)]\n",
        "\n",
        "def find_nth_root_of_unity_realnum(n, q):\n",
        "  '''\n",
        "  Args:\n",
        "  n: nth root of unity, which is the degree of polynomial\n",
        "  q: finite field q\n",
        "\n",
        "  Returns:\n",
        "  omega: the nth root of unity, which is a element in finite field\n",
        "  '''\n",
        "  omega = FQ(5) ** ((q - 1) // n)\n",
        "  return omega\n",
        "\n",
        "omega = find_nth_root_of_unity_realnum(len(poly_coefs), q)\n",
        "evaluation_domain = [omega**0, omega**1, omega**2, omega**3]\n",
        "\n",
        "print(f'coefficient form of phi(x) is {poly_coefs}')\n",
        "print(f'evaluation form of phi(x) is {poly_evals}, defined over evaluation domain {evaluation_domain}')"
      ],
      "metadata": {
        "colab": {
          "base_uri": "https://localhost:8080/"
        },
        "id": "VcegH_mvhfU8",
        "outputId": "5853b742-fd50-494c-a303-77897ffecf2d"
      },
      "execution_count": 11,
      "outputs": [
        {
          "output_type": "stream",
          "name": "stdout",
          "text": [
            "coefficient form of phi(x) is [2, 3, 5, 4]\n",
            "evaluation form of phi(x) is [14, 52435875175126190475982595682112313518914282969839895044333406231173219221502, 0, 3465144826073652318776269530687742778270252468765361963005], defined over evaluation domain [1, 3465144826073652318776269530687742778270252468765361963008, 52435875175126190479447740508185965837690552500527637822603658699938581184512, 52435875175126190475982595682112313518914282969839895044333406231173219221505]\n"
          ]
        }
      ]
    },
    {
      "cell_type": "markdown",
      "source": [
        "### Fast Fourier Transformation(FFT)"
      ],
      "metadata": {
        "id": "O6OK_-KDn29E"
      }
    },
    {
      "cell_type": "code",
      "source": [
        "import random\n",
        "\n",
        "class FQ(Field):\n",
        "    field_modulus = curve_order\n",
        "\n",
        "q = curve_order\n",
        "poly_coefs = [FQ(2), FQ(3), FQ(5), FQ(4)]\n",
        "\n",
        "def FFT(poly_coefs, q):\n",
        "  '''\n",
        "  Args:\n",
        "  poly_coefs: coefficient representation of the polynomial\n",
        "\n",
        "  Returns:\n",
        "  y: evaluation form of the polynomial\n",
        "  '''\n",
        "  # get the degree of the polynomial\n",
        "  n = len(poly_coefs)\n",
        "  if n == 1:\n",
        "    return poly_coefs\n",
        "\n",
        "  # in theory, omega should be the nth root of unity, which is a complex number\n",
        "  # to use it in finite field, we use a algorithm here\n",
        "  omega = find_nth_root_of_unity_realnum(n, q)\n",
        "  # print(f'{n}^th of unity is {omega}')\n",
        "  poly_coefs_e = poly_coefs[::2]\n",
        "  poly_coefs_o = poly_coefs[1::2]\n",
        "  y_e = FFT(poly_coefs_e, q)\n",
        "  y_o = FFT(poly_coefs_o, q)\n",
        "  y = [0] * n\n",
        "  for j in range(int(n/2)):\n",
        "    y[j] = y_e[j] + (omega**j)*y_o[j]\n",
        "    y[j + int(n/2)] = y_e[j] - (omega**j)*y_o[j]\n",
        "  return y\n",
        "\n",
        "poly_evals = FFT(poly_coefs, q)\n",
        "print(f'coefficient form of phi(x) is {poly_coefs}, after FFT, we can get the evaluation form of phi(x) is {poly_evals}')"
      ],
      "metadata": {
        "colab": {
          "base_uri": "https://localhost:8080/"
        },
        "id": "gYXv7QMvn2A9",
        "outputId": "835cff85-08cf-46b4-a2bb-df8e1a4a9b48"
      },
      "execution_count": 134,
      "outputs": [
        {
          "output_type": "stream",
          "name": "stdout",
          "text": [
            "coefficient form of phi(x) is [2, 3, 5, 4], after FFT, we can get the evaluation form of phi(x) is [14, 52435875175126190475982595682112313518914282969839895044333406231173219221502, 0, 3465144826073652318776269530687742778270252468765361963005]\n"
          ]
        }
      ]
    },
    {
      "cell_type": "markdown",
      "source": [
        "### Inverse Fast Fourier Transformation(IFFT)"
      ],
      "metadata": {
        "id": "GGCMoj3Qpgau"
      }
    },
    {
      "cell_type": "code",
      "source": [
        "# revise FFT using omega lookup table\n",
        "def IFFT(poly_evals, q):\n",
        "  recursion_result = IFFT_recursion_part(poly_evals, q)\n",
        "  # all elenent in result mutiply 1/n, which is inverse of n\n",
        "  IFFT_final_result = [ x * (FQ(1)/FQ(len(poly_evals))) for x in recursion_result]\n",
        "  return IFFT_final_result\n",
        "\n",
        "def IFFT_recursion_part(poly_evals, q):\n",
        "  '''\n",
        "  Args:\n",
        "  poly_coefs: coefficient representation of the polynomial\n",
        "  lookup: pre-determined omega list\n",
        "\n",
        "  Returns:\n",
        "  y: evaluation form of the polynomial\n",
        "  '''\n",
        "  # get the degree of the polynomial\n",
        "  n = len(poly_evals)\n",
        "  if n == 1:\n",
        "    return poly_evals\n",
        "\n",
        "  # in theory, omega should be the nth root of unity, which is a complex number\n",
        "  # to use it in finite field, we use a algorithm here\n",
        "  omega = find_nth_root_of_unity_realnum(n, q)\n",
        "  # inverse omega\n",
        "  omega_inv = omega**(n-1)\n",
        "  poly_evals_e = poly_evals[::2]\n",
        "  poly_evals_o = poly_evals[1::2]\n",
        "  y_e = IFFT_recursion_part(poly_evals_e, q)\n",
        "  y_o = IFFT_recursion_part(poly_evals_o, q)\n",
        "  y = [0] * n\n",
        "  for j in range(int(n/2)):\n",
        "    y[j] = int(y_e[j] + (omega_inv**j)*y_o[j])\n",
        "    y[j + int(n/2)] = int(y_e[j] - (omega_inv**j)*y_o[j])\n",
        "  return y\n",
        "\n",
        "print(f'evaluation form of phi(x) is {poly_evals}, after IFFT(use exist omega lookup table), we can get the coefficient form of phi(x) is {IFFT(poly_evals, q)}')"
      ],
      "metadata": {
        "colab": {
          "base_uri": "https://localhost:8080/"
        },
        "id": "9Bs3TojDsxr7",
        "outputId": "ef9b7b5f-0b16-436a-b226-428d0dc2bb19"
      },
      "execution_count": 46,
      "outputs": [
        {
          "output_type": "stream",
          "name": "stdout",
          "text": [
            "evaluation form of phi(x) is [14, 52435875175126190475982595682112313518914282969839895044333406231173219221502, 0, 3465144826073652318776269530687742778270252468765361963005], after IFFT(use exist omega lookup table), we can get the coefficient form of phi(x) is [2, 3, 5, 4]\n"
          ]
        }
      ]
    },
    {
      "cell_type": "markdown",
      "source": [
        "# KZG Implementation(Python Version)\n",
        "\n",
        "The KZG Commitment Scheme is a commitment scheme that allows to commit to a polynomial $\\Phi(x) = \\phi_0 +\\phi_1x+\\phi_2x^2+...+\\phi_lx^l$, where $\\Phi(x) \\in F_p[x]$ . 'to commit' means proving that you know the polynomial $\\Phi(x)$ without revealing it.\n",
        "\n",
        "The KZG commitment scheme consists of 4 steps:\n",
        "1. Setup\n",
        "2. Commit to Polynomials\n",
        "3. Prove an Evaluation\n",
        "4. Verify an Evaluation Proof"
      ],
      "metadata": {
        "id": "6-LT_CUcF5sj"
      }
    },
    {
      "cell_type": "markdown",
      "source": [
        "## Step 1: Setup\n",
        "\n",
        "The first step is an one-time trusted setup and once it has done once, the following steps can be done repeatedly\n",
        "1. Let $G_1$ and $G_2$ be pairing-friendly elliptic curve groups, determined by curve BLS12-381\n",
        "2. Let $g_1$ be a generator of $G_1$ and $g_2$ be a generator of $G_2$\n",
        "3. Let $l$ be the maximum degree of the polymonials we want to commit to ($l < p$)\n",
        "4. Pick a random field element as secret parameter $\\tau \\in F_p$(usually done by MPC, to simplify, we just randomly choose one here)\n",
        "5. Compute pp(public parameters, including proving key $pk$, and verifying key $vk$)$$pk = (g_1, g_1^\\tau, g_1^{\\tau^2},...,g_1^{\\tau^l}), vk = g_2^\\tau$$ and release it publicly\n",
        "6. Discard secret parameter $\\tau$ once the setup ceremony is done so that nobody can figure out its value"
      ],
      "metadata": {
        "id": "CbNVAepyHO4g"
      }
    },
    {
      "cell_type": "code",
      "source": [
        "from py_ecc.bls12_381 import G1, G2, Z1, multiply, add\n",
        "\n",
        "# 1. Let G1,G2 be pairing-friendly elliptic curve groups, which are determined by the curve\n",
        "\n",
        "# 2. Let g be a generator of G\n",
        "g1 = G1\n",
        "g2 = G2\n",
        "\n",
        "# 3. Let l be the maximum degree of the polymonials, which is 16\n",
        "l = 16\n",
        "\n",
        "# 4. Pick a random field element from field F_p and p = curve order as secret parameter t\n",
        "p = q\n",
        "# t = 0 will lose all the security, so t cannot be 0\n",
        "t = FQ(random.randint(1, p-1))\n",
        "print(f'secret parameter 𝜏 is {t}')\n",
        "\n",
        "# 5. Compute pp(public parameters)\n",
        "def compute_public_parameters(g1, g2, t, l):\n",
        "\n",
        "    pk = []\n",
        "    accumulated = 1\n",
        "    t_scalar = t\n",
        "    for i in range(l + 1):\n",
        "        # calculate g1, g1^t, g1^{t^2}...\n",
        "        pk.append(multiply(g1, int(accumulated)))\n",
        "        # calculate the exponential t, t^2, t^3, ...\n",
        "        accumulated = accumulated * t_scalar\n",
        "    vk = multiply(g2, int(t))\n",
        "    return pk, vk\n",
        "\n",
        "pk, vk = compute_public_parameters(g1, g2, t, l)\n",
        "print(f'proving key pk: {pk}')\n",
        "print(f'verifying key vk: {vk}')"
      ],
      "metadata": {
        "colab": {
          "base_uri": "https://localhost:8080/"
        },
        "id": "baZh9HlYEN25",
        "outputId": "16f47859-c4f5-4e85-94fa-470d8ae3dd54"
      },
      "execution_count": 14,
      "outputs": [
        {
          "output_type": "stream",
          "name": "stdout",
          "text": [
            "secret parameter 𝜏 is 46942211166835833991683064364326860739544285566615246342751875185128670898648\n",
            "proving key pk: [(3685416753713387016781088315183077757961620795782546409894578378688607592378376318836054947676345821548104185464507, 1339506544944476473020471379941921221584933875938349620426543736416511423956333506472724655353366534992391756441569), (1795103602721386634937363161179568768307019266415250945809382725166576812669031579523368689255428135946934798328148, 3014891104350764861968495713382186266685767901309902093275917382931294710126949488477141959837455815812770802259472), (3217931901451400946143212119068165856090377619448170719687244831052153824312656166671426338089550832670520580126402, 1651515442625391667445734328117195907039897446140881559219045893363380495874382483933700347444265998250377706531356), (2733870609416011624467755838194404597743925245918362194499105190351331491264080814604594697524560481400774103096812, 65220328027016366641241864002216153052247023941386834406989546455121795112625697013543578490759602183815403943383), (2055476936368347954037538061468412896874777464176492611763878547384526771750943212128604000939890173476033123297956, 2751049554465032809622997667808168257623008826138359736282422067094641361128014788450770011327301895532037893178223), (1180173855525107560919730089224115365722171888489193416057503245691503625969208423198947090208836553481079287906484, 3774659994262589103401197106121580757861293933659514646387620416877590888319246493495953314179661850886014726350907), (3507283425192432161612275803010561325235914563962308690476799974904634896205786194366837128452315865461782663639973, 297969768509015656774253594124211691535866226241968452602895332225176357446157506729853924302124390272941382327608), (3196752207713068161483383117499945804177457942391563180376176161593975823878744281832633765571598454238964434017515, 2902209759494419562839020857102973296988198559881061370505349457325370525503330225793122152546025529455709457621451), (3719657603703355541810798643159460652593260114191784356894168932060245178009869755865507156278266624939882474380330, 2204598325723282896370604267738049471867412450560713284085164629976248717093104265252054992838126123356208388518752), (2712180740986106768098480843390490400924152589382717942577174940721127469688737466509980495625252202633435804853945, 2389114280644595824960786957268246295527343695864941254934978401594890954610751722393653303912729684175751799909375), (3595093980406190866687549901230370060537419445787296946905250986851263001280367395962865007899815054751569071206965, 3237917327006421798494576250441140363656503075822981463383241113690505670024153888701389239741794536655730465847398), (1656855786679169159145249232874329972831325249270164176161039482071563880089795832225078040037175902171670047489028, 1663512962570100734662329858777387095707088340696167545995488578619886244043226603058696666886938784329262647228517), (3580125140587997191907919494685027537743087148937618464734238866321867460898168242432073245046973871071428171563972, 3229802595490216290086710471905444076075511027153273529930696716818574217185670066516327361455832374098043662785327), (2662648567658612752700415500927801692953624713317377547438334459519423451621134652847474622519052668216489215230994, 3124064259653262819662172140651197135296303970131155381164828884162044858954243054461188361234224825958636614026132), (1105255004588948884358269159415630682706142466300760964502687493256184698643020442328626277465350982606210393306097, 2384501773527146958573193828030532142058999375864019218984899986215837610773420017551057478795834343721934991668947), (1406854173482372630205412500752664454654108010149658114415449452492651048618363847612226700389668819210207043944843, 1879645384892240281302604055748123331216702201627867983685560244293947544897612031854161785601885120056401852084828), (2007183230221222108930787187094242253955056958281823249880982029354377478705358042469638148807118770989461412047396, 172709313132391326149193056338108388233109791323191664850021821105991671753080426575460959272797937858337487583382)]\n",
            "verifying key vk: ((3060537436543769922265091959980468282430815920862096978442824273110803124803108872438280575276235225068687121695621, 2414137499719860202207799200843714708605570199353198363100234779269678021055203168165452805416225005900522800565364), (1053097694781422435135957166569834500564283071671847812032909409107067207128832004927022031285086315865157710014872, 1187196949233554573048053124647926071017239679769074314216610955418450494529522975902203414771514501162965439646046))\n"
          ]
        }
      ]
    },
    {
      "cell_type": "markdown",
      "source": [
        "## Step 2: Commit to Polynomials\n",
        "In reality, we arithmetize circuits and use Plonkish to get polynomials in this step\n",
        "1. Given a polynomial $\\Phi(x) = \\sum_{i=0}^l \\phi_i x^i$\n",
        "2. Compute and output commitment $c = g^{\\Phi(\\tau)}$\n",
        "   - Wait! $\\tau$ has already been discard right? How can committer compute $\\tau$?\n",
        "   - Although he cannot compute $\\Phi(\\tau)$ directly, he can use public parameters to help with it:\n",
        "$$\\prod_{i=0}^l(g^{\\tau^i})^{\\phi_i} = g^{\\sum_{i=0}^l \\phi_i \\tau^i} = g^{\\Phi(\\tau)}$$"
      ],
      "metadata": {
        "id": "PZLYRSg7NdAZ"
      }
    },
    {
      "cell_type": "code",
      "source": [
        "# assume we have a polynomial Φ(𝑥)=4x^3+5x^2+3x+2 or some points on the polynomials\n",
        "# we can use FFT or IFFT to do the transformation between the two forms\n",
        "poly_coefs = [FQ(2), FQ(3), FQ(5), FQ(4)]"
      ],
      "metadata": {
        "id": "tDDoK2qNEXas"
      },
      "execution_count": 15,
      "outputs": []
    },
    {
      "cell_type": "code",
      "source": [
        "# compute commitment of the polynomial\n",
        "def poly_commitment(pk, g1, poly_coefs):\n",
        "\n",
        "  com = Z1\n",
        "  for i in range(len(poly_coefs)):\n",
        "    com = add(multiply(pk[i], int(poly_coefs[i])), com)\n",
        "  return com\n",
        "\n",
        "com = poly_commitment(pk, g1, poly_coefs)\n",
        "print(f'commitment of polynomial is {com}')"
      ],
      "metadata": {
        "colab": {
          "base_uri": "https://localhost:8080/"
        },
        "id": "DXh4eZH4NncH",
        "outputId": "184114a9-d0ba-477f-a08f-ab2f8d451546"
      },
      "execution_count": 16,
      "outputs": [
        {
          "output_type": "stream",
          "name": "stdout",
          "text": [
            "commitment of polynomial is (3794386381163135840839771574063933893220934881388293774895517444148210079055214593881616833855292359746771744128299, 2925274371990950592732967531230763732420574621742051773526932453746597484212541971947003007463545299840843447732561)\n"
          ]
        }
      ]
    },
    {
      "cell_type": "markdown",
      "source": [
        "## Step 3: Prove an Evaluation\n",
        "In this period, the Verifier will ask Prover to 'OPEN' the commitment $c$ to a random specific point $a \\in F_p$, in other word, Prover have to evaluation $\\Phi(x)$ and commit the result in the form of opening triplet $OT = (a, b, \\pi)$\n",
        "1. Given an evaluation $\\Phi(a) = b$\n",
        "2. Compute and output proof of the evaluation $\\pi = g^{q(\\tau)}$, where $q(x) := \\frac{\\Phi(x)-b}{x-a}$\n",
        "    - $q(x)$ is quotient polynomial: if $\\Phi(a) = b$, that means $a$ is a root of $\\Phi(x) - b$\n",
        "    - so $\\Phi(x) - b$ can be expressed as $\\Phi(x) - b = q(x)(x-a)$, $q(x)$ is a polynomial\n",
        "    - on the other hand, $q(x)$ exists if and only if $\\Phi(a) = b$, so the existence of this quotient polynomial therefore serves as a proof of the evaluation"
      ],
      "metadata": {
        "id": "uG76toJbnbMn"
      }
    },
    {
      "cell_type": "code",
      "source": [
        "# Verifier first choose the random point a\n",
        "def evaluation_poly(a, poly_coefs):\n",
        "  b = FQ(0)\n",
        "  for i in range(len(poly_coefs)):\n",
        "    b += (a**i)*(poly_coefs[i])\n",
        "  return b\n",
        "\n",
        "# according to defination\n",
        "def random_generate_a(poly_coefs, p):\n",
        "  # create a list of omega\n",
        "  n = len(poly_coefs)\n",
        "  omega = find_nth_root_of_unity_realnum(n, p)\n",
        "  omega_list = []\n",
        "  for i in range(n):\n",
        "    omega_list.append(omega**i)\n",
        "\n",
        "  # a cannot in omega list, otherwise x-a will be 0\n",
        "  a = FQ(random.randint(0, p))\n",
        "  while a in omega_list:\n",
        "    a = FQ(random.randint(0, p))\n",
        "\n",
        "  return a\n",
        "\n",
        "a = random_generate_a(poly_coefs, p)\n",
        "b = evaluation_poly(a, poly_coefs)\n",
        "print(f'random element we chosen is {a}, the evaluation b is {b}')"
      ],
      "metadata": {
        "colab": {
          "base_uri": "https://localhost:8080/"
        },
        "id": "eUASXL_knfu7",
        "outputId": "6e213632-3762-4f75-a158-5288ca0b8f05"
      },
      "execution_count": 17,
      "outputs": [
        {
          "output_type": "stream",
          "name": "stdout",
          "text": [
            "random element we chosen is 12107572540821366498207314727511316122512528569372591180374236150875721988723, the evaluation b is 30674397879604745785130549996261545677174304146429618164391323134984419006411\n"
          ]
        }
      ]
    },
    {
      "cell_type": "code",
      "source": [
        "# compute q(x)\n",
        "# 1. if poly in coefficient form, convert poly_coefs to evals\n",
        "# 2. calculate quotient polynomial in evaluation form\n",
        "# 3. convert quotient poly evals to coefs if needed\n",
        "\n",
        "def quotient_poly(a, b, poly_evals, p):\n",
        "  '''Args:\n",
        "  a: randomly sampled field element\n",
        "  b: evaluation on a\n",
        "  poly_evals: input of poly need to be in evaluation form\n",
        "\n",
        "  Returns:\n",
        "  q_poly_evals: q poly in evaluation form\n",
        "  '''\n",
        "  q_poly_evals = []\n",
        "  n = len(poly_evals)\n",
        "  omega = find_nth_root_of_unity_realnum(n, p)\n",
        "\n",
        "  for i in range(len(poly_evals)):\n",
        "    q_poly_evals.append((poly_evals[i]-b)/(omega**i-a))\n",
        "\n",
        "  return q_poly_evals\n",
        "\n",
        "q_poly_evals = quotient_poly(a, b, poly_evals, p)\n",
        "print(f'quotient polynomial in evaluation form is {q_poly_evals}')"
      ],
      "metadata": {
        "colab": {
          "base_uri": "https://localhost:8080/"
        },
        "id": "_uxCEV4PqKum",
        "outputId": "6a561ab0-3ebf-4f65-d94f-98c5c36d6f33"
      },
      "execution_count": 19,
      "outputs": [
        {
          "output_type": "stream",
          "name": "stdout",
          "text": [
            "quotient polynomial in evaluation form is [26842127815094403715092454765955610704544244668315868571978075999656491037462, 46037274770395707132610273567492680803741801401361007930484239786957006665517, 34853297838775852688329417962237013399825121114390414774191504192527877496694, 15658150883474549270811599160699943300627564381345275415685340405227361868623]\n"
          ]
        }
      ]
    },
    {
      "cell_type": "code",
      "source": [
        "# convert quotient polynomial from evaluation form to coefficient form\n",
        "q_poly_coefs = IFFT(q_poly_evals, q)\n",
        "print(f'quotient polynomial in coefficient form is {q_poly_coefs}')"
      ],
      "metadata": {
        "colab": {
          "base_uri": "https://localhost:8080/"
        },
        "id": "7BXJAKY3kliX",
        "outputId": "3645ad59-bfd5-4877-c1af-c6b318fa882f"
      },
      "execution_count": 20,
      "outputs": [
        {
          "output_type": "stream",
          "name": "stdout",
          "text": [
            "quotient polynomial in coefficient form is [30847712826935128201710936364096312052184682891353141673084790096092184267074, 48430290163285465992829258910045264490050114277490364721496944603502887954897, 4, 0]\n"
          ]
        }
      ]
    },
    {
      "cell_type": "code",
      "source": [
        "# compute proof of the evaluation pi\n",
        "pi = poly_commitment(pk, g1,  q_poly_coefs)\n",
        "print(f'proof of the evaluation pi is {pi}')"
      ],
      "metadata": {
        "colab": {
          "base_uri": "https://localhost:8080/"
        },
        "id": "n8OOKUQqqMFl",
        "outputId": "aad010d4-531a-4e13-c9a3-b93a8b213e48"
      },
      "execution_count": 21,
      "outputs": [
        {
          "output_type": "stream",
          "name": "stdout",
          "text": [
            "proof of the evaluation pi is (2977221597219854831046351341594561060394902694295869262429649987002354397699009825438399140826453541742850738083072, 2129875378888582557943188234217988506340627226565718318066554731769626151233311950086257762133896672262166585040778)\n"
          ]
        }
      ]
    },
    {
      "cell_type": "markdown",
      "source": [
        "## Step 4: Verify an Evaluation Proof\n",
        "1. Given a commitment $c = g^{\\Phi(\\tau)}$, and an evaluation $\\Phi(a) = b$, and a proof $\\pi = g^{q(\\tau)}$\n",
        "2. Verify that $e(\\frac{c}{g^b}, g) = e(\\pi,\\frac{g^\\tau}{g^a})$, where $e$ is a non-trivial bilinear mapping\n",
        "    - the purpose of verification: $\\Phi(x) - b = q(x)(x-a)$, checking this equality holds for $x = \\tau$\n",
        "    - according to the definition of bilinear mapping, it is equivalent to: $e(g_1, g_2)^{\\Phi(\\tau) - b} = e(g_1, g_2)^{q(\\tau)(\\tau-a)}$, that is $e(g_1^{\\Phi(\\tau) - b}, g_2) = e(g_1^{q(\\tau)}, g_2^{\\tau-a})$\n",
        "    - that is $e(com-g_1^b, g_2) = e(\\pi, vk - g_2^a)$"
      ],
      "metadata": {
        "id": "1_5bBUjOmOx_"
      }
    },
    {
      "cell_type": "code",
      "source": [
        "from py_ecc.bls12_381 import pairing, neg\n",
        "\n",
        "# now it is time to do the varification\n",
        "print(f'result of verification: {pairing(g2, add(com, neg(multiply(g1, int(b))))) == pairing(add(vk, neg(multiply(g2, int(a)))), pi)}')"
      ],
      "metadata": {
        "colab": {
          "base_uri": "https://localhost:8080/"
        },
        "id": "HuxidPgTmSoa",
        "outputId": "9f1166f5-d43d-49f4-a72b-88a6d1552e28"
      },
      "execution_count": 22,
      "outputs": [
        {
          "output_type": "stream",
          "name": "stdout",
          "text": [
            "result of verification: True\n"
          ]
        }
      ]
    },
    {
      "cell_type": "markdown",
      "source": [
        "# Plonk Implementation(Python Version)\n",
        "\n",
        "## Problem Definition\n",
        "\n",
        "We take **Square-Fibonacci** as an example to demonstrate the process of proof generation\n",
        "\n",
        "Defination of Square-Fibonacci Problem:\n",
        "- Let $f_0 = 1, f_1 = 1$\n",
        "- For $i \\ge 2$, define $f_i:=(f_{i-2})^2+(f_{i-1})^2 \\ mod \\ q$\n",
        "    - $q$ is a large prime integer, used to bound the size of each element, so that it can be represented by some predetermined number of bits.\n",
        "\n",
        "Let $n$ be some very large integer. For convenience, we assume $n$ is a power of 2\n",
        "\n",
        "Let $k$ be the $n^{th}$ Square-Fibonacci number\n",
        "\n",
        "**Our goal**: generate an efficiently-verifiable proof $\\pi$ showing that indeed $k$ is the $n^{th}$ Square-Fibonacci number(i.e. $f_n = k$)\n",
        "\n",
        "## Phases of Proof Generation\n",
        "The Plonk-based proof generation consists of 3 steps:\n",
        "1. Filling in the trace table\n",
        "2. Committing to the trace table\n",
        "3. Proving the trace table's correctness"
      ],
      "metadata": {
        "id": "di927G65Ye1J"
      }
    },
    {
      "cell_type": "code",
      "source": [
        "# some basic statement\n",
        "# q here is equialent to the q above\n",
        "q = curve_order\n",
        "\n",
        "# assume we hope to prove '8th Square-Fibonacci number is k'\n",
        "n = 8\n",
        "k = FQ(317754178345286893212434)\n",
        "\n",
        "# according to defination, f(0) = 1, f(1) = 1\n",
        "f_0 = FQ(1)\n",
        "f_1 = FQ(1)"
      ],
      "metadata": {
        "id": "t1-8SzICYley"
      },
      "execution_count": 106,
      "outputs": []
    },
    {
      "cell_type": "markdown",
      "source": [
        "## Step 1: Filling in the Trace Table\n",
        "The trace table is a 2-dimensional matrix where 'witness' or 'trace' is written down, that is (n rows * 5 cols)\n",
        "- 5 columns:\n",
        "    - $A, B, C$: represent witness data / private input, each row lists 3 sequential Sequare-Fibonacci numbers\n",
        "        - e.g. the $i^{th}$ row $(f_i, f_{i+1}, f_{i+2})$ is a witness for $(i+2)^{th}$ Sequare-Fibonacci number\n",
        "    - $S$: represents selector column, indicating a certain mathmatical relation should hold over the element of the row.\n",
        "        - $1$ represents the first 3 elements of the row $(a, b, c)$ must satisfy $c = a^2 + b^2 \\ mod \\ q$\n",
        "        - $0$ represents the condition does not need to be satisfied.\n",
        "    - $P$: represents public inputs, inputs to the circuit that are public known.\n",
        "        - e.g. the first two values of the sequence $f_0, f_1$ and $k$ as the value to be proved\n",
        "- n rows: left a blank row, so that the height of the table becomes $n$, an even power of 2\n",
        "    - $1^{st}$ row: $f_0, f_1, f_2, 1, f_0$\n",
        "    - $2^{nd}$ row: $f_1, f_2, f_3, 1, f_1$\n",
        "    - $3^{rd}$ row: $f_2, f_3, f_4, 1, k$\n",
        "    - ...\n",
        "    - $(n-2)^{th}$ row: $f_{n-2}, f_{n-1}, f_n, 1, \"\" $\n",
        "    - $(n-1)^{th}$ row: $\"\", \"\", \"\", 0, \"\"$\n",
        "\n",
        "Next step is to fill in the trace table: either copy or compute over $F_q$"
      ],
      "metadata": {
        "id": "xTmgCmhGZ8SQ"
      }
    },
    {
      "cell_type": "code",
      "source": [
        "# generate witness/fill in the trace table\n",
        "def witness_generation(f_0, f_1, k, n):\n",
        "\n",
        "    trace_table = []\n",
        "\n",
        "    # init col A, B, C, S\n",
        "    f_a = f_0\n",
        "    f_b = f_1\n",
        "    f_c = f_b\n",
        "    S = FQ(1)\n",
        "    placeholder = FQ(0)\n",
        "\n",
        "    for i in range(n-1):\n",
        "        f_a = f_b\n",
        "        f_b = f_c\n",
        "        f_c = f_a**2 + f_b**2\n",
        "        trace_table.append([f_a, f_b, f_c, S, placeholder])\n",
        "\n",
        "    # add a blank row to get n row\n",
        "    S = FQ(0)\n",
        "    trace_table.append([placeholder, placeholder, placeholder, S, placeholder])\n",
        "\n",
        "    # add public parameters\n",
        "    trace_table[0][4] = f_0\n",
        "    trace_table[1][4] = f_1\n",
        "    trace_table[2][4] = k\n",
        "\n",
        "    return trace_table\n",
        "\n",
        "trace_table = witness_generation(f_0, f_1, k, n)\n",
        "\n",
        "print(f\"trace table is: {trace_table}\")"
      ],
      "metadata": {
        "colab": {
          "base_uri": "https://localhost:8080/"
        },
        "id": "n7QfVLCaZwpy",
        "outputId": "7a709b9a-4c93-41dc-e156-ee2839093ce3"
      },
      "execution_count": 24,
      "outputs": [
        {
          "output_type": "stream",
          "name": "stdout",
          "text": [
            "trace table is: [[1, 1, 2, 1, 1], [1, 2, 5, 1, 1], [2, 5, 29, 1, 317754178345286893212434], [5, 29, 866, 1, 0], [29, 866, 750797, 1, 0], [866, 750797, 563696885165, 1, 0], [750797, 563696885165, 317754178345286893212434, 1, 0], [0, 0, 0, 0, 0]]\n"
          ]
        }
      ]
    },
    {
      "cell_type": "markdown",
      "source": [
        "## Step 2: Commit to the Trace Table\n",
        "\n",
        "### interpret the trace table columns as polynomials\n",
        "\n",
        "Each column can be considered as a length-$n$ vector of finite field elements $\\rightarrow$ this vector can be regarded as the evaluation form of a polynomial $A(x)$ with degree $(n-1)$: the $i^{th}$ element of $A$ corresponds to the evaluation $A(\\omega^i)$, where $\\omega \\in F_q$ is **$n^{th}$ root of unity** and has order $n$"
      ],
      "metadata": {
        "id": "sZbfYqpXc9ff"
      }
    },
    {
      "cell_type": "code",
      "source": [
        "# inverse trace table and get the evaluation form of column polynomials\n",
        "inverse_trace_table = list(zip(*trace_table))\n",
        "inverse_trace_table"
      ],
      "metadata": {
        "colab": {
          "base_uri": "https://localhost:8080/"
        },
        "id": "a0_IXMd44blc",
        "outputId": "218fa4fc-cbc2-4551-f7a1-380f44827b8a"
      },
      "execution_count": 25,
      "outputs": [
        {
          "output_type": "execute_result",
          "data": {
            "text/plain": [
              "[(1, 1, 2, 5, 29, 866, 750797, 0),\n",
              " (1, 2, 5, 29, 866, 750797, 563696885165, 0),\n",
              " (2, 5, 29, 866, 750797, 563696885165, 317754178345286893212434, 0),\n",
              " (1, 1, 1, 1, 1, 1, 1, 0),\n",
              " (1, 1, 317754178345286893212434, 0, 0, 0, 0, 0)]"
            ]
          },
          "metadata": {},
          "execution_count": 25
        }
      ]
    },
    {
      "cell_type": "markdown",
      "source": [
        "### Commit to column polynomials\n",
        "Now that we have known how to interpret the columns as polynomials, we can commit to each of them using a polynomial commitment scheme."
      ],
      "metadata": {
        "id": "FWMrwxvU7ZuJ"
      }
    },
    {
      "cell_type": "code",
      "source": [
        "com_list = []\n",
        "for i in range(len(inverse_trace_table)):\n",
        "    col_poly_coefs = IFFT(inverse_trace_table[i], p)\n",
        "    com = poly_commitment(pk, g1, col_poly_coefs)\n",
        "    com_list.append(com)\n",
        "print(com_list)"
      ],
      "metadata": {
        "colab": {
          "base_uri": "https://localhost:8080/"
        },
        "id": "HuTecnM57A0m",
        "outputId": "ac41397b-8ff2-40e1-ec28-853ac479b99f"
      },
      "execution_count": 26,
      "outputs": [
        {
          "output_type": "stream",
          "name": "stdout",
          "text": [
            "[(1968158310118774215484859485398590964116607283622052674569848142432783170757536741038440888972056304886057528129797, 846042479001169439009335496235517321339541651735195861536293494681244715120629192029546100494892431962266159752419), (1171061799777620673867655424374715577582177306611001531210590865654381251970153513006028068940215634913847581031395, 2595215317901239985734659238207103927602892260523464320976166135808300856424043282727694396478686099172919425456118), (1042435896795603712299232635039217889721266410966803706066025611312710922478002808729556214636814454701004962830713, 632270327697579045951009473937327738530136306014483539591217468025113067034178196725302287074880654232255120701939), (840371205256064111691451747337257231534390898827973703407196447599864914958277242765167232326819752092704097297539, 1336274383085092942068272524763832707955227364154091401603261332352062484722318169564825566553088301123156091146175), (221224663386271979960777395509219716929202732051818920425613212838630362053362593263564111313280149295476716644463, 3964624999221377309055036281932883957633698526945785507989725829705609902281716877751581181452221488843078835265834)]\n"
          ]
        }
      ]
    },
    {
      "cell_type": "markdown",
      "source": [
        "## Step 3: Proving the Trace Table's Correctness\n",
        "### Define the constraints of the trace table\n",
        "In order to ensure the original trace table to be valid, we should have the following constraints:\n",
        "- Square-Fibonaci constraints:\n",
        "    - each selected row $i$'s first three elements is $(a,b,c)$ must satisfy $c_i = a_i^2 + b_i^2 \\ mod \\ q$\n",
        "- Wiring constraints:\n",
        "    - for consecutive rows with value $[a_i, b_i, c_i]$ and $[a_{i+1}, b_{i+1}, c_{i+1}]$, we require $a_{i+1} = b_i$ and $b_{i+1} = c_i$\n",
        "- Public input constraints:\n",
        "    - the first row must start with the first two Square-Fibonacci numbers: $a_0 = p_0, b_0 = p_1$\n",
        "    - the $n^{th}$ Square-Fibonacci must match the claimed result value: $c_{n-2} = p_2$\n",
        "\n",
        "The above constraints can be represented by one or more relations between the column polynomials. For example, Square-Fibonaci constraints can be expressed as $S(x)·(A(x)^2 + B(x)^2 - C(x))=0, for\\ all\\ x\\in \\{w^0, w^1, ..., w^{n-1}\\}$. For shorten, we will label left-hand side $\\phi_0(x):=S(x)·(A(x)^2 + B(x)^2 - C(x))$  All our constraints can be expressed as $\\phi_i(x) = 0,\\ for\\ all\\ x\\in \\{w^0, w^1, ..., w^{n-1}\\}$"
      ],
      "metadata": {
        "id": "ktHnhk6-8JN5"
      }
    },
    {
      "cell_type": "code",
      "source": [
        "from itertools import zip_longest\n",
        "\n",
        "def square_fib_constraint_poly(inverse_trace_table, n, p):\n",
        "\n",
        "  a_poly_coefs = IFFT(inverse_trace_table[0], p)\n",
        "  b_poly_coefs = IFFT(inverse_trace_table[1], p)\n",
        "  c_poly_coefs = IFFT(inverse_trace_table[2], p)\n",
        "  s_poly_coefs = IFFT(inverse_trace_table[3], p)\n",
        "\n",
        "  # construct a polynomial phi_0(x) = S(x)(A(x)^2+B(x)^2-C(x))\n",
        "  phi_0_coefs = mul_poly(s_poly_coefs,sub_poly(add_poly(mul_poly(a_poly_coefs, a_poly_coefs), mul_poly(b_poly_coefs, b_poly_coefs)),c_poly_coefs))\n",
        "\n",
        "  return phi_0_coefs\n",
        "\n",
        "\n",
        "def mul_poly(poly1_coefs, poly2_coefs):\n",
        "  multiply_poly = [0]*(len(poly1_coefs)+len(poly2_coefs)-1)\n",
        "  for o1,i1 in enumerate(poly1_coefs):\n",
        "    for o2,i2 in enumerate(poly2_coefs):\n",
        "      multiply_poly[o1+o2] += i1*i2\n",
        "  return multiply_poly\n",
        "\n",
        "def add_poly(poly1_coefs, poly2_coefs):\n",
        "  return [x+y for x, y in zip_longest(poly1_coefs, poly2_coefs, fillvalue=0)]\n",
        "\n",
        "def sub_poly(poly1_coefs, poly2_coefs):\n",
        "  return [x-y for x, y in zip_longest(poly1_coefs, poly2_coefs, fillvalue=0)]\n",
        "\n",
        "square_fib_constraint_poly(inverse_trace_table, n, p)"
      ],
      "metadata": {
        "colab": {
          "base_uri": "https://localhost:8080/"
        },
        "id": "U-89g8V5Wgzj",
        "outputId": "fd88f4cd-383f-4332-addd-664fa9ee7455"
      },
      "execution_count": 170,
      "outputs": [
        {
          "output_type": "execute_result",
          "data": {
            "text/plain": [
              "[9217243683127650670215423136204564307406542431733373805594493117736508689447,\n",
              " 6666845327329705532963430625265951311576613171241245242132100072955433688671,\n",
              " 44267534341411372821110843579994475498172624576994019134899687329660324137538,\n",
              " 27734915317295573979553823553557321860270268471208809659398702095994161952080,\n",
              " 37702370013672502632704303140624342804248711303899845502198214997157027878207,\n",
              " 11583562288821433247490937116774158461617493607772389006562557827980992423716,\n",
              " 19431544404868491752428433057080910022889750308878986243969634670562912518450,\n",
              " 12399440026714068747233115926566936096429177141939361413989904821957360748254,\n",
              " 20041303549030907216090313199445756936739800542200228711060022339667450807871,\n",
              " 1640433480202112741396001466119286110343076964539974284673711265395784145821,\n",
              " 13311292830147122275312324513496984175656020478185536494792425391434485506145,\n",
              " 41059692124944929433452274305014365636083572356756835655701111647528539392349,\n",
              " 48728717689897286205190927357005485693648993298446919893155237785330685590294,\n",
              " 27402860898548515345917794500630774711089260799805750439818123432542050144630,\n",
              " 33004330770257698727019307451105055814800802191648651578634024029375668666063,\n",
              " 40036435148412121732214624581619029741261375358588276408613753877981220436259,\n",
              " 23177327942967632593142004172535644593544209526594035305949143242534621687195,\n",
              " 44128596367594372205088308416800728415770862364746418295797847361587363350021,\n",
              " 47292923178693885862472312922880472001552459945875720015515204678782352725343,\n",
              " 36077142908011877545889383157800244179027264173089630330107503656354461024597,\n",
              " 18440662646682592121000250518742103177483400398708510249853864617389448900525,\n",
              " 13449451987756241886039008890781032664983798092949498376222977439415538616167]"
            ]
          },
          "metadata": {},
          "execution_count": 170
        }
      ]
    },
    {
      "cell_type": "code",
      "source": [
        "# Square-Fibonaci constraints\n",
        "def square_fib_constraint_poly(inverse_trace_table, n, p):\n",
        "  # construct a polynomial phi_0(x) = S(x)(A(x)^2+B(x)^2-C(x))\n",
        "  # S(x) & C(x)'s degree n, A(x)^2 & B(x)^2's degree n^2, so the overall degree is 3n-3\n",
        "  # we need at least 3n-2 evaluation points to represent phi_0(x)\n",
        "\n",
        "  # extend A,B,C,S evaluation form to 3n-2\n",
        "  omega = find_nth_root_of_unity_realnum(3*n-2, p)\n",
        "\n",
        "  a_ex_poly = poly_eval_extension(inverse_trace_table[0], p, omega, 3*n-2)\n",
        "  b_ex_poly = poly_eval_extension(inverse_trace_table[1], p, omega, 3*n-2)\n",
        "  c_ex_poly = poly_eval_extension(inverse_trace_table[2], p, omega, 3*n-2)\n",
        "  s_ex_poly = poly_eval_extension(inverse_trace_table[3], p, omega, 3*n-2)\n",
        "\n",
        "  square_fib_constraint_poly_evals = []\n",
        "\n",
        "  for i in range(3*n-2):\n",
        "    square_fib_constraint_poly_evals.append(s_ex_poly[i]*(a_ex_poly[i]**2 + b_ex_poly[i]**2 - c_ex_poly[i]))\n",
        "\n",
        "  return square_fib_constraint_poly_evals\n",
        "\n",
        "\n",
        "def poly_eval_extension(poly_evals, p, omega, extension):\n",
        "\n",
        "  poly_coefs = IFFT(poly_evals,p)\n",
        "  poly_evals_extension = []\n",
        "\n",
        "  for i in range(extension):\n",
        "    poly_evals_extension.append(evaluation_poly(omega**i, poly_coefs))\n",
        "\n",
        "  return poly_evals_extension\n",
        "\n",
        "\n",
        "phi_0_evals = square_fib_constraint_poly(inverse_trace_table, n, p)\n",
        "phi_0_coefs = IFFT(phi_0_evals, p)\n",
        "phi_0_coefs"
      ],
      "metadata": {
        "colab": {
          "base_uri": "https://localhost:8080/"
        },
        "id": "ah-KubigsCWd",
        "outputId": "cdab5f2b-a687-4319-b6ae-058ff9718783"
      },
      "execution_count": 114,
      "outputs": [
        {
          "output_type": "execute_result",
          "data": {
            "text/plain": [
              "[9217243683127650670215423136204564307406542431733373805594493117736508689447,\n",
              " 10379985986062778082577661417203023547630980126845170375807436638472603969752,\n",
              " 42850139717079355063891636149033819297086311226526078373140579167839440898000,\n",
              " 41330376867899979502286498011913298469356633334316879100951931624945774925505,\n",
              " 44835706239583131891015530795013508118108072075523931899721709291628663927334,\n",
              " 35191195026347652344285995896956568606196585892028776014300851231888925506367,\n",
              " 29910861316715482671464165321295958504920848136236554930106925821276970060201,\n",
              " 44579222180158983534128629011991477848661538887895498126879799108602796333451,\n",
              " 2641477070336103791853956304424529419267409503559042780502688355603803133997,\n",
              " 49213376399468131133645091668983705402814179929401399596523065348757623191412,\n",
              " 0,\n",
              " 41059692124944929433452274305014365636083572356756835655701111647528539392349,\n",
              " 8190586657991074232522172801822171432042455566569971383373299898496711480509,\n",
              " 43302068254308088528420175568592773849422581304154250760831131656034635305287,\n",
              " 27308069054458052304830224266949638908066298418101943735257996178577027504632,\n",
              " 15352817468676894682177109074965745729186523667063780314856459097477863624913,\n",
              " 13504320926847581848671251911309249106683504514194599851114466398743504297195,\n",
              " 8564402748045305755525269082120792593696216906286889976348784472299218308466,\n",
              " 26576195373832144311902780794939826517901226083007086206959466167338871016801,\n",
              " 3810373080724652241828856681686537532391506675330470239322313671527603512428,\n",
              " 10975147308791895439547548200995548444480415813186312618055103040348904360835,\n",
              " 0]"
            ]
          },
          "metadata": {},
          "execution_count": 114
        }
      ]
    },
    {
      "cell_type": "code",
      "source": [
        "# wiring constraints\n",
        "# using Fi_1 to represent a_i+1 = b_i\n",
        "def wiring_constraint_poly(inverse_trace_table, n, p):\n",
        "  # construct a polynomial phi_0(x) = S(x+1)(A(x+1)-B(x))\n",
        "  omega = find_nth_root_of_unity_realnum(2*n, p)\n",
        "\n",
        "  a_ex_poly = poly_eval_extension(inverse_trace_table[0], p, omega, 2*n-1)\n",
        "  b_ex_poly = poly_eval_extension(inverse_trace_table[1], p, omega, 2*n-1)\n",
        "  s_ex_poly = poly_eval_extension(inverse_trace_table[3], p, omega, 2*n-1)\n",
        "\n",
        "  wiring_constraint_poly_evals = []\n",
        "\n",
        "  for i in range(2*n - 1):\n",
        "    wiring_constraint_poly_evals[i].append(s_ex_poly[i+1]*(a_ex_poly[i+1]- b_ex_poly[i]))\n",
        "\n",
        "  return wiring_constraint_poly_evals\n",
        "\n",
        "wiring_constraint_poly(inverse_trace_table[0], inverse_trace_table[1], n)"
      ],
      "metadata": {
        "colab": {
          "base_uri": "https://localhost:8080/",
          "height": 363
        },
        "id": "o8abY3vODxVS",
        "outputId": "e8deea81-2ccf-492b-d410-005309b16a59"
      },
      "execution_count": 113,
      "outputs": [
        {
          "output_type": "error",
          "ename": "TypeError",
          "evalue": "ignored",
          "traceback": [
            "\u001b[0;31m---------------------------------------------------------------------------\u001b[0m",
            "\u001b[0;31mTypeError\u001b[0m                                 Traceback (most recent call last)",
            "\u001b[0;32m<ipython-input-113-7f1b60391bd8>\u001b[0m in \u001b[0;36m<cell line: 18>\u001b[0;34m()\u001b[0m\n\u001b[1;32m     16\u001b[0m   \u001b[0;32mreturn\u001b[0m \u001b[0mwiring_constraint_poly_evals\u001b[0m\u001b[0;34m\u001b[0m\u001b[0;34m\u001b[0m\u001b[0m\n\u001b[1;32m     17\u001b[0m \u001b[0;34m\u001b[0m\u001b[0m\n\u001b[0;32m---> 18\u001b[0;31m \u001b[0mwiring_constraint_poly\u001b[0m\u001b[0;34m(\u001b[0m\u001b[0minverse_trace_table\u001b[0m\u001b[0;34m[\u001b[0m\u001b[0;36m0\u001b[0m\u001b[0;34m]\u001b[0m\u001b[0;34m,\u001b[0m \u001b[0minverse_trace_table\u001b[0m\u001b[0;34m[\u001b[0m\u001b[0;36m1\u001b[0m\u001b[0;34m]\u001b[0m\u001b[0;34m,\u001b[0m \u001b[0mn\u001b[0m\u001b[0;34m)\u001b[0m\u001b[0;34m\u001b[0m\u001b[0;34m\u001b[0m\u001b[0m\n\u001b[0m",
            "\u001b[0;32m<ipython-input-113-7f1b60391bd8>\u001b[0m in \u001b[0;36mwiring_constraint_poly\u001b[0;34m(inverse_trace_table, n, p)\u001b[0m\n\u001b[1;32m      3\u001b[0m \u001b[0;32mdef\u001b[0m \u001b[0mwiring_constraint_poly\u001b[0m\u001b[0;34m(\u001b[0m\u001b[0minverse_trace_table\u001b[0m\u001b[0;34m,\u001b[0m \u001b[0mn\u001b[0m\u001b[0;34m,\u001b[0m \u001b[0mp\u001b[0m\u001b[0;34m)\u001b[0m\u001b[0;34m:\u001b[0m\u001b[0;34m\u001b[0m\u001b[0;34m\u001b[0m\u001b[0m\n\u001b[1;32m      4\u001b[0m   \u001b[0;31m# construct a polynomial phi_0(x) = S(x+1)(A(x+1)-B(x))\u001b[0m\u001b[0;34m\u001b[0m\u001b[0;34m\u001b[0m\u001b[0m\n\u001b[0;32m----> 5\u001b[0;31m   \u001b[0momega\u001b[0m \u001b[0;34m=\u001b[0m \u001b[0mfind_nth_root_of_unity_realnum\u001b[0m\u001b[0;34m(\u001b[0m\u001b[0;36m2\u001b[0m\u001b[0;34m*\u001b[0m\u001b[0mn\u001b[0m\u001b[0;34m,\u001b[0m \u001b[0mp\u001b[0m\u001b[0;34m)\u001b[0m\u001b[0;34m\u001b[0m\u001b[0;34m\u001b[0m\u001b[0m\n\u001b[0m\u001b[1;32m      6\u001b[0m \u001b[0;34m\u001b[0m\u001b[0m\n\u001b[1;32m      7\u001b[0m   \u001b[0ma_ex_poly\u001b[0m \u001b[0;34m=\u001b[0m \u001b[0mpoly_eval_extension\u001b[0m\u001b[0;34m(\u001b[0m\u001b[0minverse_trace_table\u001b[0m\u001b[0;34m[\u001b[0m\u001b[0;36m0\u001b[0m\u001b[0;34m]\u001b[0m\u001b[0;34m,\u001b[0m \u001b[0mp\u001b[0m\u001b[0;34m,\u001b[0m \u001b[0momega\u001b[0m\u001b[0;34m,\u001b[0m \u001b[0;36m2\u001b[0m\u001b[0;34m*\u001b[0m\u001b[0mn\u001b[0m\u001b[0;34m-\u001b[0m\u001b[0;36m1\u001b[0m\u001b[0;34m)\u001b[0m\u001b[0;34m\u001b[0m\u001b[0;34m\u001b[0m\u001b[0m\n",
            "\u001b[0;32m<ipython-input-11-8b9621e45e43>\u001b[0m in \u001b[0;36mfind_nth_root_of_unity_realnum\u001b[0;34m(n, q)\u001b[0m\n\u001b[1;32m     20\u001b[0m   \u001b[0momega\u001b[0m\u001b[0;34m:\u001b[0m \u001b[0mthe\u001b[0m \u001b[0mnth\u001b[0m \u001b[0mroot\u001b[0m \u001b[0mof\u001b[0m \u001b[0munity\u001b[0m\u001b[0;34m,\u001b[0m \u001b[0mwhich\u001b[0m \u001b[0;32mis\u001b[0m \u001b[0ma\u001b[0m \u001b[0melement\u001b[0m \u001b[0;32min\u001b[0m \u001b[0mfinite\u001b[0m \u001b[0mfield\u001b[0m\u001b[0;34m\u001b[0m\u001b[0;34m\u001b[0m\u001b[0m\n\u001b[1;32m     21\u001b[0m   '''\n\u001b[0;32m---> 22\u001b[0;31m   \u001b[0momega\u001b[0m \u001b[0;34m=\u001b[0m \u001b[0mFQ\u001b[0m\u001b[0;34m(\u001b[0m\u001b[0;36m5\u001b[0m\u001b[0;34m)\u001b[0m \u001b[0;34m**\u001b[0m \u001b[0;34m(\u001b[0m\u001b[0;34m(\u001b[0m\u001b[0mq\u001b[0m \u001b[0;34m-\u001b[0m \u001b[0;36m1\u001b[0m\u001b[0;34m)\u001b[0m \u001b[0;34m//\u001b[0m \u001b[0mn\u001b[0m\u001b[0;34m)\u001b[0m\u001b[0;34m\u001b[0m\u001b[0;34m\u001b[0m\u001b[0m\n\u001b[0m\u001b[1;32m     23\u001b[0m   \u001b[0;32mreturn\u001b[0m \u001b[0momega\u001b[0m\u001b[0;34m\u001b[0m\u001b[0;34m\u001b[0m\u001b[0m\n\u001b[1;32m     24\u001b[0m \u001b[0;34m\u001b[0m\u001b[0m\n",
            "\u001b[0;31mTypeError\u001b[0m: unsupported operand type(s) for //: 'int' and 'tuple'"
          ]
        }
      ]
    },
    {
      "cell_type": "code",
      "source": [
        "constraints_poly = []\n",
        "\n",
        "# Square-Fibonaci constraints\n",
        "constraints_poly.append(square_fib_constraint_poly(inverse_trace_table[0], inverse_trace_table[1], inverse_trace_table[2], n))\n",
        "\n",
        "# wiring constraints\n",
        "# using Fi_1 to represent a_i+1 = b_i\n",
        "constraints_poly.append(wiring_constraint_poly(inverse_trace_table[0], inverse_trace_table[1], n))\n",
        "\n",
        "# using Fi_2 to represent b_i+1 = c_i\n",
        "constraints_poly.append(wiring_constraint_poly(inverse_trace_table[1], inverse_trace_table[2], n))\n",
        "\n",
        "constraints_poly"
      ],
      "metadata": {
        "colab": {
          "base_uri": "https://localhost:8080/"
        },
        "id": "MNjEDi5b8NB7",
        "outputId": "d1dc21ed-2ae4-49a3-92d4-e73f3d6d57ae"
      },
      "execution_count": 90,
      "outputs": [
        {
          "output_type": "execute_result",
          "data": {
            "text/plain": [
              "[[0, 0, 0, 0, 0, 0, 0, 0], [0, 0, 0, 0, 0, 0, 0, 0], [0, 0, 0, 0, 0, 0, 0, 0]]"
            ]
          },
          "metadata": {},
          "execution_count": 90
        }
      ]
    },
    {
      "cell_type": "markdown",
      "source": [
        "### Combine constraints\n",
        "\n",
        "- **Naive way to proof the contraints**\n",
        "\n",
        "    In general, we have $m$ constraint polynomials $\\phi_0(x), \\phi_1(x), ..., \\phi_{m-1}(x)$. Sample a random field element $\\gamma \\in F_q$, and then take a random linear combination of the individual constraints:$$\\phi(x) := \\gamma^0·\\phi_0(x) + \\gamma^1·\\phi_1(x)+...+\\gamma^{m-1}·\\phi_{m-1}(x)$$\n",
        "    and we need the constraints satisfied at every row, that is $\\phi(\\omega^i) = 0 \\ for \\ all\\ 0\\le i <n$, in this case we need $n$ evaluation proofs\n",
        "\n",
        "\n",
        "- **Using quotient polynomial**\n",
        "\n",
        "    we can prove such constraint $\\phi(x)$ using only one evaluation proof:\n",
        "    - quotient polynomial:\n",
        "        \\begin{aligned}\n",
        "        \\phi(\\omega^i) = 0 \\ for \\ all\\ 0\\le i <n\\ &{\\Leftrightarrow}\\ (x-\\omega^i)|\\phi(x)\\ for \\ all\\ 0\\le i<n\\\\\n",
        "        &{\\Leftrightarrow}\\ \\prod^{n-1}_{i=0}(x-\\omega^i)|\\phi(x)\\ for \\ all\\ 0\\le i <n\\\\\n",
        "        &{\\Leftrightarrow}\\ (x^n-1)|\\phi(x)\\\\\n",
        "        &{\\Leftrightarrow}\\ \\exists Q(x)\\ s.t.\\phi(x)=Q(x)·(x^n-1)\n",
        "        \\end{aligned}\n",
        "      now we just need to prove there exists a polynomial $Q(x)$\n",
        "    - compute the quotient polynomial:\n",
        "        $$\n",
        "        Q(x):= {\\phi(x) \\over {x^n-1}} = {{\\gamma^0·\\phi_0(x) + \\gamma^1·\\phi_1(x)+...+\\gamma^{m-1}·\\phi_{m-1}(x)} \\over {x^n-1}}\n",
        "        $$\n",
        "      degree of $Q(x)$ is $2n-3$, so we need at least $2n-2$ evaluation points to represent it\n",
        "      \n",
        "      we make it a round number and use $2n$ evaluation points, our previous evaluation domain do not work anymore, because the order of $\\omega$ is only $n$. We therefore need to pick some other element $\\beta \\in F_q$ with order $2n$. Then we evaluate $Q(x)$ over the evaluation domain $\\{\\beta^0, \\beta^1,...,\\beta^{2n-1}\\}$"
      ],
      "metadata": {
        "id": "rCI92e9h8agH"
      }
    },
    {
      "cell_type": "code",
      "source": [
        "# define Phi(x)\n",
        "def Phi(constraints_poly, n, p):\n",
        "  # randomly gerenate gamma in F_p\n",
        "  gamma_list = []\n",
        "  Phi_poly = [0] * n\n",
        "\n",
        "  for i in range(len(constraints_poly)):\n",
        "      gamma = FQ(random.randint(0, p))\n",
        "      gamma_list.append(gamma)\n",
        "      phi_i = [gamma * constraints_poly[i][j] for j in range(n)]\n",
        "      Phi_poly = [phi_i[j] + Phi_poly[j] for j in range(n)]\n",
        "\n",
        "  return Phi_poly, gamma_list\n",
        "\n",
        "Phi_poly, gamma_list = Phi(constraints_poly, n, p)\n",
        "print(f'the combination of contraints is {Phi_poly}, and the ramdom generated list of gamma is {gamma_list}')"
      ],
      "metadata": {
        "colab": {
          "base_uri": "https://localhost:8080/"
        },
        "id": "7LNQLL0THUJK",
        "outputId": "be88c97a-4b01-41c7-e956-0a871c1d84dc"
      },
      "execution_count": 102,
      "outputs": [
        {
          "output_type": "stream",
          "name": "stdout",
          "text": [
            "the combination of contraints is [0, 0, 0, 0, 0, 0, 0, 0], and the ramdom generated list of gamma is [18695682625519108157471983605394659832090688078928869562401742199514958518746, 50156698985080153854477879780975312017559457157741019734000403691121293590310, 41587535479776530447750180094211285845041450353237309821308359439951620143765]\n"
          ]
        }
      ]
    },
    {
      "cell_type": "code",
      "source": [
        "def Quotient_poly(Phi_poly, n, p):\n",
        "  '''Args:\n",
        "  a: randomly sampled field element\n",
        "  b: evaluation on a\n",
        "  poly_evals: input of poly need to be in evaluation form\n",
        "\n",
        "  Returns:\n",
        "  Q_poly_evals: q poly in evaluation form\n",
        "  '''\n",
        "  Q_poly_evals = []\n",
        "  omega = find_nth_root_of_unity_realnum(n, p)\n",
        "\n",
        "  for i in range(n):\n",
        "    Q_poly_evals.append(Phi_poly[i]/((omega**i)**n-FQ(1)))\n",
        "\n",
        "  return Q_poly_evals\n",
        "\n",
        "Q_poly_evals = Quotient_poly(Phi_poly, n, p)\n",
        "print(f'quotient polynomial in evaluation form is {Q_poly_evals}')"
      ],
      "metadata": {
        "colab": {
          "base_uri": "https://localhost:8080/"
        },
        "id": "4WW1THT_IOsj",
        "outputId": "cf23cab9-8d39-4e73-e31e-9281fc6bc6b5"
      },
      "execution_count": 105,
      "outputs": [
        {
          "output_type": "stream",
          "name": "stdout",
          "text": [
            "quotient polynomial in evaluation form is [0, 0, 0, 0, 0, 0, 0, 0]\n"
          ]
        }
      ]
    },
    {
      "cell_type": "markdown",
      "source": [
        "### Committing to the quotient polynomial\n",
        "Now we have get the evaluation form of $Q(x)$, we can compute its commitment. Note, degree of $Q(x)$ is larger than the column polynomials, so it requires a larger KZG setup\n",
        "\n",
        "(in practice, we can use a trick here: split $Q(x)$ into 2 smaller polynomials with each one's degree $<n$, and commit them seperately: $Q(x) = Q_{lo}(x) + x^n·Q_{hi}(x)$ )"
      ],
      "metadata": {
        "id": "66SFCFtF8jsh"
      }
    },
    {
      "cell_type": "code",
      "source": [
        "Q_poly_coefs = IFFT(Q_poly_evals, p)\n",
        "Q_com = poly_commitment(pk, g1, Q_poly_evals)\n",
        "print(f'commitment of polynomial is {Q_com}')"
      ],
      "metadata": {
        "colab": {
          "base_uri": "https://localhost:8080/"
        },
        "id": "yrq0Ai998iPX",
        "outputId": "2461394a-5674-4eca-db02-bf5fd3ad5787"
      },
      "execution_count": 107,
      "outputs": [
        {
          "output_type": "stream",
          "name": "stdout",
          "text": [
            "commitment of polynomial is None\n"
          ]
        }
      ]
    },
    {
      "cell_type": "markdown",
      "source": [
        "### Proving the quotient polynomial's existence\n",
        "Now we have committed all column polynomials from the trace table and have also committed to the quotient polynomial. Now the prover needs to demonstrate the quotient polynimial really exist and it was computed correctly.\n",
        "\n",
        "This can be achieve through the following steps:\n",
        "1. sample a random point $\\alpha \\in F_q$\n",
        "2. generate and output KZG proofs for all column polynimials and the quotient polynomials at point $\\alpha$ $$ Q(\\alpha):= {\\phi(\\alpha) \\over {\\alpha^n-1}} = {{\\gamma^0·\\phi_0(\\alpha) + \\gamma^1·\\phi_1(\\alpha)+...+\\gamma^{m-1}·\\phi_{m-1}(\\alpha)} \\over {\\alpha^n-1}}$$\n",
        "$\\alpha$ is sampled at random, so the property holds at $\\alpha$, then it holds everywhere"
      ],
      "metadata": {
        "id": "c70-M8kH8pzg"
      }
    },
    {
      "cell_type": "code",
      "source": [
        "# Verifier first choose the random point a\n",
        "# a = F_p.random_element()\n",
        "a = 1\n",
        "\n",
        "# calculate evaluation for all polynomials, and proof of the evaluation pi\n",
        "## for column polynomials\n",
        "col_evaluation = []\n",
        "col_q_poly = []\n",
        "col_pi = []\n",
        "for poly in poly_list:\n",
        "    # compute evaluation at a\n",
        "    b = poly(a)\n",
        "    col_evaluation.append(b)\n",
        "    # compute q(x)\n",
        "    q_poly = ((poly-b)/(x-a)).numerator()\n",
        "    col_q_poly.append(q_poly)\n",
        "    # compute proof of the evaluation pi\n",
        "    pi = poly_commitment(pk, g1,  q_poly)\n",
        "    col_pi.append(pi)\n",
        "print(f'evalutions for column polynomials are {col_evaluation}, and proof of evaluations are {col_pi}')\n",
        "\n",
        "## for quotient polynomials\n",
        "# compute evaluation at a\n",
        "Q_evaluation = Q_poly(a)\n",
        "# compute q(x)\n",
        "Q_q_poly = ((poly-Q_evaluation)/(x-a)).numerator()\n",
        "# compute proof of the evaluation pi\n",
        "Q_pi = poly_commitment(pk, g1,  Q_q_poly)\n",
        "print(f'evaluation for quotient polynomial is {Q_evaluation},and proof of evaluations are {Q_pi}')"
      ],
      "metadata": {
        "id": "ABDq93Si8sV3"
      },
      "execution_count": null,
      "outputs": []
    },
    {
      "cell_type": "markdown",
      "source": [
        "### Verifying the quotient polynomial\n",
        "the verifier need to check two things:\n",
        "1. each evaluation proof is correct\n",
        "2. the quotient polynomial holds at point $\\alpha$"
      ],
      "metadata": {
        "id": "ZZwFn_Sd8_Jf"
      }
    },
    {
      "cell_type": "code",
      "source": [
        "# verify each evaluation proof is correct\n",
        "for i in range(len(com_list)):\n",
        "    print(f'verification result of column {i} : {evaluation_verification(com_list[i], col_evaluation[i], a, col_pi[i], g1, g2, vk)}')\n",
        "\n",
        "# verify the quotient polynomial holds at point a\n",
        "# assert GT.pairing(Q_com - g1*Scalar(Q_evaluation), g2) == GT.pairing(Q_pi, vk - g2*Scalar(a))\n",
        "\n",
        "print(f'verification result:{evaluation_verification(Q_com, Q_evaluation, a, Q_pi, g1, g2, vk)}')"
      ],
      "metadata": {
        "id": "hgCnWd629BN9"
      },
      "execution_count": null,
      "outputs": []
    }
  ]
}