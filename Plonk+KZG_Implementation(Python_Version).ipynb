{
  "nbformat": 4,
  "nbformat_minor": 0,
  "metadata": {
    "colab": {
      "provenance": [],
      "authorship_tag": "ABX9TyPjhpzNWYlQ3bmRLpqb9rQv",
      "include_colab_link": true
    },
    "kernelspec": {
      "name": "python3",
      "display_name": "Python 3"
    },
    "language_info": {
      "name": "python"
    }
  },
  "cells": [
    {
      "cell_type": "markdown",
      "metadata": {
        "id": "view-in-github",
        "colab_type": "text"
      },
      "source": [
        "<a href=\"https://colab.research.google.com/github/YolaYing/zk-toolkit/blob/main/Plonk%2BKZG_Implementation(Python_Version).ipynb\" target=\"_parent\"><img src=\"https://colab.research.google.com/assets/colab-badge.svg\" alt=\"Open In Colab\"/></a>"
      ]
    },
    {
      "cell_type": "markdown",
      "source": [
        "# Develope Environment Preparation\n",
        "Curve we used is BLS12-381\n",
        "- Library we used: BLS21-381 curve implemented by Ethereum, using Python\n",
        "- Lib link: https://github.com/ethereum/py_ecc/tree/main\n",
        "\n",
        "You can use the following command to install all the packages we needed. Note that if you are using anaconda, package installation may be failed. Highly recommand using colab or some development friendly environment."
      ],
      "metadata": {
        "id": "XDSUSR7mEtlN"
      }
    },
    {
      "cell_type": "code",
      "execution_count": 1,
      "metadata": {
        "colab": {
          "base_uri": "https://localhost:8080/"
        },
        "id": "FDe0iCZyEKD3",
        "outputId": "9f23e156-2fe9-49a5-cbca-794a9d612ab7"
      },
      "outputs": [
        {
          "output_type": "stream",
          "name": "stdout",
          "text": [
            "Requirement already satisfied: py_ecc in /usr/local/lib/python3.10/dist-packages (7.0.0)\n",
            "Requirement already satisfied: eth-typing>=3.0.0 in /usr/local/lib/python3.10/dist-packages (from py_ecc) (3.5.2)\n",
            "Requirement already satisfied: eth-utils>=2.0.0 in /usr/local/lib/python3.10/dist-packages (from py_ecc) (2.3.1)\n",
            "Requirement already satisfied: cached-property>=1.5.1 in /usr/local/lib/python3.10/dist-packages (from py_ecc) (1.5.2)\n",
            "Requirement already satisfied: typing-extensions>=4.0.1 in /usr/local/lib/python3.10/dist-packages (from eth-typing>=3.0.0->py_ecc) (4.5.0)\n",
            "Requirement already satisfied: eth-hash>=0.3.1 in /usr/local/lib/python3.10/dist-packages (from eth-utils>=2.0.0->py_ecc) (0.5.2)\n",
            "Requirement already satisfied: cytoolz>=0.10.1 in /usr/local/lib/python3.10/dist-packages (from eth-utils>=2.0.0->py_ecc) (0.12.2)\n",
            "Requirement already satisfied: toolz>=0.8.0 in /usr/local/lib/python3.10/dist-packages (from cytoolz>=0.10.1->eth-utils>=2.0.0->py_ecc) (0.12.0)\n"
          ]
        }
      ],
      "source": [
        "!pip3 install py_ecc"
      ]
    },
    {
      "cell_type": "markdown",
      "source": [
        "# Preliminaries\n"
      ],
      "metadata": {
        "id": "F8XQWxyrf_a9"
      }
    },
    {
      "cell_type": "markdown",
      "source": [
        "## Form of Polynomial Representations(using baby parameters for demonstration)\n",
        "\n",
        "A polynomial $\\Phi(x) = \\sum_{i = 0}^{n - 1} \\phi_ix^i$ have two representation forms:\n",
        "1. Coefficient Form\n",
        "  - $\\Phi(x)$ can be represeneted as a tuple of $n$ coefficients: $[\\phi_0, \\phi_1, ..., \\phi_{n-1}]$\n",
        "2. Evaluation Form\n",
        "  - $\\Phi(x)$ can be represeneted as a tuple of $n$ distinct evaluations: $[\\Phi(x_0), \\Phi(x_1), ..., \\Phi(x_{n-1})]$\n",
        "    - the set of values $\\\\{ x_0, x_1, ..., x_{n-1} \\\\}$ over which the polynomial is defined over is known as \"evaluation domain\""
      ],
      "metadata": {
        "id": "V_bza7lHgToL"
      }
    },
    {
      "cell_type": "code",
      "source": [
        "# For example, assume we have a polynomial Φ(𝑥)=4x^3+5x^2+3x+2 and some points on the polynomials\n",
        "q = 17\n",
        "poly_coefs = [2, 3, 5, 4]\n",
        "evaluation_domain = [1, 4, 16, 13]\n",
        "poly_evals = [14, 10, 0, 1]\n",
        "\n",
        "print(f'coefficient form of phi(x) is {poly_coefs}')\n",
        "print(f'evaluation form of phi(x) is {poly_evals}, defined over evaluation domain {evaluation_domain}')"
      ],
      "metadata": {
        "colab": {
          "base_uri": "https://localhost:8080/"
        },
        "id": "5cPrvhiMkGQo",
        "outputId": "7e09509d-efeb-4c08-ebf3-2da307e72a6d"
      },
      "execution_count": 2,
      "outputs": [
        {
          "output_type": "stream",
          "name": "stdout",
          "text": [
            "coefficient form of phi(x) is [2, 3, 5, 4]\n",
            "evaluation form of phi(x) is [14, 10, 0, 1], defined over evaluation domain [1, 4, 16, 13]\n"
          ]
        }
      ]
    },
    {
      "cell_type": "markdown",
      "source": [
        "## Convert between Coefficient Form and Evaluation Form\n",
        "\n",
        "### Defination\n",
        "- **Fourier Transform**: convert from coefficient to evaluation\n",
        "- **inverse Fourier Transform**: convert from evaluation to coefficient\n",
        "\n",
        "\n",
        "### Naive Way\n",
        "In naive way, each of those two transformation takes $O(n^2)$ computation\n",
        "- **Fourier Transform**: evaluate $\\Phi(x)$ at each $x_i$ in the evaluation domain\n",
        "- **inverse Fourier Transform**: use *Lagrange Interpolation* to obtain unique degree $(n-1)$ polynomial passes through each of the $n$ points\n",
        "\n",
        "\n",
        "### Optimized Way: Fast Fourier Transformation(FFT)\n",
        "To improve the effectiveness of the transformation, we need to do the following steps:\n",
        "- defined polynomials over finite field\n",
        "  - restrict each coefficient $p_i \\in F_q$ and each evaluation point $\\Phi(x_i) \\in F_q$\n",
        "  - $q$ stands for curve order\n",
        "- defined the evaluation domain as a multiplicative subgroup of $F_q$\n",
        "  - evaluation domain is a set of \"$n^{th}$ roots of unity\", $\\{ \\omega_0, \\omega_1, ..., \\omega_{n-1} \\}$ for some element $\\omega \\in F_q$ with order $n$(i.e. $\\omega^n = 1$ mod $q$)\n",
        "- implementation of FFT algorithm\n",
        "  - if you are not familiar with FFT, highly recommend this video: https://www.youtube.com/watch?v=h7apO7q16V0"
      ],
      "metadata": {
        "id": "gLEGo27ZlBNe"
      }
    },
    {
      "cell_type": "code",
      "source": [
        "import random\n",
        "\n",
        "def FFT(poly_coefs, q):\n",
        "  '''\n",
        "  Args:\n",
        "  poly_coefs: coefficient representation of the polynomial\n",
        "\n",
        "  Returns:\n",
        "  y: evaluation form of the polynomial\n",
        "  '''\n",
        "  # get the degree of the polynomial\n",
        "  n = len(poly_coefs)\n",
        "  if n == 1:\n",
        "    return poly_coefs\n",
        "\n",
        "  # in theory, omega should be the nth root of unity, which is a complex number\n",
        "  # to use it in finite field, we use a algorithm here\n",
        "  omega = find_nth_root_of_unity(n, q)\n",
        "  print(f'{n}^th of unity is {omega}')\n",
        "  poly_coefs_e = poly_coefs[::2]\n",
        "  poly_coefs_o = poly_coefs[1::2]\n",
        "  y_e = FFT(poly_coefs_e, q)\n",
        "  y_o = FFT(poly_coefs_o, q)\n",
        "  y = [0] * n\n",
        "  for j in range(int(n/2)):\n",
        "    y[j] = int(y_e[j] + (omega**j)*y_o[j]) % q\n",
        "    y[j + int(n/2)] = int(y_e[j] - (omega**j)*y_o[j]) % q\n",
        "  return y\n",
        "\n",
        "\n",
        "def find_nth_root_of_unity(n, q):\n",
        "  '''\n",
        "  Args:\n",
        "  n: nth root of unity, which is the degree of polynomial\n",
        "  q: finite field q\n",
        "\n",
        "  Returns:\n",
        "  omega: the nth root of unity, which is a element in finite field\n",
        "  '''\n",
        "  omega = 1\n",
        "  while(omega**(n/2) == 1 and omega != 0):\n",
        "    x = random.randint(0, q)\n",
        "    omega = x**((q-1)/n) % q\n",
        "  return omega\n",
        "\n",
        "print(f'coefficient form of phi(x) is {poly_coefs}, after FFT, we can get the evaluation form of phi(x) is {FFT(poly_coefs, 17)}')\n",
        ""
      ],
      "metadata": {
        "colab": {
          "base_uri": "https://localhost:8080/"
        },
        "id": "uUFr9iQO4G7v",
        "outputId": "80c4ecb7-7679-4b0f-91aa-80c9bb3dd70a"
      },
      "execution_count": 3,
      "outputs": [
        {
          "output_type": "stream",
          "name": "stdout",
          "text": [
            "4^th of unity is 0.0\n",
            "2^th of unity is 16.0\n",
            "2^th of unity is 16.0\n",
            "coefficient form of phi(x) is [2, 3, 5, 4], after FFT, we can get the evaluation form of phi(x) is [14, 14, 0, 14]\n"
          ]
        }
      ]
    },
    {
      "cell_type": "code",
      "source": [
        "# verification of FFT result\n",
        "omega = 13\n",
        "q = 17\n",
        "for i in range(len(poly_coefs)):\n",
        "    x = omega**i % q\n",
        "    print(f'x = {x}, poly(x) = {(4*(x**3)+5*(x**2)+3*x+2) % q}')"
      ],
      "metadata": {
        "colab": {
          "base_uri": "https://localhost:8080/"
        },
        "id": "YFE5EEwYJ-7l",
        "outputId": "8c4c0ce8-10a9-483a-8db6-05779885ef32"
      },
      "execution_count": 4,
      "outputs": [
        {
          "output_type": "stream",
          "name": "stdout",
          "text": [
            "x = 1, poly(x) = 14\n",
            "x = 13, poly(x) = 1\n",
            "x = 16, poly(x) = 0\n",
            "x = 4, poly(x) = 10\n"
          ]
        }
      ]
    },
    {
      "cell_type": "markdown",
      "source": [
        "Because the calculation of finding evaluation domain is a repeated and computation intensive step, so usually we just build a lookup table to store the pre-calculated result. Here we just slightly revise FFT algorithm to meet the lookup needs."
      ],
      "metadata": {
        "id": "NiwOdwl7qZ-u"
      }
    },
    {
      "cell_type": "code",
      "source": [
        "# omega generation can be quite computational intensive, so we tend to pre-calculate the lookup table for omega\n",
        "# we assume n = 8, and we have a multiplication cyclic group with ord = 8, which is [1,2,4,8,16,15,13,9] with 2 as its generator and 17 as module\n",
        "\n",
        "# create a lookup table\n",
        "n_max = 8\n",
        "q = 17\n",
        "omega_list = [1,2,4,8,16,15,13,9]\n",
        "\n",
        "def build_lookup_table(n, omega_list):\n",
        "  lookup = {}\n",
        "  lookup[n] = omega_list\n",
        "  while n > 2:\n",
        "    n = int(n/2)\n",
        "    omega_list = omega_list[::2]\n",
        "    lookup[n] = omega_list\n",
        "  return lookup\n",
        "\n",
        "lookup  = build_lookup_table(n_max, omega_list)\n",
        "print(f'lookup table of list of omega is {lookup}')"
      ],
      "metadata": {
        "colab": {
          "base_uri": "https://localhost:8080/"
        },
        "id": "Djcz086abXKe",
        "outputId": "2ec73621-8bbb-4748-bf11-369ec289cbed"
      },
      "execution_count": 5,
      "outputs": [
        {
          "output_type": "stream",
          "name": "stdout",
          "text": [
            "lookup table of list of omega is {8: [1, 2, 4, 8, 16, 15, 13, 9], 4: [1, 4, 16, 13], 2: [1, 16]}\n"
          ]
        }
      ]
    },
    {
      "cell_type": "code",
      "source": [
        "# revise FFT using omega lookup table\n",
        "def FFT_using_exist_omega(poly_coefs, q, lookup):\n",
        "  '''\n",
        "  Args:\n",
        "  poly_coefs: coefficient representation of the polynomial\n",
        "  lookup: pre-determined omega list\n",
        "\n",
        "  Returns:\n",
        "  y: evaluation form of the polynomial\n",
        "  '''\n",
        "  # get the degree of the polynomial\n",
        "  n = len(poly_coefs)\n",
        "  if n == 1:\n",
        "    return poly_coefs\n",
        "\n",
        "  # in theory, omega should be the nth root of unity, which is a complex number\n",
        "  # to use it in finite field, we use a algorithm here\n",
        "  omega = lookup[n][1]\n",
        "  # print(f'n = {n}, omega = {omega}')\n",
        "  poly_coefs_e = poly_coefs[::2]\n",
        "  poly_coefs_o = poly_coefs[1::2]\n",
        "  y_e = FFT_using_exist_omega(poly_coefs_e, q, lookup)\n",
        "  y_o = FFT_using_exist_omega(poly_coefs_o, q, lookup)\n",
        "  y = [0] * n\n",
        "  for j in range(int(n/2)):\n",
        "    y[j] = int(y_e[j] + (omega**j)*y_o[j]) % q\n",
        "    y[j + int(n/2)] = int(y_e[j] - (omega**j)*y_o[j]) % q\n",
        "  return y\n",
        "\n",
        "print(f'coefficient form of phi(x) is {poly_coefs}, after FFT(use exist omega lookup table), we can get the evaluation form of phi(x) is {FFT_using_exist_omega(poly_coefs, q, lookup)}')"
      ],
      "metadata": {
        "colab": {
          "base_uri": "https://localhost:8080/"
        },
        "id": "YSTh_jgY67Vj",
        "outputId": "b88c8c5b-daff-48f5-a661-9f1414373aa5"
      },
      "execution_count": 6,
      "outputs": [
        {
          "output_type": "stream",
          "name": "stdout",
          "text": [
            "coefficient form of phi(x) is [2, 3, 5, 4], after FFT(use exist omega lookup table), we can get the evaluation form of phi(x) is [14, 10, 0, 1]\n"
          ]
        }
      ]
    },
    {
      "cell_type": "markdown",
      "source": [
        "### Inverse Fast Fourier Transformation(IFFT)\n",
        "We have used FFT to achieve fast transformation from coefficient to evaluation. Now we will implement the inverse transformation, which is from evaluation to coefficient with slightly changing in the algorithm: update $\\omega$ to $\\frac{1}{n}\\omega^{-1}$\n",
        "\n",
        "detailed info: https://decentralizedthoughts.github.io/2023-09-01-FFT/#mjx-eqn-%5Cstar"
      ],
      "metadata": {
        "id": "sMtOeR_0RGfu"
      }
    },
    {
      "cell_type": "code",
      "source": [
        "# inverse the lookup table\n",
        "# the only thing we need to modify in FFT is to update its omega\n",
        "omega_list = [1,2,4,8,16,15,13,9]\n",
        "\n",
        "def inverse_element(omega_list, q):\n",
        "  inverse_omega_list = []\n",
        "  inverse_omega_dict = {}\n",
        "\n",
        "  for i in omega_list:\n",
        "    for candidate in omega_list:\n",
        "      if i*candidate%q == 1:\n",
        "        inverse_omega_list.append(candidate)\n",
        "        inverse_omega_dict[i] = candidate\n",
        "  return inverse_omega_list, inverse_omega_dict\n",
        "\n",
        "inverse_omega_list, inverse_omega_dict= inverse_element(omega_list, q)\n",
        "print(f'inverse omega list is {inverse_omega_list}, inverse omega dict is {inverse_omega_dict}')\n",
        "inverse_lookup = build_lookup_table(n_max, inverse_omega_list)\n",
        "print(f'lookup table of list of omega is {inverse_lookup}')"
      ],
      "metadata": {
        "colab": {
          "base_uri": "https://localhost:8080/"
        },
        "id": "rKQc8bxpfD1T",
        "outputId": "64fe3271-989e-460d-e9f7-33d82a6bab4a"
      },
      "execution_count": 7,
      "outputs": [
        {
          "output_type": "stream",
          "name": "stdout",
          "text": [
            "inverse omega list is [1, 9, 13, 15, 16, 8, 4, 2], inverse omega dict is {1: 1, 2: 9, 4: 13, 8: 15, 16: 16, 15: 8, 13: 4, 9: 2}\n",
            "lookup table of list of omega is {8: [1, 9, 13, 15, 16, 8, 4, 2], 4: [1, 13, 16, 4], 2: [1, 16]}\n"
          ]
        }
      ]
    },
    {
      "cell_type": "code",
      "source": [
        "# revise FFT using omega lookup table\n",
        "def IFFT_using_exist_omega(poly_evals, q, inverse_lookup, inverse_omega_dict):\n",
        "  recursion_result = IFFT_recursion_part(poly_evals, q, inverse_lookup)\n",
        "  IFFT_final_result = [ x * inverse_omega_dict[len(poly_evals)] % q for x in recursion_result]\n",
        "  return IFFT_final_result\n",
        "\n",
        "def IFFT_recursion_part(poly_evals, q, inverse_lookup):\n",
        "  '''\n",
        "  Args:\n",
        "  poly_coefs: coefficient representation of the polynomial\n",
        "  lookup: pre-determined omega list\n",
        "\n",
        "  Returns:\n",
        "  y: evaluation form of the polynomial\n",
        "  '''\n",
        "  # get the degree of the polynomial\n",
        "  n = len(poly_evals)\n",
        "  if n == 1:\n",
        "    return poly_evals\n",
        "\n",
        "  # in theory, omega should be the nth root of unity, which is a complex number\n",
        "  # to use it in finite field, we use a algorithm here\n",
        "  omega = inverse_lookup[n][1]\n",
        "  poly_evals_e = poly_evals[::2]\n",
        "  poly_evals_o = poly_evals[1::2]\n",
        "  y_e = IFFT_recursion_part(poly_evals_e, q, inverse_lookup)\n",
        "  y_o = IFFT_recursion_part(poly_evals_o, q, inverse_lookup)\n",
        "  y = [0] * n\n",
        "  for j in range(int(n/2)):\n",
        "    y[j] = int(y_e[j] + (omega**j)*y_o[j]) % q\n",
        "    y[j + int(n/2)] = int(y_e[j] - (omega**j)*y_o[j]) % q\n",
        "  return y\n",
        "\n",
        "print(f'evaluation form of phi(x) is {poly_evals}, after IFFT(use exist omega lookup table), we can get the coefficient form of phi(x) is {IFFT_using_exist_omega(poly_evals, q, inverse_lookup, inverse_omega_dict)}')"
      ],
      "metadata": {
        "colab": {
          "base_uri": "https://localhost:8080/"
        },
        "id": "QnHXq61yRFC7",
        "outputId": "d0d71662-aa2a-404c-b5f5-3a51f0629710"
      },
      "execution_count": 8,
      "outputs": [
        {
          "output_type": "stream",
          "name": "stdout",
          "text": [
            "evaluation form of phi(x) is [14, 10, 0, 1], after IFFT(use exist omega lookup table), we can get the coefficient form of phi(x) is [2, 3, 5, 4]\n"
          ]
        }
      ]
    },
    {
      "cell_type": "markdown",
      "source": [
        "## Polynomial Representations, FFT and IFFT(using real numbers for KZG usage)"
      ],
      "metadata": {
        "id": "lRjznksIg7Ll"
      }
    },
    {
      "cell_type": "markdown",
      "source": [
        "### Polynomial Representations\n",
        "\n",
        "Real proving system only consider polynomials over a finite field, and so we will restrict：\n",
        "- each coefficient $p_i$\n",
        "- each evaluation point $\\Phi(x_i)$ to be elements of a finite field $F_q$\n",
        "- the evaluation domain(the $\\omega_i$'s) to be a mulyiplicative subgroup of $F_q$\n",
        "\n",
        "For BLS12-381:\n",
        "- the finite field modulus $q$ is pre-determined, which is 'curve order'\n",
        "- \"$n^{th}$ roots of unity\" are confirmed, can be get using the function 'find_nth_root_of_unity($n$, $q$)'"
      ],
      "metadata": {
        "id": "_ehvn42joM_b"
      }
    },
    {
      "cell_type": "code",
      "source": [
        "from py_ecc.bls12_381 import curve_order\n",
        "from py_ecc.fields.field_elements import FQ as Field\n",
        "\n",
        "# construct a data structure F_q\n",
        "class FQ(Field):\n",
        "    field_modulus = curve_order\n",
        "q = curve_order\n",
        "\n",
        "# For example, assume we have a polynomial Φ(𝑥)=4x^3+5x^2+3x+2 and some points on the polynomials\n",
        "poly_coefs = [FQ(2), FQ(3), FQ(5), FQ(4)]\n",
        "poly_evals = [FQ(14), FQ(52435875175126190475982595682112313518914282969839895044333406231173219221502), FQ(0), FQ(3465144826073652318776269530687742778270252468765361963005)]\n",
        "\n",
        "def find_nth_root_of_unity_realnum(n, q):\n",
        "  '''\n",
        "  Args:\n",
        "  n: nth root of unity, which is the degree of polynomial\n",
        "  q: finite field q\n",
        "\n",
        "  Returns:\n",
        "  omega: the nth root of unity, which is a element in finite field\n",
        "  '''\n",
        "  omega = FQ(5) ** ((q - 1) // n)\n",
        "  return omega\n",
        "\n",
        "omega = find_nth_root_of_unity_realnum(len(poly_coefs), q)\n",
        "evaluation_domain = [omega**0, omega**1, omega**2, omega**3]\n",
        "\n",
        "print(f'coefficient form of phi(x) is {poly_coefs}')\n",
        "print(f'evaluation form of phi(x) is {poly_evals}, defined over evaluation domain {evaluation_domain}')"
      ],
      "metadata": {
        "colab": {
          "base_uri": "https://localhost:8080/"
        },
        "id": "VcegH_mvhfU8",
        "outputId": "942ff6d5-9c60-4c2e-e5da-79c33e23c2d8"
      },
      "execution_count": 9,
      "outputs": [
        {
          "output_type": "stream",
          "name": "stdout",
          "text": [
            "coefficient form of phi(x) is [2, 3, 5, 4]\n",
            "evaluation form of phi(x) is [14, 52435875175126190475982595682112313518914282969839895044333406231173219221502, 0, 3465144826073652318776269530687742778270252468765361963005], defined over evaluation domain [1, 3465144826073652318776269530687742778270252468765361963008, 52435875175126190479447740508185965837690552500527637822603658699938581184512, 52435875175126190475982595682112313518914282969839895044333406231173219221505]\n"
          ]
        }
      ]
    },
    {
      "cell_type": "markdown",
      "source": [
        "### Fast Fourier Transformation(FFT)"
      ],
      "metadata": {
        "id": "O6OK_-KDn29E"
      }
    },
    {
      "cell_type": "code",
      "source": [
        "import random\n",
        "\n",
        "class FQ(Field):\n",
        "    field_modulus = curve_order\n",
        "\n",
        "q = curve_order\n",
        "poly_coefs = [FQ(2), FQ(3), FQ(5), FQ(4)]\n",
        "\n",
        "def FFT(poly_coefs, q):\n",
        "  '''\n",
        "  Args:\n",
        "  poly_coefs: coefficient representation of the polynomial\n",
        "\n",
        "  Returns:\n",
        "  y: evaluation form of the polynomial\n",
        "  '''\n",
        "  # get the degree of the polynomial\n",
        "  n = len(poly_coefs)\n",
        "  if n == 1:\n",
        "    return poly_coefs\n",
        "\n",
        "  # in theory, omega should be the nth root of unity, which is a complex number\n",
        "  # to use it in finite field, we use a algorithm here\n",
        "  omega = find_nth_root_of_unity_realnum(n, q)\n",
        "  # print(f'{n}^th of unity is {omega}')\n",
        "  poly_coefs_e = poly_coefs[::2]\n",
        "  poly_coefs_o = poly_coefs[1::2]\n",
        "  y_e = FFT(poly_coefs_e, q)\n",
        "  y_o = FFT(poly_coefs_o, q)\n",
        "  y = [0] * n\n",
        "  for j in range(int(n/2)):\n",
        "    y[j] = y_e[j] + (omega**j)*y_o[j]\n",
        "    y[j + int(n/2)] = y_e[j] - (omega**j)*y_o[j]\n",
        "  return y\n",
        "\n",
        "poly_evals = FFT(poly_coefs, q)\n",
        "print(f'coefficient form of phi(x) is {poly_coefs}, after FFT, we can get the evaluation form of phi(x) is {poly_evals}')"
      ],
      "metadata": {
        "colab": {
          "base_uri": "https://localhost:8080/"
        },
        "id": "gYXv7QMvn2A9",
        "outputId": "5e37bb36-6206-4d0b-f817-943cf1666ce6"
      },
      "execution_count": 10,
      "outputs": [
        {
          "output_type": "stream",
          "name": "stdout",
          "text": [
            "coefficient form of phi(x) is [2, 3, 5, 4], after FFT, we can get the evaluation form of phi(x) is [14, 52435875175126190475982595682112313518914282969839895044333406231173219221502, 0, 3465144826073652318776269530687742778270252468765361963005]\n"
          ]
        }
      ]
    },
    {
      "cell_type": "markdown",
      "source": [
        "### Inverse Fast Fourier Transformation(IFFT)"
      ],
      "metadata": {
        "id": "GGCMoj3Qpgau"
      }
    },
    {
      "cell_type": "code",
      "source": [
        "def IFFT(poly_evals, q):\n",
        "  recursion_result = IFFT_recursion_part(poly_evals, q)\n",
        "  # all elenent in result mutiply 1/n, which is inverse of n\n",
        "  IFFT_final_result = [ x * (FQ(1)/FQ(len(poly_evals))) for x in recursion_result]\n",
        "  return IFFT_final_result\n",
        "\n",
        "def IFFT_recursion_part(poly_evals, q):\n",
        "  '''\n",
        "  Args:\n",
        "  poly_coefs: coefficient representation of the polynomial\n",
        "  lookup: pre-determined omega list\n",
        "\n",
        "  Returns:\n",
        "  y: evaluation form of the polynomial\n",
        "  '''\n",
        "  # get the degree of the polynomial\n",
        "  n = len(poly_evals)\n",
        "  if n == 1:\n",
        "    return poly_evals\n",
        "\n",
        "  # in theory, omega should be the nth root of unity, which is a complex number\n",
        "  # to use it in finite field, we use a algorithm here\n",
        "  omega = find_nth_root_of_unity_realnum(n, q)\n",
        "  # inverse omega\n",
        "  omega_inv = omega**(n-1)\n",
        "  poly_evals_e = poly_evals[::2]\n",
        "  poly_evals_o = poly_evals[1::2]\n",
        "  y_e = IFFT_recursion_part(poly_evals_e, q)\n",
        "  y_o = IFFT_recursion_part(poly_evals_o, q)\n",
        "  y = [0] * n\n",
        "  for j in range(int(n/2)):\n",
        "    y[j] = int(y_e[j] + (omega_inv**j)*y_o[j])\n",
        "    y[j + int(n/2)] = int(y_e[j] - (omega_inv**j)*y_o[j])\n",
        "  return y\n",
        "\n",
        "print(f'evaluation form of phi(x) is {poly_evals}, after IFFT(use exist omega lookup table), we can get the coefficient form of phi(x) is {IFFT(poly_evals, q)}')"
      ],
      "metadata": {
        "colab": {
          "base_uri": "https://localhost:8080/"
        },
        "id": "9Bs3TojDsxr7",
        "outputId": "67303199-11c1-4505-c4d8-4d8fa37895c0"
      },
      "execution_count": 11,
      "outputs": [
        {
          "output_type": "stream",
          "name": "stdout",
          "text": [
            "evaluation form of phi(x) is [14, 52435875175126190475982595682112313518914282969839895044333406231173219221502, 0, 3465144826073652318776269530687742778270252468765361963005], after IFFT(use exist omega lookup table), we can get the coefficient form of phi(x) is [2, 3, 5, 4]\n"
          ]
        }
      ]
    },
    {
      "cell_type": "markdown",
      "source": [
        "# KZG Implementation(Python Version)\n",
        "\n",
        "The KZG Commitment Scheme is a commitment scheme that allows to commit to a polynomial $\\Phi(x) = \\phi_0 +\\phi_1x+\\phi_2x^2+...+\\phi_lx^l$, where $\\Phi(x) \\in F_p[x]$ . 'to commit' means proving that you know the polynomial $\\Phi(x)$ without revealing it.\n",
        "\n",
        "The KZG commitment scheme consists of 4 steps:\n",
        "1. Setup\n",
        "2. Commit to Polynomials\n",
        "3. Prove an Evaluation\n",
        "4. Verify an Evaluation Proof"
      ],
      "metadata": {
        "id": "6-LT_CUcF5sj"
      }
    },
    {
      "cell_type": "markdown",
      "source": [
        "## Step 1: Setup\n",
        "\n",
        "The first step is an one-time trusted setup and once it has done once, the following steps can be done repeatedly\n",
        "1. Let $G_1$ and $G_2$ be pairing-friendly elliptic curve groups, determined by curve BLS12-381\n",
        "2. Let $g_1$ be a generator of $G_1$ and $g_2$ be a generator of $G_2$\n",
        "3. Let $l$ be the maximum degree of the polymonials we want to commit to ($l < p$)\n",
        "4. Pick a random field element as secret parameter $\\tau \\in F_p$(usually done by MPC, to simplify, we just randomly choose one here)\n",
        "5. Compute pp(public parameters, including proving key $pk$, and verifying key $vk$)$$pk = (g_1, g_1^\\tau, g_1^{\\tau^2},...,g_1^{\\tau^l}), vk = g_2^\\tau$$ and release it publicly\n",
        "6. Discard secret parameter $\\tau$ once the setup ceremony is done so that nobody can figure out its value"
      ],
      "metadata": {
        "id": "CbNVAepyHO4g"
      }
    },
    {
      "cell_type": "code",
      "source": [
        "from py_ecc.bls12_381 import G1, G2, Z1, multiply, add\n",
        "\n",
        "# 1. Let G1,G2 be pairing-friendly elliptic curve groups, which are determined by the curve\n",
        "\n",
        "# 2. Let g be a generator of G\n",
        "g1 = G1\n",
        "g2 = G2\n",
        "\n",
        "# 3. Let l be the maximum degree of the polymonials, which is 16\n",
        "l = 16\n",
        "\n",
        "# 4. Pick a random field element from field F_p and p = curve order as secret parameter t\n",
        "p = q\n",
        "# t = 0 will lose all the security, so t cannot be 0\n",
        "t = FQ(random.randint(1, p-1))\n",
        "print(f'secret parameter 𝜏 is {t}')\n",
        "\n",
        "# 5. Compute pp(public parameters)\n",
        "def compute_public_parameters(g1, g2, t, l):\n",
        "\n",
        "    pk = []\n",
        "    accumulated = 1\n",
        "    t_scalar = t\n",
        "    for i in range(l + 1):\n",
        "        # calculate g1, g1^t, g1^{t^2}...\n",
        "        pk.append(multiply(g1, int(accumulated)))\n",
        "        # calculate the exponential t, t^2, t^3, ...\n",
        "        accumulated = accumulated * t_scalar\n",
        "    vk = multiply(g2, int(t))\n",
        "    return pk, vk\n",
        "\n",
        "pk, vk = compute_public_parameters(g1, g2, t, l)\n",
        "print(f'proving key pk: {pk}')\n",
        "print(f'verifying key vk: {vk}')"
      ],
      "metadata": {
        "colab": {
          "base_uri": "https://localhost:8080/"
        },
        "id": "baZh9HlYEN25",
        "outputId": "fcc45e31-a82e-47f1-942e-dba2b78fe670"
      },
      "execution_count": 12,
      "outputs": [
        {
          "output_type": "stream",
          "name": "stdout",
          "text": [
            "secret parameter 𝜏 is 19236434084501802835586430447143790653798697955050606486856288100650154189927\n",
            "proving key pk: [(3685416753713387016781088315183077757961620795782546409894578378688607592378376318836054947676345821548104185464507, 1339506544944476473020471379941921221584933875938349620426543736416511423956333506472724655353366534992391756441569), (3245396875867694259546259215218961434809748960240476390443279676478077010380011418759179544715147620250627945204959, 701299001784294637130952544202702502341065405028758036148365841255453237678757561528420141802596686865045393282096), (3841601640763920008428422477895445442753415014207083355804395887624759548685970808817355465055948811688409739562452, 109321603549825995895556058613772404786243195421732920312108581101387347585399362765649987453710034612137920718222), (2423713723240725056725430003883902926975381849368267614375341719973875258392148380910379946286305564976078733481044, 1763771495240304111956448082427219941838149930880745569803103697756913520926116551803347392375310963494218463709804), (626423981752236230826534729591383300277574647986319116425780711523097485289526954384288879351678399541778292308474, 1158238237822046436440909513819131664109343972054360223495301492702280869114588894013691999814839432178148992203320), (200530690514096303028060190749220067151565137626130502359382267626830939593362119009986844255260164625374936871805, 2018922395668931239621385520900311404915452495986299498824283298430123090245338082292800819349918204148159870896515), (2136323233675938567910103491814059735336384324077349332139301064133095859181376682355607661209615557772546769058771, 2962913661703771156917962617392712712127850506634719668989058834266857685912756851374608049579419617101586297545755), (1657267971646487658526099070228816290088387622431536086826122931265236518363545882754334335164447143385381998432988, 2291422610851836458349532686727594559627856703168776815642024053969482704937379621419706415686449163390609990315120), (200341578802426389676572388204166711917487697296490951672286717043346986484330279781404398657623935998448495241285, 1161889110774783699036122521309015586316557771618429516649765090594893142944365349247960639783041110705185562852136), (3717091624334116956111415229041908522893487839564531723744124051489361678720763070890461086991295052765919751094076, 358546693544111611917798072620198779192798186643870117783904125445950041955660762008239675977079061891281229275627), (2044056573972813063298333025307376406148606108897445873393018062926029833909021424945736087744089931443615191612803, 1934656894889962330640669507691268375647798111709518794602223404901708285835330961437825355307990955823150171341086), (1495724230541465073382381814937534113671987861720777321385240847280862479224623971819916268954747356197023507306035, 2717764146265726075293968089919063559363530656753697500833815799859472256868184848412030967696263381133941465059468), (3411449976458177511751747346199242744724259219992611642904208105632910755798239471823905901617146629561209050804156, 674383755331198597228180656369610464355514802730416018040600852623269330473758198593203292188768356338056848313223), (444974159539579814284311361347786236246664436960688433749048832120966546482323200943825815129312338990773408638391, 3039461660498399183297545002184025550558611580290063748433381849295462784846659599437759972805527968440382707316995), (2174814451756651074162707425614070369373971525612117488644884250980081577307064952363521556453325320703349139030275, 27158225595206325594299719605801120648142865207138567746104785608628421469332697329118268686740246317531383863720), (2664442220194153132817390949407201103014656341748490933145459136068992513504991932005820447873170561615284143990908, 2643155440770194734883779424647246801952272190774242952786538152062786411404165627493267253812539343352446522441297), (3398149417730426592896587022539968165613094540615247208150292202401071937389464049180030622071123024326936083404314, 3233410354708924518458548150986825000284869952209071055509293107400875109755169232968057201035826022715499032522876)]\n",
            "verifying key vk: ((1275271772581545554095502636518838628528981744008822881286941229373085146265538944138035479048990989790475782663630, 3813299663588494146125956565612569991370024238689890719873378477266620789515348007975798536159253492862284076980289), (1890127167073037194322513748980587129843046560845616580861980598610720964558645157905751212442121975487090830529647, 2061999148930323825330668790995318441516166413479946557349865758456559096355141092005121458565959355752609517524776))\n"
          ]
        }
      ]
    },
    {
      "cell_type": "markdown",
      "source": [
        "## Step 2: Commit to Polynomials\n",
        "In reality, we arithmetize circuits and use Plonkish to get polynomials in this step\n",
        "1. Given a polynomial $\\Phi(x) = \\sum_{i=0}^l \\phi_i x^i$\n",
        "2. Compute and output commitment $c = g^{\\Phi(\\tau)}$\n",
        "   - Wait! $\\tau$ has already been discard right? How can committer compute $\\tau$?\n",
        "   - Although he cannot compute $\\Phi(\\tau)$ directly, he can use public parameters to help with it:\n",
        "$$\\prod_{i=0}^l(g^{\\tau^i})^{\\phi_i} = g^{\\sum_{i=0}^l \\phi_i \\tau^i} = g^{\\Phi(\\tau)}$$"
      ],
      "metadata": {
        "id": "PZLYRSg7NdAZ"
      }
    },
    {
      "cell_type": "code",
      "source": [
        "# assume we have a polynomial Φ(𝑥)=4x^3+5x^2+3x+2 or some points on the polynomials\n",
        "# we can use FFT or IFFT to do the transformation between the two forms\n",
        "poly_coefs = [FQ(2), FQ(3), FQ(5), FQ(4)]"
      ],
      "metadata": {
        "id": "tDDoK2qNEXas"
      },
      "execution_count": 13,
      "outputs": []
    },
    {
      "cell_type": "code",
      "source": [
        "# compute commitment of the polynomial\n",
        "def poly_commitment(pk, g1, poly_coefs):\n",
        "\n",
        "  com = Z1\n",
        "  for i in range(len(poly_coefs)):\n",
        "    com = add(multiply(pk[i], int(poly_coefs[i])), com)\n",
        "  return com\n",
        "\n",
        "com = poly_commitment(pk, g1, poly_coefs)\n",
        "print(f'commitment of polynomial is {com}')"
      ],
      "metadata": {
        "colab": {
          "base_uri": "https://localhost:8080/"
        },
        "id": "DXh4eZH4NncH",
        "outputId": "e9829927-c9cd-4fc8-c51f-4aa051d461b9"
      },
      "execution_count": 14,
      "outputs": [
        {
          "output_type": "stream",
          "name": "stdout",
          "text": [
            "commitment of polynomial is (3967200454875335354292002055990975399352034098957431123280431949250431779646565907329395898388132959704783209660343, 1861546273356388296771394305016094083831235419681889746027899896894573362188734361887345555074770191213090795082140)\n"
          ]
        }
      ]
    },
    {
      "cell_type": "markdown",
      "source": [
        "## Step 3: Prove an Evaluation\n",
        "In this period, the Verifier will ask Prover to 'OPEN' the commitment $c$ to a random specific point $a \\in F_p$, in other word, Prover have to evaluation $\\Phi(x)$ and commit the result in the form of opening triplet $OT = (a, b, \\pi)$\n",
        "1. Given an evaluation $\\Phi(a) = b$\n",
        "2. Compute and output proof of the evaluation $\\pi = g^{q(\\tau)}$, where $q(x) := \\frac{\\Phi(x)-b}{x-a}$\n",
        "    - $q(x)$ is quotient polynomial: if $\\Phi(a) = b$, that means $a$ is a root of $\\Phi(x) - b$\n",
        "    - so $\\Phi(x) - b$ can be expressed as $\\Phi(x) - b = q(x)(x-a)$, $q(x)$ is a polynomial\n",
        "    - on the other hand, $q(x)$ exists if and only if $\\Phi(a) = b$, so the existence of this quotient polynomial therefore serves as a proof of the evaluation"
      ],
      "metadata": {
        "id": "uG76toJbnbMn"
      }
    },
    {
      "cell_type": "code",
      "source": [
        "# Verifier first choose the random point a\n",
        "def evaluation_poly(a, poly_coefs):\n",
        "  b = FQ(0)\n",
        "  for i in range(len(poly_coefs)):\n",
        "    b += (a**i)*(poly_coefs[i])\n",
        "  return b\n",
        "\n",
        "# according to defination\n",
        "def random_generate_a(poly_coefs, p):\n",
        "  # create a list of omega\n",
        "  n = len(poly_coefs)\n",
        "  omega = find_nth_root_of_unity_realnum(n, p)\n",
        "  omega_list = []\n",
        "  for i in range(n):\n",
        "    omega_list.append(omega**i)\n",
        "\n",
        "  # a cannot in omega list, otherwise x-a will be 0\n",
        "  a = FQ(random.randint(0, p))\n",
        "  while a in omega_list:\n",
        "    a = FQ(random.randint(0, p))\n",
        "\n",
        "  return a\n",
        "\n",
        "a = random_generate_a(poly_coefs, p)\n",
        "b = evaluation_poly(a, poly_coefs)\n",
        "print(f'random element we chosen is {a}, the evaluation b is {b}')"
      ],
      "metadata": {
        "colab": {
          "base_uri": "https://localhost:8080/"
        },
        "id": "eUASXL_knfu7",
        "outputId": "209b7541-e21b-4aa5-9e00-41e7eb1c25b3"
      },
      "execution_count": 15,
      "outputs": [
        {
          "output_type": "stream",
          "name": "stdout",
          "text": [
            "random element we chosen is 21408353753229090355976215505661384156895171201447048933451914479248483933088, the evaluation b is 13728034202807892556637774915625852320179003930128857614885881403784503374856\n"
          ]
        }
      ]
    },
    {
      "cell_type": "code",
      "source": [
        "# compute q(x)\n",
        "# 1. if poly in coefficient form, convert poly_coefs to evals\n",
        "# 2. calculate quotient polynomial in evaluation form\n",
        "# 3. convert quotient poly evals to coefs if needed\n",
        "\n",
        "def quotient_poly(a, b, poly_evals, p):\n",
        "  '''Args:\n",
        "  a: randomly sampled field element\n",
        "  b: evaluation on a\n",
        "  poly_evals: input of poly need to be in evaluation form\n",
        "\n",
        "  Returns:\n",
        "  q_poly_evals: q poly in evaluation form\n",
        "  '''\n",
        "  q_poly_evals = []\n",
        "  n = len(poly_evals)\n",
        "  omega = find_nth_root_of_unity_realnum(n, p)\n",
        "\n",
        "  for i in range(len(poly_evals)):\n",
        "    q_poly_evals.append((poly_evals[i]-b)/(omega**i-a))\n",
        "\n",
        "  return q_poly_evals\n",
        "\n",
        "q_poly_evals = quotient_poly(a, b, poly_evals, p)\n",
        "print(f'quotient polynomial in evaluation form is {q_poly_evals}')"
      ],
      "metadata": {
        "colab": {
          "base_uri": "https://localhost:8080/"
        },
        "id": "_uxCEV4PqKum",
        "outputId": "2678d073-355c-4ae5-c561-d87fb1f3c972"
      },
      "execution_count": 16,
      "outputs": [
        {
          "output_type": "stream",
          "name": "stdout",
          "text": [
            "quotient polynomial in evaluation form is [50610538997614190428693464310459736899479594840373960732083815445129140889708, 8075751446711095083258985198202264013002115197265266503881414414374286652255, 36651334497160039019226961789726561157389882730380482732279475710957012978533, 26750246872936943885213700393798068206176809872961539137878218041773286031457]\n"
          ]
        }
      ]
    },
    {
      "cell_type": "code",
      "source": [
        "# convert quotient polynomial from evaluation form to coefficient form\n",
        "q_poly_coefs = IFFT(q_poly_evals, q)\n",
        "print(f'quotient polynomial in coefficient form is {q_poly_coefs}')"
      ],
      "metadata": {
        "colab": {
          "base_uri": "https://localhost:8080/"
        },
        "id": "7BXJAKY3kliX",
        "outputId": "96382c28-4647-4232-9a69-0a8de551a777"
      },
      "execution_count": 17,
      "outputs": [
        {
          "output_type": "stream",
          "name": "stdout",
          "text": [
            "quotient polynomial in coefficient form is [17412999159824019484236342796000166109589462535113402820879816228073786341860, 33197539837790170944457121514459570789890132305260557911203999217055354547844, 4, 0]\n"
          ]
        }
      ]
    },
    {
      "cell_type": "code",
      "source": [
        "# compute proof of the evaluation pi\n",
        "pi = poly_commitment(pk, g1,  q_poly_coefs)\n",
        "print(f'proof of the evaluation pi is {pi}')"
      ],
      "metadata": {
        "colab": {
          "base_uri": "https://localhost:8080/"
        },
        "id": "n8OOKUQqqMFl",
        "outputId": "d2787fe1-e922-47a2-e35c-be3a6c78d532"
      },
      "execution_count": 18,
      "outputs": [
        {
          "output_type": "stream",
          "name": "stdout",
          "text": [
            "proof of the evaluation pi is (1356687143464276699291542560776636431355956194199428075655054085673287461850343757435811500819614854308074538014673, 559338417176675560661484463066492561039870137354699661368970219454796754518738514901106020151588573926245689044303)\n"
          ]
        }
      ]
    },
    {
      "cell_type": "markdown",
      "source": [
        "## Step 4: Verify an Evaluation Proof\n",
        "1. Given a commitment $c = g^{\\Phi(\\tau)}$, and an evaluation $\\Phi(a) = b$, and a proof $\\pi = g^{q(\\tau)}$\n",
        "2. Verify that $e(\\frac{c}{g^b}, g) = e(\\pi,\\frac{g^\\tau}{g^a})$, where $e$ is a non-trivial bilinear mapping\n",
        "    - the purpose of verification: $\\Phi(x) - b = q(x)(x-a)$, checking this equality holds for $x = \\tau$\n",
        "    - according to the definition of bilinear mapping, it is equivalent to: $e(g_1, g_2)^{\\Phi(\\tau) - b} = e(g_1, g_2)^{q(\\tau)(\\tau-a)}$, that is $e(g_1^{\\Phi(\\tau) - b}, g_2) = e(g_1^{q(\\tau)}, g_2^{\\tau-a})$\n",
        "    - that is $e(com-g_1^b, g_2) = e(\\pi, vk - g_2^a)$"
      ],
      "metadata": {
        "id": "1_5bBUjOmOx_"
      }
    },
    {
      "cell_type": "code",
      "source": [
        "from py_ecc.bls12_381 import pairing, neg\n",
        "\n",
        "# now it is time to do the varification\n",
        "print(f'result of verification: {pairing(g2, add(com, neg(multiply(g1, int(b))))) == pairing(add(vk, neg(multiply(g2, int(a)))), pi)}')"
      ],
      "metadata": {
        "colab": {
          "base_uri": "https://localhost:8080/"
        },
        "id": "HuxidPgTmSoa",
        "outputId": "ecb64b8a-78d4-4382-d3cc-70064c97aa85"
      },
      "execution_count": 19,
      "outputs": [
        {
          "output_type": "stream",
          "name": "stdout",
          "text": [
            "result of verification: True\n"
          ]
        }
      ]
    },
    {
      "cell_type": "markdown",
      "source": [
        "# Plonk Implementation(Python Version)\n",
        "\n",
        "## Problem Definition\n",
        "\n",
        "We take **Square-Fibonacci** as an example to demonstrate the process of proof generation\n",
        "\n",
        "Defination of Square-Fibonacci Problem:\n",
        "- Let $f_0 = 1, f_1 = 1$\n",
        "- For $i \\ge 2$, define $f_i:=(f_{i-2})^2+(f_{i-1})^2 \\ mod \\ q$\n",
        "    - $q$ is a large prime integer, used to bound the size of each element, so that it can be represented by some predetermined number of bits.\n",
        "\n",
        "Let $n$ be some very large integer. For convenience, we assume $n$ is a power of 2\n",
        "\n",
        "Let $k$ be the $n^{th}$ Square-Fibonacci number\n",
        "\n",
        "**Our goal**: generate an efficiently-verifiable proof $\\pi$ showing that indeed $k$ is the $n^{th}$ Square-Fibonacci number(i.e. $f_n = k$)\n",
        "\n",
        "## Phases of Proof Generation\n",
        "The Plonk-based proof generation consists of 3 steps:\n",
        "1. Filling in the trace table\n",
        "2. Committing to the trace table\n",
        "3. Proving the trace table's correctness"
      ],
      "metadata": {
        "id": "di927G65Ye1J"
      }
    },
    {
      "cell_type": "code",
      "source": [
        "# some basic statement\n",
        "# q here is equialent to the q above\n",
        "q = curve_order\n",
        "\n",
        "# assume we hope to prove '8th Square-Fibonacci number is k'\n",
        "n = 8\n",
        "k = FQ(317754178345286893212434)\n",
        "\n",
        "# according to defination, f(0) = 1, f(1) = 1\n",
        "f_0 = FQ(1)\n",
        "f_1 = FQ(1)"
      ],
      "metadata": {
        "id": "t1-8SzICYley"
      },
      "execution_count": 20,
      "outputs": []
    },
    {
      "cell_type": "markdown",
      "source": [
        "## Step 1: Filling in the Trace Table\n",
        "The trace table is a 2-dimensional matrix where 'witness' or 'trace' is written down, that is (n rows * 5 cols)\n",
        "- 5 columns:\n",
        "    - $A, B, C$: represent witness data / private input, each row lists 3 sequential Sequare-Fibonacci numbers\n",
        "        - e.g. the $i^{th}$ row $(f_i, f_{i+1}, f_{i+2})$ is a witness for $(i+2)^{th}$ Sequare-Fibonacci number\n",
        "    - $S$: represents selector column, indicating a certain mathmatical relation should hold over the element of the row.\n",
        "        - $1$ represents the first 3 elements of the row $(a, b, c)$ must satisfy $c = a^2 + b^2 \\ mod \\ q$\n",
        "        - $0$ represents the condition does not need to be satisfied.\n",
        "    - $P$: represents public inputs, inputs to the circuit that are public known.\n",
        "        - e.g. the first two values of the sequence $f_0, f_1$ and $k$ as the value to be proved\n",
        "- n rows: left a blank row, so that the height of the table becomes $n$, an even power of 2\n",
        "    - $1^{st}$ row: $f_0, f_1, f_2, 1, f_0$\n",
        "    - $2^{nd}$ row: $f_1, f_2, f_3, 1, f_1$\n",
        "    - $3^{rd}$ row: $f_2, f_3, f_4, 1, k$\n",
        "    - ...\n",
        "    - $(n-2)^{th}$ row: $f_{n-2}, f_{n-1}, f_n, 1, \"\" $\n",
        "    - $(n-1)^{th}$ row: $\"\", \"\", \"\", 0, \"\"$\n",
        "\n",
        "Next step is to fill in the trace table: either copy or compute over $F_q$"
      ],
      "metadata": {
        "id": "xTmgCmhGZ8SQ"
      }
    },
    {
      "cell_type": "code",
      "source": [
        "# generate witness/fill in the trace table\n",
        "def witness_generation(f_0, f_1, k, n):\n",
        "\n",
        "    trace_table = []\n",
        "\n",
        "    # init col A, B, C, S\n",
        "    f_a = f_0\n",
        "    f_b = f_1\n",
        "    f_c = f_b\n",
        "    S = FQ(1)\n",
        "    placeholder = FQ(0)\n",
        "\n",
        "    for i in range(n-1):\n",
        "        f_a = f_b\n",
        "        f_b = f_c\n",
        "        f_c = f_a**2 + f_b**2\n",
        "        trace_table.append([f_a, f_b, f_c, S, placeholder])\n",
        "\n",
        "    # add a blank row to get n row\n",
        "    S = FQ(0)\n",
        "    trace_table.append([placeholder, placeholder, placeholder, S, placeholder])\n",
        "\n",
        "    # add public parameters\n",
        "    trace_table[0][4] = f_0\n",
        "    trace_table[1][4] = f_1\n",
        "    trace_table[2][4] = k\n",
        "\n",
        "    return trace_table\n",
        "\n",
        "trace_table = witness_generation(f_0, f_1, k, n)\n",
        "\n",
        "print(f\"trace table is: {trace_table}\")"
      ],
      "metadata": {
        "colab": {
          "base_uri": "https://localhost:8080/"
        },
        "id": "n7QfVLCaZwpy",
        "outputId": "bc4d444a-d819-4edc-a1a7-75349301c882"
      },
      "execution_count": 21,
      "outputs": [
        {
          "output_type": "stream",
          "name": "stdout",
          "text": [
            "trace table is: [[1, 1, 2, 1, 1], [1, 2, 5, 1, 1], [2, 5, 29, 1, 317754178345286893212434], [5, 29, 866, 1, 0], [29, 866, 750797, 1, 0], [866, 750797, 563696885165, 1, 0], [750797, 563696885165, 317754178345286893212434, 1, 0], [0, 0, 0, 0, 0]]\n"
          ]
        }
      ]
    },
    {
      "cell_type": "markdown",
      "source": [
        "## Step 2: Commit to the Trace Table\n",
        "\n",
        "### interpret the trace table columns as polynomials\n",
        "\n",
        "Each column can be considered as a length-$n$ vector of finite field elements $\\rightarrow$ this vector can be regarded as the evaluation form of a polynomial $A(x)$ with degree $(n-1)$: the $i^{th}$ element of $A$ corresponds to the evaluation $A(\\omega^i)$, where $\\omega \\in F_q$ is **$n^{th}$ root of unity** and has order $n$"
      ],
      "metadata": {
        "id": "sZbfYqpXc9ff"
      }
    },
    {
      "cell_type": "code",
      "source": [
        "# inverse trace table and get the evaluation form of column polynomials\n",
        "inverse_trace_table = list(zip(*trace_table))\n",
        "inverse_trace_table"
      ],
      "metadata": {
        "colab": {
          "base_uri": "https://localhost:8080/"
        },
        "id": "a0_IXMd44blc",
        "outputId": "550efed7-a8ef-47f7-d42e-053adc60b234"
      },
      "execution_count": 22,
      "outputs": [
        {
          "output_type": "execute_result",
          "data": {
            "text/plain": [
              "[(1, 1, 2, 5, 29, 866, 750797, 0),\n",
              " (1, 2, 5, 29, 866, 750797, 563696885165, 0),\n",
              " (2, 5, 29, 866, 750797, 563696885165, 317754178345286893212434, 0),\n",
              " (1, 1, 1, 1, 1, 1, 1, 0),\n",
              " (1, 1, 317754178345286893212434, 0, 0, 0, 0, 0)]"
            ]
          },
          "metadata": {},
          "execution_count": 22
        }
      ]
    },
    {
      "cell_type": "markdown",
      "source": [
        "### Commit to column polynomials\n",
        "Now that we have known how to interpret the columns as polynomials, we can commit to each of them using a polynomial commitment scheme."
      ],
      "metadata": {
        "id": "FWMrwxvU7ZuJ"
      }
    },
    {
      "cell_type": "code",
      "source": [
        "com_list = []\n",
        "col_poly_coefs = []\n",
        "for i in range(len(inverse_trace_table)):\n",
        "    col_poly_coef = IFFT(inverse_trace_table[i], p)\n",
        "    col_poly_coefs.append(col_poly_coef)\n",
        "    com = poly_commitment(pk, g1, col_poly_coef)\n",
        "    com_list.append(com)\n",
        "print(com_list)"
      ],
      "metadata": {
        "colab": {
          "base_uri": "https://localhost:8080/"
        },
        "id": "HuTecnM57A0m",
        "outputId": "c93a1739-0593-4469-99b8-8fb0ebbe4bfe"
      },
      "execution_count": 23,
      "outputs": [
        {
          "output_type": "stream",
          "name": "stdout",
          "text": [
            "[(2307159154040568909411228902892145857040518780358010365020284527506998437351829307275257588199113171973139929867167, 2683925305857826639088294353084933537753140135009600843422667209828551698986542607410091916149918452961829501673029), (3293482013260097456805373684702648190845602291441732960247180672651830182640286468738171913772160808832670719747109, 1821470081977977869624959631274008260842315022148971194028324122121385354859420792970576751419148496533777877399366), (1293321581578800103931746816845997978425444554254242862190148407240203557946034445842277247579979467358805569447704, 3475674689198666123514229505921189979489959947390062108350940586267753192625615703542826669277751915738374954553494), (2419900308442263139675115885495422891453439499560076786905960913961251991055770742990133442453602384880793108717894, 3223794919315569795542502174068234973832998554210336612800322216616753286086523802258830124106274480299138772667598), (191545997617149790206161417326702805398075273495143051672208055194709140145700770761143192092315588977177456833691, 1573370362013562870978043602362821861668164895753109069799513181003602166410960210227442992051276611691692264161357)]\n"
          ]
        }
      ]
    },
    {
      "cell_type": "markdown",
      "source": [
        "## Step 3: Proving the Trace Table's Correctness\n",
        "### Define the constraints of the trace table\n",
        "In order to ensure the original trace table to be valid, we should have the following constraints:\n",
        "- Square-Fibonaci constraints:\n",
        "    - each selected row $i$'s first three elements is $(a,b,c)$ must satisfy $c_i = a_i^2 + b_i^2 \\ mod \\ q$\n",
        "- Wiring constraints:\n",
        "    - for consecutive rows with value $[a_i, b_i, c_i]$ and $[a_{i+1}, b_{i+1}, c_{i+1}]$, we require $a_{i+1} = b_i$ and $b_{i+1} = c_i$\n",
        "- Public input constraints:\n",
        "    - the first row must start with the first two Square-Fibonacci numbers: $a_0 = p_0, b_0 = p_1$\n",
        "    - the $n^{th}$ Square-Fibonacci must match the claimed result value: $c_{n-2} = p_2$\n",
        "\n",
        "The above constraints can be represented by one or more relations between the column polynomials. For example, Square-Fibonaci constraints can be expressed as $S(x)·(A(x)^2 + B(x)^2 - C(x))=0, for\\ all\\ x\\in \\{w^0, w^1, ..., w^{n-1}\\}$. For shorten, we will label left-hand side $\\phi_0(x):=S(x)·(A(x)^2 + B(x)^2 - C(x))$  All our constraints can be expressed as $\\phi_i(x) = 0,\\ for\\ all\\ x\\in \\{w^0, w^1, ..., w^{n-1}\\}$"
      ],
      "metadata": {
        "id": "ktHnhk6-8JN5"
      }
    },
    {
      "cell_type": "code",
      "source": [
        "def square_fib_constraint_poly(inverse_trace_table, p):\n",
        "\n",
        "  a_poly_coefs = IFFT(inverse_trace_table[0], p)\n",
        "  b_poly_coefs = IFFT(inverse_trace_table[1], p)\n",
        "  c_poly_coefs = IFFT(inverse_trace_table[2], p)\n",
        "  s_poly_coefs = IFFT(inverse_trace_table[3], p)\n",
        "\n",
        "  # construct a polynomial phi_0(x) = S(x)(A(x)^2+B(x)^2-C(x))\n",
        "  phi_0_coefs = mul_poly(s_poly_coefs,sub_poly(add_poly(mul_poly(a_poly_coefs, a_poly_coefs), mul_poly(b_poly_coefs, b_poly_coefs)),c_poly_coefs))\n",
        "\n",
        "  return phi_0_coefs\n",
        "\n",
        "\n",
        "def mul_poly(poly1_coefs, poly2_coefs):\n",
        "  multiply_poly = [0]*(len(poly1_coefs)+len(poly2_coefs)-1)\n",
        "  for o1,i1 in enumerate(poly1_coefs):\n",
        "    for o2,i2 in enumerate(poly2_coefs):\n",
        "      multiply_poly[o1+o2] += i1*i2\n",
        "  return multiply_poly\n",
        "\n",
        "def add_poly(poly1_coefs, poly2_coefs):\n",
        "\n",
        "  if len(poly1_coefs) >= len(poly2_coefs):\n",
        "    addition_poly = poly1_coefs\n",
        "    min_length = len(poly2_coefs)\n",
        "  else:\n",
        "    addition_poly = poly2_coefs\n",
        "    min_length = len(poly1_coefs)\n",
        "\n",
        "  for i in range(min_length):\n",
        "    addition_poly[i] = poly1_coefs[i] + poly2_coefs[i]\n",
        "\n",
        "  return addition_poly\n",
        "\n",
        "def sub_poly(poly1_coefs, poly2_coefs):\n",
        "\n",
        "  if len(poly1_coefs) >= len(poly2_coefs):\n",
        "    subtraction_poly = poly1_coefs\n",
        "    min_length = len(poly2_coefs)\n",
        "  else:\n",
        "    subtraction_poly = poly2_coefs\n",
        "    min_length = len(poly1_coefs)\n",
        "\n",
        "  for i in range(min_length):\n",
        "    subtraction_poly[i] = poly1_coefs[i] - poly2_coefs[i]\n",
        "\n",
        "  return subtraction_poly\n",
        "\n",
        "square_fib_constraint_poly(inverse_trace_table, p)"
      ],
      "metadata": {
        "colab": {
          "base_uri": "https://localhost:8080/"
        },
        "id": "U-89g8V5Wgzj",
        "outputId": "acaeb724-74e7-4432-b47a-3f5ab6570ae9"
      },
      "execution_count": 24,
      "outputs": [
        {
          "output_type": "execute_result",
          "data": {
            "text/plain": [
              "[9217243683127650670215423136204564307406542431733373805594493117736508689447,\n",
              " 6666845327329705532963430625265951311576613171241245242132100072955433688671,\n",
              " 44267534341411372821110843579994475498172624576994019134899687329660324137538,\n",
              " 27734915317295573979553823553557321860270268471208809659398702095994161952080,\n",
              " 37702370013672502632704303140624342804248711303899845502198214997157027878207,\n",
              " 11583562288821433247490937116774158461617493607772389006562557827980992423716,\n",
              " 19431544404868491752428433057080910022889750308878986243969634670562912518450,\n",
              " 12399440026714068747233115926566936096429177141939361413989904821957360748254,\n",
              " 20041303549030907216090313199445756936739800542200228711060022339667450807871,\n",
              " 1640433480202112741396001466119286110343076964539974284673711265395784145821,\n",
              " 13311292830147122275312324513496984175656020478185536494792425391434485506145,\n",
              " 41059692124944929433452274305014365636083572356756835655701111647528539392349,\n",
              " 48728717689897286205190927357005485693648993298446919893155237785330685590294,\n",
              " 27402860898548515345917794500630774711089260799805750439818123432542050144630,\n",
              " 33004330770257698727019307451105055814800802191648651578634024029375668666063,\n",
              " 40036435148412121732214624581619029741261375358588276408613753877981220436259,\n",
              " 23177327942967632593142004172535644593544209526594035305949143242534621687195,\n",
              " 44128596367594372205088308416800728415770862364746418295797847361587363350021,\n",
              " 47292923178693885862472312922880472001552459945875720015515204678782352725343,\n",
              " 36077142908011877545889383157800244179027264173089630330107503656354461024597,\n",
              " 18440662646682592121000250518742103177483400398708510249853864617389448900525,\n",
              " 13449451987756241886039008890781032664983798092949498376222977439415538616167]"
            ]
          },
          "metadata": {},
          "execution_count": 24
        }
      ]
    },
    {
      "cell_type": "code",
      "source": [
        "# wiring constraints\n",
        "# using Fi_1 to represent a_i+1 = b_i\n",
        "def wiring_constraint_poly(inverse_trace_table, p):\n",
        "\n",
        "  a_poly_coefs = IFFT(list(inverse_trace_table[0][1:])+[FQ(0)], p)\n",
        "  b_poly_coefs = IFFT(inverse_trace_table[1], p)\n",
        "  s_poly_coefs = IFFT(list(inverse_trace_table[3][1:])+[FQ(0)], p)\n",
        "\n",
        "  # construct a polynomial phi_0(x) = S(x+1)(A(x+1)-B(x))\n",
        "  phi_1_coefs = mul_poly(s_poly_coefs, sub_poly(a_poly_coefs, b_poly_coefs))\n",
        "\n",
        "  return phi_1_coefs\n",
        "\n",
        "wiring_constraint_poly(inverse_trace_table, p)"
      ],
      "metadata": {
        "colab": {
          "base_uri": "https://localhost:8080/"
        },
        "id": "o8abY3vODxVS",
        "outputId": "3fc21e72-7457-487a-9d93-b20d820a0ac3"
      },
      "execution_count": 25,
      "outputs": [
        {
          "output_type": "execute_result",
          "data": {
            "text/plain": [
              "[11470347694558854167379193236165680026994808359490420773694550340558718051128,\n",
              " 31658831632200537539783533621391251008881967401427553257134119658570500984004,\n",
              " 9251157176012360485135106648195872832425943262155855154068869944562980101270,\n",
              " 4629573589425733109598056930899130194516745852141088748221668437883354628737,\n",
              " 27092786656927993916917219376235083497636322707752077888330974664656646497822,\n",
              " 16147469831419210761107806895310410948843277724729960615923746116523503448252,\n",
              " 47225732227417011674567510410490426723757052077807989737374736443825102691387,\n",
              " 0,\n",
              " 40965527480567336312068547272020285810695744141037217048909108359379863133385,\n",
              " 20777043542925652939664206886794714828808585099100084565469539041368080200509,\n",
              " 43184717999113829994312633859990093005264609238371782668534788755375601083243,\n",
              " 47806301585700457369849683577286835643173806648386549074381990262055226555776,\n",
              " 25343088518198196562530521131950882340054229792775559934272684035281934686691,\n",
              " 36288405343706979718339933612875554888847274775797677206679912583415077736261,\n",
              " 5210142947709178804880230097695539113933500422719648085228922256113478493126]"
            ]
          },
          "metadata": {},
          "execution_count": 25
        }
      ]
    },
    {
      "cell_type": "code",
      "source": [
        "# wiring constraints\n",
        "# using Fi_2 to represent b_i+1 = c_i\n",
        "def wiring_constraint_poly2(inverse_trace_table, p):\n",
        "\n",
        "  b_poly_coefs = IFFT(list(inverse_trace_table[1][1:])+[FQ(0)], p)\n",
        "  c_poly_coefs = IFFT(inverse_trace_table[2], p)\n",
        "  s_poly_coefs = IFFT(list(inverse_trace_table[3][1:])+[FQ(0)], p)\n",
        "\n",
        "  # construct a polynomial phi_0(x) = S(x+1)(A(x+1)-B(x))\n",
        "  phi_2_coefs = mul_poly(s_poly_coefs, sub_poly(b_poly_coefs, c_poly_coefs))\n",
        "\n",
        "  return phi_2_coefs\n",
        "\n",
        "wiring_constraint_poly2(inverse_trace_table, p)"
      ],
      "metadata": {
        "colab": {
          "base_uri": "https://localhost:8080/"
        },
        "id": "ICxIc7pDuECa",
        "outputId": "6b97540a-5dfd-44a3-a1c5-27c35808930b"
      },
      "execution_count": 26,
      "outputs": [
        {
          "output_type": "execute_result",
          "data": {
            "text/plain": [
              "[36049664182899255954620321599377851513412254844112750973250561136337128325687,\n",
              " 26478744040510257060869321766053525138872800379087851350621017645042397135506,\n",
              " 32410835611437218704466690526562532753646862728670419077503224720809139370953,\n",
              " 11748757413644117521565380048665272397719182982198598038819999551729010043282,\n",
              " 5425566726670899114035402883671431159983196801318069536656707248542603833947,\n",
              " 45997037633194194370717268143927422353966899878804396217539101952889432168702,\n",
              " 37540168226135780995704033570283361978050109689519990765762645485100182660726,\n",
              " 0,\n",
              " 16386210992226934524827418908808114324278297656414886849353097563601452858826,\n",
              " 25957131134615933418578418742132440698817752121439786471982641054896184049007,\n",
              " 20025039563688971774981049981623433084043689771857218745100433979129441813560,\n",
              " 40687117761482072957882360459520693439971369518329039783783659148209571141231,\n",
              " 47010308448455291365412337624514534677707355699209568285946951451395977350566,\n",
              " 6438837541931996108730472364258543483723652621723241605064556747049149015811,\n",
              " 14895706948990409483743706937902603859640442811007647056841013214838398523787]"
            ]
          },
          "metadata": {},
          "execution_count": 26
        }
      ]
    },
    {
      "cell_type": "code",
      "source": [
        "constraints_poly = []\n",
        "\n",
        "# Square-Fibonaci constraints\n",
        "constraints_poly.append(square_fib_constraint_poly(inverse_trace_table, p))\n",
        "\n",
        "# wiring constraints\n",
        "# using Fi_1 to represent a_i+1 = b_i\n",
        "constraints_poly.append(wiring_constraint_poly(inverse_trace_table, p))\n",
        "\n",
        "# using Fi_2 to represent b_i+1 = c_i\n",
        "constraints_poly.append(wiring_constraint_poly2(inverse_trace_table, p))\n",
        "\n",
        "constraints_poly"
      ],
      "metadata": {
        "colab": {
          "base_uri": "https://localhost:8080/"
        },
        "id": "MNjEDi5b8NB7",
        "outputId": "2e928582-e720-4d54-e261-6dbd4a905423"
      },
      "execution_count": 27,
      "outputs": [
        {
          "output_type": "execute_result",
          "data": {
            "text/plain": [
              "[[9217243683127650670215423136204564307406542431733373805594493117736508689447,\n",
              "  6666845327329705532963430625265951311576613171241245242132100072955433688671,\n",
              "  44267534341411372821110843579994475498172624576994019134899687329660324137538,\n",
              "  27734915317295573979553823553557321860270268471208809659398702095994161952080,\n",
              "  37702370013672502632704303140624342804248711303899845502198214997157027878207,\n",
              "  11583562288821433247490937116774158461617493607772389006562557827980992423716,\n",
              "  19431544404868491752428433057080910022889750308878986243969634670562912518450,\n",
              "  12399440026714068747233115926566936096429177141939361413989904821957360748254,\n",
              "  20041303549030907216090313199445756936739800542200228711060022339667450807871,\n",
              "  1640433480202112741396001466119286110343076964539974284673711265395784145821,\n",
              "  13311292830147122275312324513496984175656020478185536494792425391434485506145,\n",
              "  41059692124944929433452274305014365636083572356756835655701111647528539392349,\n",
              "  48728717689897286205190927357005485693648993298446919893155237785330685590294,\n",
              "  27402860898548515345917794500630774711089260799805750439818123432542050144630,\n",
              "  33004330770257698727019307451105055814800802191648651578634024029375668666063,\n",
              "  40036435148412121732214624581619029741261375358588276408613753877981220436259,\n",
              "  23177327942967632593142004172535644593544209526594035305949143242534621687195,\n",
              "  44128596367594372205088308416800728415770862364746418295797847361587363350021,\n",
              "  47292923178693885862472312922880472001552459945875720015515204678782352725343,\n",
              "  36077142908011877545889383157800244179027264173089630330107503656354461024597,\n",
              "  18440662646682592121000250518742103177483400398708510249853864617389448900525,\n",
              "  13449451987756241886039008890781032664983798092949498376222977439415538616167],\n",
              " [11470347694558854167379193236165680026994808359490420773694550340558718051128,\n",
              "  31658831632200537539783533621391251008881967401427553257134119658570500984004,\n",
              "  9251157176012360485135106648195872832425943262155855154068869944562980101270,\n",
              "  4629573589425733109598056930899130194516745852141088748221668437883354628737,\n",
              "  27092786656927993916917219376235083497636322707752077888330974664656646497822,\n",
              "  16147469831419210761107806895310410948843277724729960615923746116523503448252,\n",
              "  47225732227417011674567510410490426723757052077807989737374736443825102691387,\n",
              "  0,\n",
              "  40965527480567336312068547272020285810695744141037217048909108359379863133385,\n",
              "  20777043542925652939664206886794714828808585099100084565469539041368080200509,\n",
              "  43184717999113829994312633859990093005264609238371782668534788755375601083243,\n",
              "  47806301585700457369849683577286835643173806648386549074381990262055226555776,\n",
              "  25343088518198196562530521131950882340054229792775559934272684035281934686691,\n",
              "  36288405343706979718339933612875554888847274775797677206679912583415077736261,\n",
              "  5210142947709178804880230097695539113933500422719648085228922256113478493126],\n",
              " [36049664182899255954620321599377851513412254844112750973250561136337128325687,\n",
              "  26478744040510257060869321766053525138872800379087851350621017645042397135506,\n",
              "  32410835611437218704466690526562532753646862728670419077503224720809139370953,\n",
              "  11748757413644117521565380048665272397719182982198598038819999551729010043282,\n",
              "  5425566726670899114035402883671431159983196801318069536656707248542603833947,\n",
              "  45997037633194194370717268143927422353966899878804396217539101952889432168702,\n",
              "  37540168226135780995704033570283361978050109689519990765762645485100182660726,\n",
              "  0,\n",
              "  16386210992226934524827418908808114324278297656414886849353097563601452858826,\n",
              "  25957131134615933418578418742132440698817752121439786471982641054896184049007,\n",
              "  20025039563688971774981049981623433084043689771857218745100433979129441813560,\n",
              "  40687117761482072957882360459520693439971369518329039783783659148209571141231,\n",
              "  47010308448455291365412337624514534677707355699209568285946951451395977350566,\n",
              "  6438837541931996108730472364258543483723652621723241605064556747049149015811,\n",
              "  14895706948990409483743706937902603859640442811007647056841013214838398523787]]"
            ]
          },
          "metadata": {},
          "execution_count": 27
        }
      ]
    },
    {
      "cell_type": "markdown",
      "source": [
        "### Combine constraints\n",
        "\n",
        "- **Naive way to proof the contraints**\n",
        "\n",
        "    In general, we have $m$ constraint polynomials $\\phi_0(x), \\phi_1(x), ..., \\phi_{m-1}(x)$. Sample a random field element $\\gamma \\in F_q$, and then take a random linear combination of the individual constraints:$$\\phi(x) := \\gamma^0·\\phi_0(x) + \\gamma^1·\\phi_1(x)+...+\\gamma^{m-1}·\\phi_{m-1}(x)$$\n",
        "    and we need the constraints satisfied at every row, that is $\\phi(\\omega^i) = 0 \\ for \\ all\\ 0\\le i <n$, in this case we need $n$ evaluation proofs\n",
        "\n",
        "\n",
        "- **Using quotient polynomial**\n",
        "\n",
        "    we can prove such constraint $\\phi(x)$ using only one evaluation proof:\n",
        "    - quotient polynomial:\n",
        "        \\begin{aligned}\n",
        "        \\phi(\\omega^i) = 0 \\ for \\ all\\ 0\\le i <n\\ &{\\Leftrightarrow}\\ (x-\\omega^i)|\\phi(x)\\ for \\ all\\ 0\\le i<n\\\\\n",
        "        &{\\Leftrightarrow}\\ \\prod^{n-1}_{i=0}(x-\\omega^i)|\\phi(x)\\ for \\ all\\ 0\\le i <n\\\\\n",
        "        &{\\Leftrightarrow}\\ (x^n-1)|\\phi(x)\\\\\n",
        "        &{\\Leftrightarrow}\\ \\exists Q(x)\\ s.t.\\phi(x)=Q(x)·(x^n-1)\n",
        "        \\end{aligned}\n",
        "      now we just need to prove there exists a polynomial $Q(x)$\n",
        "    - compute the quotient polynomial:\n",
        "        $$\n",
        "        Q(x):= {\\phi(x) \\over {x^n-1}} = {{\\gamma^0·\\phi_0(x) + \\gamma^1·\\phi_1(x)+...+\\gamma^{m-1}·\\phi_{m-1}(x)} \\over {x^n-1}}\n",
        "        $$\n",
        "      degree of $Q(x)$ is $2n-3$, so we need at least $2n-2$ evaluation points to represent it\n",
        "      \n",
        "      we make it a round number and use $2n$ evaluation points, our previous evaluation domain do not work anymore, because the order of $\\omega$ is only $n$. We therefore need to pick some other element $\\beta \\in F_q$ with order $2n$. Then we evaluate $Q(x)$ over the evaluation domain $\\{\\beta^0, \\beta^1,...,\\beta^{2n-1}\\}$"
      ],
      "metadata": {
        "id": "rCI92e9h8agH"
      }
    },
    {
      "cell_type": "code",
      "source": [
        "# define Phi(x)\n",
        "def Phi(constraints_poly, n, p):\n",
        "  # randomly gerenate gamma in F_p\n",
        "  gamma_list = []\n",
        "  Phi_poly_coefs = [0] * n\n",
        "\n",
        "  for i in range(len(constraints_poly)):\n",
        "      gamma = FQ(random.randint(0, p))\n",
        "      gamma_list.append(gamma)\n",
        "      phi_i = [gamma * constraints_poly[i][j] for j in range(len(constraints_poly[i]))]\n",
        "      Phi_poly_coefs = add_poly(phi_i, Phi_poly_coefs)\n",
        "\n",
        "  return Phi_poly_coefs, gamma_list\n",
        "\n",
        "Phi_poly_coefs, gamma_list = Phi(constraints_poly, len(constraints_poly[0]), p)\n",
        "print(f'the combination of contraints is {Phi_poly_coefs}')\n",
        "print(f'the ramdom generated list of gamma is {gamma_list}')"
      ],
      "metadata": {
        "colab": {
          "base_uri": "https://localhost:8080/"
        },
        "id": "7LNQLL0THUJK",
        "outputId": "a0522b4e-c40b-4556-c8f1-4d7201941242"
      },
      "execution_count": 28,
      "outputs": [
        {
          "output_type": "stream",
          "name": "stdout",
          "text": [
            "the combination of contraints is [519995836690240634103880661333640138066485859381822666885119514291780995286, 25496475147381924792196934333513768827802154386201595119487714728805403625492, 28715305596602092172167018078253418977638473454592581647381684112477896097786, 1365921097234892215969681626733228772549702694016562102035965045273949707755, 30696131141730217885907439861841237711785657350851990672479596897582677655400, 2380701770934730876619368416879596749337296441049480865218838261154066161716, 8636564511174624851699491758885756170452475394970429416179896558104050048945, 8132268166320032600996470808689192570661923594654560774038409165509871238318, 19123873602309478329555939980688291773009790407598475790292995522220634056255, 17436820381864156207190849369005198250663182220610321106800448568702102531766, 42363720343758486217033388222411608960548670785472393667193382728081564647147, 13549103083127192581133995134256320095145305094147539192831109912058941300987, 15751092327412736300602246093056644952787455031195992744172188443964318884299, 51896357683448510839559115284865457881347181385983695341320091986454225089253, 43799310663951565627748248749300209667238077105557208406423762141834531135568, 44303607008806157878451269699496773267028628905873077048565249534428709946195, 32792005736126471515787919866164033926614276233547339365425543663426166132972, 9502579645880109480059956805666998759225215893715721596315495402431075027255, 33792724409891802569695074715706903737193960760990300330632250559317701624093, 37520850994764105682344063747196416969995544712363536527736583742605690175771, 5988651705983236292938054553288083173117440118479654405951873358391584644814, 50594690895869139242716997314626877044696627174022099438668387152268871118057]\n",
            "the ramdom generated list of gamma is [45794618988055935048892064302738136424231087410491636809233675281489673274678, 14510293513126678771845139677400466526304525428921991086174949062378812075814, 44041765816459348864628170345205753253893970000944662504929760850152059469514]\n"
          ]
        }
      ]
    },
    {
      "cell_type": "code",
      "source": [
        "def Quotient_poly(Phi_poly_coefs, n, p):\n",
        "  '''Args:\n",
        "  a: randomly sampled field element\n",
        "  b: evaluation on a\n",
        "  poly_evals: input of poly need to be in evaluation form\n",
        "\n",
        "  Returns:\n",
        "  Q_poly_evals: q poly in evaluation form\n",
        "  '''\n",
        "  Q_poly_evals = []\n",
        "\n",
        "  omega = find_nth_root_of_unity_realnum(2*n, p)\n",
        "\n",
        "  for i in range(2*n):\n",
        "\n",
        "    Phi_poly_eval = evaluation_poly(omega**i, Phi_poly_coefs)\n",
        "    Q_poly_evals.append(Phi_poly_eval/((omega**i)**n-FQ(1)))\n",
        "\n",
        "  return Q_poly_evals\n",
        "\n",
        "Q_poly_evals = Quotient_poly(Phi_poly_coefs, n, p)\n",
        "print(f'quotient polynomial in evaluation form is {Q_poly_evals}')"
      ],
      "metadata": {
        "colab": {
          "base_uri": "https://localhost:8080/"
        },
        "id": "4WW1THT_IOsj",
        "outputId": "a6ad98dd-958a-4de3-d33a-926019fecfe6"
      },
      "execution_count": 29,
      "outputs": [
        {
          "output_type": "stream",
          "name": "stdout",
          "text": [
            "quotient polynomial in evaluation form is [0, 8231435731486340471051748102571940041365963049365051065948841119779563159473, 0, 4482085480686379382016775985332903504933382189302356843353365864979346231162, 0, 8912788121487567035348612355011332260020864995183029311932181009185731503079, 0, 2052508922924139802603964055274298287239712574442333387322563355192359775501, 0, 14639893252051840520481037387059965669674451136239579915636618729370164420442, 0, 20145060115059820073131643297211289156347061973007030190634954732456747234547, 0, 34219074383043581318865431457291700502332891604038316256277912229641223531942, 0, 7872267636609967553500566697566938924473443238682471528633868437221355409381]\n"
          ]
        }
      ]
    },
    {
      "cell_type": "markdown",
      "source": [
        "### Committing to the quotient polynomial\n",
        "Now we have get the evaluation form of $Q(x)$, we can compute its commitment. Note, degree of $Q(x)$ is larger than the column polynomials, so it requires a larger KZG setup"
      ],
      "metadata": {
        "id": "66SFCFtF8jsh"
      }
    },
    {
      "cell_type": "code",
      "source": [
        "Q_poly_coefs = IFFT(Q_poly_evals, p)\n",
        "Q_poly_coefs"
      ],
      "metadata": {
        "colab": {
          "base_uri": "https://localhost:8080/"
        },
        "id": "EXeFCX1AtJI9",
        "outputId": "fd8acbd9-ecb8-4554-ee33-67ae5cee4509"
      },
      "execution_count": 30,
      "outputs": [
        {
          "output_type": "execute_result",
          "data": {
            "text/plain": [
              "[35779874388717834404501840244437128805350171454063056806448327111079607620384,\n",
              " 8718410190932078103595424684502599125331591110305160553400224284351051265883,\n",
              " 47399797759442338348240564365298787399119611643000015744898520714010072915830,\n",
              " 32992489129126691530290867821221142966417928797337588507717384305998761242750,\n",
              " 34093483751269463390024993300621305395239003765861815283387923571951450034406,\n",
              " 52166116429287350659503427896525711859518866943255666581961875343196403136883,\n",
              " 21899655331975782813874124374650104833619038552778604203211881070917265567784,\n",
              " 48369741091966174178949505103841369552359590703200357435584454117183645565354,\n",
              " 16656000786408356074945900263748837032340381046464581016155331588858973564129,\n",
              " 43717464984194112375852315823683366712358961390222477269203434415587529918630,\n",
              " 5036077415683852131207176142887178438570940857527622077705137985928508268683,\n",
              " 19443386045999498949156872686964822871272623703190049314886274393939819941763,\n",
              " 18342391423856727089422747207564660442451548734665822539215735127987131150107,\n",
              " 269758745838839819944312611660253978171685557271971240641783356742178047630,\n",
              " 30536219843150407665573616133535861004071513947749033619391777629021315616729,\n",
              " 4066134083160016300498235404344596285330961797327280387019204582754935619159]"
            ]
          },
          "metadata": {},
          "execution_count": 30
        }
      ]
    },
    {
      "cell_type": "code",
      "source": [
        "Q_com = poly_commitment(pk, g1, Q_poly_coefs)\n",
        "print(f'commitment of polynomial is {Q_com}')"
      ],
      "metadata": {
        "colab": {
          "base_uri": "https://localhost:8080/"
        },
        "id": "yrq0Ai998iPX",
        "outputId": "ffb6dfc6-d844-4f22-abb0-67a5d68d1de7"
      },
      "execution_count": 31,
      "outputs": [
        {
          "output_type": "stream",
          "name": "stdout",
          "text": [
            "commitment of polynomial is (871120967902704666220363513284612666757033668801943226106690508948542973435836858607002341484257129858007429502141, 710965719919593128789141539957106105560544514970484654509052741957129781632969188428187535935380055786588303418509)\n"
          ]
        }
      ]
    },
    {
      "cell_type": "markdown",
      "source": [
        "### Proving an Evaluation\n",
        "Now we have committed all column polynomials from the trace table and have also committed to the quotient polynomial. Now the prover needs to demonstrate the quotient polynimial really exist and it was computed correctly.\n",
        "\n",
        "This can be achieve through the following steps:\n",
        "1. sample a random point $\\alpha \\in F_q$\n",
        "2. generate and output KZG proofs for all column polynimials and the quotient polynomials at point $\\alpha$ $$ Q(\\alpha):= {\\phi(\\alpha) \\over {\\alpha^n-1}} = {{\\gamma^0·\\phi_0(\\alpha) + \\gamma^1·\\phi_1(\\alpha)+...+\\gamma^{m-1}·\\phi_{m-1}(\\alpha)} \\over {\\alpha^n-1}}$$\n",
        "$\\alpha$ is sampled at random, so the property holds at $\\alpha$, then it holds everywhere"
      ],
      "metadata": {
        "id": "c70-M8kH8pzg"
      }
    },
    {
      "cell_type": "code",
      "source": [
        "# Verifier first choose the random point a\n",
        "a = FQ(random.randint(0, p))\n",
        "print(f'random point a is {a}')\n",
        "\n",
        "# calculate evaluation for all polynomials, and proof of the evaluation pi\n",
        "## for column polynomials\n",
        "col_evaluation = []\n",
        "col_q_poly_evals = []\n",
        "col_pi = []\n",
        "for poly_coef in col_poly_coefs:\n",
        "    # compute evaluation at a\n",
        "    b = evaluation_poly(a, poly_coef)\n",
        "    col_evaluation.append(b)\n",
        "    # compute q(x)\n",
        "    poly_eval = FFT(poly_coef, p)\n",
        "    q_poly_evals = quotient_poly(a, b, poly_eval, p)\n",
        "    col_q_poly_evals.append(q_poly_evals)\n",
        "    # compute proof of the evaluation pi\n",
        "    q_poly_coef = IFFT(q_poly_evals, p)\n",
        "    pi = poly_commitment(pk, g1,  q_poly_coef)\n",
        "    col_pi.append(pi)\n",
        "print(f'evalutions for column polynomials are {col_evaluation}, and proof of evaluations are {col_pi}')\n",
        "\n",
        "## for quotient polynomials\n",
        "# compute evaluation at a\n",
        "Q_evaluation = evaluation_poly(a, Q_poly_coefs)\n",
        "# compute q(x)\n",
        "Q_q_poly_eval = quotient_poly(a, Q_evaluation, Q_poly_evals, p)\n",
        "# compute proof of the evaluation pi\n",
        "Q_q_poly_coef = IFFT(Q_q_poly_eval, p)\n",
        "Q_pi = poly_commitment(pk, g1, Q_q_poly_coef)\n",
        "print(f'evaluation for quotient polynomial is {Q_evaluation},and proof of evaluations are {Q_pi}')"
      ],
      "metadata": {
        "colab": {
          "base_uri": "https://localhost:8080/"
        },
        "id": "ABDq93Si8sV3",
        "outputId": "4cc2381c-ac68-40d7-bef7-d9ac6136d3c5"
      },
      "execution_count": 32,
      "outputs": [
        {
          "output_type": "stream",
          "name": "stdout",
          "text": [
            "random point a is 28586676819331591789016301006073149835957332231713141543743323436203368581497\n",
            "evalutions for column polynomials are [22917849503879836361739413480057959208382713934276593046217568075260123235371, 7867708355382249721560731093429114116836278158266897258224825559346909178035, 1019571242214072688776986709407887304954666658076675088447955654257330445738, 37545219354152755795744734131144318439840020988964859006830047453853889168080, 17854884005351557187736846768234706800651751917034771303413990793771729618336], and proof of evaluations are [(3508032553524116272950125484761740243572239918520456878310347780613776735143384221929695016054049557748139823575415, 1189175241784445229596703282249061522365866510222027218255564077047021615604485604927175195600409017867060271249693), (2887817808143235953337031237578884788005533001033071036155157387831926659823987856255932326546900951062196515617678, 2275683752643868335040847061797450416313431774592529805980298104245044596401486660285098990677573487190949878438502), (3502160259343826607326943977622558517834767270441035366770793451583840862834908422896587811716039928913896495557565, 239961207140138405171116923980211307603269662665908849927665157103897960124709858664887805722815126278350964629735), (260336574139852840311932100047362359750912836581209271212799913682296965891114666880598626208001110244094040424719, 3790908522111174527024816599350455031180497098162577810645150926210057181640652229600351604422188135647927568176696), (900244719893520437575696877263210832268273086601940491240821611878504397940180652724284813778326205820474312359781, 3347505789497158179848589696528350189611317871802578833256764388545707288039530485596959527172042293147438208312031)]\n",
            "evaluation for quotient polynomial is 33957839387008865583158266889767090954133504014999501826306677332438775032259,and proof of evaluations are (3677854142480876713618841316770755858414570580469216658179766692054463722780956614068990222628243229571578301207626, 3905492267896947376163175135245549978149193109616477734482223219076779354754652158103536011404114896031911636119241)\n"
          ]
        }
      ]
    },
    {
      "cell_type": "markdown",
      "source": [
        "### Verifying the quotient polynomial\n",
        "the verifier need to check two things:\n",
        "1. each evaluation proof is correct\n",
        "2. the quotient polynomial holds at point $\\alpha$"
      ],
      "metadata": {
        "id": "ZZwFn_Sd8_Jf"
      }
    },
    {
      "cell_type": "code",
      "source": [
        "# verify each evaluation proof is correct\n",
        "for i in range(len(com_list)):\n",
        "    # print(f'verification result of column {i} : {evaluation_verification(com_list[i], col_evaluation[i], a, col_pi[i], g1, g2, vk)}')\n",
        "    print(f'verification result of column {i} : {pairing(g2, add(com_list[i], neg(multiply(g1, int(col_evaluation[i]))))) == pairing(add(vk, neg(multiply(g2, int(a)))), col_pi[i])}')\n",
        "\n",
        "# verify the quotient polynomial holds at point a\n",
        "# assert GT.pairing(Q_com - g1*Scalar(Q_evaluation), g2) == GT.pairing(Q_pi, vk - g2*Scalar(a))\n",
        "# print(f'verification result:{evaluation_verification(Q_com, Q_evaluation, a, Q_pi, g1, g2, vk)}')\n",
        "print(f'verification result of quotient polynomial: {pairing(g2, add(Q_com, neg(multiply(g1, int(Q_evaluation))))) == pairing(add(vk, neg(multiply(g2, int(a)))), Q_pi)}')"
      ],
      "metadata": {
        "colab": {
          "base_uri": "https://localhost:8080/"
        },
        "id": "hgCnWd629BN9",
        "outputId": "25f7362a-dd1b-4071-c662-c630d94a332a"
      },
      "execution_count": 33,
      "outputs": [
        {
          "output_type": "stream",
          "name": "stdout",
          "text": [
            "verification result of column 0 : True\n",
            "verification result of column 1 : True\n",
            "verification result of column 2 : True\n",
            "verification result of column 3 : True\n",
            "verification result of column 4 : True\n",
            "verification result of quotient polynomial: True\n"
          ]
        }
      ]
    }
  ]
}