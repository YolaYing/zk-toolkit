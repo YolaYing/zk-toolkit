{
  "nbformat": 4,
  "nbformat_minor": 0,
  "metadata": {
    "colab": {
      "provenance": [],
      "authorship_tag": "ABX9TyO2TlS9Fkli44oJ6ZSSy8/4",
      "include_colab_link": true
    },
    "kernelspec": {
      "name": "python3",
      "display_name": "Python 3"
    },
    "language_info": {
      "name": "python"
    }
  },
  "cells": [
    {
      "cell_type": "markdown",
      "metadata": {
        "id": "view-in-github",
        "colab_type": "text"
      },
      "source": [
        "<a href=\"https://colab.research.google.com/github/YolaYing/zk-toolkit/blob/main/Plonk%2BKZG_Implementation(Python_Version).ipynb\" target=\"_parent\"><img src=\"https://colab.research.google.com/assets/colab-badge.svg\" alt=\"Open In Colab\"/></a>"
      ]
    },
    {
      "cell_type": "markdown",
      "source": [
        "# Develope Environment Preparation\n",
        "Curve we used is BLS12-381\n",
        "- Library we used: BLS21-381 curve implemented by Ethereum, using Python\n",
        "- Lib link: https://github.com/ethereum/py_ecc/tree/main\n",
        "\n",
        "You can use the following command to install all the packages we needed. Note that if you are using anaconda, package installation may be failed. Highly recommand using colab or some development friendly environment."
      ],
      "metadata": {
        "id": "XDSUSR7mEtlN"
      }
    },
    {
      "cell_type": "code",
      "execution_count": 57,
      "metadata": {
        "colab": {
          "base_uri": "https://localhost:8080/"
        },
        "id": "FDe0iCZyEKD3",
        "outputId": "54864332-1270-4698-f359-9ce041fe63e2"
      },
      "outputs": [
        {
          "output_type": "stream",
          "name": "stdout",
          "text": [
            "Requirement already satisfied: py_ecc in /usr/local/lib/python3.10/dist-packages (7.0.0)\n",
            "Requirement already satisfied: eth-typing>=3.0.0 in /usr/local/lib/python3.10/dist-packages (from py_ecc) (3.5.2)\n",
            "Requirement already satisfied: eth-utils>=2.0.0 in /usr/local/lib/python3.10/dist-packages (from py_ecc) (2.3.1)\n",
            "Requirement already satisfied: cached-property>=1.5.1 in /usr/local/lib/python3.10/dist-packages (from py_ecc) (1.5.2)\n",
            "Requirement already satisfied: typing-extensions>=4.0.1 in /usr/local/lib/python3.10/dist-packages (from eth-typing>=3.0.0->py_ecc) (4.5.0)\n",
            "Requirement already satisfied: eth-hash>=0.3.1 in /usr/local/lib/python3.10/dist-packages (from eth-utils>=2.0.0->py_ecc) (0.5.2)\n",
            "Requirement already satisfied: cytoolz>=0.10.1 in /usr/local/lib/python3.10/dist-packages (from eth-utils>=2.0.0->py_ecc) (0.12.2)\n",
            "Requirement already satisfied: toolz>=0.8.0 in /usr/local/lib/python3.10/dist-packages (from cytoolz>=0.10.1->eth-utils>=2.0.0->py_ecc) (0.12.0)\n"
          ]
        }
      ],
      "source": [
        "!pip3 install py_ecc"
      ]
    },
    {
      "cell_type": "markdown",
      "source": [
        "# Preliminaries\n"
      ],
      "metadata": {
        "id": "F8XQWxyrf_a9"
      }
    },
    {
      "cell_type": "markdown",
      "source": [
        "## Form of Polynomial Representations\n",
        "\n",
        "A polynomial $\\Phi(x) = \\sum_{i = 0}^{n - 1} \\phi_ix^i$ have two representation forms:\n",
        "1. Coefficient Form\n",
        "  - $\\Phi(x)$ can be represeneted as a tuple of $n$ coefficients: $[\\phi_0, \\phi_1, ..., \\phi_{n-1}]$\n",
        "2. Evaluation Form\n",
        "  - $\\Phi(x)$ can be represeneted as a tuple of $n$ distinct evaluations: $[\\Phi(x_0), \\Phi(x_1), ..., \\Phi(x_{n-1})]$\n",
        "    - the set of values $\\\\{ x_0, x_1, ..., x_{n-1} \\\\}$ over which the polynomial is defined over is known as \"evaluation domain\""
      ],
      "metadata": {
        "id": "V_bza7lHgToL"
      }
    },
    {
      "cell_type": "code",
      "source": [
        "# For example, assume we have a polynomial Φ(𝑥)=4x^3+5x^2+3x+2 and some points on the polynomials\n",
        "poly_coefs = [2, 3, 5, 4]\n",
        "evaluation_domain = [1, 4, 16, 13]\n",
        "poly_evals = [14, 10, 0, 1]\n",
        "\n",
        "print(f'coefficient form of phi(x) is {poly_coefs}')\n",
        "print(f'evaluation form of phi(x) is {poly_evals}, defined over evaluation domain {evaluation_domain}')"
      ],
      "metadata": {
        "colab": {
          "base_uri": "https://localhost:8080/"
        },
        "id": "5cPrvhiMkGQo",
        "outputId": "fb4d440e-aaaa-4130-e141-6e6b3852e2e2"
      },
      "execution_count": 58,
      "outputs": [
        {
          "output_type": "stream",
          "name": "stdout",
          "text": [
            "coefficient form of phi(x) is [2, 3, 5, 4]\n",
            "evaluation form of phi(x) is [14, 10, 0, 1], defined over evaluation domain [1, 4, 16, 13]\n"
          ]
        }
      ]
    },
    {
      "cell_type": "markdown",
      "source": [
        "## Convert between Coefficient Form and Evaluation Form\n",
        "\n",
        "### Defination\n",
        "- **Fourier Transform**: convert from coefficient to evaluation\n",
        "- **inverse Fourier Transform**: convert from evaluation to coefficient\n",
        "\n",
        "\n",
        "### Naive Way\n",
        "In naive way, each of those two transformation takes $O(n^2)$ computation\n",
        "- **Fourier Transform**: evaluate $\\Phi(x)$ at each $x_i$ in the evaluation domain\n",
        "- **inverse Fourier Transform**: use *Lagrange Interpolation* to obtain unique degree $(n-1)$ polynomial passes through each of the $n$ points\n",
        "\n",
        "\n",
        "### Optimized Way: Fast Fourier Transformation(FFT)\n",
        "To improve the effectiveness of the transformation, we need to do the following steps:\n",
        "- defined polynomials over finite field\n",
        "  - restrict each coefficient $p_i \\in F_q$ and each evaluation point $\\Phi(x_i) \\in F_q$\n",
        "- defined the evaluation domain as a multiplicative subgroup of $F_q$\n",
        "  - evaluation domain is a set of \"$n^{th}$ roots of unity\", $\\{ \\omega_0, \\omega_1, ..., \\omega_{n-1} \\}$ for some element $\\omega \\in F_q$ with order $n$(i.e. $\\omega^n = 1$ mod $q$)\n",
        "- implementation of FFT algorithm\n",
        "  - if you are not familiar with FFT, highly recommend this video: https://www.youtube.com/watch?v=h7apO7q16V0"
      ],
      "metadata": {
        "id": "gLEGo27ZlBNe"
      }
    },
    {
      "cell_type": "code",
      "source": [
        "import random\n",
        "\n",
        "def FFT(poly_coefs, q):\n",
        "  '''\n",
        "  Args:\n",
        "  poly_coefs: coefficient representation of the polynomial\n",
        "\n",
        "  Returns:\n",
        "  y: evaluation form of the polynomial\n",
        "  '''\n",
        "  # get the degree of the polynomial\n",
        "  n = len(poly_coefs)\n",
        "  if n == 1:\n",
        "    return poly_coefs\n",
        "\n",
        "  # in theory, omega should be the nth root of unity, which is a complex number\n",
        "  # to use it in finite field, we use a algorithm here\n",
        "  omega = find_nth_root_of_unity(n, q)\n",
        "  print(f'{n}^th of unity is {omega}')\n",
        "  poly_coefs_e = poly_coefs[::2]\n",
        "  poly_coefs_o = poly_coefs[1::2]\n",
        "  y_e = FFT(poly_coefs_e, q)\n",
        "  y_o = FFT(poly_coefs_o, q)\n",
        "  y = [0] * n\n",
        "  for j in range(int(n/2)):\n",
        "    y[j] = int(y_e[j] + (omega**j)*y_o[j]) % q\n",
        "    y[j + int(n/2)] = int(y_e[j] - (omega**j)*y_o[j]) % q\n",
        "  return y\n",
        "\n",
        "def find_nth_root_of_unity(n, q):\n",
        "  '''\n",
        "  Args:\n",
        "  n: nth root of unity, which is the degree of polynomial\n",
        "  q: finite field q\n",
        "\n",
        "  Returns:\n",
        "  omega: the nth root of unity, which is a element in finite field\n",
        "  '''\n",
        "  omega = 1\n",
        "  while(omega**(n/2) == 1 and omega != 0):\n",
        "    x = random.randint(0, q)\n",
        "    omega = x**((q-1)/n) % q\n",
        "  return omega\n",
        "\n",
        "print(f'coefficient form of phi(x) is {poly_coefs}, after FFT, we can get the evaluation form of phi(x) is {FFT(poly_coefs, 17)}')"
      ],
      "metadata": {
        "colab": {
          "base_uri": "https://localhost:8080/"
        },
        "id": "uUFr9iQO4G7v",
        "outputId": "586c6601-630d-478c-bc5c-14e10a7ae958"
      },
      "execution_count": 59,
      "outputs": [
        {
          "output_type": "stream",
          "name": "stdout",
          "text": [
            "4^th of unity is 13.0\n",
            "2^th of unity is 16.0\n",
            "2^th of unity is 16.0\n",
            "coefficient form of phi(x) is [2, 3, 5, 4], after FFT, we can get the evaluation form of phi(x) is [14, 1, 0, 10]\n"
          ]
        }
      ]
    },
    {
      "cell_type": "code",
      "source": [
        "# verification of FFT result\n",
        "omega = 13\n",
        "q = 17\n",
        "for i in range(len(poly_coefs)):\n",
        "    x = omega**i % q\n",
        "    print(f'x = {x}, poly(x) = {(4*(x**3)+5*(x**2)+3*x+2) % q}')"
      ],
      "metadata": {
        "colab": {
          "base_uri": "https://localhost:8080/"
        },
        "id": "YFE5EEwYJ-7l",
        "outputId": "4a0428f2-f895-4ca9-85a2-15256755abd6"
      },
      "execution_count": 60,
      "outputs": [
        {
          "output_type": "stream",
          "name": "stdout",
          "text": [
            "x = 1, poly(x) = 14\n",
            "x = 13, poly(x) = 1\n",
            "x = 16, poly(x) = 0\n",
            "x = 4, poly(x) = 10\n"
          ]
        }
      ]
    },
    {
      "cell_type": "markdown",
      "source": [
        "Because the calculation of finding evaluation domain is a repeated and computation intensive step, so usually we just build a lookup table to store the pre-calculated result. Here we just slightly revise FFT algorithm to meet the lookup needs."
      ],
      "metadata": {
        "id": "NiwOdwl7qZ-u"
      }
    },
    {
      "cell_type": "code",
      "source": [
        "# omega generation can be quite computational intensive, so we tend to pre-calculate the lookup table for omega\n",
        "# we assume n = 8, and we have a multiplication cyclic group with ord = 8, which is [1,2,4,8,16,15,13,9] with 2 as its generator and 17 as module\n",
        "\n",
        "# create a lookup table\n",
        "n_max = 8\n",
        "q = 17\n",
        "omega_list = [1,2,4,8,16,15,13,9]\n",
        "\n",
        "def build_lookup_table(n, omega_list):\n",
        "  lookup = {}\n",
        "  lookup[n] = omega_list\n",
        "  while n > 2:\n",
        "    n = int(n/2)\n",
        "    omega_list = omega_list[::2]\n",
        "    lookup[n] = omega_list\n",
        "  return lookup\n",
        "\n",
        "lookup  = build_lookup_table(n_max, omega_list)\n",
        "print(f'lookup table of list of omega is {lookup}')"
      ],
      "metadata": {
        "colab": {
          "base_uri": "https://localhost:8080/"
        },
        "id": "Djcz086abXKe",
        "outputId": "f108529f-48d1-4c0f-e120-82d169459450"
      },
      "execution_count": 61,
      "outputs": [
        {
          "output_type": "stream",
          "name": "stdout",
          "text": [
            "lookup table of list of omega is {8: [1, 2, 4, 8, 16, 15, 13, 9], 4: [1, 4, 16, 13], 2: [1, 16]}\n"
          ]
        }
      ]
    },
    {
      "cell_type": "code",
      "source": [
        "# revise FFT using omega lookup table\n",
        "def FFT_using_exist_omega(poly_coefs, q, lookup):\n",
        "  '''\n",
        "  Args:\n",
        "  poly_coefs: coefficient representation of the polynomial\n",
        "  lookup: pre-determined omega list\n",
        "\n",
        "  Returns:\n",
        "  y: evaluation form of the polynomial\n",
        "  '''\n",
        "  # get the degree of the polynomial\n",
        "  n = len(poly_coefs)\n",
        "  if n == 1:\n",
        "    return poly_coefs\n",
        "\n",
        "  # in theory, omega should be the nth root of unity, which is a complex number\n",
        "  # to use it in finite field, we use a algorithm here\n",
        "  omega = lookup[n][1]\n",
        "  # print(f'n = {n}, omega = {omega}')\n",
        "  poly_coefs_e = poly_coefs[::2]\n",
        "  poly_coefs_o = poly_coefs[1::2]\n",
        "  y_e = FFT_using_exist_omega(poly_coefs_e, q, lookup)\n",
        "  y_o = FFT_using_exist_omega(poly_coefs_o, q, lookup)\n",
        "  y = [0] * n\n",
        "  for j in range(int(n/2)):\n",
        "    y[j] = int(y_e[j] + (omega**j)*y_o[j]) % q\n",
        "    y[j + int(n/2)] = int(y_e[j] - (omega**j)*y_o[j]) % q\n",
        "  return y\n",
        "\n",
        "print(f'coefficient form of phi(x) is {poly_coefs}, after FFT(use exist omega lookup table), we can get the evaluation form of phi(x) is {FFT_using_exist_omega(poly_coefs, q, lookup)}')"
      ],
      "metadata": {
        "colab": {
          "base_uri": "https://localhost:8080/"
        },
        "id": "YSTh_jgY67Vj",
        "outputId": "8b0b86bb-9851-4ceb-e325-6e1e7e7c6ad3"
      },
      "execution_count": 62,
      "outputs": [
        {
          "output_type": "stream",
          "name": "stdout",
          "text": [
            "coefficient form of phi(x) is [2, 3, 5, 4], after FFT(use exist omega lookup table), we can get the evaluation form of phi(x) is [14, 10, 0, 1]\n"
          ]
        }
      ]
    },
    {
      "cell_type": "markdown",
      "source": [
        "### Inverse Fast Fourier Transformation(IFFT)\n",
        "We have used FFT to achieve fast transformation from coefficient to evaluation. Now we will implement the inverse transformation, which is from evaluation to coefficient with slightly changing in the algorithm: update $\\omega$ to $\\frac{1}{n}\\omega^{-1}$\n",
        "\n",
        "detailed info: https://decentralizedthoughts.github.io/2023-09-01-FFT/#mjx-eqn-%5Cstar"
      ],
      "metadata": {
        "id": "sMtOeR_0RGfu"
      }
    },
    {
      "cell_type": "code",
      "source": [
        "# inverse the lookup table\n",
        "# the only thing we need to modify in FFT is to update its omega\n",
        "omega_list = [1,2,4,8,16,15,13,9]\n",
        "\n",
        "def inverse_element(omega_list, q):\n",
        "  inverse_omega_list = []\n",
        "  inverse_omega_dict = {}\n",
        "\n",
        "  for i in omega_list:\n",
        "    for candidate in omega_list:\n",
        "      if i*candidate%q == 1:\n",
        "        inverse_omega_list.append(candidate)\n",
        "        inverse_omega_dict[i] = candidate\n",
        "  return inverse_omega_list, inverse_omega_dict\n",
        "\n",
        "inverse_omega_list, inverse_omega_dict= inverse_element(omega_list, q)\n",
        "print(f'inverse omega list is {inverse_omega_list}, inverse omega dict is {inverse_omega_dict}')\n",
        "inverse_lookup = build_lookup_table(n_max, inverse_omega_list)\n",
        "print(f'lookup table of list of omega is {inverse_lookup}')"
      ],
      "metadata": {
        "colab": {
          "base_uri": "https://localhost:8080/"
        },
        "id": "rKQc8bxpfD1T",
        "outputId": "3973ec62-aef4-4175-98b3-85aed77d7a1e"
      },
      "execution_count": 63,
      "outputs": [
        {
          "output_type": "stream",
          "name": "stdout",
          "text": [
            "inverse omega list is [1, 9, 13, 15, 16, 8, 4, 2], inverse omega dict is {1: 1, 2: 9, 4: 13, 8: 15, 16: 16, 15: 8, 13: 4, 9: 2}\n",
            "lookup table of list of omega is {8: [1, 9, 13, 15, 16, 8, 4, 2], 4: [1, 13, 16, 4], 2: [1, 16]}\n"
          ]
        }
      ]
    },
    {
      "cell_type": "code",
      "source": [
        "# revise FFT using omega lookup table\n",
        "def IFFT_using_exist_omega(poly_evals, q, inverse_lookup, inverse_omega_dict):\n",
        "  recursion_result = IFFT_recursion_part(poly_evals, q, inverse_lookup)\n",
        "  IFFT_final_result = [ x * inverse_omega_dict[len(poly_evals)] % q for x in recursion_result]\n",
        "  return IFFT_final_result\n",
        "\n",
        "def IFFT_recursion_part(poly_evals, q, inverse_lookup):\n",
        "  '''\n",
        "  Args:\n",
        "  poly_coefs: coefficient representation of the polynomial\n",
        "  lookup: pre-determined omega list\n",
        "\n",
        "  Returns:\n",
        "  y: evaluation form of the polynomial\n",
        "  '''\n",
        "  # get the degree of the polynomial\n",
        "  n = len(poly_evals)\n",
        "  if n == 1:\n",
        "    return poly_evals\n",
        "\n",
        "  # in theory, omega should be the nth root of unity, which is a complex number\n",
        "  # to use it in finite field, we use a algorithm here\n",
        "  omega = inverse_lookup[n][1]\n",
        "  poly_evals_e = poly_evals[::2]\n",
        "  poly_evals_o = poly_evals[1::2]\n",
        "  y_e = IFFT_recursion_part(poly_evals_e, q, inverse_lookup)\n",
        "  y_o = IFFT_recursion_part(poly_evals_o, q, inverse_lookup)\n",
        "  y = [0] * n\n",
        "  for j in range(int(n/2)):\n",
        "    y[j] = int(y_e[j] + (omega**j)*y_o[j]) % q\n",
        "    y[j + int(n/2)] = int(y_e[j] - (omega**j)*y_o[j]) % q\n",
        "  return y\n",
        "\n",
        "print(f'evaluation form of phi(x) is {poly_evals}, after IFFT(use exist omega lookup table), we can get the coefficient form of phi(x) is {IFFT_using_exist_omega(poly_evals, q, inverse_lookup, inverse_omega_dict)}')"
      ],
      "metadata": {
        "colab": {
          "base_uri": "https://localhost:8080/"
        },
        "id": "QnHXq61yRFC7",
        "outputId": "0852de4d-b851-4087-c5ee-c534dbfee0bf"
      },
      "execution_count": 64,
      "outputs": [
        {
          "output_type": "stream",
          "name": "stdout",
          "text": [
            "evaluation form of phi(x) is [14, 10, 0, 1], after IFFT(use exist omega lookup table), we can get the coefficient form of phi(x) is [2, 3, 5, 4]\n"
          ]
        }
      ]
    },
    {
      "cell_type": "markdown",
      "source": [
        "# KZG Implementation(Python Version)\n",
        "\n",
        "The KZG Commitment Scheme is a commitment scheme that allows to commit to a polynomial $\\Phi(x) = \\phi_0 +\\phi_1x+\\phi_2x^2+...+\\phi_lx^l$, where $\\Phi(x) \\in F_p[x]$ . 'to commit' means proving that you know the polynomial $\\Phi(x)$ without revealing it.\n",
        "\n",
        "The KZG commitment scheme consists of 4 steps:\n",
        "1. Setup\n",
        "2. Commit to Polynomials\n",
        "3. Prove an Evaluation\n",
        "4. Verify an Evaluation Proof"
      ],
      "metadata": {
        "id": "6-LT_CUcF5sj"
      }
    },
    {
      "cell_type": "markdown",
      "source": [
        "## Step 1: Setup\n",
        "\n",
        "The first step is an one-time trusted setup and once it has done once, the following steps can be done repeatedly\n",
        "1. Let $G_1$ and $G_2$ be pairing-friendly elliptic curve groups, determined by curve BLS12-381\n",
        "2. Let $g_1$ be a generator of $G_1$ and $g_2$ be a generator of $G_2$\n",
        "3. Let $l$ be the maximum degree of the polymonials we want to commit to ($l < p$)\n",
        "4. Pick a random field element as secret parameter $\\tau \\in F_p$(usually done by MPC, to simplify, we just randomly choose one here)\n",
        "5. Compute pp(public parameters, including proving key $pk$, and verifying key $vk$)$$pk = (g_1, g_1^\\tau, g_1^{\\tau^2},...,g_1^{\\tau^l}), vk = g_2^\\tau$$ and release it publicly\n",
        "6. Discard secret parameter $\\tau$ once the setup ceremony is done so that nobody can figure out its value"
      ],
      "metadata": {
        "id": "CbNVAepyHO4g"
      }
    },
    {
      "cell_type": "code",
      "source": [
        "from py_ecc.bls12_381 import G1, G2, Z1, multiply, add\n",
        "from py_ecc.fields import bls12_381_FQ as FQ\n",
        "import random\n",
        "\n",
        "# 1. Let G1,G2 be pairing-friendly elliptic curve groups, which are determined by the curve\n",
        "\n",
        "# 2. Let g be a generator of G\n",
        "g1 = G1\n",
        "g2 = G2\n",
        "\n",
        "# 3. Let l be the maximum degree of the polymonials, which is 16\n",
        "l = 16\n",
        "\n",
        "# 4. Pick a random field element as secret parameter t\n",
        "# p = 0x1a0111ea397fe69a4b1ba7b6434bacd764774b84f38512bf6730d2a0f6b0f6241eabfffeb153ffffb9feffffffffaaab\n",
        "p = 17\n",
        "t = FQ(random.randint(0, p-1))\n",
        "print(f'secret parameter 𝜏 is {t}')\n",
        "\n",
        "# 5. Compute pp(public parameters)\n",
        "def compute_public_parameters(g1, g2, t, l):\n",
        "\n",
        "    pk = []\n",
        "    accumulated = 1\n",
        "    t_scalar = t\n",
        "    for i in range(l + 1):\n",
        "        # calculate g1, g1^t, g1^{t^2}...\n",
        "        pk.append(multiply(g1, int(accumulated)))\n",
        "        # calculate the exponential t, t^2, t^3, ...\n",
        "        accumulated = accumulated * t_scalar\n",
        "    vk = multiply(g2, int(t))\n",
        "    return pk, vk\n",
        "\n",
        "pk, vk = compute_public_parameters(g1, g2, t, l)\n",
        "print(f'proving key pk: {pk}')\n",
        "print(f'verifying key vk: {vk}')"
      ],
      "metadata": {
        "colab": {
          "base_uri": "https://localhost:8080/"
        },
        "id": "baZh9HlYEN25",
        "outputId": "03122377-9a64-48df-98dd-8e7852d15e95"
      },
      "execution_count": 101,
      "outputs": [
        {
          "output_type": "stream",
          "name": "stdout",
          "text": [
            "secret parameter 𝜏 is 16\n",
            "proving key pk: [(3685416753713387016781088315183077757961620795782546409894578378688607592378376318836054947676345821548104185464507, 1339506544944476473020471379941921221584933875938349620426543736416511423956333506472724655353366534992391756441569), (1115110491510435900370468037469550567204656919740314452071837613731657932261110848473569892116240520691155099623558, 3716622186739856864291791426123899038118045577962335290910027109072547957265304546288485220265589344899138231123891), (22728442371441529680143558537884005676855857983084863513733226151714268030809551293535717442256794403121596930352, 127224012900368965237333477201549251883518911899852645092336394282392360840266301931253035368041598561490051984000), (3299043131910830864647582911869315210340196688448664007347878183971871942834602516907273925049015144716370187610289, 627795721643407862508094209881904115725669692977582657660690324846492058417857368572308097445356035818084914727551), (705088751039933872860634503043111291521872546879268838687030294409623446607888495720826521502602775113301150197609, 668233802817461413568030864089683109735753247882900171812288723772576974091439467525921481197454941010455083197495), (66628518565036815811423357978966906494623225274951091105152446457884666278711289555674324065818359851142787552736, 3621098108289543718654442396200899246613956700717409887700941879153926937302727198663100448775637867030002258139654), (3203493462112831348617408530717130075539964414332644247634436234496643024065067450218764310604210960453102602150593, 2382299373415430651818928457377654632816474009245359051780227105930404714019380397728509171017993091089419037794510), (1968364879631393336499687318017325977984933296503284872220360359601640894559290322352368189844611004818064601131434, 3096248688823954860945638617241597734931830154765624827489647148443561878108263267944749369367351676574399691101301), (3906822836843686923740273052415570838206202451622153253650154928637664650280588232421461314843271639047097024016152, 587769442608213465936869291190170482870105167199306968202087988215416122580342180176535883963506382752961568447018), (2282175537871984463973039212410666494381766390173579208745304178804649638067325898161780334571552930787615307973630, 1086661077791958192866153116795841902036178354824865128176094790601883175314516136090744315415389554270688530539514), (328168836043204790262716606878264176436831211012142702132554595070944332710151639239125604283772892981136832573417, 2640259251869904402209106310459070340057890492423822907423455086637398215241198471979506118747450170102104784938118), (3056936845081477142057443465616600627461460260742669746038205315022215803395840618661620963460845768606659586165340, 2655714595816140376913330925158597997826339243403946802077743099456573258961147019696784347091871764734526643417511), (3291069904001242324502752846928666044818110532298218273800811453384047477508662651107194788055428656229356008747034, 2031925384450097859813241218577394365597381730600913705020993721822940648133381902669046973097175240183525671593964), (2536105960691532712377286610550477261158634018263115042986358518720327375675379940928760160535113871375998637857705, 652095665191782721372894188368429662933611108630816245333353384404758948303666169980501154890316492602877212357806), (3396980009924748019130551680563734498775900988338470529545524517662531382386950421162528237696016818911109358597667, 3688970754198994024524303829113388945522861786344930557022111517101193058439293382050105583463407242270360397217713), (4011364941795477073925806358619907838427012590408661166704916760001177452621370495131623495226500300166107094317, 879305962473832655996160034972748521429199551188235237136119677930693134166325576887320085905276286618364214893047), (197408815357513944840451471789328466703038526463331362443507319390261983413537707469836454160686797264756657362476, 70956026550579010391137096475884661651950609166861618197286298386290774163180314524211263807215728221306457572142)]\n",
            "verifying key vk: ((3694494111259786875591429645053837366977346870193129096049285749630429103172137765127023251403442101440518811998265, 1079807860560532435301240855143259662555654272856427575717117411062849135517758466220919106466841428672901225735646), (389558498747965859454951061037234592157745856032425735352802825714204804131521540118986374335720423117478549833944, 2409136839066158623923191219209763393124506097095086936569782449881936547386895696886206547054838426987308005978848))\n"
          ]
        }
      ]
    },
    {
      "cell_type": "markdown",
      "source": [
        "## Step 2: Commit to Polynomials\n",
        "In reality, we arithmetize circuits and use Plonkish to get polynomials in this step\n",
        "1. Given a polynomial $\\Phi(x) = \\sum_{i=0}^l \\phi_i x^i$\n",
        "2. Compute and output commitment $c = g^{\\Phi(\\tau)}$\n",
        "   - Wait! $\\tau$ has already been discard right? How can committer compute $\\tau$?\n",
        "   - Although he cannot compute $\\Phi(\\tau)$ directly, he can use public parameters to help with it:\n",
        "$$\\prod_{i=0}^l(g^{\\tau^i})^{\\phi_i} = g^{\\sum_{i=0}^l \\phi_i \\tau^i} = g^{\\Phi(\\tau)}$$"
      ],
      "metadata": {
        "id": "PZLYRSg7NdAZ"
      }
    },
    {
      "cell_type": "code",
      "source": [
        "# assume we have a polynomial Φ(𝑥)=4x^3+5x^2+3x+2 or some points on the polynomials\n",
        "# we can use FFT or IFFT to do the transformation between the two forms\n",
        "poly_coefs = [2, 3, 5, 4]"
      ],
      "metadata": {
        "id": "tDDoK2qNEXas"
      },
      "execution_count": 102,
      "outputs": []
    },
    {
      "cell_type": "code",
      "source": [
        "# compute commitment of the polynomial\n",
        "def poly_commitment(pk, g1, poly_coefs):\n",
        "\n",
        "  com = Z1\n",
        "  for i in range(len(poly_coefs)):\n",
        "    com = add(multiply(pk[i], poly_coefs[i]), com)\n",
        "  return com\n",
        "\n",
        "com = poly_commitment(pk, g1, poly_coefs)\n",
        "print(f'commitment of polynomial is {com}')"
      ],
      "metadata": {
        "colab": {
          "base_uri": "https://localhost:8080/"
        },
        "id": "DXh4eZH4NncH",
        "outputId": "1712c0c3-28f9-4950-887b-4920ef08738a"
      },
      "execution_count": 103,
      "outputs": [
        {
          "output_type": "stream",
          "name": "stdout",
          "text": [
            "commitment of polynomial is (2271526962322861689675051123774621680992387597298520544768950120316248618313873424974183841514329078544705014605191, 358888059384010995749639479700579662773076371314863412044044730784299428601177332273870645967903837223686200239802)\n"
          ]
        }
      ]
    },
    {
      "cell_type": "markdown",
      "source": [
        "## Step 3: Prove an Evaluation\n",
        "In this period, the Verifier will ask Prover to 'OPEN' the commitment $c$ to a random specific point $a \\in F_p$, in other word, Prover have to evaluation $\\Phi(x)$ and commit the result in the form of opening triplet $OT = (a, b, \\pi)$\n",
        "1. Given an evaluation $\\Phi(a) = b$\n",
        "2. Compute and output proof of the evaluation $\\pi = g^{q(\\tau)}$, where $q(x) := \\frac{\\Phi(x)-b}{x-a}$\n",
        "    - $q(x)$ is quotient polynomial: if $\\Phi(a) = b$, that means $a$ is a root of $\\Phi(x) - b$\n",
        "    - so $\\Phi(x) - b$ can be expressed as $\\Phi(x) - b = q(x)(x-a)$, $q(x)$ is a polynomial\n",
        "    - on the other hand, $q(x)$ exists if and only if $\\Phi(a) = b$, so the existence of this quotient polynomial therefore serves as a proof of the evaluation"
      ],
      "metadata": {
        "id": "uG76toJbnbMn"
      }
    },
    {
      "cell_type": "code",
      "source": [
        "# Verifier first choose the random point a\n",
        "def evaluation_poly(a, poly_coefs, q):\n",
        "  b = 0\n",
        "  for i in range(len(poly_coefs)):\n",
        "    b += (a**i)*(poly_coefs[i])\n",
        "  return b % q\n",
        "\n",
        "a = random.randint(1, q-1)\n",
        "b = evaluation_poly(a, poly_coefs, q)\n",
        "print(f'random element we chosen is {a}, the evaluation b is {b}')"
      ],
      "metadata": {
        "colab": {
          "base_uri": "https://localhost:8080/"
        },
        "id": "eUASXL_knfu7",
        "outputId": "aa353f62-4c62-4f3a-bb0f-25a49b74dfce"
      },
      "execution_count": 104,
      "outputs": [
        {
          "output_type": "stream",
          "name": "stdout",
          "text": [
            "random element we chosen is 11, the evaluation b is 14\n"
          ]
        }
      ]
    },
    {
      "cell_type": "code",
      "source": [
        "# compute q(x)\n",
        "# 1. if poly in coefficient form, convert poly_coefs to evals\n",
        "# 2. calculate quotient polynomial in evaluation form\n",
        "# 3. convert quotient poly evals to coefs if needed\n",
        "\n",
        "def quotient_poly(a, b, poly_evals, q, lookup, inverse_field_element_dict):\n",
        "  q_poly_domain = lookup[len(poly_evals)]\n",
        "  q_poly_evals = []\n",
        "\n",
        "  for i in range(len(poly_evals)):\n",
        "  #   print(f'poly_evals[i] = {poly_evals[i]}, b = {b}, poly_evals[i]-b = {poly_evals[i]-b}')\n",
        "  #   print(f'q_poly_domain[i] = {q_poly_domain[i]}, a = {a}, (q_poly_domain[i]-a)%q = {(q_poly_domain[i]-a)%q}')\n",
        "  #   print(f'inverse_field_element_dict[q_poly_domain[i]-a] = {inverse_field_element_dict[(q_poly_domain[i]-a)%q]}')\n",
        "  #   print(f'poly_evals[i]-b) * inverse_field_element_dict[q_poly_domain[i]-a] = {(poly_evals[i]-b) * inverse_field_element_dict[(q_poly_domain[i]-a)%q]}')\n",
        "  #   print(f'poly_evals[i]-b) * inverse_field_element_dict[q_poly_domain[i]-a]%q = {(poly_evals[i]-b) * inverse_field_element_dict[(q_poly_domain[i]-a)%q]%q}')\n",
        "    q_poly_evals.append((poly_evals[i]-b) * inverse_field_element_dict[(q_poly_domain[i]-a)%q] % q)\n",
        "\n",
        "  return q_poly_evals, q_poly_domain\n",
        "\n",
        "field_element = list(range(q))\n",
        "inverse_field_element_list, inverse_field_element_dict = inverse_element(field_element, q)\n",
        "q_poly_evals, q_poly_domain = quotient_poly(a, b, poly_evals, q, lookup, inverse_field_element_dict)\n",
        "print(f'quotient polynomial in evaluation form is {q_poly_evals}, defined over {q_poly_domain}')"
      ],
      "metadata": {
        "colab": {
          "base_uri": "https://localhost:8080/"
        },
        "id": "_uxCEV4PqKum",
        "outputId": "ed3c9247-3605-43fe-b9ce-4d51117390ab"
      },
      "execution_count": 105,
      "outputs": [
        {
          "output_type": "stream",
          "name": "stdout",
          "text": [
            "quotient polynomial in evaluation form is [0, 3, 4, 2], defined over [1, 4, 16, 13]\n"
          ]
        }
      ]
    },
    {
      "cell_type": "code",
      "source": [
        "# convert quotient polynomial from evaluation form to coefficient form\n",
        "q_poly_coefs = IFFT_using_exist_omega(q_poly_evals, q, inverse_lookup, inverse_omega_dict)\n",
        "print(f'quotient polynomial in coefficient form is {q_poly_coefs}')"
      ],
      "metadata": {
        "colab": {
          "base_uri": "https://localhost:8080/"
        },
        "id": "7BXJAKY3kliX",
        "outputId": "53ae97f2-4204-43e6-8df1-817259605f06"
      },
      "execution_count": 106,
      "outputs": [
        {
          "output_type": "stream",
          "name": "stdout",
          "text": [
            "quotient polynomial in coefficient form is [15, 15, 4, 0]\n"
          ]
        }
      ]
    },
    {
      "cell_type": "code",
      "source": [
        "# compute proof of the evaluation pi\n",
        "pi = poly_commitment(pk, g1,  q_poly_coefs)\n",
        "print(f'proof of the evaluation pi is {pi}')"
      ],
      "metadata": {
        "colab": {
          "base_uri": "https://localhost:8080/"
        },
        "id": "n8OOKUQqqMFl",
        "outputId": "cf85c1b9-f790-41a8-99aa-119d9ff9a0db"
      },
      "execution_count": 107,
      "outputs": [
        {
          "output_type": "stream",
          "name": "stdout",
          "text": [
            "proof of the evaluation pi is (537616861269185806389893953457915208524842982840589055434832869450339468293831341618081136616450534878205994598611, 2880889308028243004000424449492095615161995370617996157061370625533058220282539645946759728873255997349932635137582)\n"
          ]
        }
      ]
    },
    {
      "cell_type": "markdown",
      "source": [
        "## Step 4: Verify an Evaluation Proof\n",
        "1. Given a commitment $c = g^{\\Phi(\\tau)}$, and an evaluation $\\Phi(a) = b$, and a proof $\\pi = g^{q(\\tau)}$\n",
        "2. Verify that $e(\\frac{c}{g^b}, g) = e(\\pi,\\frac{g^\\tau}{g^a})$, where $e$ is a non-trivial bilinear mapping\n",
        "    - the purpose of verification: $\\Phi(x) - b = q(x)(x-a)$, checking this equality holds for $x = \\tau$\n",
        "    - according to the definition of bilinear mapping, it is equivalent to: $e(g_1, g_2)^{\\Phi(\\tau) - b} = e(g_1, g_2)^{q(\\tau)(\\tau-a)}$, that is $e(g_1^{\\Phi(\\tau) - b}, g_2) = e(g_1^{q(\\tau)}, g_2^{\\tau-a})$\n",
        "    - that is $e(com-g_1^b, g_2) = e(\\pi, vk - g_2^a)$"
      ],
      "metadata": {
        "id": "1_5bBUjOmOx_"
      }
    },
    {
      "cell_type": "code",
      "source": [
        "from py_ecc.bls12_381 import pairing, neg\n",
        "\n",
        "# now it is time to do the varification\n",
        "print(f'result of verification: {pairing(g2, add(com, neg(multiply(g1, b)))) == pairing(add(vk, neg(multiply(g2, a))), pi)}')"
      ],
      "metadata": {
        "colab": {
          "base_uri": "https://localhost:8080/"
        },
        "id": "HuxidPgTmSoa",
        "outputId": "cbc33bf0-3e81-4e2e-975d-d3b63bf30689"
      },
      "execution_count": 108,
      "outputs": [
        {
          "output_type": "stream",
          "name": "stdout",
          "text": [
            "result of verification: False\n"
          ]
        }
      ]
    },
    {
      "cell_type": "code",
      "source": [
        "evaluation_poly(int(t), poly_coefs, q)"
      ],
      "metadata": {
        "colab": {
          "base_uri": "https://localhost:8080/"
        },
        "id": "0anhOwhG5GmA",
        "outputId": "28178800-2b22-4c90-d45b-c785f901a6a9"
      },
      "execution_count": 111,
      "outputs": [
        {
          "output_type": "execute_result",
          "data": {
            "text/plain": [
              "0"
            ]
          },
          "metadata": {},
          "execution_count": 111
        }
      ]
    },
    {
      "cell_type": "code",
      "source": [
        "pairing(g2, add(com, neg(multiply(g1, b))))"
      ],
      "metadata": {
        "colab": {
          "base_uri": "https://localhost:8080/"
        },
        "id": "2HC12SMeoM1a",
        "outputId": "17e526bb-58cb-4e94-aea8-b5649877a617"
      },
      "execution_count": 79,
      "outputs": [
        {
          "output_type": "execute_result",
          "data": {
            "text/plain": [
              "(1833826762661973755251380450676716446636819011124396862439192724987179788557762191041366061494272621474281248497256, 2467955574422233382454208362537588277588129603273383893316272440257750623949248884896751274549567647042666949906399, 3694600666549896022562423450173530991066560413808722478933882986072581778950861501179877424240050545768310136394621, 1850241556617924480605645411349572821916547027774240635744484812443376375956044759436886415306368266658557173545046, 3285493103177417884753636510718598437152429531949839724901971643331809938784934608255702621857974720020237696656772, 2158755870084055734393992533997522373868349782539889357646716285584967394472608123439791334004655250466893225084114, 722042886448173559439731417532224464085864565308387545205762248834111298060245259334017040495396831901375891886712, 831231611343450177757575099319288190004517727228334291755310514103828555056680698648745542969697692875477407436687, 1717522862179023489388583505900710821716083510285465652602526024739453422092429370822378901424922308175738002359819, 2323613877541889038229144264153231253672833436470473187615528474552615973505185941264753194894667479578031360194383, 1091875892281460387404915523159057000181053282083211131638161865488994489599459592332378054588735372811905221106354, 1959059718446060927400934884497564821575469931010565690766141044632259145483738918664683284569832648504664030701645)"
            ]
          },
          "metadata": {},
          "execution_count": 79
        }
      ]
    },
    {
      "cell_type": "code",
      "source": [
        "pairing(add(vk, neg(multiply(g2, a))), pi)"
      ],
      "metadata": {
        "colab": {
          "base_uri": "https://localhost:8080/"
        },
        "id": "O3Ws-0HaoWbU",
        "outputId": "adb08a63-efe8-43e8-ed17-841c5fad0ae2"
      },
      "execution_count": 81,
      "outputs": [
        {
          "output_type": "execute_result",
          "data": {
            "text/plain": [
              "(1933177422430888125500397732541498584749060872601095857711129614051297698791651194008117368373457218294774102247279, 768900816031583426216116826209378841248740396827414416352103078465289643261250107895809646447380354271595199601074, 3115754822143007240701561674532228230870216816601717499585467796847200655648554625383685236434529578781136660009738, 1241113219634229553223604339301400543440676374903989871884943660868887809611506324144511753057353205273435256130060, 1006490390474342958020743567826484032404684315740380094183933841250819731020982440463065627986594276210541511882454, 466771195781224020253854518268267042404176213043818389348695576369112773118534715460447922186336882237390198744945, 2083951273967273139328889234739598178180925982073239802414562376716584750977575963089484650018994356147818977996522, 580925592561780540028817956637521831574688436738010093356046251023000678766351562297969412665151897240174395139971, 3613422465464314416003378648746167925268464623938186614550460591496576532426170096964428283222831337900820663696168, 828530765051734074149173934645766020354023391602305406593391423921674850108790304766001702804305440329045696027576, 1202786074102294312475375881245408984601302727470492615132210324690431808249481207097737414956014460431892513685881, 938836368763723773524399826936483965815991611337919799139076234413879033216908014733915782502472482214938100980393)"
            ]
          },
          "metadata": {},
          "execution_count": 81
        }
      ]
    },
    {
      "cell_type": "markdown",
      "source": [
        "# Plonk Implementation(Python Version)\n",
        "\n",
        "## Problem Definition\n",
        "\n",
        "We take **Square-Fibonacci** as an example to demonstrate the process of proof generation\n",
        "\n",
        "Defination of Square-Fibonacci Problem:\n",
        "- Let $f_0 = 1, f_1 = 1$\n",
        "- For $i \\ge 2$, define $f_i:=(f_{i-2})^2+(f_{i-1})^2 \\ mod \\ q$\n",
        "    - $q$ is a large prime integer, used to bound the size of each element, so that it can be represented by some predetermined number of bits.\n",
        "\n",
        "Let $n$ be some very large integer. For convenience, we assume $n$ is a power of 2\n",
        "\n",
        "Let $k$ be the $n^{th}$ Square-Fibonacci number\n",
        "\n",
        "**Our goal**: generate an efficiently-verifiable proof $\\pi$ showing that indeed $k$ is the $n^{th}$ Square-Fibonacci number(i.e. $f_n = k$)\n",
        "\n",
        "## Phases of Proof Generation\n",
        "The Plonk-based proof generation consists of 3 steps:\n",
        "1. Filling in the trace table\n",
        "2. Committing to the trace table\n",
        "3. Proving the trace table's correctness"
      ],
      "metadata": {
        "id": "di927G65Ye1J"
      }
    },
    {
      "cell_type": "code",
      "source": [
        "# some basic statement\n",
        "# we assume q = p here, that is polynomial is defined over p\n",
        "q = p\n",
        "\n",
        "# assume we hope to prove '8th Square-Fibonacci number is k'\n",
        "n = 8\n",
        "k = FQ(317754178345286893212434)\n",
        "\n",
        "# according to defination, f(0) = 1, f(1) = 1\n",
        "f_0 = FQ(1)\n",
        "f_1 = FQ(1)"
      ],
      "metadata": {
        "id": "t1-8SzICYley"
      },
      "execution_count": 24,
      "outputs": []
    },
    {
      "cell_type": "markdown",
      "source": [
        "## Step 1: Filling in the Trace Table\n",
        "The trace table is a 2-dimensional matrix where 'witness' or 'trace' is written down, that is (n rows * 5 cols)\n",
        "- 5 columns:\n",
        "    - $A, B, C$: represent witness data / private input, each row lists 3 sequential Sequare-Fibonacci numbers\n",
        "        - e.g. the $i^{th}$ row $(f_i, f_{i+1}, f_{i+2})$ is a witness for $(i+2)^{th}$ Sequare-Fibonacci number\n",
        "    - $S$: represents selector column, indicating a certain mathmatical relation should hold over the element of the row.\n",
        "        - $1$ represents the first 3 elements of the row $(a, b, c)$ must satisfy $c = a^2 + b^2 \\ mod \\ q$\n",
        "        - $0$ represents the condition does not need to be satisfied.\n",
        "    - $P$: represents public inputs, inputs to the circuit that are public known.\n",
        "        - e.g. the first two values of the sequence $f_0, f_1$ and $k$ as the value to be proved\n",
        "- n rows: left a blank row, so that the height of the table becomes $n$, an even power of 2\n",
        "    - $1^{st}$ row: $f_0, f_1, f_2, 1, f_0$\n",
        "    - $2^{nd}$ row: $f_1, f_2, f_3, 1, f_1$\n",
        "    - $3^{rd}$ row: $f_2, f_3, f_4, 1, k$\n",
        "    - ...\n",
        "    - $(n-2)^{th}$ row: $f_{n-2}, f_{n-1}, f_n, 1, \"\" $\n",
        "    - $(n-1)^{th}$ row: $\"\", \"\", \"\", 0, \"\"$\n",
        "\n",
        "Next step is to fill in the trace table: either copy or compute over $F_q$"
      ],
      "metadata": {
        "id": "xTmgCmhGZ8SQ"
      }
    },
    {
      "cell_type": "code",
      "source": [
        "# generate witness/fill in the trace table\n",
        "def witness_generation(f_0, f_1, k, n):\n",
        "\n",
        "    trace_table = []\n",
        "\n",
        "    # init col A, B, C, S\n",
        "    f_a = f_0\n",
        "    f_b = f_1\n",
        "    f_c = f_b\n",
        "    S = FQ(1)\n",
        "\n",
        "    for i in range(n-1):\n",
        "        f_a = f_b\n",
        "        f_b = f_c\n",
        "        f_c = f_a**2 + f_b**2\n",
        "        trace_table.append([f_a, f_b, f_c, S, -1])\n",
        "\n",
        "    # add a blank row to get n row\n",
        "    S = 0\n",
        "    trace_table.append([-1, -1, -1, S, -1])\n",
        "\n",
        "    # add public parameters\n",
        "    trace_table[0][4] = f_0\n",
        "    trace_table[1][4] = f_1\n",
        "    trace_table[2][4] = k\n",
        "\n",
        "    return trace_table\n",
        "\n",
        "trace_table = witness_generation(f_0, f_1, k, n)\n",
        "\n",
        "print(f\"trace table is:\")\n",
        "for A, B, C, S, P in trace_table:\n",
        "    print(\"{:25} {:25} {:25} {:25} {:25}\".format(int(A), int(B), int(C), int(S), int(P)))"
      ],
      "metadata": {
        "colab": {
          "base_uri": "https://localhost:8080/"
        },
        "id": "n7QfVLCaZwpy",
        "outputId": "9e645bc4-42c1-4d7f-dcd2-6e1f2be56076"
      },
      "execution_count": 36,
      "outputs": [
        {
          "output_type": "stream",
          "name": "stdout",
          "text": [
            "trace table is:\n",
            "                        1                         1                         2                         1                         1\n",
            "                        1                         2                         5                         1                         1\n",
            "                        2                         5                        29                         1  317754178345286893212434\n",
            "                        5                        29                       866                         1                        -1\n",
            "                       29                       866                    750797                         1                        -1\n",
            "                      866                    750797              563696885165                         1                        -1\n",
            "                   750797              563696885165  317754178345286893212434                         1                        -1\n",
            "                       -1                        -1                        -1                         0                        -1\n"
          ]
        }
      ]
    },
    {
      "cell_type": "markdown",
      "source": [
        "## Step 2: Commit to the Trace Table\n",
        "\n",
        "### interpret the trace table columns as polynomials\n",
        "\n",
        "Each column can be considered as a length-$n$ vector of finite field elements $\\rightarrow$ this vector can be regarded as the evaluation form of a polynomial $A(x)$ with degree $(n-1)$: the $i^{th}$ element of $A$ corresponds to the evaluation $A(\\omega^i)$, where $\\omega \\in F_q$ is **$n^{th}$ root of unity** and has order $n$"
      ],
      "metadata": {
        "id": "sZbfYqpXc9ff"
      }
    },
    {
      "cell_type": "code",
      "source": [
        "# find a subgroup whose order = n\n",
        "# def find_nth_root_of_unity(F_q, n):\n",
        "\n",
        "#     while True:\n",
        "#         w = F_q.random_element()\n",
        "#         if w.multiplicative_order() == n:\n",
        "#             break\n",
        "#         else:\n",
        "#             print(f'w = {w}, whose order is {w.multiplicative_order()}, not statified')\n",
        "#     return w\n",
        "\n",
        "# w = find_nth_root_of_unity(F_q, n)\n",
        "# print(w)\n",
        "\n",
        "# find a group: {1,2,4,7,8,11,13,14}\n",
        "w_list = [1,2,4,7,8,11,13,14]\n",
        "\n",
        "# interpreting the trace table columns as polynomials, and represent the polynomials as evaluation form\n",
        "evaluation_form = []\n",
        "for row in range(len(trace_table)):\n",
        "    evaluation_form_row = []\n",
        "    for col in range(len(trace_table[0])):\n",
        "        val = trace_table[row][col]\n",
        "        evaluation_form_row.append((w_list[row], val))\n",
        "    evaluation_form.append(evaluation_form_row)\n",
        "print(evaluation_form)"
      ],
      "metadata": {
        "colab": {
          "base_uri": "https://localhost:8080/"
        },
        "id": "bDpQon6qaMTL",
        "outputId": "d72c6e8a-324f-4ad1-8855-1b7b1efe24a1"
      },
      "execution_count": 37,
      "outputs": [
        {
          "output_type": "stream",
          "name": "stdout",
          "text": [
            "[[(1, 1), (1, 1), (1, 2), (1, 1), (1, 1)], [(2, 1), (2, 2), (2, 5), (2, 1), (2, 1)], [(4, 2), (4, 5), (4, 29), (4, 1), (4, 317754178345286893212434)], [(7, 5), (7, 29), (7, 866), (7, 1), (7, -1)], [(8, 29), (8, 866), (8, 750797), (8, 1), (8, -1)], [(11, 866), (11, 750797), (11, 563696885165), (11, 1), (11, -1)], [(13, 750797), (13, 563696885165), (13, 317754178345286893212434), (13, 1), (13, -1)], [(14, -1), (14, -1), (14, -1), (14, 0), (14, -1)]]\n"
          ]
        }
      ]
    },
    {
      "cell_type": "code",
      "source": [],
      "metadata": {
        "id": "h07iYzjXdf0U"
      },
      "execution_count": null,
      "outputs": []
    }
  ]
}