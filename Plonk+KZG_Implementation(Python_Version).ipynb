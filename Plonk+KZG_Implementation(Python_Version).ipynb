{
  "nbformat": 4,
  "nbformat_minor": 0,
  "metadata": {
    "colab": {
      "provenance": [],
      "authorship_tag": "ABX9TyNEopVnAzyHpDF9mUulidEc",
      "include_colab_link": true
    },
    "kernelspec": {
      "name": "python3",
      "display_name": "Python 3"
    },
    "language_info": {
      "name": "python"
    }
  },
  "cells": [
    {
      "cell_type": "markdown",
      "metadata": {
        "id": "view-in-github",
        "colab_type": "text"
      },
      "source": [
        "<a href=\"https://colab.research.google.com/github/YolaYing/zk-toolkit/blob/main/Plonk%2BKZG_Implementation(Python_Version).ipynb\" target=\"_parent\"><img src=\"https://colab.research.google.com/assets/colab-badge.svg\" alt=\"Open In Colab\"/></a>"
      ]
    },
    {
      "cell_type": "markdown",
      "source": [
        "# Develope Environment Preparation\n",
        "Curve we used is BLS12-381\n",
        "- Library we used: BLS21-381 curve implemented by Ethereum, using Python\n",
        "- Lib link: https://github.com/ethereum/py_ecc/tree/main\n",
        "\n",
        "You can use the following command to install all the packages we needed. Note that if you are using anaconda, package installation may be failed. Highly recommand using colab or some development friendly environment."
      ],
      "metadata": {
        "id": "XDSUSR7mEtlN"
      }
    },
    {
      "cell_type": "code",
      "execution_count": 2,
      "metadata": {
        "colab": {
          "base_uri": "https://localhost:8080/"
        },
        "id": "FDe0iCZyEKD3",
        "outputId": "f266ba12-d8ba-44d9-b682-09a894f84e5b"
      },
      "outputs": [
        {
          "output_type": "stream",
          "name": "stdout",
          "text": [
            "Collecting py_ecc\n",
            "  Downloading py_ecc-7.0.0-py3-none-any.whl (43 kB)\n",
            "\u001b[2K     \u001b[90m━━━━━━━━━━━━━━━━━━━━━━━━━━━━━━━━━━━━━━━━\u001b[0m \u001b[32m43.6/43.6 kB\u001b[0m \u001b[31m823.7 kB/s\u001b[0m eta \u001b[36m0:00:00\u001b[0m\n",
            "\u001b[?25hCollecting eth-typing>=3.0.0 (from py_ecc)\n",
            "  Downloading eth_typing-3.5.2-py3-none-any.whl (14 kB)\n",
            "Collecting eth-utils>=2.0.0 (from py_ecc)\n",
            "  Downloading eth_utils-2.3.1-py3-none-any.whl (77 kB)\n",
            "\u001b[2K     \u001b[90m━━━━━━━━━━━━━━━━━━━━━━━━━━━━━━━━━━━━━━━━\u001b[0m \u001b[32m77.8/77.8 kB\u001b[0m \u001b[31m3.6 MB/s\u001b[0m eta \u001b[36m0:00:00\u001b[0m\n",
            "\u001b[?25hCollecting cached-property>=1.5.1 (from py_ecc)\n",
            "  Downloading cached_property-1.5.2-py2.py3-none-any.whl (7.6 kB)\n",
            "Requirement already satisfied: typing-extensions>=4.0.1 in /usr/local/lib/python3.10/dist-packages (from eth-typing>=3.0.0->py_ecc) (4.5.0)\n",
            "Collecting eth-hash>=0.3.1 (from eth-utils>=2.0.0->py_ecc)\n",
            "  Downloading eth_hash-0.5.2-py3-none-any.whl (8.6 kB)\n",
            "Collecting cytoolz>=0.10.1 (from eth-utils>=2.0.0->py_ecc)\n",
            "  Downloading cytoolz-0.12.2-cp310-cp310-manylinux_2_17_x86_64.manylinux2014_x86_64.whl (1.9 MB)\n",
            "\u001b[2K     \u001b[90m━━━━━━━━━━━━━━━━━━━━━━━━━━━━━━━━━━━━━━━━\u001b[0m \u001b[32m1.9/1.9 MB\u001b[0m \u001b[31m10.4 MB/s\u001b[0m eta \u001b[36m0:00:00\u001b[0m\n",
            "\u001b[?25hRequirement already satisfied: toolz>=0.8.0 in /usr/local/lib/python3.10/dist-packages (from cytoolz>=0.10.1->eth-utils>=2.0.0->py_ecc) (0.12.0)\n",
            "Installing collected packages: cached-property, eth-typing, eth-hash, cytoolz, eth-utils, py_ecc\n",
            "Successfully installed cached-property-1.5.2 cytoolz-0.12.2 eth-hash-0.5.2 eth-typing-3.5.2 eth-utils-2.3.1 py_ecc-7.0.0\n"
          ]
        }
      ],
      "source": [
        "!pip3 install py_ecc"
      ]
    },
    {
      "cell_type": "markdown",
      "source": [
        "# Preliminaries\n"
      ],
      "metadata": {
        "id": "F8XQWxyrf_a9"
      }
    },
    {
      "cell_type": "markdown",
      "source": [
        "## Form of Polynomial Representations\n",
        "\n",
        "A polynomial $\\Phi(x) = \\sum_{i = 0}^{n - 1} \\phi_ix^i$ have two representation forms:\n",
        "1. Coefficient Form\n",
        "  - $\\Phi(x)$ can be represeneted as a tuple of $n$ coefficients: $[\\phi_0, \\phi_1, ..., \\phi_{n-1}]$\n",
        "2. Evaluation Form\n",
        "  - $\\Phi(x)$ can be represeneted as a tuple of $n$ distinct evaluations: $[\\Phi(x_0), \\Phi(x_1), ..., \\Phi(x_{n-1})]$\n",
        "    - the set of values $\\\\{ x_0, x_1, ..., x_{n-1} \\\\}$ over which the polynomial is defined over is known as \"evaluation domain\""
      ],
      "metadata": {
        "id": "V_bza7lHgToL"
      }
    },
    {
      "cell_type": "code",
      "source": [
        "# For example, assume we have a polynomial Φ(𝑥)=4x^3+5x^2+3x+2 and some point (0,2),(1, 14),(2, 60),(3, 164) on the polynomials\n",
        "poly_coefs = [2, 3, 5, 4]\n",
        "evaluation_domain = [0, 1, 2, 3]\n",
        "poly_evals = [2, 14, 60, 164]\n",
        "\n",
        "print(f'coefficient form of phi(x) is {poly_coefs}')\n",
        "print(f'evaluation form of phi(x) is {poly_evals}, defined over evaluation domain {evaluation_domain}')"
      ],
      "metadata": {
        "colab": {
          "base_uri": "https://localhost:8080/"
        },
        "id": "5cPrvhiMkGQo",
        "outputId": "49bec407-869d-4754-b9ed-33895d3b5196"
      },
      "execution_count": 3,
      "outputs": [
        {
          "output_type": "stream",
          "name": "stdout",
          "text": [
            "coefficient form of phi(x) is [2, 3, 5, 4]\n",
            "evaluation form of phi(x) is [2, 14, 60, 164], defined over evaluation domain [0, 1, 2, 3]\n"
          ]
        }
      ]
    },
    {
      "cell_type": "markdown",
      "source": [
        "## Convert between Coefficient Form and Evaluation Form\n",
        "\n",
        "### Defination\n",
        "- **Fourier Transform**: convert from coefficient to evaluation\n",
        "- **inverse Fourier Transform**: convert from evaluation to coefficient\n",
        "\n",
        "\n",
        "### Naive Way\n",
        "In naive way, each of those two transformation takes $O(n^2)$ computation\n",
        "- **Fourier Transform**: evaluate $\\Phi(x)$ at each $x_i$ in the evaluation domain\n",
        "- **inverse Fourier Transform**: use *Lagrange Interpolation* to obtain unique degree $(n-1)$ polynomial passes through each of the $n$ points\n",
        "\n",
        "\n",
        "### Optimized Way: Fast Fourier Transformation(FFT)\n",
        "To improve the effectiveness of the transformation, we need to do the following steps:\n",
        "- defined polynomials over finite field\n",
        "  - restrict each coefficient $p_i \\in F_q$ and each evaluation point $\\Phi(x_i) \\in F_q$\n",
        "- defined the evaluation domain as a multiplicative subgroup of $F_q$\n",
        "  - evaluation domain is a set of \"$n^{th}$ roots of unity\", $\\{ \\omega_0, \\omega_1, ..., \\omega_{n-1} \\}$ for some element $\\omega \\in F_q$ with order $n$(i.e. $\\omega^n = 1$ mod $q$)\n",
        "- implementation of FFT algorithm\n",
        "  - if you are not familiar with FFT, highly recommend this video: https://www.youtube.com/watch?v=h7apO7q16V0"
      ],
      "metadata": {
        "id": "gLEGo27ZlBNe"
      }
    },
    {
      "cell_type": "code",
      "source": [
        "import random\n",
        "\n",
        "def FFT(poly_coefs, q):\n",
        "  '''\n",
        "  Args:\n",
        "  poly_coefs: coefficient representation of the polynomial\n",
        "\n",
        "  Returns:\n",
        "  y: evaluation form of the polynomial\n",
        "  '''\n",
        "  # get the degree of the polynomial\n",
        "  n = len(poly_coefs)\n",
        "  if n == 1:\n",
        "    return poly_coefs\n",
        "\n",
        "  # in theory, omega should be the nth root of unity, which is a complex number\n",
        "  # to use it in finite field, we use a algorithm here\n",
        "  omega = find_nth_root_of_unity(n, q)\n",
        "  print(f'{n}^th of unity is {omega}')\n",
        "  poly_coefs_e = poly_coefs[::2]\n",
        "  poly_coefs_o = poly_coefs[1::2]\n",
        "  y_e = FFT(poly_coefs_e, q)\n",
        "  y_o = FFT(poly_coefs_o, q)\n",
        "  y = [0] * n\n",
        "  for j in range(int(n/2)):\n",
        "    y[j] = int(y_e[j] + (omega**j)*y_o[j]) % q\n",
        "    y[j + int(n/2)] = int(y_e[j] - (omega**j)*y_o[j]) % q\n",
        "  return y\n",
        "\n",
        "def find_nth_root_of_unity(n, q):\n",
        "  '''\n",
        "  Args:\n",
        "  n: nth root of unity, which is the degree of polynomial\n",
        "  q: finite field q\n",
        "\n",
        "  Returns:\n",
        "  omega: the nth root of unity, which is a element in finite field\n",
        "  '''\n",
        "  omega = 1\n",
        "  while(omega**(n/2) == 1 and omega != 0):\n",
        "    x = random.randint(0, q)\n",
        "    omega = x**((q-1)/n) % q\n",
        "  return omega\n",
        "\n",
        "FFT(poly_coefs, 17)"
      ],
      "metadata": {
        "colab": {
          "base_uri": "https://localhost:8080/"
        },
        "id": "uUFr9iQO4G7v",
        "outputId": "807f4700-da14-4568-d61f-40ab3d331f43"
      },
      "execution_count": 4,
      "outputs": [
        {
          "output_type": "stream",
          "name": "stdout",
          "text": [
            "4^th of unity is 13.0\n",
            "2^th of unity is 0.0\n",
            "2^th of unity is 16.0\n"
          ]
        },
        {
          "output_type": "execute_result",
          "data": {
            "text/plain": [
              "[14, 1, 0, 10]"
            ]
          },
          "metadata": {},
          "execution_count": 4
        }
      ]
    },
    {
      "cell_type": "code",
      "source": [
        "# verification of FFT result\n",
        "omega = 13\n",
        "q = 17\n",
        "for i in range(len(poly_coefs)):\n",
        "    x = omega**i\n",
        "    print(f'x = {x}, poly(x) = {(4*(x**3)+5*(x**2)+3*x+2) % q}')"
      ],
      "metadata": {
        "colab": {
          "base_uri": "https://localhost:8080/"
        },
        "id": "YFE5EEwYJ-7l",
        "outputId": "a2bbd3f3-8e6d-4a5b-bac2-338aab526220"
      },
      "execution_count": 5,
      "outputs": [
        {
          "output_type": "stream",
          "name": "stdout",
          "text": [
            "x = 1, poly(x) = 14\n",
            "x = 13, poly(x) = 1\n",
            "x = 169, poly(x) = 0\n",
            "x = 2197, poly(x) = 10\n"
          ]
        }
      ]
    },
    {
      "cell_type": "markdown",
      "source": [
        "Because the calculation of finding evaluation domain is a repeated and computation intensive step, so usually we just build a lookup table to store the pre-calculated result. Here we just slightly revise FFT algorithm to meet the lookup needs."
      ],
      "metadata": {
        "id": "NiwOdwl7qZ-u"
      }
    },
    {
      "cell_type": "code",
      "source": [
        "# omega generation can be quite computational intensive, so we tend to pre-calculate the lookup table for omega\n",
        "# we assume n = 8, and we have a multiplication cyclic group with ord = 8, which is [1,2,4,8,16,15,13,9] with 2 as its generator and 17 as module\n",
        "\n",
        "# create a lookup table\n",
        "n_max = 8\n",
        "q = 17\n",
        "omega_list = [1,2,4,8,16,15,13,9]\n",
        "\n",
        "def build_lookup_table(n, omega_list):\n",
        "  lookup = {}\n",
        "  lookup[n] = omega_list\n",
        "  while n > 2:\n",
        "    n = int(n/2)\n",
        "    omega_list = omega_list[::2]\n",
        "    lookup[n] = omega_list\n",
        "  return lookup\n",
        "\n",
        "lookup  = build_lookup_table(n_max, omega_list)\n",
        "print(f'lookup table of list of omega is {lookup}')"
      ],
      "metadata": {
        "colab": {
          "base_uri": "https://localhost:8080/"
        },
        "id": "Djcz086abXKe",
        "outputId": "d9823a7b-f601-4903-a07a-335484f4b97e"
      },
      "execution_count": 6,
      "outputs": [
        {
          "output_type": "stream",
          "name": "stdout",
          "text": [
            "lookup table of list of omega is {8: [1, 2, 4, 8, 16, 15, 13, 9], 4: [1, 4, 16, 13], 2: [1, 16]}\n"
          ]
        }
      ]
    },
    {
      "cell_type": "code",
      "source": [
        "# revise FFT using omega lookup table\n",
        "def FFT_using_exist_omega(poly_coefs, q, lookup):\n",
        "  '''\n",
        "  Args:\n",
        "  poly_coefs: coefficient representation of the polynomial\n",
        "  lookup: pre-determined omega list\n",
        "\n",
        "  Returns:\n",
        "  y: evaluation form of the polynomial\n",
        "  '''\n",
        "  # get the degree of the polynomial\n",
        "  n = len(poly_coefs)\n",
        "  if n == 1:\n",
        "    return poly_coefs\n",
        "\n",
        "  # in theory, omega should be the nth root of unity, which is a complex number\n",
        "  # to use it in finite field, we use a algorithm here\n",
        "  omega = lookup[n][1]\n",
        "  print(f'n = {n}, omega = {omega}')\n",
        "  poly_coefs_e = poly_coefs[::2]\n",
        "  poly_coefs_o = poly_coefs[1::2]\n",
        "  y_e = FFT_using_exist_omega(poly_coefs_e, q, lookup)\n",
        "  y_o = FFT_using_exist_omega(poly_coefs_o, q, lookup)\n",
        "  y = [0] * n\n",
        "  for j in range(int(n/2)):\n",
        "    y[j] = int(y_e[j] + (omega**j)*y_o[j]) % q\n",
        "    y[j + int(n/2)] = int(y_e[j] - (omega**j)*y_o[j]) % q\n",
        "  return y\n",
        "\n",
        "FFT_using_exist_omega(poly_coefs, q, lookup)"
      ],
      "metadata": {
        "colab": {
          "base_uri": "https://localhost:8080/"
        },
        "id": "YSTh_jgY67Vj",
        "outputId": "a0912227-60ee-40d3-beec-0c49187697cf"
      },
      "execution_count": 7,
      "outputs": [
        {
          "output_type": "stream",
          "name": "stdout",
          "text": [
            "n = 4, omega = 4\n",
            "n = 2, omega = 16\n",
            "n = 2, omega = 16\n"
          ]
        },
        {
          "output_type": "execute_result",
          "data": {
            "text/plain": [
              "[14, 10, 0, 1]"
            ]
          },
          "metadata": {},
          "execution_count": 7
        }
      ]
    },
    {
      "cell_type": "markdown",
      "source": [
        "### Inverse Fast Fourier Transformation(IFFT)\n",
        "We have used FFT to achieve fast transformation from coefficient to evaluation. Now we will implement the inverse transformation, which is from evaluation to coefficient with slightly changing in the algorithm: update $\\omega$ to $\\frac{1}{n}\\omega^{-1}$\n",
        "\n",
        "detailed info: https://decentralizedthoughts.github.io/2023-09-01-FFT/#mjx-eqn-%5Cstar"
      ],
      "metadata": {
        "id": "sMtOeR_0RGfu"
      }
    },
    {
      "cell_type": "code",
      "source": [
        "# inverse the lookup table\n",
        "# the only thing we need to modify in FFT is to update its omega\n",
        "omega_list = [1,2,4,8,16,15,13,9]\n",
        "\n",
        "def inverse_omega_list(omega_list, q):\n",
        "  inverse_omega_list = []\n",
        "  for i in omega_list:\n",
        "    for candidate in omega_list:\n",
        "      if i*candidate%q == 1:\n",
        "        inverse_omega_list.append(candidate)\n",
        "  return inverse_omega_list\n",
        "\n",
        "inverse_omega_list = inverse_omega_list(omega_list, q)\n",
        "print(f'inverse omega list is {inverse_omega_list}')\n",
        "inverse_lookup = build_lookup_table(n_max, inverse_omega_list)\n",
        "print(f'lookup table of list of omega is {inverse_lookup}')"
      ],
      "metadata": {
        "colab": {
          "base_uri": "https://localhost:8080/"
        },
        "id": "rKQc8bxpfD1T",
        "outputId": "45f50daa-436f-4dee-92cf-c6f224ee9d60"
      },
      "execution_count": 8,
      "outputs": [
        {
          "output_type": "stream",
          "name": "stdout",
          "text": [
            "inverse omega list is [1, 9, 13, 15, 16, 8, 4, 2]\n",
            "lookup table of list of omega is {8: [1, 9, 13, 15, 16, 8, 4, 2], 4: [1, 13, 16, 4], 2: [1, 16]}\n"
          ]
        }
      ]
    },
    {
      "cell_type": "code",
      "source": [
        "# revise FFT using omega lookup table\n",
        "def IFFT_using_exist_omega(poly_coefs, q, inverse_lookup):\n",
        "  '''\n",
        "  Args:\n",
        "  poly_coefs: coefficient representation of the polynomial\n",
        "  lookup: pre-determined omega list\n",
        "\n",
        "  Returns:\n",
        "  y: evaluation form of the polynomial\n",
        "  '''\n",
        "  # get the degree of the polynomial\n",
        "  n = len(poly_coefs)\n",
        "  if n == 1:\n",
        "    return poly_coefs\n",
        "\n",
        "  # in theory, omega should be the nth root of unity, which is a complex number\n",
        "  # to use it in finite field, we use a algorithm here\n",
        "  omega = inverse_lookup[n][1] / n\n",
        "  print(f'n = {n}, omega = {omega}')\n",
        "  poly_coefs_e = poly_coefs[::2]\n",
        "  poly_coefs_o = poly_coefs[1::2]\n",
        "  y_e = IFFT_using_exist_omega(poly_coefs_e, q, inverse_lookup)\n",
        "  y_o = IFFT_using_exist_omega(poly_coefs_o, q, inverse_lookup)\n",
        "  y = [0] * n\n",
        "  for j in range(int(n/2)):\n",
        "    y[j] = int(y_e[j] + (omega**j)*y_o[j]) % q\n",
        "    y[j + int(n/2)] = int(y_e[j] - (omega**j)*y_o[j]) % q\n",
        "  return y\n",
        "\n",
        "FFT_using_exist_omega(poly_coefs, q, inverse_lookup)"
      ],
      "metadata": {
        "colab": {
          "base_uri": "https://localhost:8080/"
        },
        "id": "QnHXq61yRFC7",
        "outputId": "6e7429f9-ba12-4a93-89b2-5b62de32f95a"
      },
      "execution_count": 9,
      "outputs": [
        {
          "output_type": "stream",
          "name": "stdout",
          "text": [
            "n = 4, omega = 13\n",
            "n = 2, omega = 16\n",
            "n = 2, omega = 16\n"
          ]
        },
        {
          "output_type": "execute_result",
          "data": {
            "text/plain": [
              "[14, 1, 0, 10]"
            ]
          },
          "metadata": {},
          "execution_count": 9
        }
      ]
    },
    {
      "cell_type": "markdown",
      "source": [
        "# KZG Implementation(Python Version)\n",
        "\n",
        "The KZG Commitment Scheme is a commitment scheme that allows to commit to a polynomial $\\Phi(x) = \\phi_0 +\\phi_1x+\\phi_2x^2+...+\\phi_lx^l$, where $\\Phi(x) \\in F_p[x]$ . 'to commit' means proving that you know the polynomial $\\Phi(x)$ without revealing it.\n",
        "\n",
        "The KZG commitment scheme consists of 4 steps:\n",
        "1. Setup\n",
        "2. Commit to Polynomials\n",
        "3. Prove an Evaluation\n",
        "4. Verify an Evaluation Proof"
      ],
      "metadata": {
        "id": "6-LT_CUcF5sj"
      }
    },
    {
      "cell_type": "markdown",
      "source": [
        "## Step 1: Setup\n",
        "\n",
        "The first step is an one-time trusted setup and once it has done once, the following steps can be done repeatedly\n",
        "1. Let $G_1$ and $G_2$ be pairing-friendly elliptic curve groups, determined by curve BLS12-381\n",
        "2. Let $g_1$ be a generator of $G_1$ and $g_2$ be a generator of $G_2$\n",
        "3. Let $l$ be the maximum degree of the polymonials we want to commit to ($l < p$)\n",
        "4. Pick a random field element as secret parameter $\\tau \\in F_p$(usually done by MPC, to simplify, we just randomly choose one here)\n",
        "5. Compute pp(public parameters, including proving key $pk$, and verifying key $vk$)$$pk = (g_1, g_1^\\tau, g_1^{\\tau^2},...,g_1^{\\tau^l}), vk = g_2^\\tau$$ and release it publicly\n",
        "6. Discard secret parameter $\\tau$ once the setup ceremony is done so that nobody can figure out its value"
      ],
      "metadata": {
        "id": "CbNVAepyHO4g"
      }
    },
    {
      "cell_type": "code",
      "source": [
        "from py_ecc.bls12_381 import G1, G2, multiply\n",
        "from py_ecc.fields import bls12_381_FQ as FQ\n",
        "import random\n",
        "\n",
        "# 1. Let G1,G2 be pairing-friendly elliptic curve groups, which are determined by the curve\n",
        "\n",
        "# 2. Let g be a generator of G\n",
        "g1 = G1\n",
        "g2 = G2\n",
        "\n",
        "# 3. Let l be the maximum degree of the polymonials, which is 16\n",
        "l = 16\n",
        "\n",
        "# 4. Pick a random field element as secret parameter t\n",
        "p = 0x1a0111ea397fe69a4b1ba7b6434bacd764774b84f38512bf6730d2a0f6b0f6241eabfffeb153ffffb9feffffffffaaab\n",
        "t = FQ(random.randint(0, p))\n",
        "print(f'secret parameter 𝜏 is {t}')\n",
        "\n",
        "# 5. Compute pp(public parameters)\n",
        "def compute_public_parameters(g1, g2, t, l):\n",
        "\n",
        "    pk = []\n",
        "    accumulated = 1\n",
        "    t_scalar = t\n",
        "    for i in range(l + 1):\n",
        "        # calculate g1, g1^t, g1^{t^2}...\n",
        "        pk.append(multiply(g1, int(accumulated)))\n",
        "        # calculate the exponential t, t^2, t^3, ...\n",
        "        accumulated = accumulated * t_scalar\n",
        "    vk = multiply(g2, int(t))\n",
        "    return pk, vk\n",
        "\n",
        "pk, vk = compute_public_parameters(g1, g2, t, l)\n",
        "print(f'proving key pk: {pk}')\n",
        "print(f'verifying key vk: {vk}')"
      ],
      "metadata": {
        "colab": {
          "base_uri": "https://localhost:8080/"
        },
        "id": "baZh9HlYEN25",
        "outputId": "e1366673-210f-4356-f53c-83437266cc0c"
      },
      "execution_count": 19,
      "outputs": [
        {
          "output_type": "stream",
          "name": "stdout",
          "text": [
            "secret parameter 𝜏 is 3525143383111257979687015319719243786213990269915639474484138532903639193129792096397288053905983697756704309647921\n",
            "proving key pk: [(3685416753713387016781088315183077757961620795782546409894578378688607592378376318836054947676345821548104185464507, 1339506544944476473020471379941921221584933875938349620426543736416511423956333506472724655353366534992391756441569), (1486012721171690423013464738448575538311583478181912304566703523968968835282639974257357238361983000967467203022550, 849714671001062444732669169206228425838892600223298421945761445627749278352025197412569807038429219041936829213431), (3555308390744221731113487032868862044576237980834490818144862453660453776169354074455207379784773045944503517709239, 959845449845432274022367317737675902920108130870428622794104833863023620990760748277778031083463158177905088510850), (2258538544870085382776243974123039653665828497048638309463793706416502243809232876675009596968492598575380540465123, 1178593544002628669250065035802854914606544028821844529676372953403362801543050153805282878765293326684337379664502), (2301537505078005160447493660553725268617316915856852572595996564202348062882388079221019156684026376896838232662626, 1764523233231153124122717413105916220930743293049030978642418920798633025102958048224023700660572035727787131371053), (2744415362086358731823662176425135448837708309739256573232565687320733930985625288244537376031786120091898055196693, 3324890382076989681182874452928195436615383060327151867649748649117402718608229297036098810983176846685312969925457), (2112282017696028481213778038901067447642943017858740868346644193712268094173065688293595664215295896131329589802887, 1749046709531197196313470914079029381549447049270731699752110705920269801917321567483578857040674433631221442235822), (183729405440561499388458581859953968341698217756924161500833758707129197726111364068552174253156237617479654778797, 480861716692300736862392344118278176707729347424921503327129567927786094934557141010355099270029453896264548568127), (758640861660535912930769390022764508657269944846164602439706009384470491783150844005586437187772164794247503096459, 281761641641825726835253564367031749873133768447347687203640805440803716902242303888671672970606840125457561714762), (2177344025188999783146949757541699172469940025225378757816287797224818891304709699271854205992561220719740367289346, 3458148920835597602206203076514221919738402658416898301436831985403095021015542717729603041076795618015879305121193), (780265720904931545491113177999648752520387807049032527399229518507929200268229203493376090829603854758036367525719, 1754327149600116530075550550349152502135068319709272151099985248313449973784955395452717844495096375323414071773253), (2962979641379761305487730657940725197828776717401249018105259249951998640636285456355521068899317641820476995533217, 312185603518482503522364711479410141423632292310392797391488959511840934559728740971194194854131987969247097355867), (2676835691177034456077900287803515930280093147816405136459545557888243436890324506858834713287922387509282169414013, 3649053557186835092574982201400080409876638115902047169844036213411788617303665738350002618407221267479968494543005), (3637009889202509351353340023696356172104106421536437728134463922506086505649835674287247018897728050840720338396859, 79635310604027084733622739061826853238564137394240338554826800182818924698290673385230737285704044870972174175502), (3366437011909599728716646494450669620562643907090717999671354273902538917265134954732413058703073764650016500585675, 1838672643128280605070536459466784649655223699164302195720202983175024655990558839209768989537575611207509569326300), (3850807566770424396234881717291937376058541994355440641030173371676252479201560289623840162758813266562124305412507, 1514832207957686984056340657394563627664242765658472269502089811977336090932287342297180394159081924375226291282380), (2856067310208030314903641207273384948404801005395560329020989854410850504732453605839966529331691583768440456767373, 3513618196125462619967104870938956711050819724614964573992813781580587780318130589187117131360990567259175121143961)]\n",
            "verifying key vk: ((3282729855184697085852951365011389596644427089486998412593263907893632562398256178804304423715692309719509883996327, 991695070197856976381009428412937625016294940244886733060283238827236223790677429645610087369547346549716841808713), (832155294608971809185074044486818023210293474446745449451567110824894154696986701639821014355080822468662197396851, 1162072628699403845505053226873284207550448009136935229026954266922113245375901982853851043442433148465662800022))\n"
          ]
        }
      ]
    },
    {
      "cell_type": "markdown",
      "source": [
        "## Step 2: Commit to Polynomials\n",
        "In reality, we arithmetize circuits and use Plonkish to get polynomials in this step\n",
        "1. Given a polynomial $\\Phi(x) = \\sum_{i=0}^l \\phi_i x^i$\n",
        "2. Compute and output commitment $c = g^{\\Phi(\\tau)}$\n",
        "   - Wait! $\\tau$ has already been discard right? How can committer compute $\\tau$?\n",
        "   - Although he cannot compute $\\Phi(\\tau)$ directly, he can use public parameters to help with it:\n",
        "$$\\prod_{i=0}^l(g^{\\tau^i})^{\\phi_i} = g^{\\sum_{i=0}^l \\phi_i \\tau^i} = g^{\\Phi(\\tau)}$$"
      ],
      "metadata": {
        "id": "PZLYRSg7NdAZ"
      }
    },
    {
      "cell_type": "code",
      "source": [
        "# assume we have done plonk and get our polynomial Φ(𝑥)=4x^2+5x+3 and some point (0,3),(1,12),(3,54) on the poly\n",
        "# poly_coefs = [3, 5, 4]\n",
        "poly_point = [(0,3),(1,12),(2,29)]"
      ],
      "metadata": {
        "id": "tDDoK2qNEXas"
      },
      "execution_count": 20,
      "outputs": []
    },
    {
      "cell_type": "code",
      "source": [
        "# create a polynomial ring F_p(x)\n",
        "F_p_x.<x> = PolynomialRing(F_p)\n",
        "F_p_x"
      ],
      "metadata": {
        "id": "DXh4eZH4NncH"
      },
      "execution_count": null,
      "outputs": []
    },
    {
      "cell_type": "markdown",
      "source": [
        "# Plonk Implementation(Python Version)\n",
        "\n",
        "## Problem Definition\n",
        "\n",
        "We take **Square-Fibonacci** as an example to demonstrate the process of proof generation\n",
        "\n",
        "Defination of Square-Fibonacci Problem:\n",
        "- Let $f_0 = 1, f_1 = 1$\n",
        "- For $i \\ge 2$, define $f_i:=(f_{i-2})^2+(f_{i-1})^2 \\ mod \\ q$\n",
        "    - $q$ is a large prime integer, used to bound the size of each element, so that it can be represented by some predetermined number of bits.\n",
        "\n",
        "Let $n$ be some very large integer. For convenience, we assume $n$ is a power of 2\n",
        "\n",
        "Let $k$ be the $n^{th}$ Square-Fibonacci number\n",
        "\n",
        "**Our goal**: generate an efficiently-verifiable proof $\\pi$ showing that indeed $k$ is the $n^{th}$ Square-Fibonacci number(i.e. $f_n = k$)\n",
        "\n",
        "## Phases of Proof Generation\n",
        "The Plonk-based proof generation consists of 3 steps:\n",
        "1. Filling in the trace table\n",
        "2. Committing to the trace table\n",
        "3. Proving the trace table's correctness"
      ],
      "metadata": {
        "id": "di927G65Ye1J"
      }
    },
    {
      "cell_type": "code",
      "source": [
        "# some basic statement\n",
        "# we assume q = p here, that is polynomial is defined over p\n",
        "q = p\n",
        "\n",
        "# assume we hope to prove '8th Square-Fibonacci number is k'\n",
        "n = 8\n",
        "k = FQ(317754178345286893212434)\n",
        "\n",
        "# according to defination, f(0) = 1, f(1) = 1\n",
        "f_0 = FQ(1)\n",
        "f_1 = FQ(1)"
      ],
      "metadata": {
        "id": "t1-8SzICYley"
      },
      "execution_count": 24,
      "outputs": []
    },
    {
      "cell_type": "markdown",
      "source": [
        "## Step 1: Filling in the Trace Table\n",
        "The trace table is a 2-dimensional matrix where 'witness' or 'trace' is written down, that is (n rows * 5 cols)\n",
        "- 5 columns:\n",
        "    - $A, B, C$: represent witness data / private input, each row lists 3 sequential Sequare-Fibonacci numbers\n",
        "        - e.g. the $i^{th}$ row $(f_i, f_{i+1}, f_{i+2})$ is a witness for $(i+2)^{th}$ Sequare-Fibonacci number\n",
        "    - $S$: represents selector column, indicating a certain mathmatical relation should hold over the element of the row.\n",
        "        - $1$ represents the first 3 elements of the row $(a, b, c)$ must satisfy $c = a^2 + b^2 \\ mod \\ q$\n",
        "        - $0$ represents the condition does not need to be satisfied.\n",
        "    - $P$: represents public inputs, inputs to the circuit that are public known.\n",
        "        - e.g. the first two values of the sequence $f_0, f_1$ and $k$ as the value to be proved\n",
        "- n rows: left a blank row, so that the height of the table becomes $n$, an even power of 2\n",
        "    - $1^{st}$ row: $f_0, f_1, f_2, 1, f_0$\n",
        "    - $2^{nd}$ row: $f_1, f_2, f_3, 1, f_1$\n",
        "    - $3^{rd}$ row: $f_2, f_3, f_4, 1, k$\n",
        "    - ...\n",
        "    - $(n-2)^{th}$ row: $f_{n-2}, f_{n-1}, f_n, 1, \"\" $\n",
        "    - $(n-1)^{th}$ row: $\"\", \"\", \"\", 0, \"\"$\n",
        "\n",
        "Next step is to fill in the trace table: either copy or compute over $F_q$"
      ],
      "metadata": {
        "id": "xTmgCmhGZ8SQ"
      }
    },
    {
      "cell_type": "code",
      "source": [
        "# generate witness/fill in the trace table\n",
        "def witness_generation(f_0, f_1, k, n):\n",
        "\n",
        "    trace_table = []\n",
        "\n",
        "    # init col A, B, C, S\n",
        "    f_a = f_0\n",
        "    f_b = f_1\n",
        "    f_c = f_b\n",
        "    S = FQ(1)\n",
        "\n",
        "    for i in range(n-1):\n",
        "        f_a = f_b\n",
        "        f_b = f_c\n",
        "        f_c = f_a**2 + f_b**2\n",
        "        trace_table.append([f_a, f_b, f_c, S, -1])\n",
        "\n",
        "    # add a blank row to get n row\n",
        "    S = 0\n",
        "    trace_table.append([-1, -1, -1, S, -1])\n",
        "\n",
        "    # add public parameters\n",
        "    trace_table[0][4] = f_0\n",
        "    trace_table[1][4] = f_1\n",
        "    trace_table[2][4] = k\n",
        "\n",
        "    return trace_table\n",
        "\n",
        "trace_table = witness_generation(f_0, f_1, k, n)\n",
        "\n",
        "print(f\"trace table is:\")\n",
        "for A, B, C, S, P in trace_table:\n",
        "    print(\"{:25} {:25} {:25} {:25} {:25}\".format(int(A), int(B), int(C), int(S), int(P)))"
      ],
      "metadata": {
        "colab": {
          "base_uri": "https://localhost:8080/"
        },
        "id": "n7QfVLCaZwpy",
        "outputId": "9e645bc4-42c1-4d7f-dcd2-6e1f2be56076"
      },
      "execution_count": 36,
      "outputs": [
        {
          "output_type": "stream",
          "name": "stdout",
          "text": [
            "trace table is:\n",
            "                        1                         1                         2                         1                         1\n",
            "                        1                         2                         5                         1                         1\n",
            "                        2                         5                        29                         1  317754178345286893212434\n",
            "                        5                        29                       866                         1                        -1\n",
            "                       29                       866                    750797                         1                        -1\n",
            "                      866                    750797              563696885165                         1                        -1\n",
            "                   750797              563696885165  317754178345286893212434                         1                        -1\n",
            "                       -1                        -1                        -1                         0                        -1\n"
          ]
        }
      ]
    },
    {
      "cell_type": "markdown",
      "source": [
        "## Step 2: Commit to the Trace Table\n",
        "\n",
        "### interpret the trace table columns as polynomials\n",
        "\n",
        "Each column can be considered as a length-$n$ vector of finite field elements $\\rightarrow$ this vector can be regarded as the evaluation form of a polynomial $A(x)$ with degree $(n-1)$: the $i^{th}$ element of $A$ corresponds to the evaluation $A(\\omega^i)$, where $\\omega \\in F_q$ is **$n^{th}$ root of unity** and has order $n$"
      ],
      "metadata": {
        "id": "sZbfYqpXc9ff"
      }
    },
    {
      "cell_type": "code",
      "source": [
        "# find a subgroup whose order = n\n",
        "# def find_nth_root_of_unity(F_q, n):\n",
        "\n",
        "#     while True:\n",
        "#         w = F_q.random_element()\n",
        "#         if w.multiplicative_order() == n:\n",
        "#             break\n",
        "#         else:\n",
        "#             print(f'w = {w}, whose order is {w.multiplicative_order()}, not statified')\n",
        "#     return w\n",
        "\n",
        "# w = find_nth_root_of_unity(F_q, n)\n",
        "# print(w)\n",
        "\n",
        "# find a group: {1,2,4,7,8,11,13,14}\n",
        "w_list = [1,2,4,7,8,11,13,14]\n",
        "\n",
        "# interpreting the trace table columns as polynomials, and represent the polynomials as evaluation form\n",
        "evaluation_form = []\n",
        "for row in range(len(trace_table)):\n",
        "    evaluation_form_row = []\n",
        "    for col in range(len(trace_table[0])):\n",
        "        val = trace_table[row][col]\n",
        "        evaluation_form_row.append((w_list[row], val))\n",
        "    evaluation_form.append(evaluation_form_row)\n",
        "print(evaluation_form)"
      ],
      "metadata": {
        "colab": {
          "base_uri": "https://localhost:8080/"
        },
        "id": "bDpQon6qaMTL",
        "outputId": "d72c6e8a-324f-4ad1-8855-1b7b1efe24a1"
      },
      "execution_count": 37,
      "outputs": [
        {
          "output_type": "stream",
          "name": "stdout",
          "text": [
            "[[(1, 1), (1, 1), (1, 2), (1, 1), (1, 1)], [(2, 1), (2, 2), (2, 5), (2, 1), (2, 1)], [(4, 2), (4, 5), (4, 29), (4, 1), (4, 317754178345286893212434)], [(7, 5), (7, 29), (7, 866), (7, 1), (7, -1)], [(8, 29), (8, 866), (8, 750797), (8, 1), (8, -1)], [(11, 866), (11, 750797), (11, 563696885165), (11, 1), (11, -1)], [(13, 750797), (13, 563696885165), (13, 317754178345286893212434), (13, 1), (13, -1)], [(14, -1), (14, -1), (14, -1), (14, 0), (14, -1)]]\n"
          ]
        }
      ]
    },
    {
      "cell_type": "code",
      "source": [],
      "metadata": {
        "id": "h07iYzjXdf0U"
      },
      "execution_count": null,
      "outputs": []
    }
  ]
}