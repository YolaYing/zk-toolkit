{
  "nbformat": 4,
  "nbformat_minor": 0,
  "metadata": {
    "colab": {
      "provenance": [],
      "collapsed_sections": [
        "XDSUSR7mEtlN",
        "V_bza7lHgToL",
        "gLEGo27ZlBNe",
        "_ehvn42joM_b"
      ],
      "authorship_tag": "ABX9TyPVj6CUTEABirseWbOwMyky",
      "include_colab_link": true
    },
    "kernelspec": {
      "name": "python3",
      "display_name": "Python 3"
    },
    "language_info": {
      "name": "python"
    }
  },
  "cells": [
    {
      "cell_type": "markdown",
      "metadata": {
        "id": "view-in-github",
        "colab_type": "text"
      },
      "source": [
        "<a href=\"https://colab.research.google.com/github/YolaYing/zk-toolkit/blob/main/Plonk%2BKZG_Implementation(Python_Version).ipynb\" target=\"_parent\"><img src=\"https://colab.research.google.com/assets/colab-badge.svg\" alt=\"Open In Colab\"/></a>"
      ]
    },
    {
      "cell_type": "markdown",
      "source": [
        "# Develope Environment Preparation\n",
        "Curve we used is BLS12-381\n",
        "- Library we used: BLS21-381 curve implemented by Ethereum, using Python\n",
        "- Lib link: https://github.com/ethereum/py_ecc/tree/main\n",
        "\n",
        "You can use the following command to install all the packages we needed. Note that if you are using anaconda, package installation may be failed. Highly recommand using colab or some development friendly environment."
      ],
      "metadata": {
        "id": "XDSUSR7mEtlN"
      }
    },
    {
      "cell_type": "code",
      "execution_count": 2,
      "metadata": {
        "colab": {
          "base_uri": "https://localhost:8080/"
        },
        "id": "FDe0iCZyEKD3",
        "outputId": "7f8a6092-69be-4a0d-b773-de04013fcb05"
      },
      "outputs": [
        {
          "output_type": "stream",
          "name": "stdout",
          "text": [
            "Collecting py_ecc\n",
            "  Downloading py_ecc-7.0.0-py3-none-any.whl (43 kB)\n",
            "\u001b[2K     \u001b[90m━━━━━━━━━━━━━━━━━━━━━━━━━━━━━━━━━━━━━━━━\u001b[0m \u001b[32m43.6/43.6 kB\u001b[0m \u001b[31m639.6 kB/s\u001b[0m eta \u001b[36m0:00:00\u001b[0m\n",
            "\u001b[?25hCollecting eth-typing>=3.0.0 (from py_ecc)\n",
            "  Downloading eth_typing-3.5.2-py3-none-any.whl (14 kB)\n",
            "Collecting eth-utils>=2.0.0 (from py_ecc)\n",
            "  Downloading eth_utils-2.3.1-py3-none-any.whl (77 kB)\n",
            "\u001b[2K     \u001b[90m━━━━━━━━━━━━━━━━━━━━━━━━━━━━━━━━━━━━━━━━\u001b[0m \u001b[32m77.8/77.8 kB\u001b[0m \u001b[31m3.6 MB/s\u001b[0m eta \u001b[36m0:00:00\u001b[0m\n",
            "\u001b[?25hCollecting cached-property>=1.5.1 (from py_ecc)\n",
            "  Downloading cached_property-1.5.2-py2.py3-none-any.whl (7.6 kB)\n",
            "Requirement already satisfied: typing-extensions>=4.0.1 in /usr/local/lib/python3.10/dist-packages (from eth-typing>=3.0.0->py_ecc) (4.5.0)\n",
            "Collecting eth-hash>=0.3.1 (from eth-utils>=2.0.0->py_ecc)\n",
            "  Downloading eth_hash-0.5.2-py3-none-any.whl (8.6 kB)\n",
            "Collecting cytoolz>=0.10.1 (from eth-utils>=2.0.0->py_ecc)\n",
            "  Downloading cytoolz-0.12.2-cp310-cp310-manylinux_2_17_x86_64.manylinux2014_x86_64.whl (1.9 MB)\n",
            "\u001b[2K     \u001b[90m━━━━━━━━━━━━━━━━━━━━━━━━━━━━━━━━━━━━━━━━\u001b[0m \u001b[32m1.9/1.9 MB\u001b[0m \u001b[31m30.3 MB/s\u001b[0m eta \u001b[36m0:00:00\u001b[0m\n",
            "\u001b[?25hRequirement already satisfied: toolz>=0.8.0 in /usr/local/lib/python3.10/dist-packages (from cytoolz>=0.10.1->eth-utils>=2.0.0->py_ecc) (0.12.0)\n",
            "Installing collected packages: cached-property, eth-typing, eth-hash, cytoolz, eth-utils, py_ecc\n",
            "Successfully installed cached-property-1.5.2 cytoolz-0.12.2 eth-hash-0.5.2 eth-typing-3.5.2 eth-utils-2.3.1 py_ecc-7.0.0\n"
          ]
        }
      ],
      "source": [
        "!pip3 install py_ecc"
      ]
    },
    {
      "cell_type": "markdown",
      "source": [
        "# Preliminaries\n"
      ],
      "metadata": {
        "id": "F8XQWxyrf_a9"
      }
    },
    {
      "cell_type": "markdown",
      "source": [
        "## Form of Polynomial Representations(using baby parameters for demonstration)\n",
        "\n",
        "A polynomial $\\Phi(x) = \\sum_{i = 0}^{n - 1} \\phi_ix^i$ have two representation forms:\n",
        "1. Coefficient Form\n",
        "  - $\\Phi(x)$ can be represeneted as a tuple of $n$ coefficients: $[\\phi_0, \\phi_1, ..., \\phi_{n-1}]$\n",
        "2. Evaluation Form\n",
        "  - $\\Phi(x)$ can be represeneted as a tuple of $n$ distinct evaluations: $[\\Phi(x_0), \\Phi(x_1), ..., \\Phi(x_{n-1})]$\n",
        "    - the set of values $\\\\{ x_0, x_1, ..., x_{n-1} \\\\}$ over which the polynomial is defined over is known as \"evaluation domain\""
      ],
      "metadata": {
        "id": "V_bza7lHgToL"
      }
    },
    {
      "cell_type": "code",
      "source": [
        "# For example, assume we have a polynomial Φ(𝑥)=4x^3+5x^2+3x+2 and some points on the polynomials\n",
        "poly_coefs = [2, 3, 5, 4]\n",
        "evaluation_domain = [1, 4, 16, 13]\n",
        "poly_evals = [14, 10, 0, 1]\n",
        "\n",
        "print(f'coefficient form of phi(x) is {poly_coefs}')\n",
        "print(f'evaluation form of phi(x) is {poly_evals}, defined over evaluation domain {evaluation_domain}')"
      ],
      "metadata": {
        "colab": {
          "base_uri": "https://localhost:8080/"
        },
        "id": "5cPrvhiMkGQo",
        "outputId": "c26710ac-daa9-4ecd-b437-0f6dd8adf639"
      },
      "execution_count": 16,
      "outputs": [
        {
          "output_type": "stream",
          "name": "stdout",
          "text": [
            "coefficient form of phi(x) is [2, 3, 5, 4]\n",
            "evaluation form of phi(x) is [14, 10, 0, 1], defined over evaluation domain [1, 4, 16, 13]\n"
          ]
        }
      ]
    },
    {
      "cell_type": "markdown",
      "source": [
        "## Convert between Coefficient Form and Evaluation Form\n",
        "\n",
        "### Defination\n",
        "- **Fourier Transform**: convert from coefficient to evaluation\n",
        "- **inverse Fourier Transform**: convert from evaluation to coefficient\n",
        "\n",
        "\n",
        "### Naive Way\n",
        "In naive way, each of those two transformation takes $O(n^2)$ computation\n",
        "- **Fourier Transform**: evaluate $\\Phi(x)$ at each $x_i$ in the evaluation domain\n",
        "- **inverse Fourier Transform**: use *Lagrange Interpolation* to obtain unique degree $(n-1)$ polynomial passes through each of the $n$ points\n",
        "\n",
        "\n",
        "### Optimized Way: Fast Fourier Transformation(FFT)\n",
        "To improve the effectiveness of the transformation, we need to do the following steps:\n",
        "- defined polynomials over finite field\n",
        "  - restrict each coefficient $p_i \\in F_q$ and each evaluation point $\\Phi(x_i) \\in F_q$\n",
        "  - $q$ stands for curve order\n",
        "- defined the evaluation domain as a multiplicative subgroup of $F_q$\n",
        "  - evaluation domain is a set of \"$n^{th}$ roots of unity\", $\\{ \\omega_0, \\omega_1, ..., \\omega_{n-1} \\}$ for some element $\\omega \\in F_q$ with order $n$(i.e. $\\omega^n = 1$ mod $q$)\n",
        "- implementation of FFT algorithm\n",
        "  - if you are not familiar with FFT, highly recommend this video: https://www.youtube.com/watch?v=h7apO7q16V0"
      ],
      "metadata": {
        "id": "gLEGo27ZlBNe"
      }
    },
    {
      "cell_type": "code",
      "source": [
        "import random\n",
        "\n",
        "def FFT(poly_coefs, q):\n",
        "  '''\n",
        "  Args:\n",
        "  poly_coefs: coefficient representation of the polynomial\n",
        "\n",
        "  Returns:\n",
        "  y: evaluation form of the polynomial\n",
        "  '''\n",
        "  # get the degree of the polynomial\n",
        "  n = len(poly_coefs)\n",
        "  if n == 1:\n",
        "    return poly_coefs\n",
        "\n",
        "  # in theory, omega should be the nth root of unity, which is a complex number\n",
        "  # to use it in finite field, we use a algorithm here\n",
        "  omega = find_nth_root_of_unity(n, q)\n",
        "  print(f'{n}^th of unity is {omega}')\n",
        "  poly_coefs_e = poly_coefs[::2]\n",
        "  poly_coefs_o = poly_coefs[1::2]\n",
        "  y_e = FFT(poly_coefs_e, q)\n",
        "  y_o = FFT(poly_coefs_o, q)\n",
        "  y = [0] * n\n",
        "  for j in range(int(n/2)):\n",
        "    y[j] = int(y_e[j] + (omega**j)*y_o[j]) % q\n",
        "    y[j + int(n/2)] = int(y_e[j] - (omega**j)*y_o[j]) % q\n",
        "  return y\n",
        "\n",
        "\n",
        "def find_nth_root_of_unity(n, q):\n",
        "  '''\n",
        "  Args:\n",
        "  n: nth root of unity, which is the degree of polynomial\n",
        "  q: finite field q\n",
        "\n",
        "  Returns:\n",
        "  omega: the nth root of unity, which is a element in finite field\n",
        "  '''\n",
        "  omega = 1\n",
        "  while(omega**(n/2) == 1 and omega != 0):\n",
        "    x = random.randint(0, q)\n",
        "    omega = x**((q-1)/n) % q\n",
        "  return omega\n",
        "\n",
        "print(f'coefficient form of phi(x) is {poly_coefs}, after FFT, we can get the evaluation form of phi(x) is {FFT(poly_coefs, 17)}')\n",
        ""
      ],
      "metadata": {
        "colab": {
          "base_uri": "https://localhost:8080/"
        },
        "id": "uUFr9iQO4G7v",
        "outputId": "3c9117f1-489d-4bf2-b8dc-c25051d7468b"
      },
      "execution_count": 17,
      "outputs": [
        {
          "output_type": "stream",
          "name": "stdout",
          "text": [
            "4^th of unity is 13.0\n",
            "2^th of unity is 16.0\n",
            "2^th of unity is 16.0\n",
            "coefficient form of phi(x) is [2, 3, 5, 4], after FFT, we can get the evaluation form of phi(x) is [14, 1, 0, 10]\n"
          ]
        }
      ]
    },
    {
      "cell_type": "code",
      "source": [
        "# verification of FFT result\n",
        "omega = 13\n",
        "q = 17\n",
        "for i in range(len(poly_coefs)):\n",
        "    x = omega**i % q\n",
        "    print(f'x = {x}, poly(x) = {(4*(x**3)+5*(x**2)+3*x+2) % q}')"
      ],
      "metadata": {
        "colab": {
          "base_uri": "https://localhost:8080/"
        },
        "id": "YFE5EEwYJ-7l",
        "outputId": "de629273-a407-4851-8ffb-1c0fa55f9e0b"
      },
      "execution_count": 18,
      "outputs": [
        {
          "output_type": "stream",
          "name": "stdout",
          "text": [
            "x = 1, poly(x) = 14\n",
            "x = 13, poly(x) = 1\n",
            "x = 16, poly(x) = 0\n",
            "x = 4, poly(x) = 10\n"
          ]
        }
      ]
    },
    {
      "cell_type": "markdown",
      "source": [
        "Because the calculation of finding evaluation domain is a repeated and computation intensive step, so usually we just build a lookup table to store the pre-calculated result. Here we just slightly revise FFT algorithm to meet the lookup needs."
      ],
      "metadata": {
        "id": "NiwOdwl7qZ-u"
      }
    },
    {
      "cell_type": "code",
      "source": [
        "# omega generation can be quite computational intensive, so we tend to pre-calculate the lookup table for omega\n",
        "# we assume n = 8, and we have a multiplication cyclic group with ord = 8, which is [1,2,4,8,16,15,13,9] with 2 as its generator and 17 as module\n",
        "\n",
        "# create a lookup table\n",
        "n_max = 8\n",
        "q = 17\n",
        "omega_list = [1,2,4,8,16,15,13,9]\n",
        "\n",
        "def build_lookup_table(n, omega_list):\n",
        "  lookup = {}\n",
        "  lookup[n] = omega_list\n",
        "  while n > 2:\n",
        "    n = int(n/2)\n",
        "    omega_list = omega_list[::2]\n",
        "    lookup[n] = omega_list\n",
        "  return lookup\n",
        "\n",
        "lookup  = build_lookup_table(n_max, omega_list)\n",
        "print(f'lookup table of list of omega is {lookup}')"
      ],
      "metadata": {
        "colab": {
          "base_uri": "https://localhost:8080/"
        },
        "id": "Djcz086abXKe",
        "outputId": "0a4901e8-ffd1-4ac9-ceeb-ba1d2276856c"
      },
      "execution_count": 6,
      "outputs": [
        {
          "output_type": "stream",
          "name": "stdout",
          "text": [
            "lookup table of list of omega is {8: [1, 2, 4, 8, 16, 15, 13, 9], 4: [1, 4, 16, 13], 2: [1, 16]}\n"
          ]
        }
      ]
    },
    {
      "cell_type": "code",
      "source": [
        "# revise FFT using omega lookup table\n",
        "def FFT_using_exist_omega(poly_coefs, q, lookup):\n",
        "  '''\n",
        "  Args:\n",
        "  poly_coefs: coefficient representation of the polynomial\n",
        "  lookup: pre-determined omega list\n",
        "\n",
        "  Returns:\n",
        "  y: evaluation form of the polynomial\n",
        "  '''\n",
        "  # get the degree of the polynomial\n",
        "  n = len(poly_coefs)\n",
        "  if n == 1:\n",
        "    return poly_coefs\n",
        "\n",
        "  # in theory, omega should be the nth root of unity, which is a complex number\n",
        "  # to use it in finite field, we use a algorithm here\n",
        "  omega = lookup[n][1]\n",
        "  # print(f'n = {n}, omega = {omega}')\n",
        "  poly_coefs_e = poly_coefs[::2]\n",
        "  poly_coefs_o = poly_coefs[1::2]\n",
        "  y_e = FFT_using_exist_omega(poly_coefs_e, q, lookup)\n",
        "  y_o = FFT_using_exist_omega(poly_coefs_o, q, lookup)\n",
        "  y = [0] * n\n",
        "  for j in range(int(n/2)):\n",
        "    y[j] = int(y_e[j] + (omega**j)*y_o[j]) % q\n",
        "    y[j + int(n/2)] = int(y_e[j] - (omega**j)*y_o[j]) % q\n",
        "  return y\n",
        "\n",
        "print(f'coefficient form of phi(x) is {poly_coefs}, after FFT(use exist omega lookup table), we can get the evaluation form of phi(x) is {FFT_using_exist_omega(poly_coefs, q, lookup)}')"
      ],
      "metadata": {
        "colab": {
          "base_uri": "https://localhost:8080/"
        },
        "id": "YSTh_jgY67Vj",
        "outputId": "1021655d-c203-4934-d29f-58b322a74f9f"
      },
      "execution_count": 151,
      "outputs": [
        {
          "output_type": "stream",
          "name": "stdout",
          "text": [
            "coefficient form of phi(x) is [2, 3, 5, 4], after FFT(use exist omega lookup table), we can get the evaluation form of phi(x) is [14, 10, 0, 1]\n"
          ]
        }
      ]
    },
    {
      "cell_type": "markdown",
      "source": [
        "### Inverse Fast Fourier Transformation(IFFT)\n",
        "We have used FFT to achieve fast transformation from coefficient to evaluation. Now we will implement the inverse transformation, which is from evaluation to coefficient with slightly changing in the algorithm: update $\\omega$ to $\\frac{1}{n}\\omega^{-1}$\n",
        "\n",
        "detailed info: https://decentralizedthoughts.github.io/2023-09-01-FFT/#mjx-eqn-%5Cstar"
      ],
      "metadata": {
        "id": "sMtOeR_0RGfu"
      }
    },
    {
      "cell_type": "code",
      "source": [
        "# inverse the lookup table\n",
        "# the only thing we need to modify in FFT is to update its omega\n",
        "omega_list = [1,2,4,8,16,15,13,9]\n",
        "\n",
        "def inverse_element(omega_list, q):\n",
        "  inverse_omega_list = []\n",
        "  inverse_omega_dict = {}\n",
        "\n",
        "  for i in omega_list:\n",
        "    for candidate in omega_list:\n",
        "      if i*candidate%q == 1:\n",
        "        inverse_omega_list.append(candidate)\n",
        "        inverse_omega_dict[i] = candidate\n",
        "  return inverse_omega_list, inverse_omega_dict\n",
        "\n",
        "inverse_omega_list, inverse_omega_dict= inverse_element(omega_list, q)\n",
        "print(f'inverse omega list is {inverse_omega_list}, inverse omega dict is {inverse_omega_dict}')\n",
        "inverse_lookup = build_lookup_table(n_max, inverse_omega_list)\n",
        "print(f'lookup table of list of omega is {inverse_lookup}')"
      ],
      "metadata": {
        "colab": {
          "base_uri": "https://localhost:8080/"
        },
        "id": "rKQc8bxpfD1T",
        "outputId": "b8478758-083a-4940-f7a9-e39d7fb06619"
      },
      "execution_count": 7,
      "outputs": [
        {
          "output_type": "stream",
          "name": "stdout",
          "text": [
            "inverse omega list is [1, 9, 13, 15, 16, 8, 4, 2], inverse omega dict is {1: 1, 2: 9, 4: 13, 8: 15, 16: 16, 15: 8, 13: 4, 9: 2}\n",
            "lookup table of list of omega is {8: [1, 9, 13, 15, 16, 8, 4, 2], 4: [1, 13, 16, 4], 2: [1, 16]}\n"
          ]
        }
      ]
    },
    {
      "cell_type": "code",
      "source": [
        "# revise FFT using omega lookup table\n",
        "def IFFT_using_exist_omega(poly_evals, q, inverse_lookup, inverse_omega_dict):\n",
        "  recursion_result = IFFT_recursion_part(poly_evals, q, inverse_lookup)\n",
        "  IFFT_final_result = [ x * inverse_omega_dict[len(poly_evals)] % q for x in recursion_result]\n",
        "  return IFFT_final_result\n",
        "\n",
        "def IFFT_recursion_part(poly_evals, q, inverse_lookup):\n",
        "  '''\n",
        "  Args:\n",
        "  poly_coefs: coefficient representation of the polynomial\n",
        "  lookup: pre-determined omega list\n",
        "\n",
        "  Returns:\n",
        "  y: evaluation form of the polynomial\n",
        "  '''\n",
        "  # get the degree of the polynomial\n",
        "  n = len(poly_evals)\n",
        "  if n == 1:\n",
        "    return poly_evals\n",
        "\n",
        "  # in theory, omega should be the nth root of unity, which is a complex number\n",
        "  # to use it in finite field, we use a algorithm here\n",
        "  omega = inverse_lookup[n][1]\n",
        "  poly_evals_e = poly_evals[::2]\n",
        "  poly_evals_o = poly_evals[1::2]\n",
        "  y_e = IFFT_recursion_part(poly_evals_e, q, inverse_lookup)\n",
        "  y_o = IFFT_recursion_part(poly_evals_o, q, inverse_lookup)\n",
        "  y = [0] * n\n",
        "  for j in range(int(n/2)):\n",
        "    y[j] = int(y_e[j] + (omega**j)*y_o[j]) % q\n",
        "    y[j + int(n/2)] = int(y_e[j] - (omega**j)*y_o[j]) % q\n",
        "  return y\n",
        "\n",
        "print(f'evaluation form of phi(x) is {poly_evals}, after IFFT(use exist omega lookup table), we can get the coefficient form of phi(x) is {IFFT_using_exist_omega(poly_evals, q, inverse_lookup, inverse_omega_dict)}')"
      ],
      "metadata": {
        "colab": {
          "base_uri": "https://localhost:8080/"
        },
        "id": "QnHXq61yRFC7",
        "outputId": "c7372328-3058-41f5-d6ed-e9fb56288c60"
      },
      "execution_count": 57,
      "outputs": [
        {
          "output_type": "stream",
          "name": "stdout",
          "text": [
            "evaluation form of phi(x) is [14, 10, 0, 1], after IFFT(use exist omega lookup table), we can get the coefficient form of phi(x) is [2, 3, 5, 4]\n"
          ]
        }
      ]
    },
    {
      "cell_type": "markdown",
      "source": [
        "## Polynomial Representations, FFT and IFFT(using real numbers for KZG usage)"
      ],
      "metadata": {
        "id": "lRjznksIg7Ll"
      }
    },
    {
      "cell_type": "markdown",
      "source": [
        "### Polynomial Representations\n",
        "\n",
        "Real proving system only consider polynomials over a finite field, and so we will restrict：\n",
        "- each coefficient $p_i$\n",
        "- each evaluation point $\\Phi(x_i)$ to be elements of a finite field $F_q$\n",
        "- the evaluation domain(the $\\omega_i$'s) to be a mulyiplicative subgroup of $F_q$\n",
        "\n",
        "For BLS12-381:\n",
        "- the finite field modulus $q$ is pre-determined, which is 'curve order'\n",
        "- \"$n^{th}$ roots of unity\" are confirmed, can be get using the function 'find_nth_root_of_unity($n$, $q$)'"
      ],
      "metadata": {
        "id": "_ehvn42joM_b"
      }
    },
    {
      "cell_type": "code",
      "source": [
        "from py_ecc.bls12_381 import curve_order\n",
        "from py_ecc.fields.field_elements import FQ as Field\n",
        "\n",
        "# construct a data structure F_q\n",
        "class FQ(Field):\n",
        "    field_modulus = curve_order\n",
        "q = curve_order\n",
        "\n",
        "# For example, assume we have a polynomial Φ(𝑥)=4x^3+5x^2+3x+2 and some points on the polynomials\n",
        "poly_coefs = [FQ(2), FQ(3), FQ(5), FQ(4)]\n",
        "poly_evals = [FQ(14), FQ(52435875175126190475982595682112313518914282969839895044333406231173219221502), FQ(0), FQ(3465144826073652318776269530687742778270252468765361963005)]\n",
        "\n",
        "def find_nth_root_of_unity_realnum(n, q):\n",
        "  '''\n",
        "  Args:\n",
        "  n: nth root of unity, which is the degree of polynomial\n",
        "  q: finite field q\n",
        "\n",
        "  Returns:\n",
        "  omega: the nth root of unity, which is a element in finite field\n",
        "  '''\n",
        "  omega = FQ(5) ** ((q - 1) // n)\n",
        "  return omega\n",
        "\n",
        "omega = find_nth_root_of_unity_realnum(len(poly_coefs), q)\n",
        "evaluation_domain = [omega**0, omega**1, omega**2, omega**3]\n",
        "\n",
        "print(f'coefficient form of phi(x) is {poly_coefs}')\n",
        "print(f'evaluation form of phi(x) is {poly_evals}, defined over evaluation domain {evaluation_domain}')"
      ],
      "metadata": {
        "colab": {
          "base_uri": "https://localhost:8080/"
        },
        "id": "VcegH_mvhfU8",
        "outputId": "567f0e6d-9a65-489d-eecb-596da5cd78d2"
      },
      "execution_count": 25,
      "outputs": [
        {
          "output_type": "stream",
          "name": "stdout",
          "text": [
            "coefficient form of phi(x) is [2, 3, 5, 4]\n",
            "evaluation form of phi(x) is [14, 52435875175126190475982595682112313518914282969839895044333406231173219221502, 0, 3465144826073652318776269530687742778270252468765361963005], defined over evaluation domain [1, 3465144826073652318776269530687742778270252468765361963008, 52435875175126190479447740508185965837690552500527637822603658699938581184512, 52435875175126190475982595682112313518914282969839895044333406231173219221505]\n"
          ]
        }
      ]
    },
    {
      "cell_type": "markdown",
      "source": [
        "### Fast Fourier Transformation(FFT)"
      ],
      "metadata": {
        "id": "O6OK_-KDn29E"
      }
    },
    {
      "cell_type": "code",
      "source": [
        "import random\n",
        "\n",
        "class FQ(Field):\n",
        "    field_modulus = curve_order\n",
        "\n",
        "q = curve_order\n",
        "poly_coefs = [FQ(2), FQ(3), FQ(5), FQ(4)]\n",
        "\n",
        "def FFT(poly_coefs, q):\n",
        "  '''\n",
        "  Args:\n",
        "  poly_coefs: coefficient representation of the polynomial\n",
        "\n",
        "  Returns:\n",
        "  y: evaluation form of the polynomial\n",
        "  '''\n",
        "  # get the degree of the polynomial\n",
        "  n = len(poly_coefs)\n",
        "  if n == 1:\n",
        "    return poly_coefs\n",
        "\n",
        "  # in theory, omega should be the nth root of unity, which is a complex number\n",
        "  # to use it in finite field, we use a algorithm here\n",
        "  omega = find_nth_root_of_unity_realnum(n, q)\n",
        "  print(f'{n}^th of unity is {omega}')\n",
        "  poly_coefs_e = poly_coefs[::2]\n",
        "  poly_coefs_o = poly_coefs[1::2]\n",
        "  y_e = FFT(poly_coefs_e, q)\n",
        "  y_o = FFT(poly_coefs_o, q)\n",
        "  y = [0] * n\n",
        "  for j in range(int(n/2)):\n",
        "    y[j] = y_e[j] + (omega**j)*y_o[j]\n",
        "    y[j + int(n/2)] = y_e[j] - (omega**j)*y_o[j]\n",
        "  return y\n",
        "\n",
        "poly_evals = FFT(poly_coefs, q)\n",
        "print(f'coefficient form of phi(x) is {poly_coefs}, after FFT, we can get the evaluation form of phi(x) is {poly_evals}')"
      ],
      "metadata": {
        "colab": {
          "base_uri": "https://localhost:8080/"
        },
        "id": "gYXv7QMvn2A9",
        "outputId": "26ea9900-2ae2-4284-fa88-b0416755c65e"
      },
      "execution_count": 26,
      "outputs": [
        {
          "output_type": "stream",
          "name": "stdout",
          "text": [
            "4^th of unity is 3465144826073652318776269530687742778270252468765361963008\n",
            "2^th of unity is 52435875175126190479447740508185965837690552500527637822603658699938581184512\n",
            "2^th of unity is 52435875175126190479447740508185965837690552500527637822603658699938581184512\n",
            "coefficient form of phi(x) is [2, 3, 5, 4], after FFT, we can get the evaluation form of phi(x) is [14, 52435875175126190475982595682112313518914282969839895044333406231173219221502, 0, 3465144826073652318776269530687742778270252468765361963005]\n"
          ]
        }
      ]
    },
    {
      "cell_type": "markdown",
      "source": [
        "### Inverse Fast Fourier Transformation(IFFT)"
      ],
      "metadata": {
        "id": "GGCMoj3Qpgau"
      }
    },
    {
      "cell_type": "code",
      "source": [
        "# revise FFT using omega lookup table\n",
        "def IFFT(poly_evals, q):\n",
        "  recursion_result = IFFT_recursion_part(poly_evals, q)\n",
        "  # all elenent in result mutiply 1/n, which is inverse of n\n",
        "  IFFT_final_result = [ x * (FQ(1)/FQ(len(poly_evals))) for x in recursion_result]\n",
        "  return IFFT_final_result\n",
        "\n",
        "def IFFT_recursion_part(poly_evals, q):\n",
        "  '''\n",
        "  Args:\n",
        "  poly_coefs: coefficient representation of the polynomial\n",
        "  lookup: pre-determined omega list\n",
        "\n",
        "  Returns:\n",
        "  y: evaluation form of the polynomial\n",
        "  '''\n",
        "  # get the degree of the polynomial\n",
        "  n = len(poly_evals)\n",
        "  if n == 1:\n",
        "    return poly_evals\n",
        "\n",
        "  # in theory, omega should be the nth root of unity, which is a complex number\n",
        "  # to use it in finite field, we use a algorithm here\n",
        "  omega = find_nth_root_of_unity_realnum(n, q)\n",
        "  # inverse omega\n",
        "  omega_inv = omega**(n-1)\n",
        "  poly_evals_e = poly_evals[::2]\n",
        "  poly_evals_o = poly_evals[1::2]\n",
        "  y_e = IFFT_recursion_part(poly_evals_e, q)\n",
        "  y_o = IFFT_recursion_part(poly_evals_o, q)\n",
        "  y = [0] * n\n",
        "  for j in range(int(n/2)):\n",
        "    y[j] = int(y_e[j] + (omega_inv**j)*y_o[j]) % q\n",
        "    y[j + int(n/2)] = int(y_e[j] - (omega_inv**j)*y_o[j]) % q\n",
        "  return y\n",
        "\n",
        "print(f'evaluation form of phi(x) is {poly_evals}, after IFFT(use exist omega lookup table), we can get the coefficient form of phi(x) is {IFFT(poly_evals, q)}')"
      ],
      "metadata": {
        "colab": {
          "base_uri": "https://localhost:8080/"
        },
        "id": "9Bs3TojDsxr7",
        "outputId": "06a02009-e600-4c5a-d588-51f56d628359"
      },
      "execution_count": 35,
      "outputs": [
        {
          "output_type": "stream",
          "name": "stdout",
          "text": [
            "evaluation form of phi(x) is [14, 52435875175126190475982595682112313518914282969839895044333406231173219221502, 0, 3465144826073652318776269530687742778270252468765361963005], after IFFT(use exist omega lookup table), we can get the coefficient form of phi(x) is [2, 3, 5, 4]\n"
          ]
        }
      ]
    },
    {
      "cell_type": "markdown",
      "source": [
        "# KZG Implementation(Python Version)\n",
        "\n",
        "The KZG Commitment Scheme is a commitment scheme that allows to commit to a polynomial $\\Phi(x) = \\phi_0 +\\phi_1x+\\phi_2x^2+...+\\phi_lx^l$, where $\\Phi(x) \\in F_p[x]$ . 'to commit' means proving that you know the polynomial $\\Phi(x)$ without revealing it.\n",
        "\n",
        "The KZG commitment scheme consists of 4 steps:\n",
        "1. Setup\n",
        "2. Commit to Polynomials\n",
        "3. Prove an Evaluation\n",
        "4. Verify an Evaluation Proof"
      ],
      "metadata": {
        "id": "6-LT_CUcF5sj"
      }
    },
    {
      "cell_type": "markdown",
      "source": [
        "## Step 1: Setup\n",
        "\n",
        "The first step is an one-time trusted setup and once it has done once, the following steps can be done repeatedly\n",
        "1. Let $G_1$ and $G_2$ be pairing-friendly elliptic curve groups, determined by curve BLS12-381\n",
        "2. Let $g_1$ be a generator of $G_1$ and $g_2$ be a generator of $G_2$\n",
        "3. Let $l$ be the maximum degree of the polymonials we want to commit to ($l < p$)\n",
        "4. Pick a random field element as secret parameter $\\tau \\in F_p$(usually done by MPC, to simplify, we just randomly choose one here)\n",
        "5. Compute pp(public parameters, including proving key $pk$, and verifying key $vk$)$$pk = (g_1, g_1^\\tau, g_1^{\\tau^2},...,g_1^{\\tau^l}), vk = g_2^\\tau$$ and release it publicly\n",
        "6. Discard secret parameter $\\tau$ once the setup ceremony is done so that nobody can figure out its value"
      ],
      "metadata": {
        "id": "CbNVAepyHO4g"
      }
    },
    {
      "cell_type": "code",
      "source": [
        "from py_ecc.bls12_381 import G1, G2, Z1, multiply, add\n",
        "\n",
        "# 1. Let G1,G2 be pairing-friendly elliptic curve groups, which are determined by the curve\n",
        "\n",
        "# 2. Let g be a generator of G\n",
        "g1 = G1\n",
        "g2 = G2\n",
        "\n",
        "# 3. Let l be the maximum degree of the polymonials, which is 16\n",
        "l = 16\n",
        "\n",
        "# 4. Pick a random field element from field F_p and p = curve order as secret parameter t\n",
        "p = q\n",
        "# t = 0 will lose all the security, so t cannot be 0\n",
        "t = FQ(random.randint(1, p-1))\n",
        "print(f'secret parameter 𝜏 is {t}')\n",
        "\n",
        "# 5. Compute pp(public parameters)\n",
        "def compute_public_parameters(g1, g2, t, l):\n",
        "\n",
        "    pk = []\n",
        "    accumulated = 1\n",
        "    t_scalar = t\n",
        "    for i in range(l + 1):\n",
        "        # calculate g1, g1^t, g1^{t^2}...\n",
        "        pk.append(multiply(g1, int(accumulated)))\n",
        "        # calculate the exponential t, t^2, t^3, ...\n",
        "        accumulated = accumulated * t_scalar\n",
        "    vk = multiply(g2, int(t))\n",
        "    return pk, vk\n",
        "\n",
        "pk, vk = compute_public_parameters(g1, g2, t, l)\n",
        "print(f'proving key pk: {pk}')\n",
        "print(f'verifying key vk: {vk}')"
      ],
      "metadata": {
        "colab": {
          "base_uri": "https://localhost:8080/"
        },
        "id": "baZh9HlYEN25",
        "outputId": "4bd26a12-2777-40cd-8c4a-74ec81467719"
      },
      "execution_count": 36,
      "outputs": [
        {
          "output_type": "stream",
          "name": "stdout",
          "text": [
            "secret parameter 𝜏 is 36468882270522376203990296010715673442587195859927442270619055151746861734964\n",
            "proving key pk: [(3685416753713387016781088315183077757961620795782546409894578378688607592378376318836054947676345821548104185464507, 1339506544944476473020471379941921221584933875938349620426543736416511423956333506472724655353366534992391756441569), (3716086043195545119790961384499817451732703028550971839681363703660762782409814774052751535374937899718413098733752, 2206552927166800356443694409080436538618864865401875920764230308293567772478512364358923070118911241832727171358425), (2163031997272943014143867140277741251744400486208413517416237285430025100639650851209641165111832763230278220252058, 3518802455605187384736658921162103537240860111904255097617106111017963719288757034185031363161271646471799551213319), (3439051788227188274884869976298940925681957195221444358571519985990757075577537458586048678638279449704275589309349, 336230664163029604918682993587975694585377203117074512612941827348402558658794456796261068157141953276591272683924), (1318748144096475095490936652593783139476272064027905458705917627642073978834239796443336453045075034273102593270562, 867143496899895302674329572672639635122828643441937013378270058518868124296985149910027682089863877917283052660984), (726347145952655269690856504141149816003907716826879023410189751808817381565347626286198850536082016751729859221360, 34278922798064160647486444076960050800286572182453679508684589709894924533996052076552431526638704567962311964365), (841583356034340722892192992246982036085318698643222916724294291968317244933261381381946295928902349759088804913805, 776586819868845920610684548256501945093182627092100894627480345151261841915527976129919116141368569335795654249625), (928750207186312272190142992343433152698150372366281436880529105343303013801131297047295956248672138716720979991249, 3477925465806589233576526970490356778438372985202003251344333657194881383129270236353398522499846481371416662340306), (1048904039887607289364976229748444616180102416953211254123881162534643943933130126078141557938345874466816418635314, 3501591788263299829089167617702050101691818944182758465361162067075904252068080793408998172506902041560215755857695), (91929728030541460873609163558817119663393865824278356447082896229615546103290719723481104647419581034617795896286, 1813805520332444773393239694670917425901035424144927471087516877848454814246882268159041935789363677305628915676148), (2581130644755949132747016266441768476317172978165233473889644387978084121999411811293790921686454083345739604672845, 1977754740531014634417342825856637018929057517361545767518029656455476693131389561567862895784175035371302072326004), (304274381499734592433802780007469970244597404690772173753121463687661010486163026881557652683720461309116959584475, 973164442986291350525958417132206313690476962121275983300240669675065189249963445800771173539805231526276180841866), (3932437457620233253723352640032499373432589523148643957744115357032573998128489379487675364075797374261679733747680, 1378951700919762204210097754001780119912053288559407178358199729076930730635559364776591716515018677801594360107421), (3008765532706612114386696128919016692775882130221848789309915061602998231145709581357945286851004373783711638696898, 3430301254128538306560758530555559554148057991911763127512344396717776187069399474439013754284533687986015041951791), (1125181241685684324734426338870602090352798124771959973578890160213682791958644329319628848670632110426491249175040, 1643747747087486821259481194417187913077327294634472781020944603295405568838435571549019420307286735239181135568554), (3465806704347828284983642127087458104544021593950715851800297900898230651775383574422106139005535523233971420465712, 1288236701382883472123940438996602225124995175775895967365697225086168261110685999522065073943830304103488551209305), (3447659386883100733649194946340774073663470705943797394581226457091308203600030093879507272812618213712222627728376, 322412527328493915624351282665009851857380003357068983092339155387134915924611717682745073355415274174618789842718)]\n",
            "verifying key vk: ((514444236142534797563744123806783439019701847956333975628978334504480854034271045955054816291970651559548413308340, 3123955080830943566279186535594308923580585056172092603282321210580498214535935450762364361534203467113154698326669), (1721248649959853178647657805554291738762131510458493097182483667583909921946465623447195847872728790424720144650535, 442589210875677495977539140008706186585853660268685852156151010636207457525746896480340892572937603910669780682127))\n"
          ]
        }
      ]
    },
    {
      "cell_type": "markdown",
      "source": [
        "## Step 2: Commit to Polynomials\n",
        "In reality, we arithmetize circuits and use Plonkish to get polynomials in this step\n",
        "1. Given a polynomial $\\Phi(x) = \\sum_{i=0}^l \\phi_i x^i$\n",
        "2. Compute and output commitment $c = g^{\\Phi(\\tau)}$\n",
        "   - Wait! $\\tau$ has already been discard right? How can committer compute $\\tau$?\n",
        "   - Although he cannot compute $\\Phi(\\tau)$ directly, he can use public parameters to help with it:\n",
        "$$\\prod_{i=0}^l(g^{\\tau^i})^{\\phi_i} = g^{\\sum_{i=0}^l \\phi_i \\tau^i} = g^{\\Phi(\\tau)}$$"
      ],
      "metadata": {
        "id": "PZLYRSg7NdAZ"
      }
    },
    {
      "cell_type": "code",
      "source": [
        "# assume we have a polynomial Φ(𝑥)=4x^3+5x^2+3x+2 or some points on the polynomials\n",
        "# we can use FFT or IFFT to do the transformation between the two forms\n",
        "poly_coefs = [FQ(2), FQ(3), FQ(5), FQ(4)]"
      ],
      "metadata": {
        "id": "tDDoK2qNEXas"
      },
      "execution_count": 37,
      "outputs": []
    },
    {
      "cell_type": "code",
      "source": [
        "# compute commitment of the polynomial\n",
        "def poly_commitment(pk, g1, poly_coefs):\n",
        "\n",
        "  com = Z1\n",
        "  for i in range(len(poly_coefs)):\n",
        "    com = add(multiply(pk[i], int(poly_coefs[i])), com)\n",
        "  return com\n",
        "\n",
        "com = poly_commitment(pk, g1, poly_coefs)\n",
        "print(f'commitment of polynomial is {com}')"
      ],
      "metadata": {
        "colab": {
          "base_uri": "https://localhost:8080/"
        },
        "id": "DXh4eZH4NncH",
        "outputId": "a621e5f3-890b-4dd3-aba0-5b79a49012aa"
      },
      "execution_count": 39,
      "outputs": [
        {
          "output_type": "stream",
          "name": "stdout",
          "text": [
            "commitment of polynomial is (2520614166508593681713400518351234336304338072344229457176584866896976779009013709978286036100364812563234958177260, 1704188729228827026065497382053999492651917530677960045225107206126556741792185382643159127211757623711888445442916)\n"
          ]
        }
      ]
    },
    {
      "cell_type": "markdown",
      "source": [
        "## Step 3: Prove an Evaluation\n",
        "In this period, the Verifier will ask Prover to 'OPEN' the commitment $c$ to a random specific point $a \\in F_p$, in other word, Prover have to evaluation $\\Phi(x)$ and commit the result in the form of opening triplet $OT = (a, b, \\pi)$\n",
        "1. Given an evaluation $\\Phi(a) = b$\n",
        "2. Compute and output proof of the evaluation $\\pi = g^{q(\\tau)}$, where $q(x) := \\frac{\\Phi(x)-b}{x-a}$\n",
        "    - $q(x)$ is quotient polynomial: if $\\Phi(a) = b$, that means $a$ is a root of $\\Phi(x) - b$\n",
        "    - so $\\Phi(x) - b$ can be expressed as $\\Phi(x) - b = q(x)(x-a)$, $q(x)$ is a polynomial\n",
        "    - on the other hand, $q(x)$ exists if and only if $\\Phi(a) = b$, so the existence of this quotient polynomial therefore serves as a proof of the evaluation"
      ],
      "metadata": {
        "id": "uG76toJbnbMn"
      }
    },
    {
      "cell_type": "code",
      "source": [
        "# Verifier first choose the random point a\n",
        "def evaluation_poly(a, poly_coefs):\n",
        "  b = FQ(0)\n",
        "  for i in range(len(poly_coefs)):\n",
        "    b += (a**i)*(poly_coefs[i])\n",
        "  return b\n",
        "\n",
        "# according to defination\n",
        "def random_generate_a(poly_coefs, p):\n",
        "  # create a list of omega\n",
        "  n = len(poly_coefs)\n",
        "  omega = find_nth_root_of_unity_realnum(n, p)\n",
        "  omega_list = []\n",
        "  for i in range(n):\n",
        "    omega_list.append(omega**i)\n",
        "\n",
        "  # a cannot in omega list, otherwise x-a will be 0\n",
        "  a = FQ(random.randint(0, p))\n",
        "  while a in omega_list:\n",
        "    a = FQ(random.randint(0, p))\n",
        "\n",
        "  return a\n",
        "\n",
        "a = random_generate_a(poly_coefs, p)\n",
        "b = evaluation_poly(a, poly_coefs)\n",
        "print(f'random element we chosen is {a}, the evaluation b is {b}')"
      ],
      "metadata": {
        "colab": {
          "base_uri": "https://localhost:8080/"
        },
        "id": "eUASXL_knfu7",
        "outputId": "f9860466-13f3-4f6e-ae91-62c3ee5256b2"
      },
      "execution_count": 41,
      "outputs": [
        {
          "output_type": "stream",
          "name": "stdout",
          "text": [
            "random element we chosen is 37336137527341566246497465556877948369475854159169953813925291794410493776133, the evaluation b is 5164324601994991683351417131522367457918395161023836229945205109784598863882\n"
          ]
        }
      ]
    },
    {
      "cell_type": "code",
      "source": [
        "# compute q(x)\n",
        "# 1. if poly in coefficient form, convert poly_coefs to evals\n",
        "# 2. calculate quotient polynomial in evaluation form\n",
        "# 3. convert quotient poly evals to coefs if needed\n",
        "\n",
        "def quotient_poly(a, b, poly_evals):\n",
        "  '''Args:\n",
        "  a: randomly sampled field element\n",
        "  b: evaluation on a\n",
        "  poly_evals: input of poly need to be in evaluation form\n",
        "\n",
        "  Returns:\n",
        "  q_poly_evals: q poly in evaluation form\n",
        "  '''\n",
        "  q_poly_evals = []\n",
        "\n",
        "  for i in range(len(poly_evals)):\n",
        "    q_poly_evals.append((poly_evals[i]-b)/(omega**i-a))\n",
        "\n",
        "  return q_poly_evals\n",
        "\n",
        "q_poly_evals = quotient_poly(a, b, poly_evals)\n",
        "print(f'quotient polynomial in evaluation form is {q_poly_evals}')"
      ],
      "metadata": {
        "colab": {
          "base_uri": "https://localhost:8080/"
        },
        "id": "_uxCEV4PqKum",
        "outputId": "a348352e-5d45-4489-f111-9a8f12de4899"
      },
      "execution_count": 45,
      "outputs": [
        {
          "output_type": "stream",
          "name": "stdout",
          "text": [
            "quotient polynomial in evaluation form is [36099909833493047805163149726963684396115720271036528335406604941496633095070, 38157476160361203022921983461197384972816576631714525848382004952100983537324, 52026060665517660709869868321055892466452202000842724759626222785844169993074, 49968494338649505492111034586822191889751345640164727246650822775239819550804]\n"
          ]
        }
      ]
    },
    {
      "cell_type": "code",
      "source": [
        "# convert quotient polynomial from evaluation form to coefficient form\n",
        "q_poly_coefs = IFFT(q_poly_evals, q)\n",
        "print(f'quotient polynomial in coefficient form is {q_poly_coefs}')"
      ],
      "metadata": {
        "colab": {
          "base_uri": "https://localhost:8080/"
        },
        "id": "7BXJAKY3kliX",
        "outputId": "5bce6d74-e8c7-4f96-edca-abb6b39180a7"
      },
      "execution_count": 46,
      "outputs": [
        {
          "output_type": "stream",
          "name": "stdout",
          "text": [
            "quotient polynomial in coefficient form is [44062985249505354257516509024009788431283961135939626547516413863670401544068, 44472799759113884027094381211139861802522311635624539610493849777764812735511, 4, 0]\n"
          ]
        }
      ]
    },
    {
      "cell_type": "code",
      "source": [
        "# compute proof of the evaluation pi\n",
        "pi = poly_commitment(pk, g1,  q_poly_coefs)\n",
        "print(f'proof of the evaluation pi is {pi}')"
      ],
      "metadata": {
        "colab": {
          "base_uri": "https://localhost:8080/"
        },
        "id": "n8OOKUQqqMFl",
        "outputId": "f41fadea-57ba-4307-eaed-f99b8786e3cb"
      },
      "execution_count": 47,
      "outputs": [
        {
          "output_type": "stream",
          "name": "stdout",
          "text": [
            "proof of the evaluation pi is (3217218210133513992007954104996282801127039407371710889814013981262685963980068482037568273444408922339065958521306, 2899398631168416200086453200719341876183465152725061346833395313085172108711008126380864254660112334124481438217737)\n"
          ]
        }
      ]
    },
    {
      "cell_type": "markdown",
      "source": [
        "## Step 4: Verify an Evaluation Proof\n",
        "1. Given a commitment $c = g^{\\Phi(\\tau)}$, and an evaluation $\\Phi(a) = b$, and a proof $\\pi = g^{q(\\tau)}$\n",
        "2. Verify that $e(\\frac{c}{g^b}, g) = e(\\pi,\\frac{g^\\tau}{g^a})$, where $e$ is a non-trivial bilinear mapping\n",
        "    - the purpose of verification: $\\Phi(x) - b = q(x)(x-a)$, checking this equality holds for $x = \\tau$\n",
        "    - according to the definition of bilinear mapping, it is equivalent to: $e(g_1, g_2)^{\\Phi(\\tau) - b} = e(g_1, g_2)^{q(\\tau)(\\tau-a)}$, that is $e(g_1^{\\Phi(\\tau) - b}, g_2) = e(g_1^{q(\\tau)}, g_2^{\\tau-a})$\n",
        "    - that is $e(com-g_1^b, g_2) = e(\\pi, vk - g_2^a)$"
      ],
      "metadata": {
        "id": "1_5bBUjOmOx_"
      }
    },
    {
      "cell_type": "code",
      "source": [
        "from py_ecc.bls12_381 import pairing, neg\n",
        "\n",
        "# now it is time to do the varification\n",
        "print(f'result of verification: {pairing(g2, add(com, neg(multiply(g1, int(b))))) == pairing(add(vk, neg(multiply(g2, int(a)))), pi)}')"
      ],
      "metadata": {
        "colab": {
          "base_uri": "https://localhost:8080/"
        },
        "id": "HuxidPgTmSoa",
        "outputId": "7365b698-2889-454f-ba4c-c5ea4cc417eb"
      },
      "execution_count": 49,
      "outputs": [
        {
          "output_type": "stream",
          "name": "stdout",
          "text": [
            "result of verification: True\n"
          ]
        }
      ]
    },
    {
      "cell_type": "markdown",
      "source": [
        "# Plonk Implementation(Python Version)\n",
        "\n",
        "## Problem Definition\n",
        "\n",
        "We take **Square-Fibonacci** as an example to demonstrate the process of proof generation\n",
        "\n",
        "Defination of Square-Fibonacci Problem:\n",
        "- Let $f_0 = 1, f_1 = 1$\n",
        "- For $i \\ge 2$, define $f_i:=(f_{i-2})^2+(f_{i-1})^2 \\ mod \\ q$\n",
        "    - $q$ is a large prime integer, used to bound the size of each element, so that it can be represented by some predetermined number of bits.\n",
        "\n",
        "Let $n$ be some very large integer. For convenience, we assume $n$ is a power of 2\n",
        "\n",
        "Let $k$ be the $n^{th}$ Square-Fibonacci number\n",
        "\n",
        "**Our goal**: generate an efficiently-verifiable proof $\\pi$ showing that indeed $k$ is the $n^{th}$ Square-Fibonacci number(i.e. $f_n = k$)\n",
        "\n",
        "## Phases of Proof Generation\n",
        "The Plonk-based proof generation consists of 3 steps:\n",
        "1. Filling in the trace table\n",
        "2. Committing to the trace table\n",
        "3. Proving the trace table's correctness"
      ],
      "metadata": {
        "id": "di927G65Ye1J"
      }
    },
    {
      "cell_type": "code",
      "source": [
        "# some basic statement\n",
        "# we assume q = p here, that is polynomial is defined over p\n",
        "q = p\n",
        "\n",
        "# assume we hope to prove '8th Square-Fibonacci number is k'\n",
        "n = 8\n",
        "k = FQ(317754178345286893212434)\n",
        "\n",
        "# according to defination, f(0) = 1, f(1) = 1\n",
        "f_0 = FQ(1)\n",
        "f_1 = FQ(1)"
      ],
      "metadata": {
        "id": "t1-8SzICYley"
      },
      "execution_count": 102,
      "outputs": []
    },
    {
      "cell_type": "markdown",
      "source": [
        "## Step 1: Filling in the Trace Table\n",
        "The trace table is a 2-dimensional matrix where 'witness' or 'trace' is written down, that is (n rows * 5 cols)\n",
        "- 5 columns:\n",
        "    - $A, B, C$: represent witness data / private input, each row lists 3 sequential Sequare-Fibonacci numbers\n",
        "        - e.g. the $i^{th}$ row $(f_i, f_{i+1}, f_{i+2})$ is a witness for $(i+2)^{th}$ Sequare-Fibonacci number\n",
        "    - $S$: represents selector column, indicating a certain mathmatical relation should hold over the element of the row.\n",
        "        - $1$ represents the first 3 elements of the row $(a, b, c)$ must satisfy $c = a^2 + b^2 \\ mod \\ q$\n",
        "        - $0$ represents the condition does not need to be satisfied.\n",
        "    - $P$: represents public inputs, inputs to the circuit that are public known.\n",
        "        - e.g. the first two values of the sequence $f_0, f_1$ and $k$ as the value to be proved\n",
        "- n rows: left a blank row, so that the height of the table becomes $n$, an even power of 2\n",
        "    - $1^{st}$ row: $f_0, f_1, f_2, 1, f_0$\n",
        "    - $2^{nd}$ row: $f_1, f_2, f_3, 1, f_1$\n",
        "    - $3^{rd}$ row: $f_2, f_3, f_4, 1, k$\n",
        "    - ...\n",
        "    - $(n-2)^{th}$ row: $f_{n-2}, f_{n-1}, f_n, 1, \"\" $\n",
        "    - $(n-1)^{th}$ row: $\"\", \"\", \"\", 0, \"\"$\n",
        "\n",
        "Next step is to fill in the trace table: either copy or compute over $F_q$"
      ],
      "metadata": {
        "id": "xTmgCmhGZ8SQ"
      }
    },
    {
      "cell_type": "code",
      "source": [
        "# generate witness/fill in the trace table\n",
        "def witness_generation(f_0, f_1, k, n):\n",
        "\n",
        "    trace_table = []\n",
        "\n",
        "    # init col A, B, C, S\n",
        "    f_a = f_0\n",
        "    f_b = f_1\n",
        "    f_c = f_b\n",
        "    S = FQ(1)\n",
        "\n",
        "    for i in range(n-1):\n",
        "        f_a = f_b\n",
        "        f_b = f_c\n",
        "        f_c = f_a**2 + f_b**2\n",
        "        trace_table.append([f_a, f_b, f_c, S, -1])\n",
        "\n",
        "    # add a blank row to get n row\n",
        "    S = 0\n",
        "    trace_table.append([-1, -1, -1, S, -1])\n",
        "\n",
        "    # add public parameters\n",
        "    trace_table[0][4] = f_0\n",
        "    trace_table[1][4] = f_1\n",
        "    trace_table[2][4] = k\n",
        "\n",
        "    return trace_table\n",
        "\n",
        "trace_table = witness_generation(f_0, f_1, k, n)\n",
        "\n",
        "print(f\"trace table is:\")\n",
        "for A, B, C, S, P in trace_table:\n",
        "    print(\"{:25} {:25} {:25} {:25} {:25}\".format(int(A), int(B), int(C), int(S), int(P)))"
      ],
      "metadata": {
        "colab": {
          "base_uri": "https://localhost:8080/"
        },
        "id": "n7QfVLCaZwpy",
        "outputId": "b29b1716-37af-4e17-d57a-9ff3c4af9ce5"
      },
      "execution_count": 103,
      "outputs": [
        {
          "output_type": "stream",
          "name": "stdout",
          "text": [
            "trace table is:\n",
            "                        1                         1                         2                         1                         1\n",
            "                        1                         2                         5                         1                         1\n",
            "                        2                         5                        29                         1  317754178345286893212434\n",
            "                        5                        29                       866                         1                        -1\n",
            "                       29                       866                    750797                         1                        -1\n",
            "                      866                    750797              563696885165                         1                        -1\n",
            "                   750797              563696885165  317754178345286893212434                         1                        -1\n",
            "                       -1                        -1                        -1                         0                        -1\n"
          ]
        }
      ]
    },
    {
      "cell_type": "markdown",
      "source": [
        "## Step 2: Commit to the Trace Table\n",
        "\n",
        "### interpret the trace table columns as polynomials\n",
        "\n",
        "Each column can be considered as a length-$n$ vector of finite field elements $\\rightarrow$ this vector can be regarded as the evaluation form of a polynomial $A(x)$ with degree $(n-1)$: the $i^{th}$ element of $A$ corresponds to the evaluation $A(\\omega^i)$, where $\\omega \\in F_q$ is **$n^{th}$ root of unity** and has order $n$"
      ],
      "metadata": {
        "id": "sZbfYqpXc9ff"
      }
    },
    {
      "cell_type": "code",
      "source": [
        "# find a subgroup whose order = n\n",
        "# def find_nth_root_of_unity(F_q, n):\n",
        "\n",
        "#     while True:\n",
        "#         w = F_q.random_element()\n",
        "#         if w.multiplicative_order() == n:\n",
        "#             break\n",
        "#         else:\n",
        "#             print(f'w = {w}, whose order is {w.multiplicative_order()}, not statified')\n",
        "#     return w\n",
        "\n",
        "# w = find_nth_root_of_unity(F_q, n)\n",
        "# print(w)\n",
        "\n",
        "# find a group: {1,2,4,7,8,11,13,14}\n",
        "w_list = [1,2,4,7,8,11,13,14]\n",
        "\n",
        "# interpreting the trace table columns as polynomials, and represent the polynomials as evaluation form\n",
        "evaluation_form = []\n",
        "for row in range(len(trace_table)):\n",
        "    evaluation_form_row = []\n",
        "    for col in range(len(trace_table[0])):\n",
        "        val = trace_table[row][col]\n",
        "        evaluation_form_row.append((w_list[row], val))\n",
        "    evaluation_form.append(evaluation_form_row)\n",
        "print(evaluation_form)"
      ],
      "metadata": {
        "colab": {
          "base_uri": "https://localhost:8080/"
        },
        "id": "bDpQon6qaMTL",
        "outputId": "3fb55124-e975-4b66-a80f-6e1eabece300"
      },
      "execution_count": 104,
      "outputs": [
        {
          "output_type": "stream",
          "name": "stdout",
          "text": [
            "[[(1, 1), (1, 1), (1, 2), (1, 1), (1, 1)], [(2, 1), (2, 2), (2, 5), (2, 1), (2, 1)], [(4, 2), (4, 5), (4, 29), (4, 1), (4, 317754178345286893212434)], [(7, 5), (7, 29), (7, 866), (7, 1), (7, -1)], [(8, 29), (8, 866), (8, 750797), (8, 1), (8, -1)], [(11, 866), (11, 750797), (11, 563696885165), (11, 1), (11, -1)], [(13, 750797), (13, 563696885165), (13, 317754178345286893212434), (13, 1), (13, -1)], [(14, -1), (14, -1), (14, -1), (14, 0), (14, -1)]]\n"
          ]
        }
      ]
    },
    {
      "cell_type": "code",
      "source": [
        "# field_modulus = 0x1a0111ea397fe69a4b1ba7b6434bacd764774b84f38512bf6730d2a0f6b0f6241eabfffeb153ffffb9feffffffffaaab\n",
        "# field_modulus = 52435875175126190479447740508185965837690552500527637822603658699938581184513\n",
        "field_modulus = 17\n",
        "group_order = 8\n",
        "root = FQ(5) ** ((field_modulus - 1) // group_order)\n",
        "root"
      ],
      "metadata": {
        "colab": {
          "base_uri": "https://localhost:8080/"
        },
        "id": "h07iYzjXdf0U",
        "outputId": "2faed8c7-3e4d-4932-a7dc-05bd0d471efe"
      },
      "execution_count": 113,
      "outputs": [
        {
          "output_type": "execute_result",
          "data": {
            "text/plain": [
              "25"
            ]
          },
          "metadata": {},
          "execution_count": 113
        }
      ]
    },
    {
      "cell_type": "code",
      "source": [
        "5 ** ((field_modulus - 1) // group_order % field_modulus) % field_modulus"
      ],
      "metadata": {
        "colab": {
          "base_uri": "https://localhost:8080/",
          "height": 179
        },
        "id": "ToVB7ihbRuYM",
        "outputId": "08c3dd14-44a4-4473-f3fb-2e942a867244"
      },
      "execution_count": 111,
      "outputs": [
        {
          "output_type": "error",
          "ename": "KeyboardInterrupt",
          "evalue": "ignored",
          "traceback": [
            "\u001b[0;31m---------------------------------------------------------------------------\u001b[0m",
            "\u001b[0;31mKeyboardInterrupt\u001b[0m                         Traceback (most recent call last)",
            "\u001b[0;32m<ipython-input-111-9f2b8bac395b>\u001b[0m in \u001b[0;36m<cell line: 1>\u001b[0;34m()\u001b[0m\n\u001b[0;32m----> 1\u001b[0;31m \u001b[0;36m5\u001b[0m \u001b[0;34m**\u001b[0m \u001b[0;34m(\u001b[0m\u001b[0;34m(\u001b[0m\u001b[0mfield_modulus\u001b[0m \u001b[0;34m-\u001b[0m \u001b[0;36m1\u001b[0m\u001b[0;34m)\u001b[0m \u001b[0;34m//\u001b[0m \u001b[0mgroup_order\u001b[0m \u001b[0;34m%\u001b[0m \u001b[0mfield_modulus\u001b[0m\u001b[0;34m)\u001b[0m \u001b[0;34m%\u001b[0m \u001b[0mfield_modulus\u001b[0m\u001b[0;34m\u001b[0m\u001b[0;34m\u001b[0m\u001b[0m\n\u001b[0m",
            "\u001b[0;31mKeyboardInterrupt\u001b[0m: "
          ]
        }
      ]
    },
    {
      "cell_type": "code",
      "source": [
        "omegas = []\n",
        "\n",
        "for i in range(group_order):\n",
        "  omegas.append(root**i % field_modulus)\n",
        "\n",
        "omegas"
      ],
      "metadata": {
        "colab": {
          "base_uri": "https://localhost:8080/"
        },
        "id": "8yTYdGGCu9BD",
        "outputId": "432c1111-8da2-4895-a036-e8d8d4c55865"
      },
      "execution_count": 34,
      "outputs": [
        {
          "output_type": "execute_result",
          "data": {
            "text/plain": [
              "[1, 13, 16, 4]"
            ]
          },
          "metadata": {},
          "execution_count": 34
        }
      ]
    },
    {
      "cell_type": "code",
      "source": [],
      "metadata": {
        "id": "7woLZHVJJXGW"
      },
      "execution_count": null,
      "outputs": []
    }
  ]
}